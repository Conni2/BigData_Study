{
  "nbformat": 4,
  "nbformat_minor": 0,
  "metadata": {
    "colab": {
      "provenance": []
    },
    "kernelspec": {
      "name": "python3",
      "display_name": "Python 3"
    },
    "language_info": {
      "name": "python"
    }
  },
  "cells": [
    {
      "cell_type": "code",
      "source": [
        "import pandas as pd\n",
        "import numpy as np\n",
        "from scipy.stats import ttest_ind, chi2_contingency\n",
        "import rpy2.robjects.numpy2ri\n",
        "from rpy2.robjects.packages import importr\n",
        "rpy2.robjects.numpy2ri.activate()\n",
        "stats = importr('stats')"
      ],
      "metadata": {
        "id": "NhLDvNmNWXzL"
      },
      "execution_count": null,
      "outputs": []
    },
    {
      "cell_type": "markdown",
      "source": [
        "# 미션1"
      ],
      "metadata": {
        "id": "Br8NF73lJBAI"
      }
    },
    {
      "cell_type": "code",
      "source": [
        "raw_df = pd.read_excel('/content/drive/MyDrive/lsda02/data/customers.xlsx')\n",
        "raw_df.head()"
      ],
      "metadata": {
        "id": "I-6OufY1B17y",
        "colab": {
          "base_uri": "https://localhost:8080/",
          "height": 206
        },
        "outputId": "f8012ef5-e0c9-4840-d39e-6b87355ff41a"
      },
      "execution_count": null,
      "outputs": [
        {
          "output_type": "execute_result",
          "data": {
            "text/plain": [
              "    CustID     Sex      Race  BirthDate College  HouseholdSize  ZipCode  \\\n",
              "0  1530016  Female     Black 1986-12-16     Yes              5    90047   \n",
              "1  1531136    Male     White 1993-05-09     Yes              5    90026   \n",
              "2  1532160    Male     Black 1966-05-22     Yes              2    90027   \n",
              "3  1532307    Male     White 1964-09-16     Yes              4    90029   \n",
              "4  1532356  Female  Hispanic 1964-07-15      No              5    90017   \n",
              "\n",
              "   Income  Spending2017  Spending2018  NumOfOrders  DaysSinceLast  \\\n",
              "0   53000           287           241            3            101   \n",
              "1   94000          1227           843           12            262   \n",
              "2   64000           523           719            9            122   \n",
              "3   60000           516           582           13            129   \n",
              "4   47000           555           845            7             97   \n",
              "\n",
              "        Satisfaction Channel  \n",
              "0  Very Dissatisfied      SM  \n",
              "1            Neutral      TV  \n",
              "2     Very Satisfied      TV  \n",
              "3  Very Dissatisfied      SM  \n",
              "4  Very Dissatisfied     Web  "
            ],
            "text/html": [
              "\n",
              "  <div id=\"df-7a23a265-95cc-4048-9e49-4ec679d309c2\" class=\"colab-df-container\">\n",
              "    <div>\n",
              "<style scoped>\n",
              "    .dataframe tbody tr th:only-of-type {\n",
              "        vertical-align: middle;\n",
              "    }\n",
              "\n",
              "    .dataframe tbody tr th {\n",
              "        vertical-align: top;\n",
              "    }\n",
              "\n",
              "    .dataframe thead th {\n",
              "        text-align: right;\n",
              "    }\n",
              "</style>\n",
              "<table border=\"1\" class=\"dataframe\">\n",
              "  <thead>\n",
              "    <tr style=\"text-align: right;\">\n",
              "      <th></th>\n",
              "      <th>CustID</th>\n",
              "      <th>Sex</th>\n",
              "      <th>Race</th>\n",
              "      <th>BirthDate</th>\n",
              "      <th>College</th>\n",
              "      <th>HouseholdSize</th>\n",
              "      <th>ZipCode</th>\n",
              "      <th>Income</th>\n",
              "      <th>Spending2017</th>\n",
              "      <th>Spending2018</th>\n",
              "      <th>NumOfOrders</th>\n",
              "      <th>DaysSinceLast</th>\n",
              "      <th>Satisfaction</th>\n",
              "      <th>Channel</th>\n",
              "    </tr>\n",
              "  </thead>\n",
              "  <tbody>\n",
              "    <tr>\n",
              "      <th>0</th>\n",
              "      <td>1530016</td>\n",
              "      <td>Female</td>\n",
              "      <td>Black</td>\n",
              "      <td>1986-12-16</td>\n",
              "      <td>Yes</td>\n",
              "      <td>5</td>\n",
              "      <td>90047</td>\n",
              "      <td>53000</td>\n",
              "      <td>287</td>\n",
              "      <td>241</td>\n",
              "      <td>3</td>\n",
              "      <td>101</td>\n",
              "      <td>Very Dissatisfied</td>\n",
              "      <td>SM</td>\n",
              "    </tr>\n",
              "    <tr>\n",
              "      <th>1</th>\n",
              "      <td>1531136</td>\n",
              "      <td>Male</td>\n",
              "      <td>White</td>\n",
              "      <td>1993-05-09</td>\n",
              "      <td>Yes</td>\n",
              "      <td>5</td>\n",
              "      <td>90026</td>\n",
              "      <td>94000</td>\n",
              "      <td>1227</td>\n",
              "      <td>843</td>\n",
              "      <td>12</td>\n",
              "      <td>262</td>\n",
              "      <td>Neutral</td>\n",
              "      <td>TV</td>\n",
              "    </tr>\n",
              "    <tr>\n",
              "      <th>2</th>\n",
              "      <td>1532160</td>\n",
              "      <td>Male</td>\n",
              "      <td>Black</td>\n",
              "      <td>1966-05-22</td>\n",
              "      <td>Yes</td>\n",
              "      <td>2</td>\n",
              "      <td>90027</td>\n",
              "      <td>64000</td>\n",
              "      <td>523</td>\n",
              "      <td>719</td>\n",
              "      <td>9</td>\n",
              "      <td>122</td>\n",
              "      <td>Very Satisfied</td>\n",
              "      <td>TV</td>\n",
              "    </tr>\n",
              "    <tr>\n",
              "      <th>3</th>\n",
              "      <td>1532307</td>\n",
              "      <td>Male</td>\n",
              "      <td>White</td>\n",
              "      <td>1964-09-16</td>\n",
              "      <td>Yes</td>\n",
              "      <td>4</td>\n",
              "      <td>90029</td>\n",
              "      <td>60000</td>\n",
              "      <td>516</td>\n",
              "      <td>582</td>\n",
              "      <td>13</td>\n",
              "      <td>129</td>\n",
              "      <td>Very Dissatisfied</td>\n",
              "      <td>SM</td>\n",
              "    </tr>\n",
              "    <tr>\n",
              "      <th>4</th>\n",
              "      <td>1532356</td>\n",
              "      <td>Female</td>\n",
              "      <td>Hispanic</td>\n",
              "      <td>1964-07-15</td>\n",
              "      <td>No</td>\n",
              "      <td>5</td>\n",
              "      <td>90017</td>\n",
              "      <td>47000</td>\n",
              "      <td>555</td>\n",
              "      <td>845</td>\n",
              "      <td>7</td>\n",
              "      <td>97</td>\n",
              "      <td>Very Dissatisfied</td>\n",
              "      <td>Web</td>\n",
              "    </tr>\n",
              "  </tbody>\n",
              "</table>\n",
              "</div>\n",
              "    <div class=\"colab-df-buttons\">\n",
              "\n",
              "  <div class=\"colab-df-container\">\n",
              "    <button class=\"colab-df-convert\" onclick=\"convertToInteractive('df-7a23a265-95cc-4048-9e49-4ec679d309c2')\"\n",
              "            title=\"Convert this dataframe to an interactive table.\"\n",
              "            style=\"display:none;\">\n",
              "\n",
              "  <svg xmlns=\"http://www.w3.org/2000/svg\" height=\"24px\" viewBox=\"0 -960 960 960\">\n",
              "    <path d=\"M120-120v-720h720v720H120Zm60-500h600v-160H180v160Zm220 220h160v-160H400v160Zm0 220h160v-160H400v160ZM180-400h160v-160H180v160Zm440 0h160v-160H620v160ZM180-180h160v-160H180v160Zm440 0h160v-160H620v160Z\"/>\n",
              "  </svg>\n",
              "    </button>\n",
              "\n",
              "  <style>\n",
              "    .colab-df-container {\n",
              "      display:flex;\n",
              "      gap: 12px;\n",
              "    }\n",
              "\n",
              "    .colab-df-convert {\n",
              "      background-color: #E8F0FE;\n",
              "      border: none;\n",
              "      border-radius: 50%;\n",
              "      cursor: pointer;\n",
              "      display: none;\n",
              "      fill: #1967D2;\n",
              "      height: 32px;\n",
              "      padding: 0 0 0 0;\n",
              "      width: 32px;\n",
              "    }\n",
              "\n",
              "    .colab-df-convert:hover {\n",
              "      background-color: #E2EBFA;\n",
              "      box-shadow: 0px 1px 2px rgba(60, 64, 67, 0.3), 0px 1px 3px 1px rgba(60, 64, 67, 0.15);\n",
              "      fill: #174EA6;\n",
              "    }\n",
              "\n",
              "    .colab-df-buttons div {\n",
              "      margin-bottom: 4px;\n",
              "    }\n",
              "\n",
              "    [theme=dark] .colab-df-convert {\n",
              "      background-color: #3B4455;\n",
              "      fill: #D2E3FC;\n",
              "    }\n",
              "\n",
              "    [theme=dark] .colab-df-convert:hover {\n",
              "      background-color: #434B5C;\n",
              "      box-shadow: 0px 1px 3px 1px rgba(0, 0, 0, 0.15);\n",
              "      filter: drop-shadow(0px 1px 2px rgba(0, 0, 0, 0.3));\n",
              "      fill: #FFFFFF;\n",
              "    }\n",
              "  </style>\n",
              "\n",
              "    <script>\n",
              "      const buttonEl =\n",
              "        document.querySelector('#df-7a23a265-95cc-4048-9e49-4ec679d309c2 button.colab-df-convert');\n",
              "      buttonEl.style.display =\n",
              "        google.colab.kernel.accessAllowed ? 'block' : 'none';\n",
              "\n",
              "      async function convertToInteractive(key) {\n",
              "        const element = document.querySelector('#df-7a23a265-95cc-4048-9e49-4ec679d309c2');\n",
              "        const dataTable =\n",
              "          await google.colab.kernel.invokeFunction('convertToInteractive',\n",
              "                                                    [key], {});\n",
              "        if (!dataTable) return;\n",
              "\n",
              "        const docLinkHtml = 'Like what you see? Visit the ' +\n",
              "          '<a target=\"_blank\" href=https://colab.research.google.com/notebooks/data_table.ipynb>data table notebook</a>'\n",
              "          + ' to learn more about interactive tables.';\n",
              "        element.innerHTML = '';\n",
              "        dataTable['output_type'] = 'display_data';\n",
              "        await google.colab.output.renderOutput(dataTable, element);\n",
              "        const docLink = document.createElement('div');\n",
              "        docLink.innerHTML = docLinkHtml;\n",
              "        element.appendChild(docLink);\n",
              "      }\n",
              "    </script>\n",
              "  </div>\n",
              "\n",
              "\n",
              "<div id=\"df-4eb34061-f9b1-44cd-82de-6ab721e75c30\">\n",
              "  <button class=\"colab-df-quickchart\" onclick=\"quickchart('df-4eb34061-f9b1-44cd-82de-6ab721e75c30')\"\n",
              "            title=\"Suggest charts\"\n",
              "            style=\"display:none;\">\n",
              "\n",
              "<svg xmlns=\"http://www.w3.org/2000/svg\" height=\"24px\"viewBox=\"0 0 24 24\"\n",
              "     width=\"24px\">\n",
              "    <g>\n",
              "        <path d=\"M19 3H5c-1.1 0-2 .9-2 2v14c0 1.1.9 2 2 2h14c1.1 0 2-.9 2-2V5c0-1.1-.9-2-2-2zM9 17H7v-7h2v7zm4 0h-2V7h2v10zm4 0h-2v-4h2v4z\"/>\n",
              "    </g>\n",
              "</svg>\n",
              "  </button>\n",
              "\n",
              "<style>\n",
              "  .colab-df-quickchart {\n",
              "      --bg-color: #E8F0FE;\n",
              "      --fill-color: #1967D2;\n",
              "      --hover-bg-color: #E2EBFA;\n",
              "      --hover-fill-color: #174EA6;\n",
              "      --disabled-fill-color: #AAA;\n",
              "      --disabled-bg-color: #DDD;\n",
              "  }\n",
              "\n",
              "  [theme=dark] .colab-df-quickchart {\n",
              "      --bg-color: #3B4455;\n",
              "      --fill-color: #D2E3FC;\n",
              "      --hover-bg-color: #434B5C;\n",
              "      --hover-fill-color: #FFFFFF;\n",
              "      --disabled-bg-color: #3B4455;\n",
              "      --disabled-fill-color: #666;\n",
              "  }\n",
              "\n",
              "  .colab-df-quickchart {\n",
              "    background-color: var(--bg-color);\n",
              "    border: none;\n",
              "    border-radius: 50%;\n",
              "    cursor: pointer;\n",
              "    display: none;\n",
              "    fill: var(--fill-color);\n",
              "    height: 32px;\n",
              "    padding: 0;\n",
              "    width: 32px;\n",
              "  }\n",
              "\n",
              "  .colab-df-quickchart:hover {\n",
              "    background-color: var(--hover-bg-color);\n",
              "    box-shadow: 0 1px 2px rgba(60, 64, 67, 0.3), 0 1px 3px 1px rgba(60, 64, 67, 0.15);\n",
              "    fill: var(--button-hover-fill-color);\n",
              "  }\n",
              "\n",
              "  .colab-df-quickchart-complete:disabled,\n",
              "  .colab-df-quickchart-complete:disabled:hover {\n",
              "    background-color: var(--disabled-bg-color);\n",
              "    fill: var(--disabled-fill-color);\n",
              "    box-shadow: none;\n",
              "  }\n",
              "\n",
              "  .colab-df-spinner {\n",
              "    border: 2px solid var(--fill-color);\n",
              "    border-color: transparent;\n",
              "    border-bottom-color: var(--fill-color);\n",
              "    animation:\n",
              "      spin 1s steps(1) infinite;\n",
              "  }\n",
              "\n",
              "  @keyframes spin {\n",
              "    0% {\n",
              "      border-color: transparent;\n",
              "      border-bottom-color: var(--fill-color);\n",
              "      border-left-color: var(--fill-color);\n",
              "    }\n",
              "    20% {\n",
              "      border-color: transparent;\n",
              "      border-left-color: var(--fill-color);\n",
              "      border-top-color: var(--fill-color);\n",
              "    }\n",
              "    30% {\n",
              "      border-color: transparent;\n",
              "      border-left-color: var(--fill-color);\n",
              "      border-top-color: var(--fill-color);\n",
              "      border-right-color: var(--fill-color);\n",
              "    }\n",
              "    40% {\n",
              "      border-color: transparent;\n",
              "      border-right-color: var(--fill-color);\n",
              "      border-top-color: var(--fill-color);\n",
              "    }\n",
              "    60% {\n",
              "      border-color: transparent;\n",
              "      border-right-color: var(--fill-color);\n",
              "    }\n",
              "    80% {\n",
              "      border-color: transparent;\n",
              "      border-right-color: var(--fill-color);\n",
              "      border-bottom-color: var(--fill-color);\n",
              "    }\n",
              "    90% {\n",
              "      border-color: transparent;\n",
              "      border-bottom-color: var(--fill-color);\n",
              "    }\n",
              "  }\n",
              "</style>\n",
              "\n",
              "  <script>\n",
              "    async function quickchart(key) {\n",
              "      const quickchartButtonEl =\n",
              "        document.querySelector('#' + key + ' button');\n",
              "      quickchartButtonEl.disabled = true;  // To prevent multiple clicks.\n",
              "      quickchartButtonEl.classList.add('colab-df-spinner');\n",
              "      try {\n",
              "        const charts = await google.colab.kernel.invokeFunction(\n",
              "            'suggestCharts', [key], {});\n",
              "      } catch (error) {\n",
              "        console.error('Error during call to suggestCharts:', error);\n",
              "      }\n",
              "      quickchartButtonEl.classList.remove('colab-df-spinner');\n",
              "      quickchartButtonEl.classList.add('colab-df-quickchart-complete');\n",
              "    }\n",
              "    (() => {\n",
              "      let quickchartButtonEl =\n",
              "        document.querySelector('#df-4eb34061-f9b1-44cd-82de-6ab721e75c30 button');\n",
              "      quickchartButtonEl.style.display =\n",
              "        google.colab.kernel.accessAllowed ? 'block' : 'none';\n",
              "    })();\n",
              "  </script>\n",
              "</div>\n",
              "\n",
              "    </div>\n",
              "  </div>\n"
            ],
            "application/vnd.google.colaboratory.intrinsic+json": {
              "type": "dataframe",
              "variable_name": "raw_df",
              "summary": "{\n  \"name\": \"raw_df\",\n  \"rows\": 200,\n  \"fields\": [\n    {\n      \"column\": \"CustID\",\n      \"properties\": {\n        \"dtype\": \"number\",\n        \"std\": 13494,\n        \"min\": 1530016,\n        \"max\": 1579979,\n        \"num_unique_values\": 200,\n        \"samples\": [\n          1553843,\n          1535406,\n          1540539\n        ],\n        \"semantic_type\": \"\",\n        \"description\": \"\"\n      }\n    },\n    {\n      \"column\": \"Sex\",\n      \"properties\": {\n        \"dtype\": \"category\",\n        \"num_unique_values\": 2,\n        \"samples\": [\n          \"Male\",\n          \"Female\"\n        ],\n        \"semantic_type\": \"\",\n        \"description\": \"\"\n      }\n    },\n    {\n      \"column\": \"Race\",\n      \"properties\": {\n        \"dtype\": \"category\",\n        \"num_unique_values\": 6,\n        \"samples\": [\n          \"Black\",\n          \"White\"\n        ],\n        \"semantic_type\": \"\",\n        \"description\": \"\"\n      }\n    },\n    {\n      \"column\": \"BirthDate\",\n      \"properties\": {\n        \"dtype\": \"date\",\n        \"min\": \"1952-02-01 00:00:00\",\n        \"max\": \"2000-12-09 00:00:00\",\n        \"num_unique_values\": 199,\n        \"samples\": [\n          \"1999-08-05 00:00:00\",\n          \"1984-02-04 00:00:00\"\n        ],\n        \"semantic_type\": \"\",\n        \"description\": \"\"\n      }\n    },\n    {\n      \"column\": \"College\",\n      \"properties\": {\n        \"dtype\": \"category\",\n        \"num_unique_values\": 2,\n        \"samples\": [\n          \"No\",\n          \"Yes\"\n        ],\n        \"semantic_type\": \"\",\n        \"description\": \"\"\n      }\n    },\n    {\n      \"column\": \"HouseholdSize\",\n      \"properties\": {\n        \"dtype\": \"number\",\n        \"std\": 1,\n        \"min\": 1,\n        \"max\": 5,\n        \"num_unique_values\": 5,\n        \"samples\": [\n          2,\n          1\n        ],\n        \"semantic_type\": \"\",\n        \"description\": \"\"\n      }\n    },\n    {\n      \"column\": \"ZipCode\",\n      \"properties\": {\n        \"dtype\": \"number\",\n        \"std\": 18,\n        \"min\": 90001,\n        \"max\": 90068,\n        \"num_unique_values\": 65,\n        \"samples\": [\n          90031,\n          90064\n        ],\n        \"semantic_type\": \"\",\n        \"description\": \"\"\n      }\n    },\n    {\n      \"column\": \"Income\",\n      \"properties\": {\n        \"dtype\": \"number\",\n        \"std\": 24056,\n        \"min\": 31000,\n        \"max\": 167000,\n        \"num_unique_values\": 72,\n        \"samples\": [\n          47000,\n          95000\n        ],\n        \"semantic_type\": \"\",\n        \"description\": \"\"\n      }\n    },\n    {\n      \"column\": \"Spending2017\",\n      \"properties\": {\n        \"dtype\": \"number\",\n        \"std\": 404,\n        \"min\": 42,\n        \"max\": 1851,\n        \"num_unique_values\": 187,\n        \"samples\": [\n          325,\n          105\n        ],\n        \"semantic_type\": \"\",\n        \"description\": \"\"\n      }\n    },\n    {\n      \"column\": \"Spending2018\",\n      \"properties\": {\n        \"dtype\": \"number\",\n        \"std\": 350,\n        \"min\": 50,\n        \"max\": 1250,\n        \"num_unique_values\": 186,\n        \"samples\": [\n          210,\n          549\n        ],\n        \"semantic_type\": \"\",\n        \"description\": \"\"\n      }\n    },\n    {\n      \"column\": \"NumOfOrders\",\n      \"properties\": {\n        \"dtype\": \"number\",\n        \"std\": 7,\n        \"min\": 1,\n        \"max\": 31,\n        \"num_unique_values\": 29,\n        \"samples\": [\n          27,\n          5\n        ],\n        \"semantic_type\": \"\",\n        \"description\": \"\"\n      }\n    },\n    {\n      \"column\": \"DaysSinceLast\",\n      \"properties\": {\n        \"dtype\": \"number\",\n        \"std\": 103,\n        \"min\": 6,\n        \"max\": 360,\n        \"num_unique_values\": 145,\n        \"samples\": [\n          195,\n          136\n        ],\n        \"semantic_type\": \"\",\n        \"description\": \"\"\n      }\n    },\n    {\n      \"column\": \"Satisfaction\",\n      \"properties\": {\n        \"dtype\": \"category\",\n        \"num_unique_values\": 5,\n        \"samples\": [\n          \"Neutral\",\n          \"Somewhat Dissatisfied\"\n        ],\n        \"semantic_type\": \"\",\n        \"description\": \"\"\n      }\n    },\n    {\n      \"column\": \"Channel\",\n      \"properties\": {\n        \"dtype\": \"category\",\n        \"num_unique_values\": 4,\n        \"samples\": [\n          \"TV\",\n          \"Referral\"\n        ],\n        \"semantic_type\": \"\",\n        \"description\": \"\"\n      }\n    }\n  ]\n}"
            }
          },
          "metadata": {},
          "execution_count": 6
        }
      ]
    },
    {
      "cell_type": "code",
      "source": [
        "raw_df.info()"
      ],
      "metadata": {
        "colab": {
          "base_uri": "https://localhost:8080/"
        },
        "id": "4RrsxeCf4vFw",
        "outputId": "ea7b2b42-138e-48e2-e58a-699d5ead3069"
      },
      "execution_count": null,
      "outputs": [
        {
          "output_type": "stream",
          "name": "stdout",
          "text": [
            "<class 'pandas.core.frame.DataFrame'>\n",
            "RangeIndex: 200 entries, 0 to 199\n",
            "Data columns (total 14 columns):\n",
            " #   Column         Non-Null Count  Dtype         \n",
            "---  ------         --------------  -----         \n",
            " 0   CustID         200 non-null    int64         \n",
            " 1   Sex            200 non-null    object        \n",
            " 2   Race           200 non-null    object        \n",
            " 3   BirthDate      200 non-null    datetime64[ns]\n",
            " 4   College        200 non-null    object        \n",
            " 5   HouseholdSize  200 non-null    int64         \n",
            " 6   ZipCode        200 non-null    int64         \n",
            " 7   Income         200 non-null    int64         \n",
            " 8   Spending2017   200 non-null    int64         \n",
            " 9   Spending2018   200 non-null    int64         \n",
            " 10  NumOfOrders    200 non-null    int64         \n",
            " 11  DaysSinceLast  200 non-null    int64         \n",
            " 12  Satisfaction   200 non-null    object        \n",
            " 13  Channel        200 non-null    object        \n",
            "dtypes: datetime64[ns](1), int64(8), object(5)\n",
            "memory usage: 22.0+ KB\n"
          ]
        }
      ]
    },
    {
      "cell_type": "code",
      "source": [
        "# 데이터 전처리할 사본 생성 - 문제가 생기면 원본으로 바로 재생성 가능하게\n",
        "df = raw_df.copy()\n",
        "df.head()"
      ],
      "metadata": {
        "colab": {
          "base_uri": "https://localhost:8080/",
          "height": 206
        },
        "id": "xsBs_EnZ4xhA",
        "outputId": "4ae1f9e3-60ce-40ad-84b7-b7dccd50b92f"
      },
      "execution_count": null,
      "outputs": [
        {
          "output_type": "execute_result",
          "data": {
            "text/plain": [
              "    CustID     Sex      Race  BirthDate College  HouseholdSize  ZipCode  \\\n",
              "0  1530016  Female     Black 1986-12-16     Yes              5    90047   \n",
              "1  1531136    Male     White 1993-05-09     Yes              5    90026   \n",
              "2  1532160    Male     Black 1966-05-22     Yes              2    90027   \n",
              "3  1532307    Male     White 1964-09-16     Yes              4    90029   \n",
              "4  1532356  Female  Hispanic 1964-07-15      No              5    90017   \n",
              "\n",
              "   Income  Spending2017  Spending2018  NumOfOrders  DaysSinceLast  \\\n",
              "0   53000           287           241            3            101   \n",
              "1   94000          1227           843           12            262   \n",
              "2   64000           523           719            9            122   \n",
              "3   60000           516           582           13            129   \n",
              "4   47000           555           845            7             97   \n",
              "\n",
              "        Satisfaction Channel  \n",
              "0  Very Dissatisfied      SM  \n",
              "1            Neutral      TV  \n",
              "2     Very Satisfied      TV  \n",
              "3  Very Dissatisfied      SM  \n",
              "4  Very Dissatisfied     Web  "
            ],
            "text/html": [
              "\n",
              "  <div id=\"df-807e0aa3-6cca-44da-8be5-734f36b4a9c5\" class=\"colab-df-container\">\n",
              "    <div>\n",
              "<style scoped>\n",
              "    .dataframe tbody tr th:only-of-type {\n",
              "        vertical-align: middle;\n",
              "    }\n",
              "\n",
              "    .dataframe tbody tr th {\n",
              "        vertical-align: top;\n",
              "    }\n",
              "\n",
              "    .dataframe thead th {\n",
              "        text-align: right;\n",
              "    }\n",
              "</style>\n",
              "<table border=\"1\" class=\"dataframe\">\n",
              "  <thead>\n",
              "    <tr style=\"text-align: right;\">\n",
              "      <th></th>\n",
              "      <th>CustID</th>\n",
              "      <th>Sex</th>\n",
              "      <th>Race</th>\n",
              "      <th>BirthDate</th>\n",
              "      <th>College</th>\n",
              "      <th>HouseholdSize</th>\n",
              "      <th>ZipCode</th>\n",
              "      <th>Income</th>\n",
              "      <th>Spending2017</th>\n",
              "      <th>Spending2018</th>\n",
              "      <th>NumOfOrders</th>\n",
              "      <th>DaysSinceLast</th>\n",
              "      <th>Satisfaction</th>\n",
              "      <th>Channel</th>\n",
              "    </tr>\n",
              "  </thead>\n",
              "  <tbody>\n",
              "    <tr>\n",
              "      <th>0</th>\n",
              "      <td>1530016</td>\n",
              "      <td>Female</td>\n",
              "      <td>Black</td>\n",
              "      <td>1986-12-16</td>\n",
              "      <td>Yes</td>\n",
              "      <td>5</td>\n",
              "      <td>90047</td>\n",
              "      <td>53000</td>\n",
              "      <td>287</td>\n",
              "      <td>241</td>\n",
              "      <td>3</td>\n",
              "      <td>101</td>\n",
              "      <td>Very Dissatisfied</td>\n",
              "      <td>SM</td>\n",
              "    </tr>\n",
              "    <tr>\n",
              "      <th>1</th>\n",
              "      <td>1531136</td>\n",
              "      <td>Male</td>\n",
              "      <td>White</td>\n",
              "      <td>1993-05-09</td>\n",
              "      <td>Yes</td>\n",
              "      <td>5</td>\n",
              "      <td>90026</td>\n",
              "      <td>94000</td>\n",
              "      <td>1227</td>\n",
              "      <td>843</td>\n",
              "      <td>12</td>\n",
              "      <td>262</td>\n",
              "      <td>Neutral</td>\n",
              "      <td>TV</td>\n",
              "    </tr>\n",
              "    <tr>\n",
              "      <th>2</th>\n",
              "      <td>1532160</td>\n",
              "      <td>Male</td>\n",
              "      <td>Black</td>\n",
              "      <td>1966-05-22</td>\n",
              "      <td>Yes</td>\n",
              "      <td>2</td>\n",
              "      <td>90027</td>\n",
              "      <td>64000</td>\n",
              "      <td>523</td>\n",
              "      <td>719</td>\n",
              "      <td>9</td>\n",
              "      <td>122</td>\n",
              "      <td>Very Satisfied</td>\n",
              "      <td>TV</td>\n",
              "    </tr>\n",
              "    <tr>\n",
              "      <th>3</th>\n",
              "      <td>1532307</td>\n",
              "      <td>Male</td>\n",
              "      <td>White</td>\n",
              "      <td>1964-09-16</td>\n",
              "      <td>Yes</td>\n",
              "      <td>4</td>\n",
              "      <td>90029</td>\n",
              "      <td>60000</td>\n",
              "      <td>516</td>\n",
              "      <td>582</td>\n",
              "      <td>13</td>\n",
              "      <td>129</td>\n",
              "      <td>Very Dissatisfied</td>\n",
              "      <td>SM</td>\n",
              "    </tr>\n",
              "    <tr>\n",
              "      <th>4</th>\n",
              "      <td>1532356</td>\n",
              "      <td>Female</td>\n",
              "      <td>Hispanic</td>\n",
              "      <td>1964-07-15</td>\n",
              "      <td>No</td>\n",
              "      <td>5</td>\n",
              "      <td>90017</td>\n",
              "      <td>47000</td>\n",
              "      <td>555</td>\n",
              "      <td>845</td>\n",
              "      <td>7</td>\n",
              "      <td>97</td>\n",
              "      <td>Very Dissatisfied</td>\n",
              "      <td>Web</td>\n",
              "    </tr>\n",
              "  </tbody>\n",
              "</table>\n",
              "</div>\n",
              "    <div class=\"colab-df-buttons\">\n",
              "\n",
              "  <div class=\"colab-df-container\">\n",
              "    <button class=\"colab-df-convert\" onclick=\"convertToInteractive('df-807e0aa3-6cca-44da-8be5-734f36b4a9c5')\"\n",
              "            title=\"Convert this dataframe to an interactive table.\"\n",
              "            style=\"display:none;\">\n",
              "\n",
              "  <svg xmlns=\"http://www.w3.org/2000/svg\" height=\"24px\" viewBox=\"0 -960 960 960\">\n",
              "    <path d=\"M120-120v-720h720v720H120Zm60-500h600v-160H180v160Zm220 220h160v-160H400v160Zm0 220h160v-160H400v160ZM180-400h160v-160H180v160Zm440 0h160v-160H620v160ZM180-180h160v-160H180v160Zm440 0h160v-160H620v160Z\"/>\n",
              "  </svg>\n",
              "    </button>\n",
              "\n",
              "  <style>\n",
              "    .colab-df-container {\n",
              "      display:flex;\n",
              "      gap: 12px;\n",
              "    }\n",
              "\n",
              "    .colab-df-convert {\n",
              "      background-color: #E8F0FE;\n",
              "      border: none;\n",
              "      border-radius: 50%;\n",
              "      cursor: pointer;\n",
              "      display: none;\n",
              "      fill: #1967D2;\n",
              "      height: 32px;\n",
              "      padding: 0 0 0 0;\n",
              "      width: 32px;\n",
              "    }\n",
              "\n",
              "    .colab-df-convert:hover {\n",
              "      background-color: #E2EBFA;\n",
              "      box-shadow: 0px 1px 2px rgba(60, 64, 67, 0.3), 0px 1px 3px 1px rgba(60, 64, 67, 0.15);\n",
              "      fill: #174EA6;\n",
              "    }\n",
              "\n",
              "    .colab-df-buttons div {\n",
              "      margin-bottom: 4px;\n",
              "    }\n",
              "\n",
              "    [theme=dark] .colab-df-convert {\n",
              "      background-color: #3B4455;\n",
              "      fill: #D2E3FC;\n",
              "    }\n",
              "\n",
              "    [theme=dark] .colab-df-convert:hover {\n",
              "      background-color: #434B5C;\n",
              "      box-shadow: 0px 1px 3px 1px rgba(0, 0, 0, 0.15);\n",
              "      filter: drop-shadow(0px 1px 2px rgba(0, 0, 0, 0.3));\n",
              "      fill: #FFFFFF;\n",
              "    }\n",
              "  </style>\n",
              "\n",
              "    <script>\n",
              "      const buttonEl =\n",
              "        document.querySelector('#df-807e0aa3-6cca-44da-8be5-734f36b4a9c5 button.colab-df-convert');\n",
              "      buttonEl.style.display =\n",
              "        google.colab.kernel.accessAllowed ? 'block' : 'none';\n",
              "\n",
              "      async function convertToInteractive(key) {\n",
              "        const element = document.querySelector('#df-807e0aa3-6cca-44da-8be5-734f36b4a9c5');\n",
              "        const dataTable =\n",
              "          await google.colab.kernel.invokeFunction('convertToInteractive',\n",
              "                                                    [key], {});\n",
              "        if (!dataTable) return;\n",
              "\n",
              "        const docLinkHtml = 'Like what you see? Visit the ' +\n",
              "          '<a target=\"_blank\" href=https://colab.research.google.com/notebooks/data_table.ipynb>data table notebook</a>'\n",
              "          + ' to learn more about interactive tables.';\n",
              "        element.innerHTML = '';\n",
              "        dataTable['output_type'] = 'display_data';\n",
              "        await google.colab.output.renderOutput(dataTable, element);\n",
              "        const docLink = document.createElement('div');\n",
              "        docLink.innerHTML = docLinkHtml;\n",
              "        element.appendChild(docLink);\n",
              "      }\n",
              "    </script>\n",
              "  </div>\n",
              "\n",
              "\n",
              "<div id=\"df-81f54dad-da75-464b-8518-bf83be66c413\">\n",
              "  <button class=\"colab-df-quickchart\" onclick=\"quickchart('df-81f54dad-da75-464b-8518-bf83be66c413')\"\n",
              "            title=\"Suggest charts\"\n",
              "            style=\"display:none;\">\n",
              "\n",
              "<svg xmlns=\"http://www.w3.org/2000/svg\" height=\"24px\"viewBox=\"0 0 24 24\"\n",
              "     width=\"24px\">\n",
              "    <g>\n",
              "        <path d=\"M19 3H5c-1.1 0-2 .9-2 2v14c0 1.1.9 2 2 2h14c1.1 0 2-.9 2-2V5c0-1.1-.9-2-2-2zM9 17H7v-7h2v7zm4 0h-2V7h2v10zm4 0h-2v-4h2v4z\"/>\n",
              "    </g>\n",
              "</svg>\n",
              "  </button>\n",
              "\n",
              "<style>\n",
              "  .colab-df-quickchart {\n",
              "      --bg-color: #E8F0FE;\n",
              "      --fill-color: #1967D2;\n",
              "      --hover-bg-color: #E2EBFA;\n",
              "      --hover-fill-color: #174EA6;\n",
              "      --disabled-fill-color: #AAA;\n",
              "      --disabled-bg-color: #DDD;\n",
              "  }\n",
              "\n",
              "  [theme=dark] .colab-df-quickchart {\n",
              "      --bg-color: #3B4455;\n",
              "      --fill-color: #D2E3FC;\n",
              "      --hover-bg-color: #434B5C;\n",
              "      --hover-fill-color: #FFFFFF;\n",
              "      --disabled-bg-color: #3B4455;\n",
              "      --disabled-fill-color: #666;\n",
              "  }\n",
              "\n",
              "  .colab-df-quickchart {\n",
              "    background-color: var(--bg-color);\n",
              "    border: none;\n",
              "    border-radius: 50%;\n",
              "    cursor: pointer;\n",
              "    display: none;\n",
              "    fill: var(--fill-color);\n",
              "    height: 32px;\n",
              "    padding: 0;\n",
              "    width: 32px;\n",
              "  }\n",
              "\n",
              "  .colab-df-quickchart:hover {\n",
              "    background-color: var(--hover-bg-color);\n",
              "    box-shadow: 0 1px 2px rgba(60, 64, 67, 0.3), 0 1px 3px 1px rgba(60, 64, 67, 0.15);\n",
              "    fill: var(--button-hover-fill-color);\n",
              "  }\n",
              "\n",
              "  .colab-df-quickchart-complete:disabled,\n",
              "  .colab-df-quickchart-complete:disabled:hover {\n",
              "    background-color: var(--disabled-bg-color);\n",
              "    fill: var(--disabled-fill-color);\n",
              "    box-shadow: none;\n",
              "  }\n",
              "\n",
              "  .colab-df-spinner {\n",
              "    border: 2px solid var(--fill-color);\n",
              "    border-color: transparent;\n",
              "    border-bottom-color: var(--fill-color);\n",
              "    animation:\n",
              "      spin 1s steps(1) infinite;\n",
              "  }\n",
              "\n",
              "  @keyframes spin {\n",
              "    0% {\n",
              "      border-color: transparent;\n",
              "      border-bottom-color: var(--fill-color);\n",
              "      border-left-color: var(--fill-color);\n",
              "    }\n",
              "    20% {\n",
              "      border-color: transparent;\n",
              "      border-left-color: var(--fill-color);\n",
              "      border-top-color: var(--fill-color);\n",
              "    }\n",
              "    30% {\n",
              "      border-color: transparent;\n",
              "      border-left-color: var(--fill-color);\n",
              "      border-top-color: var(--fill-color);\n",
              "      border-right-color: var(--fill-color);\n",
              "    }\n",
              "    40% {\n",
              "      border-color: transparent;\n",
              "      border-right-color: var(--fill-color);\n",
              "      border-top-color: var(--fill-color);\n",
              "    }\n",
              "    60% {\n",
              "      border-color: transparent;\n",
              "      border-right-color: var(--fill-color);\n",
              "    }\n",
              "    80% {\n",
              "      border-color: transparent;\n",
              "      border-right-color: var(--fill-color);\n",
              "      border-bottom-color: var(--fill-color);\n",
              "    }\n",
              "    90% {\n",
              "      border-color: transparent;\n",
              "      border-bottom-color: var(--fill-color);\n",
              "    }\n",
              "  }\n",
              "</style>\n",
              "\n",
              "  <script>\n",
              "    async function quickchart(key) {\n",
              "      const quickchartButtonEl =\n",
              "        document.querySelector('#' + key + ' button');\n",
              "      quickchartButtonEl.disabled = true;  // To prevent multiple clicks.\n",
              "      quickchartButtonEl.classList.add('colab-df-spinner');\n",
              "      try {\n",
              "        const charts = await google.colab.kernel.invokeFunction(\n",
              "            'suggestCharts', [key], {});\n",
              "      } catch (error) {\n",
              "        console.error('Error during call to suggestCharts:', error);\n",
              "      }\n",
              "      quickchartButtonEl.classList.remove('colab-df-spinner');\n",
              "      quickchartButtonEl.classList.add('colab-df-quickchart-complete');\n",
              "    }\n",
              "    (() => {\n",
              "      let quickchartButtonEl =\n",
              "        document.querySelector('#df-81f54dad-da75-464b-8518-bf83be66c413 button');\n",
              "      quickchartButtonEl.style.display =\n",
              "        google.colab.kernel.accessAllowed ? 'block' : 'none';\n",
              "    })();\n",
              "  </script>\n",
              "</div>\n",
              "\n",
              "    </div>\n",
              "  </div>\n"
            ],
            "application/vnd.google.colaboratory.intrinsic+json": {
              "type": "dataframe",
              "variable_name": "df",
              "summary": "{\n  \"name\": \"df\",\n  \"rows\": 200,\n  \"fields\": [\n    {\n      \"column\": \"CustID\",\n      \"properties\": {\n        \"dtype\": \"number\",\n        \"std\": 13494,\n        \"min\": 1530016,\n        \"max\": 1579979,\n        \"num_unique_values\": 200,\n        \"samples\": [\n          1553843,\n          1535406,\n          1540539\n        ],\n        \"semantic_type\": \"\",\n        \"description\": \"\"\n      }\n    },\n    {\n      \"column\": \"Sex\",\n      \"properties\": {\n        \"dtype\": \"category\",\n        \"num_unique_values\": 2,\n        \"samples\": [\n          \"Male\",\n          \"Female\"\n        ],\n        \"semantic_type\": \"\",\n        \"description\": \"\"\n      }\n    },\n    {\n      \"column\": \"Race\",\n      \"properties\": {\n        \"dtype\": \"category\",\n        \"num_unique_values\": 6,\n        \"samples\": [\n          \"Black\",\n          \"White\"\n        ],\n        \"semantic_type\": \"\",\n        \"description\": \"\"\n      }\n    },\n    {\n      \"column\": \"BirthDate\",\n      \"properties\": {\n        \"dtype\": \"date\",\n        \"min\": \"1952-02-01 00:00:00\",\n        \"max\": \"2000-12-09 00:00:00\",\n        \"num_unique_values\": 199,\n        \"samples\": [\n          \"1999-08-05 00:00:00\",\n          \"1984-02-04 00:00:00\"\n        ],\n        \"semantic_type\": \"\",\n        \"description\": \"\"\n      }\n    },\n    {\n      \"column\": \"College\",\n      \"properties\": {\n        \"dtype\": \"category\",\n        \"num_unique_values\": 2,\n        \"samples\": [\n          \"No\",\n          \"Yes\"\n        ],\n        \"semantic_type\": \"\",\n        \"description\": \"\"\n      }\n    },\n    {\n      \"column\": \"HouseholdSize\",\n      \"properties\": {\n        \"dtype\": \"number\",\n        \"std\": 1,\n        \"min\": 1,\n        \"max\": 5,\n        \"num_unique_values\": 5,\n        \"samples\": [\n          2,\n          1\n        ],\n        \"semantic_type\": \"\",\n        \"description\": \"\"\n      }\n    },\n    {\n      \"column\": \"ZipCode\",\n      \"properties\": {\n        \"dtype\": \"number\",\n        \"std\": 18,\n        \"min\": 90001,\n        \"max\": 90068,\n        \"num_unique_values\": 65,\n        \"samples\": [\n          90031,\n          90064\n        ],\n        \"semantic_type\": \"\",\n        \"description\": \"\"\n      }\n    },\n    {\n      \"column\": \"Income\",\n      \"properties\": {\n        \"dtype\": \"number\",\n        \"std\": 24056,\n        \"min\": 31000,\n        \"max\": 167000,\n        \"num_unique_values\": 72,\n        \"samples\": [\n          47000,\n          95000\n        ],\n        \"semantic_type\": \"\",\n        \"description\": \"\"\n      }\n    },\n    {\n      \"column\": \"Spending2017\",\n      \"properties\": {\n        \"dtype\": \"number\",\n        \"std\": 404,\n        \"min\": 42,\n        \"max\": 1851,\n        \"num_unique_values\": 187,\n        \"samples\": [\n          325,\n          105\n        ],\n        \"semantic_type\": \"\",\n        \"description\": \"\"\n      }\n    },\n    {\n      \"column\": \"Spending2018\",\n      \"properties\": {\n        \"dtype\": \"number\",\n        \"std\": 350,\n        \"min\": 50,\n        \"max\": 1250,\n        \"num_unique_values\": 186,\n        \"samples\": [\n          210,\n          549\n        ],\n        \"semantic_type\": \"\",\n        \"description\": \"\"\n      }\n    },\n    {\n      \"column\": \"NumOfOrders\",\n      \"properties\": {\n        \"dtype\": \"number\",\n        \"std\": 7,\n        \"min\": 1,\n        \"max\": 31,\n        \"num_unique_values\": 29,\n        \"samples\": [\n          27,\n          5\n        ],\n        \"semantic_type\": \"\",\n        \"description\": \"\"\n      }\n    },\n    {\n      \"column\": \"DaysSinceLast\",\n      \"properties\": {\n        \"dtype\": \"number\",\n        \"std\": 103,\n        \"min\": 6,\n        \"max\": 360,\n        \"num_unique_values\": 145,\n        \"samples\": [\n          195,\n          136\n        ],\n        \"semantic_type\": \"\",\n        \"description\": \"\"\n      }\n    },\n    {\n      \"column\": \"Satisfaction\",\n      \"properties\": {\n        \"dtype\": \"category\",\n        \"num_unique_values\": 5,\n        \"samples\": [\n          \"Neutral\",\n          \"Somewhat Dissatisfied\"\n        ],\n        \"semantic_type\": \"\",\n        \"description\": \"\"\n      }\n    },\n    {\n      \"column\": \"Channel\",\n      \"properties\": {\n        \"dtype\": \"category\",\n        \"num_unique_values\": 4,\n        \"samples\": [\n          \"TV\",\n          \"Referral\"\n        ],\n        \"semantic_type\": \"\",\n        \"description\": \"\"\n      }\n    }\n  ]\n}"
            }
          },
          "metadata": {},
          "execution_count": 8
        }
      ]
    },
    {
      "cell_type": "code",
      "source": [
        "# 대학교를 졸업한 1982년에서 1999년까지 태어난 고객의 데이터를 생성하세요.\n",
        "df['College'].value_counts()"
      ],
      "metadata": {
        "colab": {
          "base_uri": "https://localhost:8080/"
        },
        "id": "wBkk6EsjHrPt",
        "outputId": "34ba0f7a-6467-4040-d91e-e6c3efcd1f87"
      },
      "execution_count": null,
      "outputs": [
        {
          "output_type": "execute_result",
          "data": {
            "text/plain": [
              "College\n",
              "Yes    168\n",
              "No      32\n",
              "Name: count, dtype: int64"
            ]
          },
          "metadata": {},
          "execution_count": 9
        }
      ]
    },
    {
      "cell_type": "code",
      "source": [
        "print(df.query('College == \"Yes\"'))\n",
        "print(df[df['College'] == 'Yes'])"
      ],
      "metadata": {
        "id": "fpUYEAGlXIUd",
        "colab": {
          "base_uri": "https://localhost:8080/"
        },
        "outputId": "230350aa-5538-4dae-98c8-db8fb854ca5b"
      },
      "execution_count": null,
      "outputs": [
        {
          "output_type": "stream",
          "name": "stdout",
          "text": [
            "      CustID     Sex             Race  BirthDate College  HouseholdSize  \\\n",
            "0    1530016  Female            Black 1986-12-16     Yes              5   \n",
            "1    1531136    Male            White 1993-05-09     Yes              5   \n",
            "2    1532160    Male            Black 1966-05-22     Yes              2   \n",
            "3    1532307    Male            White 1964-09-16     Yes              4   \n",
            "5    1532387    Male            White 1957-08-27     Yes              2   \n",
            "..       ...     ...              ...        ...     ...            ...   \n",
            "195  1578525    Male         Hispanic 1963-12-12     Yes              1   \n",
            "196  1579349    Male            Asian 1980-12-19     Yes              1   \n",
            "197  1579389  Female  American Indian 2000-05-21     Yes              1   \n",
            "198  1579857  Female            White 1991-01-26     Yes              1   \n",
            "199  1579979    Male            White 1999-07-05     Yes              5   \n",
            "\n",
            "     ZipCode  Income  Spending2017  Spending2018  NumOfOrders  DaysSinceLast  \\\n",
            "0      90047   53000           287           241            3            101   \n",
            "1      90026   94000          1227           843           12            262   \n",
            "2      90027   64000           523           719            9            122   \n",
            "3      90029   60000           516           582           13            129   \n",
            "5      90028   67000           631           452            9            150   \n",
            "..       ...     ...           ...           ...          ...            ...   \n",
            "195    90005   82000          1521          1121           25            302   \n",
            "196    90010   49000           217           397           10            200   \n",
            "197    90009   50000           625           514           10            233   \n",
            "198    90055   52000           325           586           13            219   \n",
            "199    90043  102000          1080           926           10            113   \n",
            "\n",
            "              Satisfaction   Channel  \n",
            "0        Very Dissatisfied        SM  \n",
            "1                  Neutral        TV  \n",
            "2           Very Satisfied        TV  \n",
            "3        Very Dissatisfied        SM  \n",
            "5                  Neutral        SM  \n",
            "..                     ...       ...  \n",
            "195     Somewhat Satisfied       Web  \n",
            "196     Somewhat Satisfied       Web  \n",
            "197  Somewhat Dissatisfied  Referral  \n",
            "198  Somewhat Dissatisfied  Referral  \n",
            "199     Somewhat Satisfied        SM  \n",
            "\n",
            "[168 rows x 14 columns]\n",
            "      CustID     Sex             Race  BirthDate College  HouseholdSize  \\\n",
            "0    1530016  Female            Black 1986-12-16     Yes              5   \n",
            "1    1531136    Male            White 1993-05-09     Yes              5   \n",
            "2    1532160    Male            Black 1966-05-22     Yes              2   \n",
            "3    1532307    Male            White 1964-09-16     Yes              4   \n",
            "5    1532387    Male            White 1957-08-27     Yes              2   \n",
            "..       ...     ...              ...        ...     ...            ...   \n",
            "195  1578525    Male         Hispanic 1963-12-12     Yes              1   \n",
            "196  1579349    Male            Asian 1980-12-19     Yes              1   \n",
            "197  1579389  Female  American Indian 2000-05-21     Yes              1   \n",
            "198  1579857  Female            White 1991-01-26     Yes              1   \n",
            "199  1579979    Male            White 1999-07-05     Yes              5   \n",
            "\n",
            "     ZipCode  Income  Spending2017  Spending2018  NumOfOrders  DaysSinceLast  \\\n",
            "0      90047   53000           287           241            3            101   \n",
            "1      90026   94000          1227           843           12            262   \n",
            "2      90027   64000           523           719            9            122   \n",
            "3      90029   60000           516           582           13            129   \n",
            "5      90028   67000           631           452            9            150   \n",
            "..       ...     ...           ...           ...          ...            ...   \n",
            "195    90005   82000          1521          1121           25            302   \n",
            "196    90010   49000           217           397           10            200   \n",
            "197    90009   50000           625           514           10            233   \n",
            "198    90055   52000           325           586           13            219   \n",
            "199    90043  102000          1080           926           10            113   \n",
            "\n",
            "              Satisfaction   Channel  \n",
            "0        Very Dissatisfied        SM  \n",
            "1                  Neutral        TV  \n",
            "2           Very Satisfied        TV  \n",
            "3        Very Dissatisfied        SM  \n",
            "5                  Neutral        SM  \n",
            "..                     ...       ...  \n",
            "195     Somewhat Satisfied       Web  \n",
            "196     Somewhat Satisfied       Web  \n",
            "197  Somewhat Dissatisfied  Referral  \n",
            "198  Somewhat Dissatisfied  Referral  \n",
            "199     Somewhat Satisfied        SM  \n",
            "\n",
            "[168 rows x 14 columns]\n"
          ]
        }
      ]
    },
    {
      "cell_type": "code",
      "source": [
        "# 대학교 졸업한 사람\n",
        "college = df[df['College'] == 'Yes']\n",
        "college.info()"
      ],
      "metadata": {
        "id": "92vNTRJpDuy4",
        "colab": {
          "base_uri": "https://localhost:8080/"
        },
        "outputId": "b2f39712-7af5-4224-e1d0-296b942eb08e"
      },
      "execution_count": null,
      "outputs": [
        {
          "output_type": "stream",
          "name": "stdout",
          "text": [
            "<class 'pandas.core.frame.DataFrame'>\n",
            "Index: 168 entries, 0 to 199\n",
            "Data columns (total 14 columns):\n",
            " #   Column         Non-Null Count  Dtype         \n",
            "---  ------         --------------  -----         \n",
            " 0   CustID         168 non-null    int64         \n",
            " 1   Sex            168 non-null    object        \n",
            " 2   Race           168 non-null    object        \n",
            " 3   BirthDate      168 non-null    datetime64[ns]\n",
            " 4   College        168 non-null    object        \n",
            " 5   HouseholdSize  168 non-null    int64         \n",
            " 6   ZipCode        168 non-null    int64         \n",
            " 7   Income         168 non-null    int64         \n",
            " 8   Spending2017   168 non-null    int64         \n",
            " 9   Spending2018   168 non-null    int64         \n",
            " 10  NumOfOrders    168 non-null    int64         \n",
            " 11  DaysSinceLast  168 non-null    int64         \n",
            " 12  Satisfaction   168 non-null    object        \n",
            " 13  Channel        168 non-null    object        \n",
            "dtypes: datetime64[ns](1), int64(8), object(5)\n",
            "memory usage: 19.7+ KB\n"
          ]
        }
      ]
    },
    {
      "cell_type": "code",
      "source": [
        "# 1982~1999년 출생한 고객을 추출하기 위한 타임스탬프 생성\n",
        "start_date = pd.to_datetime(\"1982-01-01\")\n",
        "start_date"
      ],
      "metadata": {
        "colab": {
          "base_uri": "https://localhost:8080/"
        },
        "id": "ghR1Oz1V5UbM",
        "outputId": "033332ce-5a00-4d36-d907-68dbebb13739"
      },
      "execution_count": null,
      "outputs": [
        {
          "output_type": "execute_result",
          "data": {
            "text/plain": [
              "Timestamp('1982-01-01 00:00:00')"
            ]
          },
          "metadata": {},
          "execution_count": 12
        }
      ]
    },
    {
      "cell_type": "code",
      "source": [
        "end_date = pd.to_datetime(\"1999-12-31\")\n",
        "end_date"
      ],
      "metadata": {
        "colab": {
          "base_uri": "https://localhost:8080/"
        },
        "id": "-5M7wWWo50ag",
        "outputId": "a2413c16-f218-4d48-a522-c71b399afb24"
      },
      "execution_count": null,
      "outputs": [
        {
          "output_type": "execute_result",
          "data": {
            "text/plain": [
              "Timestamp('1999-12-31 00:00:00')"
            ]
          },
          "metadata": {},
          "execution_count": 13
        }
      ]
    },
    {
      "cell_type": "code",
      "source": [
        "# 데이터[(조건1) & (조건2)]\n",
        "college_8299 = college[(college['BirthDate'] >= start_date) & (college['BirthDate'] <= end_date)]\n",
        "college_8299.info()"
      ],
      "metadata": {
        "colab": {
          "base_uri": "https://localhost:8080/"
        },
        "id": "6rBaakgkXd0u",
        "outputId": "3f3375b1-543d-4e3a-ddea-1ff048b40ebe"
      },
      "execution_count": null,
      "outputs": [
        {
          "output_type": "stream",
          "name": "stdout",
          "text": [
            "<class 'pandas.core.frame.DataFrame'>\n",
            "Index: 59 entries, 0 to 199\n",
            "Data columns (total 14 columns):\n",
            " #   Column         Non-Null Count  Dtype         \n",
            "---  ------         --------------  -----         \n",
            " 0   CustID         59 non-null     int64         \n",
            " 1   Sex            59 non-null     object        \n",
            " 2   Race           59 non-null     object        \n",
            " 3   BirthDate      59 non-null     datetime64[ns]\n",
            " 4   College        59 non-null     object        \n",
            " 5   HouseholdSize  59 non-null     int64         \n",
            " 6   ZipCode        59 non-null     int64         \n",
            " 7   Income         59 non-null     int64         \n",
            " 8   Spending2017   59 non-null     int64         \n",
            " 9   Spending2018   59 non-null     int64         \n",
            " 10  NumOfOrders    59 non-null     int64         \n",
            " 11  DaysSinceLast  59 non-null     int64         \n",
            " 12  Satisfaction   59 non-null     object        \n",
            " 13  Channel        59 non-null     object        \n",
            "dtypes: datetime64[ns](1), int64(8), object(5)\n",
            "memory usage: 6.9+ KB\n"
          ]
        }
      ]
    },
    {
      "cell_type": "code",
      "source": [
        "# 한번에 만들어보자!\n",
        "df = raw_df.copy()\n",
        "start_date = pd.to_datetime(\"1982-01-01\")\n",
        "end_date = pd.to_datetime(\"1999-12-31\")\n",
        "college_8299 = df[(df['College'] == 'Yes') & (df['BirthDate'] >= start_date) & (df['BirthDate'] <= end_date)]\n",
        "college_8299.info()"
      ],
      "metadata": {
        "colab": {
          "base_uri": "https://localhost:8080/"
        },
        "id": "uvZI2GVG58xL",
        "outputId": "157c0694-65f8-46e7-dcec-f107db677118"
      },
      "execution_count": null,
      "outputs": [
        {
          "output_type": "stream",
          "name": "stdout",
          "text": [
            "<class 'pandas.core.frame.DataFrame'>\n",
            "Index: 59 entries, 0 to 199\n",
            "Data columns (total 14 columns):\n",
            " #   Column         Non-Null Count  Dtype         \n",
            "---  ------         --------------  -----         \n",
            " 0   CustID         59 non-null     int64         \n",
            " 1   Sex            59 non-null     object        \n",
            " 2   Race           59 non-null     object        \n",
            " 3   BirthDate      59 non-null     datetime64[ns]\n",
            " 4   College        59 non-null     object        \n",
            " 5   HouseholdSize  59 non-null     int64         \n",
            " 6   ZipCode        59 non-null     int64         \n",
            " 7   Income         59 non-null     int64         \n",
            " 8   Spending2017   59 non-null     int64         \n",
            " 9   Spending2018   59 non-null     int64         \n",
            " 10  NumOfOrders    59 non-null     int64         \n",
            " 11  DaysSinceLast  59 non-null     int64         \n",
            " 12  Satisfaction   59 non-null     object        \n",
            " 13  Channel        59 non-null     object        \n",
            "dtypes: datetime64[ns](1), int64(8), object(5)\n",
            "memory usage: 6.9+ KB\n"
          ]
        }
      ]
    },
    {
      "cell_type": "code",
      "source": [
        "# 여성\n",
        "female = college_8299[college_8299['Sex'] == \"Female\"]\n",
        "female.info()\n",
        "female.to_csv(\"/content/drive/MyDrive/lsda02/data/female.csv\")"
      ],
      "metadata": {
        "colab": {
          "base_uri": "https://localhost:8080/"
        },
        "id": "iOK0fmXu9gxt",
        "outputId": "e76c32db-6308-479a-9796-84e6eda91de0"
      },
      "execution_count": null,
      "outputs": [
        {
          "output_type": "stream",
          "name": "stdout",
          "text": [
            "<class 'pandas.core.frame.DataFrame'>\n",
            "Index: 21 entries, 0 to 198\n",
            "Data columns (total 14 columns):\n",
            " #   Column         Non-Null Count  Dtype         \n",
            "---  ------         --------------  -----         \n",
            " 0   CustID         21 non-null     int64         \n",
            " 1   Sex            21 non-null     object        \n",
            " 2   Race           21 non-null     object        \n",
            " 3   BirthDate      21 non-null     datetime64[ns]\n",
            " 4   College        21 non-null     object        \n",
            " 5   HouseholdSize  21 non-null     int64         \n",
            " 6   ZipCode        21 non-null     int64         \n",
            " 7   Income         21 non-null     int64         \n",
            " 8   Spending2017   21 non-null     int64         \n",
            " 9   Spending2018   21 non-null     int64         \n",
            " 10  NumOfOrders    21 non-null     int64         \n",
            " 11  DaysSinceLast  21 non-null     int64         \n",
            " 12  Satisfaction   21 non-null     object        \n",
            " 13  Channel        21 non-null     object        \n",
            "dtypes: datetime64[ns](1), int64(8), object(5)\n",
            "memory usage: 2.5+ KB\n"
          ]
        }
      ]
    },
    {
      "cell_type": "code",
      "source": [
        "# 남성\n",
        "male = college_8299[college_8299['Sex'] == \"Male\"]\n",
        "male.info()\n",
        "male.to_csv(\"/content/drive/MyDrive/lsda02/data/male.csv\")"
      ],
      "metadata": {
        "colab": {
          "base_uri": "https://localhost:8080/"
        },
        "id": "-Zgl-tZv--tM",
        "outputId": "a6fa84f6-0122-4fcc-8034-e9d3155d6d65"
      },
      "execution_count": null,
      "outputs": [
        {
          "output_type": "stream",
          "name": "stdout",
          "text": [
            "<class 'pandas.core.frame.DataFrame'>\n",
            "Index: 38 entries, 1 to 199\n",
            "Data columns (total 14 columns):\n",
            " #   Column         Non-Null Count  Dtype         \n",
            "---  ------         --------------  -----         \n",
            " 0   CustID         38 non-null     int64         \n",
            " 1   Sex            38 non-null     object        \n",
            " 2   Race           38 non-null     object        \n",
            " 3   BirthDate      38 non-null     datetime64[ns]\n",
            " 4   College        38 non-null     object        \n",
            " 5   HouseholdSize  38 non-null     int64         \n",
            " 6   ZipCode        38 non-null     int64         \n",
            " 7   Income         38 non-null     int64         \n",
            " 8   Spending2017   38 non-null     int64         \n",
            " 9   Spending2018   38 non-null     int64         \n",
            " 10  NumOfOrders    38 non-null     int64         \n",
            " 11  DaysSinceLast  38 non-null     int64         \n",
            " 12  Satisfaction   38 non-null     object        \n",
            " 13  Channel        38 non-null     object        \n",
            "dtypes: datetime64[ns](1), int64(8), object(5)\n",
            "memory usage: 4.5+ KB\n"
          ]
        }
      ]
    },
    {
      "cell_type": "code",
      "source": [
        "# 한번에 해보자!\n",
        "# 그룹 객체 => groupby(그룹화에 사용할 열)\n",
        "college_8299_grouped_sex = college_8299.groupby(by = 'Sex')\n",
        "college_8299_grouped_sex.get_group('Female').to_csv(\"/content/drive/MyDrive/lsda02/data/female.csv\")\n",
        "college_8299_grouped_sex.get_group('Male').to_csv(\"/content/drive/MyDrive/lsda02/data/male.csv\")"
      ],
      "metadata": {
        "id": "HvJN9iky7n6s"
      },
      "execution_count": null,
      "outputs": []
    },
    {
      "cell_type": "markdown",
      "source": [
        "# 미션2"
      ],
      "metadata": {
        "id": "CCj_5OtKAAmi"
      }
    },
    {
      "cell_type": "code",
      "source": [
        "# 미션 1에서 만든 대학교 졸업한 82년~99년 출생 고객의 데이터를 이용\n",
        "# Sex, Race, HouseholdSize, Income, Satisfaction, Channel 변수를 선택하여 desc_df로 저장\n",
        "selected_columns = ['Sex', 'Race', 'HouseholdSize', 'Income', 'Satisfaction', 'Channel']\n",
        "desc_df = college_8299[selected_columns]\n",
        "desc_df.info()"
      ],
      "metadata": {
        "colab": {
          "base_uri": "https://localhost:8080/"
        },
        "id": "FxTAgjHqCwT4",
        "outputId": "9800190f-38d7-4c36-fbcf-488971b2effa"
      },
      "execution_count": null,
      "outputs": [
        {
          "output_type": "stream",
          "name": "stdout",
          "text": [
            "<class 'pandas.core.frame.DataFrame'>\n",
            "Index: 59 entries, 0 to 199\n",
            "Data columns (total 6 columns):\n",
            " #   Column         Non-Null Count  Dtype \n",
            "---  ------         --------------  ----- \n",
            " 0   Sex            59 non-null     object\n",
            " 1   Race           59 non-null     object\n",
            " 2   HouseholdSize  59 non-null     int64 \n",
            " 3   Income         59 non-null     int64 \n",
            " 4   Satisfaction   59 non-null     object\n",
            " 5   Channel        59 non-null     object\n",
            "dtypes: int64(2), object(4)\n",
            "memory usage: 3.2+ KB\n"
          ]
        }
      ]
    },
    {
      "cell_type": "code",
      "source": [
        "# desc_df를 이용하여 남녀 차이를 보기 위한 기술통계표를 작성하세요.\n",
        "print(pd.crosstab(desc_df.Race, desc_df.Sex))\n",
        "print(\"\\n\")\n",
        "print(pd.crosstab(desc_df.HouseholdSize, desc_df.Sex))\n",
        "print(\"\\n\")\n",
        "print(\"Female: \", pd.DataFrame(desc_df[desc_df.Sex == \"Female\"].Income.describe().loc[[\"mean\", \"std\"]]).T)\n",
        "print(\"Male: \", pd.DataFrame(desc_df[desc_df.Sex == \"Male\"].Income.describe().loc[[\"mean\", \"std\"]]).T)\n",
        "print(\"\\n\")\n",
        "print(pd.crosstab(desc_df.Satisfaction, desc_df.Sex))\n",
        "print(\"\\n\")\n",
        "print(pd.crosstab(desc_df.Channel, desc_df.Sex))"
      ],
      "metadata": {
        "colab": {
          "base_uri": "https://localhost:8080/"
        },
        "id": "1KB1AWnuQlbH",
        "outputId": "2b7c0630-b4c3-4f27-a200-94a933a748a4"
      },
      "execution_count": null,
      "outputs": [
        {
          "output_type": "stream",
          "name": "stdout",
          "text": [
            "Sex               Female  Male\n",
            "Race                          \n",
            "American Indian        0     2\n",
            "Asian                  0     4\n",
            "Black                  7     6\n",
            "Hispanic               4     8\n",
            "Pacific Islander       0     1\n",
            "White                 10    17\n",
            "\n",
            "\n",
            "Sex            Female  Male\n",
            "HouseholdSize              \n",
            "1                   4     6\n",
            "2                   4     7\n",
            "3                   5     9\n",
            "4                   2     8\n",
            "5                   6     8\n",
            "\n",
            "\n",
            "Female:                  mean           std\n",
            "Income  61285.714286  19680.301972\n",
            "Male:                  mean          std\n",
            "Income  83157.894737  27514.64113\n",
            "\n",
            "\n",
            "Sex                    Female  Male\n",
            "Satisfaction                       \n",
            "Neutral                     1     6\n",
            "Somewhat Dissatisfied       3     3\n",
            "Somewhat Satisfied         11    21\n",
            "Very Dissatisfied           2     2\n",
            "Very Satisfied              4     6\n",
            "\n",
            "\n",
            "Sex       Female  Male\n",
            "Channel               \n",
            "Referral       6     6\n",
            "SM             3    16\n",
            "TV             4     9\n",
            "Web            8     7\n"
          ]
        }
      ]
    },
    {
      "cell_type": "code",
      "source": [
        "desc_df.Income.describe()"
      ],
      "metadata": {
        "colab": {
          "base_uri": "https://localhost:8080/"
        },
        "id": "P4l5hybhMAW6",
        "outputId": "576042b3-0f6b-4727-b40c-e0a5b4fb33b1"
      },
      "execution_count": null,
      "outputs": [
        {
          "output_type": "execute_result",
          "data": {
            "text/plain": [
              "count        59.000000\n",
              "mean      75372.881356\n",
              "std       26982.688131\n",
              "min       34000.000000\n",
              "25%       55000.000000\n",
              "50%       69000.000000\n",
              "75%       94000.000000\n",
              "max      167000.000000\n",
              "Name: Income, dtype: float64"
            ]
          },
          "metadata": {},
          "execution_count": 26
        }
      ]
    },
    {
      "cell_type": "code",
      "source": [
        "desc_df.Income.describe().loc[[\"mean\", \"std\"]]"
      ],
      "metadata": {
        "colab": {
          "base_uri": "https://localhost:8080/"
        },
        "id": "kkho6ZG9Tp0Q",
        "outputId": "b12be841-c73f-4e06-88fd-5f1f0aefedc2"
      },
      "execution_count": null,
      "outputs": [
        {
          "output_type": "execute_result",
          "data": {
            "text/plain": [
              "mean    75372.881356\n",
              "std     26982.688131\n",
              "Name: Income, dtype: float64"
            ]
          },
          "metadata": {},
          "execution_count": 27
        }
      ]
    },
    {
      "cell_type": "code",
      "source": [
        "# t검정\n",
        "female_income = desc_df.query('Sex == \"Female\"')['Income']\n",
        "male_income = desc_df.query('Sex == \"Male\"')['Income']\n",
        "tv, pv = ttest_ind(female_income, male_income, equal_var = True)\n",
        "print(\"t-statitics: \", round(tv, 5))\n",
        "print(\"p-value: \", round(pv, 5))\n",
        "if pv < 0.05:\n",
        "  print(\"significant\")\n",
        "else:\n",
        "  print(\"not significant\")"
      ],
      "metadata": {
        "id": "DvYAZeSuESLL",
        "colab": {
          "base_uri": "https://localhost:8080/"
        },
        "outputId": "ba12cf7e-f8e6-4310-f2c8-4193c55b8226"
      },
      "execution_count": null,
      "outputs": [
        {
          "output_type": "stream",
          "name": "stdout",
          "text": [
            "t-statitics:  -3.21161\n",
            "p-value:  0.00217\n",
            "significant\n"
          ]
        }
      ]
    },
    {
      "cell_type": "code",
      "source": [
        "# 카이제곱검정\n",
        "tab = pd.crosstab(desc_df.Race, desc_df.Sex)\n",
        "print(tab)\n",
        "print(\"\\n\")\n",
        "print(chi2_contingency(tab))\n",
        "print(\"\\n\")\n",
        "result = chi2_contingency(tab)\n",
        "chiv = result[0]\n",
        "pv = result[1]\n",
        "print(\"chi2-statitics: \", round(chiv, 5))\n",
        "print(\"p-value: \", round(pv, 5))\n",
        "if pv < 0.05:\n",
        "  print(\"significant\")\n",
        "else:\n",
        "  print(\"not significant\")\n",
        "print(\"expected frequency\")\n",
        "print(result[3])\n",
        "f_pct = ((result[3] < 5).sum() / (result[3].shape[0] * result[3].shape[1])) * 100\n",
        "print(str(round(f_pct,2)) + \"%\")\n",
        "if f_pct >= 20:\n",
        "  print(\"Fisher Exact Test!\")\n",
        "else:\n",
        "  print(\"No Fisher Exact Test!\")"
      ],
      "metadata": {
        "colab": {
          "base_uri": "https://localhost:8080/"
        },
        "id": "Qk5qVPliEZlz",
        "outputId": "2924f766-7e29-4a3a-d46f-0fdba3d31f3d"
      },
      "execution_count": null,
      "outputs": [
        {
          "output_type": "stream",
          "name": "stdout",
          "text": [
            "Sex               Female  Male\n",
            "Race                          \n",
            "American Indian        0     2\n",
            "Asian                  0     4\n",
            "Black                  7     6\n",
            "Hispanic               4     8\n",
            "Pacific Islander       0     1\n",
            "White                 10    17\n",
            "\n",
            "\n",
            "Chi2ContingencyResult(statistic=5.809045405536633, pvalue=0.32524532718433313, dof=5, expected_freq=array([[ 0.71186441,  1.28813559],\n",
            "       [ 1.42372881,  2.57627119],\n",
            "       [ 4.62711864,  8.37288136],\n",
            "       [ 4.27118644,  7.72881356],\n",
            "       [ 0.3559322 ,  0.6440678 ],\n",
            "       [ 9.61016949, 17.38983051]]))\n",
            "\n",
            "\n",
            "chi2-statitics:  5.80905\n",
            "p-value:  0.32525\n",
            "not significant\n",
            "expected frequency\n",
            "[[ 0.71186441  1.28813559]\n",
            " [ 1.42372881  2.57627119]\n",
            " [ 4.62711864  8.37288136]\n",
            " [ 4.27118644  7.72881356]\n",
            " [ 0.3559322   0.6440678 ]\n",
            " [ 9.61016949 17.38983051]]\n",
            "66.67%\n",
            "Fisher Exact Test!\n"
          ]
        }
      ]
    },
    {
      "cell_type": "code",
      "source": [
        "# 피셔 정확 검정\n",
        "tab = np.array(tab)\n",
        "result = stats.fisher_test(tab)\n",
        "print(result)\n",
        "print(result[0])\n",
        "pv = result[0][0]\n",
        "print(pv)\n",
        "print(\"p-value: \", round(pv, 5))\n",
        "if pv < 0.05:\n",
        "  print(\"significant\")\n",
        "else:\n",
        "  print(\"not significant\")"
      ],
      "metadata": {
        "colab": {
          "base_uri": "https://localhost:8080/"
        },
        "id": "1amfFNTnT_Kb",
        "outputId": "620573d6-ce8a-4ff0-a675-9a9b031cc500"
      },
      "execution_count": null,
      "outputs": [
        {
          "output_type": "stream",
          "name": "stdout",
          "text": [
            "\n",
            "\tFisher's Exact Test for Count Data\n",
            "\n",
            "data:  structure(c(0L, 0L, 7L, 4L, 0L, 10L, 2L, 4L, 6L, 8L, 1L, 17L), dim = c(6L, 2L))\n",
            "p-value = 0.4008\n",
            "alternative hypothesis: two.sided\n",
            "\n",
            "\n",
            "[1] 0.400762\n",
            "\n",
            "0.400761953244126\n",
            "p-value:  0.40076\n",
            "not significant\n"
          ]
        }
      ]
    },
    {
      "cell_type": "code",
      "source": [
        "tab = pd.crosstab(desc_df.HouseholdSize, desc_df.Sex)\n",
        "print(tab)\n",
        "print(\"\\n\")\n",
        "print(chi2_contingency(tab))\n",
        "print(\"\\n\")\n",
        "result = chi2_contingency(tab)\n",
        "chiv = result[0]\n",
        "pv = result[1]\n",
        "print(\"chi2-statitics: \", round(chiv, 5))\n",
        "print(\"p-value: \", round(pv, 5))\n",
        "if pv < 0.05:\n",
        "  print(\"significant\")\n",
        "else:\n",
        "  print(\"not significant\")\n",
        "print(\"expected frequency\")\n",
        "print(result[3])\n",
        "f_pct = ((result[3] < 5).sum() / (result[3].shape[0] * result[3].shape[1])) * 100\n",
        "print(str(round(f_pct,2)) + \"%\")\n",
        "if f_pct >= 20:\n",
        "  print(\"Fisher Exact Test!\")\n",
        "else:\n",
        "  print(\"No Fisher Exact Test!\")"
      ],
      "metadata": {
        "id": "jFY3maezzbRG",
        "colab": {
          "base_uri": "https://localhost:8080/"
        },
        "outputId": "22ab8714-12f2-4d70-e91c-bf662632df98"
      },
      "execution_count": null,
      "outputs": [
        {
          "output_type": "stream",
          "name": "stdout",
          "text": [
            "Sex            Female  Male\n",
            "HouseholdSize              \n",
            "1                   4     6\n",
            "2                   4     7\n",
            "3                   5     9\n",
            "4                   2     8\n",
            "5                   6     8\n",
            "\n",
            "\n",
            "Chi2ContingencyResult(statistic=1.4705351039937513, pvalue=0.8318476716826708, dof=4, expected_freq=array([[3.55932203, 6.44067797],\n",
            "       [3.91525424, 7.08474576],\n",
            "       [4.98305085, 9.01694915],\n",
            "       [3.55932203, 6.44067797],\n",
            "       [4.98305085, 9.01694915]]))\n",
            "\n",
            "\n",
            "chi2-statitics:  1.47054\n",
            "p-value:  0.83185\n",
            "not significant\n",
            "expected frequency\n",
            "[[3.55932203 6.44067797]\n",
            " [3.91525424 7.08474576]\n",
            " [4.98305085 9.01694915]\n",
            " [3.55932203 6.44067797]\n",
            " [4.98305085 9.01694915]]\n",
            "50.0%\n",
            "Fisher Exact Test!\n"
          ]
        }
      ]
    },
    {
      "cell_type": "code",
      "source": [
        "tab = np.array(tab)\n",
        "result = stats.fisher_test(tab)\n",
        "print(result)\n",
        "print(result[0])\n",
        "pv = result[0][0]\n",
        "print(pv)\n",
        "print(\"p-value: \", round(pv, 5))\n",
        "if pv < 0.05:\n",
        "  print(\"significant\")\n",
        "else:\n",
        "  print(\"not significant\")"
      ],
      "metadata": {
        "colab": {
          "base_uri": "https://localhost:8080/"
        },
        "outputId": "c42d6a82-b819-449f-9d9e-4d89844ce5f0",
        "id": "XeuQL6E2VtIY"
      },
      "execution_count": null,
      "outputs": [
        {
          "output_type": "stream",
          "name": "stdout",
          "text": [
            "\n",
            "\tFisher's Exact Test for Count Data\n",
            "\n",
            "data:  structure(c(4L, 4L, 5L, 2L, 6L, 6L, 7L, 9L, 8L, 8L), dim = c(5L, 2L))\n",
            "p-value = 0.8503\n",
            "alternative hypothesis: two.sided\n",
            "\n",
            "\n",
            "[1] 0.850317\n",
            "\n",
            "0.8503170108227862\n",
            "p-value:  0.85032\n",
            "not significant\n"
          ]
        }
      ]
    },
    {
      "cell_type": "code",
      "source": [
        "tab = pd.crosstab(desc_df.Satisfaction, desc_df.Sex)\n",
        "print(tab)\n",
        "print(\"\\n\")\n",
        "print(chi2_contingency(tab))\n",
        "print(\"\\n\")\n",
        "result = chi2_contingency(tab)\n",
        "chiv = result[0]\n",
        "pv = result[1]\n",
        "print(\"chi2-statitics: \", round(chiv, 5))\n",
        "print(\"p-value: \", round(pv, 5))\n",
        "if pv < 0.05:\n",
        "  print(\"significant\")\n",
        "else:\n",
        "  print(\"not significant\")\n",
        "print(\"expected frequency\")\n",
        "print(result[3])\n",
        "f_pct = ((result[3] < 5).sum() / (result[3].shape[0] * result[3].shape[1])) * 100\n",
        "print(str(round(f_pct,2)) + \"%\")\n",
        "if f_pct >= 20:\n",
        "  print(\"Fisher Exact Test!\")\n",
        "else:\n",
        "  print(\"No Fisher Exact Test!\")"
      ],
      "metadata": {
        "id": "eWk8POR0zeRH",
        "colab": {
          "base_uri": "https://localhost:8080/"
        },
        "outputId": "70a72071-1240-46f6-9360-50a994e62b6a"
      },
      "execution_count": null,
      "outputs": [
        {
          "output_type": "stream",
          "name": "stdout",
          "text": [
            "Sex                    Female  Male\n",
            "Satisfaction                       \n",
            "Neutral                     1     6\n",
            "Somewhat Dissatisfied       3     3\n",
            "Somewhat Satisfied         11    21\n",
            "Very Dissatisfied           2     2\n",
            "Very Satisfied              4     6\n",
            "\n",
            "\n",
            "Chi2ContingencyResult(statistic=2.397139052989616, pvalue=0.663144348129268, dof=4, expected_freq=array([[ 2.49152542,  4.50847458],\n",
            "       [ 2.13559322,  3.86440678],\n",
            "       [11.38983051, 20.61016949],\n",
            "       [ 1.42372881,  2.57627119],\n",
            "       [ 3.55932203,  6.44067797]]))\n",
            "\n",
            "\n",
            "chi2-statitics:  2.39714\n",
            "p-value:  0.66314\n",
            "not significant\n",
            "expected frequency\n",
            "[[ 2.49152542  4.50847458]\n",
            " [ 2.13559322  3.86440678]\n",
            " [11.38983051 20.61016949]\n",
            " [ 1.42372881  2.57627119]\n",
            " [ 3.55932203  6.44067797]]\n",
            "70.0%\n",
            "Fisher Exact Test!\n"
          ]
        }
      ]
    },
    {
      "cell_type": "code",
      "source": [
        "tab = np.array(tab)\n",
        "result = stats.fisher_test(tab)\n",
        "print(result)\n",
        "print(result[0])\n",
        "pv = result[0][0]\n",
        "print(pv)\n",
        "print(\"p-value: \", round(pv, 5))\n",
        "if pv < 0.05:\n",
        "  print(\"significant\")\n",
        "else:\n",
        "  print(\"not significant\")"
      ],
      "metadata": {
        "colab": {
          "base_uri": "https://localhost:8080/"
        },
        "outputId": "03d40ed5-3d2d-4ecb-f9c2-19759ed1ee00",
        "id": "PVGiMwMHV2IA"
      },
      "execution_count": null,
      "outputs": [
        {
          "output_type": "stream",
          "name": "stdout",
          "text": [
            "\n",
            "\tFisher's Exact Test for Count Data\n",
            "\n",
            "data:  structure(c(1L, 3L, 11L, 2L, 4L, 6L, 3L, 21L, 2L, 6L), dim = c(5L, 2L))\n",
            "p-value = 0.6617\n",
            "alternative hypothesis: two.sided\n",
            "\n",
            "\n",
            "[1] 0.6617458\n",
            "\n",
            "0.6617457992615556\n",
            "p-value:  0.66175\n",
            "not significant\n"
          ]
        }
      ]
    },
    {
      "cell_type": "code",
      "source": [
        "tab = pd.crosstab(desc_df.Channel, desc_df.Sex)\n",
        "print(tab)\n",
        "print(\"\\n\")\n",
        "print(chi2_contingency(tab))\n",
        "print(\"\\n\")\n",
        "result = chi2_contingency(tab)\n",
        "chiv = result[0]\n",
        "pv = result[1]\n",
        "print(\"chi2-statitics: \", round(chiv, 5))\n",
        "print(\"p-value: \", round(pv, 5))\n",
        "if pv < 0.05:\n",
        "  print(\"significant\")\n",
        "else:\n",
        "  print(\"not significant\")\n",
        "print(\"expected frequency\")\n",
        "print(result[3])\n",
        "f_pct = ((result[3] < 5).sum() / (result[3].shape[0] * result[3].shape[1])) * 100\n",
        "print(str(round(f_pct,2)) + \"%\")\n",
        "if f_pct >= 20:\n",
        "  print(\"Fisher Exact Test!\")\n",
        "else:\n",
        "  print(\"No Fisher Exact Test!\")"
      ],
      "metadata": {
        "id": "oiub4pjAzp3u",
        "colab": {
          "base_uri": "https://localhost:8080/"
        },
        "outputId": "dfa89c4b-d6b9-4e18-8abf-a42c5bde566c"
      },
      "execution_count": null,
      "outputs": [
        {
          "output_type": "stream",
          "name": "stdout",
          "text": [
            "Sex       Female  Male\n",
            "Channel               \n",
            "Referral       6     6\n",
            "SM             3    16\n",
            "TV             4     9\n",
            "Web            8     7\n",
            "\n",
            "\n",
            "Chi2ContingencyResult(statistic=6.528156761674767, pvalue=0.08855866046491273, dof=3, expected_freq=array([[ 4.27118644,  7.72881356],\n",
            "       [ 6.76271186, 12.23728814],\n",
            "       [ 4.62711864,  8.37288136],\n",
            "       [ 5.33898305,  9.66101695]]))\n",
            "\n",
            "\n",
            "chi2-statitics:  6.52816\n",
            "p-value:  0.08856\n",
            "not significant\n",
            "expected frequency\n",
            "[[ 4.27118644  7.72881356]\n",
            " [ 6.76271186 12.23728814]\n",
            " [ 4.62711864  8.37288136]\n",
            " [ 5.33898305  9.66101695]]\n",
            "25.0%\n",
            "Fisher Exact Test!\n"
          ]
        }
      ]
    },
    {
      "cell_type": "code",
      "source": [
        "tab = np.array(tab)\n",
        "result = stats.fisher_test(tab)\n",
        "print(result)\n",
        "print(result[0])\n",
        "pv = result[0][0]\n",
        "print(pv)\n",
        "print(\"p-value: \", round(pv, 5))\n",
        "if pv < 0.05:\n",
        "  print(\"significant\")\n",
        "else:\n",
        "  print(\"not significant\")"
      ],
      "metadata": {
        "colab": {
          "base_uri": "https://localhost:8080/"
        },
        "outputId": "79551aa6-db2c-4010-e2bc-0701582cd12a",
        "id": "nAnn1ja6V-_b"
      },
      "execution_count": null,
      "outputs": [
        {
          "output_type": "stream",
          "name": "stdout",
          "text": [
            "\n",
            "\tFisher's Exact Test for Count Data\n",
            "\n",
            "data:  structure(c(6L, 3L, 4L, 8L, 6L, 16L, 9L, 7L), dim = c(4L, 2L))\n",
            "p-value = 0.08059\n",
            "alternative hypothesis: two.sided\n",
            "\n",
            "\n",
            "[1] 0.08059186\n",
            "\n",
            "0.08059185685217439\n",
            "p-value:  0.08059\n",
            "not significant\n"
          ]
        }
      ]
    },
    {
      "cell_type": "markdown",
      "source": [
        "# 데이터 분석 프로젝트"
      ],
      "metadata": {
        "id": "j52ftnE4fno8"
      }
    },
    {
      "cell_type": "markdown",
      "metadata": {
        "id": "440f9faf-b566-48ea-92d4-68da91c884e0"
      },
      "source": [
        "## 한국복지패널 데이터 분석 준비하기"
      ]
    },
    {
      "cell_type": "code",
      "source": [
        "# 한글 폰트 설치\n",
        "!sudo apt-get install -y fonts-nanum\n",
        "!sudo fc-cache -fv\n",
        "!rm ~/.cache/matplotlib -rf\n",
        "# 메뉴 - 런타임 - 세션 다시 시작"
      ],
      "metadata": {
        "id": "PrBAVAwmSwxL",
        "colab": {
          "base_uri": "https://localhost:8080/"
        },
        "outputId": "94a1d4e8-5375-4683-eba0-78e3deefa9b0"
      },
      "execution_count": null,
      "outputs": [
        {
          "output_type": "stream",
          "name": "stdout",
          "text": [
            "Reading package lists... Done\n",
            "Building dependency tree... Done\n",
            "Reading state information... Done\n",
            "The following NEW packages will be installed:\n",
            "  fonts-nanum\n",
            "0 upgraded, 1 newly installed, 0 to remove and 45 not upgraded.\n",
            "Need to get 10.3 MB of archives.\n",
            "After this operation, 34.1 MB of additional disk space will be used.\n",
            "Get:1 http://archive.ubuntu.com/ubuntu jammy/universe amd64 fonts-nanum all 20200506-1 [10.3 MB]\n",
            "Fetched 10.3 MB in 1s (18.8 MB/s)\n",
            "debconf: unable to initialize frontend: Dialog\n",
            "debconf: (No usable dialog-like program is installed, so the dialog based frontend cannot be used. at /usr/share/perl5/Debconf/FrontEnd/Dialog.pm line 78, <> line 1.)\n",
            "debconf: falling back to frontend: Readline\n",
            "debconf: unable to initialize frontend: Readline\n",
            "debconf: (This frontend requires a controlling tty.)\n",
            "debconf: falling back to frontend: Teletype\n",
            "dpkg-preconfigure: unable to re-open stdin: \n",
            "Selecting previously unselected package fonts-nanum.\n",
            "(Reading database ... 121753 files and directories currently installed.)\n",
            "Preparing to unpack .../fonts-nanum_20200506-1_all.deb ...\n",
            "Unpacking fonts-nanum (20200506-1) ...\n",
            "Setting up fonts-nanum (20200506-1) ...\n",
            "Processing triggers for fontconfig (2.13.1-4.2ubuntu5) ...\n",
            "/usr/share/fonts: caching, new cache contents: 0 fonts, 1 dirs\n",
            "/usr/share/fonts/truetype: caching, new cache contents: 0 fonts, 3 dirs\n",
            "/usr/share/fonts/truetype/humor-sans: caching, new cache contents: 1 fonts, 0 dirs\n",
            "/usr/share/fonts/truetype/liberation: caching, new cache contents: 16 fonts, 0 dirs\n",
            "/usr/share/fonts/truetype/nanum: caching, new cache contents: 12 fonts, 0 dirs\n",
            "/usr/local/share/fonts: caching, new cache contents: 0 fonts, 0 dirs\n",
            "/root/.local/share/fonts: skipping, no such directory\n",
            "/root/.fonts: skipping, no such directory\n",
            "/usr/share/fonts/truetype: skipping, looped directory detected\n",
            "/usr/share/fonts/truetype/humor-sans: skipping, looped directory detected\n",
            "/usr/share/fonts/truetype/liberation: skipping, looped directory detected\n",
            "/usr/share/fonts/truetype/nanum: skipping, looped directory detected\n",
            "/var/cache/fontconfig: cleaning cache directory\n",
            "/root/.cache/fontconfig: not cleaning non-existent cache directory\n",
            "/root/.fontconfig: not cleaning non-existent cache directory\n",
            "fc-cache: succeeded\n"
          ]
        }
      ]
    },
    {
      "cell_type": "code",
      "execution_count": null,
      "metadata": {
        "id": "d79d23d4"
      },
      "outputs": [],
      "source": [
        "import pandas as pd\n",
        "import numpy as np\n",
        "import matplotlib.pyplot as plt\n",
        "%matplotlib inline\n",
        "import seaborn as sns"
      ]
    },
    {
      "cell_type": "code",
      "source": [
        "# 한글 폰트 지정\n",
        "plt.rc(\"font\", family = \"NanumGothic\")"
      ],
      "metadata": {
        "id": "Q2LnuDjsSxeQ"
      },
      "execution_count": null,
      "outputs": []
    },
    {
      "cell_type": "code",
      "execution_count": null,
      "metadata": {
        "eval": false,
        "id": "2f2bc49f"
      },
      "outputs": [],
      "source": [
        "# 데이터 불러오기\n",
        "raw_welfare = pd.read_csv('/content/drive/MyDrive/lsda02/data/welfare_2015.csv')"
      ]
    },
    {
      "cell_type": "code",
      "source": [
        "# 복사본 만들기\n",
        "welfare = raw_welfare.copy()"
      ],
      "metadata": {
        "id": "smEXBzf8zSax"
      },
      "execution_count": null,
      "outputs": []
    },
    {
      "cell_type": "code",
      "execution_count": null,
      "metadata": {
        "eval": false,
        "id": "4e362c2e-b484-4f8c-925e-275f3389daa6",
        "outputId": "19b2b64e-88d9-4308-a53c-d032b5e24b6b",
        "colab": {
          "base_uri": "https://localhost:8080/"
        }
      },
      "outputs": [
        {
          "output_type": "stream",
          "name": "stdout",
          "text": [
            "       h10_g3  h10_g4  h10_g10  h10_g11  h10_eco9  p1002_8aq1  h10_reg7\n",
            "0           2    1936        2        2       NaN         NaN         1\n",
            "1           2    1945        2        2       NaN         NaN         1\n",
            "2           1    1948        2        2     942.0       120.0         1\n",
            "3           1    1942        3        1     762.0       200.0         1\n",
            "4           2    1923        2        1       NaN         NaN         1\n",
            "...       ...     ...      ...      ...       ...         ...       ...\n",
            "16665       2    9999        5        1       NaN         NaN         6\n",
            "16666       1    1972        9        1       NaN         NaN         6\n",
            "16667       2    1969        1        9       NaN         NaN         2\n",
            "16668       2    1960        3        2    9999.0         NaN         6\n",
            "16669       1    1940        1        1       NaN      9999.0         5\n",
            "\n",
            "[16670 rows x 7 columns]\n",
            "   h10_g3  h10_g4  h10_g10  h10_g11  h10_eco9  p1002_8aq1  h10_reg7\n",
            "0       2    1936        2        2       NaN         NaN         1\n",
            "1       2    1945        2        2       NaN         NaN         1\n",
            "2       1    1948        2        2     942.0       120.0         1\n",
            "3       1    1942        3        1     762.0       200.0         1\n",
            "4       2    1923        2        1       NaN         NaN         1\n",
            "       h10_g3  h10_g4  h10_g10  h10_g11  h10_eco9  p1002_8aq1  h10_reg7\n",
            "16665       2    9999        5        1       NaN         NaN         6\n",
            "16666       1    1972        9        1       NaN         NaN         6\n",
            "16667       2    1969        1        9       NaN         NaN         2\n",
            "16668       2    1960        3        2    9999.0         NaN         6\n",
            "16669       1    1940        1        1       NaN      9999.0         5\n"
          ]
        }
      ],
      "source": [
        "# 데이터 앞부분, 뒷부분 출력\n",
        "print(welfare)\n",
        "print(welfare.head())\n",
        "print(welfare.tail())"
      ]
    },
    {
      "cell_type": "code",
      "execution_count": null,
      "metadata": {
        "eval": false,
        "id": "bc164146-4793-458d-9882-8da8190cf68f",
        "outputId": "f89d094b-c668-4277-fb2b-c80163f71d8e",
        "colab": {
          "base_uri": "https://localhost:8080/"
        }
      },
      "outputs": [
        {
          "output_type": "execute_result",
          "data": {
            "text/plain": [
              "(16670, 7)"
            ]
          },
          "metadata": {},
          "execution_count": 181
        }
      ],
      "source": [
        "welfare.shape       # 행, 열 개수 출력"
      ]
    },
    {
      "cell_type": "code",
      "execution_count": null,
      "metadata": {
        "eval": false,
        "id": "872665e6-1dca-4339-8309-ef7c5ff423e9",
        "outputId": "ec65d523-67b0-4bfa-dd54-27a44ba0eb34",
        "colab": {
          "base_uri": "https://localhost:8080/"
        }
      },
      "outputs": [
        {
          "output_type": "stream",
          "name": "stdout",
          "text": [
            "<class 'pandas.core.frame.DataFrame'>\n",
            "RangeIndex: 16670 entries, 0 to 16669\n",
            "Data columns (total 7 columns):\n",
            " #   Column      Non-Null Count  Dtype  \n",
            "---  ------      --------------  -----  \n",
            " 0   h10_g3      16670 non-null  int64  \n",
            " 1   h10_g4      16670 non-null  int64  \n",
            " 2   h10_g10     16670 non-null  int64  \n",
            " 3   h10_g11     16670 non-null  int64  \n",
            " 4   h10_eco9    7530 non-null   float64\n",
            " 5   p1002_8aq1  4635 non-null   float64\n",
            " 6   h10_reg7    16670 non-null  int64  \n",
            "dtypes: float64(2), int64(5)\n",
            "memory usage: 911.8 KB\n"
          ]
        }
      ],
      "source": [
        "welfare.info()      # 변수 속성 출력"
      ]
    },
    {
      "cell_type": "code",
      "execution_count": null,
      "metadata": {
        "eval": false,
        "id": "d382ce64-310b-4910-84a9-41af3c710dad",
        "outputId": "4d9fed5f-379c-45a4-bef3-799bb7e35cf4",
        "colab": {
          "base_uri": "https://localhost:8080/",
          "height": 300
        }
      },
      "outputs": [
        {
          "output_type": "execute_result",
          "data": {
            "text/plain": [
              "             h10_g3        h10_g4       h10_g10       h10_g11     h10_eco9  \\\n",
              "count  16670.000000  16670.000000  16670.000000  16670.000000  7530.000000   \n",
              "mean       1.545711   1968.047391      1.648410      1.517516   592.493094   \n",
              "std        0.501283     66.738241      1.572843      0.503058   277.804427   \n",
              "min        1.000000   1907.000000      0.000000      1.000000   111.000000   \n",
              "25%        1.000000   1946.000000      1.000000      1.000000   314.000000   \n",
              "50%        2.000000   1966.000000      1.000000      2.000000   611.000000   \n",
              "75%        2.000000   1988.000000      2.000000      2.000000   863.000000   \n",
              "max        9.000000   9999.000000      9.000000      9.000000  9999.000000   \n",
              "\n",
              "        p1002_8aq1      h10_reg7  \n",
              "count  4635.000000  16670.000000  \n",
              "mean    243.724168      3.705099  \n",
              "std     233.549988      2.069236  \n",
              "min       0.000000      1.000000  \n",
              "25%     122.000000      2.000000  \n",
              "50%     192.500000      3.000000  \n",
              "75%     316.650000      6.000000  \n",
              "max    9999.000000      7.000000  "
            ],
            "text/html": [
              "\n",
              "  <div id=\"df-22ce2d35-3281-41c2-93fa-c83c79750a9e\" class=\"colab-df-container\">\n",
              "    <div>\n",
              "<style scoped>\n",
              "    .dataframe tbody tr th:only-of-type {\n",
              "        vertical-align: middle;\n",
              "    }\n",
              "\n",
              "    .dataframe tbody tr th {\n",
              "        vertical-align: top;\n",
              "    }\n",
              "\n",
              "    .dataframe thead th {\n",
              "        text-align: right;\n",
              "    }\n",
              "</style>\n",
              "<table border=\"1\" class=\"dataframe\">\n",
              "  <thead>\n",
              "    <tr style=\"text-align: right;\">\n",
              "      <th></th>\n",
              "      <th>h10_g3</th>\n",
              "      <th>h10_g4</th>\n",
              "      <th>h10_g10</th>\n",
              "      <th>h10_g11</th>\n",
              "      <th>h10_eco9</th>\n",
              "      <th>p1002_8aq1</th>\n",
              "      <th>h10_reg7</th>\n",
              "    </tr>\n",
              "  </thead>\n",
              "  <tbody>\n",
              "    <tr>\n",
              "      <th>count</th>\n",
              "      <td>16670.000000</td>\n",
              "      <td>16670.000000</td>\n",
              "      <td>16670.000000</td>\n",
              "      <td>16670.000000</td>\n",
              "      <td>7530.000000</td>\n",
              "      <td>4635.000000</td>\n",
              "      <td>16670.000000</td>\n",
              "    </tr>\n",
              "    <tr>\n",
              "      <th>mean</th>\n",
              "      <td>1.545711</td>\n",
              "      <td>1968.047391</td>\n",
              "      <td>1.648410</td>\n",
              "      <td>1.517516</td>\n",
              "      <td>592.493094</td>\n",
              "      <td>243.724168</td>\n",
              "      <td>3.705099</td>\n",
              "    </tr>\n",
              "    <tr>\n",
              "      <th>std</th>\n",
              "      <td>0.501283</td>\n",
              "      <td>66.738241</td>\n",
              "      <td>1.572843</td>\n",
              "      <td>0.503058</td>\n",
              "      <td>277.804427</td>\n",
              "      <td>233.549988</td>\n",
              "      <td>2.069236</td>\n",
              "    </tr>\n",
              "    <tr>\n",
              "      <th>min</th>\n",
              "      <td>1.000000</td>\n",
              "      <td>1907.000000</td>\n",
              "      <td>0.000000</td>\n",
              "      <td>1.000000</td>\n",
              "      <td>111.000000</td>\n",
              "      <td>0.000000</td>\n",
              "      <td>1.000000</td>\n",
              "    </tr>\n",
              "    <tr>\n",
              "      <th>25%</th>\n",
              "      <td>1.000000</td>\n",
              "      <td>1946.000000</td>\n",
              "      <td>1.000000</td>\n",
              "      <td>1.000000</td>\n",
              "      <td>314.000000</td>\n",
              "      <td>122.000000</td>\n",
              "      <td>2.000000</td>\n",
              "    </tr>\n",
              "    <tr>\n",
              "      <th>50%</th>\n",
              "      <td>2.000000</td>\n",
              "      <td>1966.000000</td>\n",
              "      <td>1.000000</td>\n",
              "      <td>2.000000</td>\n",
              "      <td>611.000000</td>\n",
              "      <td>192.500000</td>\n",
              "      <td>3.000000</td>\n",
              "    </tr>\n",
              "    <tr>\n",
              "      <th>75%</th>\n",
              "      <td>2.000000</td>\n",
              "      <td>1988.000000</td>\n",
              "      <td>2.000000</td>\n",
              "      <td>2.000000</td>\n",
              "      <td>863.000000</td>\n",
              "      <td>316.650000</td>\n",
              "      <td>6.000000</td>\n",
              "    </tr>\n",
              "    <tr>\n",
              "      <th>max</th>\n",
              "      <td>9.000000</td>\n",
              "      <td>9999.000000</td>\n",
              "      <td>9.000000</td>\n",
              "      <td>9.000000</td>\n",
              "      <td>9999.000000</td>\n",
              "      <td>9999.000000</td>\n",
              "      <td>7.000000</td>\n",
              "    </tr>\n",
              "  </tbody>\n",
              "</table>\n",
              "</div>\n",
              "    <div class=\"colab-df-buttons\">\n",
              "\n",
              "  <div class=\"colab-df-container\">\n",
              "    <button class=\"colab-df-convert\" onclick=\"convertToInteractive('df-22ce2d35-3281-41c2-93fa-c83c79750a9e')\"\n",
              "            title=\"Convert this dataframe to an interactive table.\"\n",
              "            style=\"display:none;\">\n",
              "\n",
              "  <svg xmlns=\"http://www.w3.org/2000/svg\" height=\"24px\" viewBox=\"0 -960 960 960\">\n",
              "    <path d=\"M120-120v-720h720v720H120Zm60-500h600v-160H180v160Zm220 220h160v-160H400v160Zm0 220h160v-160H400v160ZM180-400h160v-160H180v160Zm440 0h160v-160H620v160ZM180-180h160v-160H180v160Zm440 0h160v-160H620v160Z\"/>\n",
              "  </svg>\n",
              "    </button>\n",
              "\n",
              "  <style>\n",
              "    .colab-df-container {\n",
              "      display:flex;\n",
              "      gap: 12px;\n",
              "    }\n",
              "\n",
              "    .colab-df-convert {\n",
              "      background-color: #E8F0FE;\n",
              "      border: none;\n",
              "      border-radius: 50%;\n",
              "      cursor: pointer;\n",
              "      display: none;\n",
              "      fill: #1967D2;\n",
              "      height: 32px;\n",
              "      padding: 0 0 0 0;\n",
              "      width: 32px;\n",
              "    }\n",
              "\n",
              "    .colab-df-convert:hover {\n",
              "      background-color: #E2EBFA;\n",
              "      box-shadow: 0px 1px 2px rgba(60, 64, 67, 0.3), 0px 1px 3px 1px rgba(60, 64, 67, 0.15);\n",
              "      fill: #174EA6;\n",
              "    }\n",
              "\n",
              "    .colab-df-buttons div {\n",
              "      margin-bottom: 4px;\n",
              "    }\n",
              "\n",
              "    [theme=dark] .colab-df-convert {\n",
              "      background-color: #3B4455;\n",
              "      fill: #D2E3FC;\n",
              "    }\n",
              "\n",
              "    [theme=dark] .colab-df-convert:hover {\n",
              "      background-color: #434B5C;\n",
              "      box-shadow: 0px 1px 3px 1px rgba(0, 0, 0, 0.15);\n",
              "      filter: drop-shadow(0px 1px 2px rgba(0, 0, 0, 0.3));\n",
              "      fill: #FFFFFF;\n",
              "    }\n",
              "  </style>\n",
              "\n",
              "    <script>\n",
              "      const buttonEl =\n",
              "        document.querySelector('#df-22ce2d35-3281-41c2-93fa-c83c79750a9e button.colab-df-convert');\n",
              "      buttonEl.style.display =\n",
              "        google.colab.kernel.accessAllowed ? 'block' : 'none';\n",
              "\n",
              "      async function convertToInteractive(key) {\n",
              "        const element = document.querySelector('#df-22ce2d35-3281-41c2-93fa-c83c79750a9e');\n",
              "        const dataTable =\n",
              "          await google.colab.kernel.invokeFunction('convertToInteractive',\n",
              "                                                    [key], {});\n",
              "        if (!dataTable) return;\n",
              "\n",
              "        const docLinkHtml = 'Like what you see? Visit the ' +\n",
              "          '<a target=\"_blank\" href=https://colab.research.google.com/notebooks/data_table.ipynb>data table notebook</a>'\n",
              "          + ' to learn more about interactive tables.';\n",
              "        element.innerHTML = '';\n",
              "        dataTable['output_type'] = 'display_data';\n",
              "        await google.colab.output.renderOutput(dataTable, element);\n",
              "        const docLink = document.createElement('div');\n",
              "        docLink.innerHTML = docLinkHtml;\n",
              "        element.appendChild(docLink);\n",
              "      }\n",
              "    </script>\n",
              "  </div>\n",
              "\n",
              "\n",
              "<div id=\"df-586702e9-fe07-409e-a406-6cf482605999\">\n",
              "  <button class=\"colab-df-quickchart\" onclick=\"quickchart('df-586702e9-fe07-409e-a406-6cf482605999')\"\n",
              "            title=\"Suggest charts\"\n",
              "            style=\"display:none;\">\n",
              "\n",
              "<svg xmlns=\"http://www.w3.org/2000/svg\" height=\"24px\"viewBox=\"0 0 24 24\"\n",
              "     width=\"24px\">\n",
              "    <g>\n",
              "        <path d=\"M19 3H5c-1.1 0-2 .9-2 2v14c0 1.1.9 2 2 2h14c1.1 0 2-.9 2-2V5c0-1.1-.9-2-2-2zM9 17H7v-7h2v7zm4 0h-2V7h2v10zm4 0h-2v-4h2v4z\"/>\n",
              "    </g>\n",
              "</svg>\n",
              "  </button>\n",
              "\n",
              "<style>\n",
              "  .colab-df-quickchart {\n",
              "      --bg-color: #E8F0FE;\n",
              "      --fill-color: #1967D2;\n",
              "      --hover-bg-color: #E2EBFA;\n",
              "      --hover-fill-color: #174EA6;\n",
              "      --disabled-fill-color: #AAA;\n",
              "      --disabled-bg-color: #DDD;\n",
              "  }\n",
              "\n",
              "  [theme=dark] .colab-df-quickchart {\n",
              "      --bg-color: #3B4455;\n",
              "      --fill-color: #D2E3FC;\n",
              "      --hover-bg-color: #434B5C;\n",
              "      --hover-fill-color: #FFFFFF;\n",
              "      --disabled-bg-color: #3B4455;\n",
              "      --disabled-fill-color: #666;\n",
              "  }\n",
              "\n",
              "  .colab-df-quickchart {\n",
              "    background-color: var(--bg-color);\n",
              "    border: none;\n",
              "    border-radius: 50%;\n",
              "    cursor: pointer;\n",
              "    display: none;\n",
              "    fill: var(--fill-color);\n",
              "    height: 32px;\n",
              "    padding: 0;\n",
              "    width: 32px;\n",
              "  }\n",
              "\n",
              "  .colab-df-quickchart:hover {\n",
              "    background-color: var(--hover-bg-color);\n",
              "    box-shadow: 0 1px 2px rgba(60, 64, 67, 0.3), 0 1px 3px 1px rgba(60, 64, 67, 0.15);\n",
              "    fill: var(--button-hover-fill-color);\n",
              "  }\n",
              "\n",
              "  .colab-df-quickchart-complete:disabled,\n",
              "  .colab-df-quickchart-complete:disabled:hover {\n",
              "    background-color: var(--disabled-bg-color);\n",
              "    fill: var(--disabled-fill-color);\n",
              "    box-shadow: none;\n",
              "  }\n",
              "\n",
              "  .colab-df-spinner {\n",
              "    border: 2px solid var(--fill-color);\n",
              "    border-color: transparent;\n",
              "    border-bottom-color: var(--fill-color);\n",
              "    animation:\n",
              "      spin 1s steps(1) infinite;\n",
              "  }\n",
              "\n",
              "  @keyframes spin {\n",
              "    0% {\n",
              "      border-color: transparent;\n",
              "      border-bottom-color: var(--fill-color);\n",
              "      border-left-color: var(--fill-color);\n",
              "    }\n",
              "    20% {\n",
              "      border-color: transparent;\n",
              "      border-left-color: var(--fill-color);\n",
              "      border-top-color: var(--fill-color);\n",
              "    }\n",
              "    30% {\n",
              "      border-color: transparent;\n",
              "      border-left-color: var(--fill-color);\n",
              "      border-top-color: var(--fill-color);\n",
              "      border-right-color: var(--fill-color);\n",
              "    }\n",
              "    40% {\n",
              "      border-color: transparent;\n",
              "      border-right-color: var(--fill-color);\n",
              "      border-top-color: var(--fill-color);\n",
              "    }\n",
              "    60% {\n",
              "      border-color: transparent;\n",
              "      border-right-color: var(--fill-color);\n",
              "    }\n",
              "    80% {\n",
              "      border-color: transparent;\n",
              "      border-right-color: var(--fill-color);\n",
              "      border-bottom-color: var(--fill-color);\n",
              "    }\n",
              "    90% {\n",
              "      border-color: transparent;\n",
              "      border-bottom-color: var(--fill-color);\n",
              "    }\n",
              "  }\n",
              "</style>\n",
              "\n",
              "  <script>\n",
              "    async function quickchart(key) {\n",
              "      const quickchartButtonEl =\n",
              "        document.querySelector('#' + key + ' button');\n",
              "      quickchartButtonEl.disabled = true;  // To prevent multiple clicks.\n",
              "      quickchartButtonEl.classList.add('colab-df-spinner');\n",
              "      try {\n",
              "        const charts = await google.colab.kernel.invokeFunction(\n",
              "            'suggestCharts', [key], {});\n",
              "      } catch (error) {\n",
              "        console.error('Error during call to suggestCharts:', error);\n",
              "      }\n",
              "      quickchartButtonEl.classList.remove('colab-df-spinner');\n",
              "      quickchartButtonEl.classList.add('colab-df-quickchart-complete');\n",
              "    }\n",
              "    (() => {\n",
              "      let quickchartButtonEl =\n",
              "        document.querySelector('#df-586702e9-fe07-409e-a406-6cf482605999 button');\n",
              "      quickchartButtonEl.style.display =\n",
              "        google.colab.kernel.accessAllowed ? 'block' : 'none';\n",
              "    })();\n",
              "  </script>\n",
              "</div>\n",
              "\n",
              "    </div>\n",
              "  </div>\n"
            ],
            "application/vnd.google.colaboratory.intrinsic+json": {
              "type": "dataframe",
              "summary": "{\n  \"name\": \"welfare\",\n  \"rows\": 8,\n  \"fields\": [\n    {\n      \"column\": \"h10_g3\",\n      \"properties\": {\n        \"dtype\": \"number\",\n        \"std\": 5892.874649796094,\n        \"min\": 0.5012832729019862,\n        \"max\": 16670.0,\n        \"num_unique_values\": 6,\n        \"samples\": [\n          16670.0,\n          1.5457108578284342,\n          9.0\n        ],\n        \"semantic_type\": \"\",\n        \"description\": \"\"\n      }\n    },\n    {\n      \"column\": \"h10_g4\",\n      \"properties\": {\n        \"dtype\": \"number\",\n        \"std\": 5736.571239409469,\n        \"min\": 66.7382411717031,\n        \"max\": 16670.0,\n        \"num_unique_values\": 8,\n        \"samples\": [\n          1968.0473905218955,\n          1966.0,\n          16670.0\n        ],\n        \"semantic_type\": \"\",\n        \"description\": \"\"\n      }\n    },\n    {\n      \"column\": \"h10_g10\",\n      \"properties\": {\n        \"dtype\": \"number\",\n        \"std\": 5892.916386024116,\n        \"min\": 0.0,\n        \"max\": 16670.0,\n        \"num_unique_values\": 7,\n        \"samples\": [\n          16670.0,\n          1.6484103179364127,\n          2.0\n        ],\n        \"semantic_type\": \"\",\n        \"description\": \"\"\n      }\n    },\n    {\n      \"column\": \"h10_g11\",\n      \"properties\": {\n        \"dtype\": \"number\",\n        \"std\": 5892.875984705669,\n        \"min\": 0.5030583281314346,\n        \"max\": 16670.0,\n        \"num_unique_values\": 6,\n        \"samples\": [\n          16670.0,\n          1.5175164967006598,\n          9.0\n        ],\n        \"semantic_type\": \"\",\n        \"description\": \"\"\n      }\n    },\n    {\n      \"column\": \"h10_eco9\",\n      \"properties\": {\n        \"dtype\": \"number\",\n        \"std\": 3906.688789475211,\n        \"min\": 111.0,\n        \"max\": 9999.0,\n        \"num_unique_values\": 8,\n        \"samples\": [\n          592.4930942895086,\n          611.0,\n          7530.0\n        ],\n        \"semantic_type\": \"\",\n        \"description\": \"\"\n      }\n    },\n    {\n      \"column\": \"p1002_8aq1\",\n      \"properties\": {\n        \"dtype\": \"number\",\n        \"std\": 3600.6227784718867,\n        \"min\": 0.0,\n        \"max\": 9999.0,\n        \"num_unique_values\": 8,\n        \"samples\": [\n          243.72416828478964,\n          192.5,\n          4635.0\n        ],\n        \"semantic_type\": \"\",\n        \"description\": \"\"\n      }\n    },\n    {\n      \"column\": \"h10_reg7\",\n      \"properties\": {\n        \"dtype\": \"number\",\n        \"std\": 5892.484083845242,\n        \"min\": 1.0,\n        \"max\": 16670.0,\n        \"num_unique_values\": 8,\n        \"samples\": [\n          3.7050989802039593,\n          3.0,\n          16670.0\n        ],\n        \"semantic_type\": \"\",\n        \"description\": \"\"\n      }\n    }\n  ]\n}"
            }
          },
          "metadata": {},
          "execution_count": 183
        }
      ],
      "source": [
        "welfare.describe()  # 요약 통계량"
      ]
    },
    {
      "cell_type": "code",
      "execution_count": null,
      "metadata": {
        "id": "1b17969d"
      },
      "outputs": [],
      "source": [
        "welfare = welfare.rename(columns={'h10_g3':'sex', #  성별\n",
        "                                  'h10_g4':'birth_year', #  태어난 연도\n",
        "                                  'h10_g10':'marital_status', #  혼인 상태\n",
        "                                  'h10_g11':'religion', #  종교\n",
        "                                  'h10_eco9':'job_code', #  월급\n",
        "                                  'p1002_8aq1':'income', #  직업 코드\n",
        "                                  'h10_reg7':'region_code'}) #  지역 코드"
      ]
    },
    {
      "cell_type": "code",
      "source": [
        "welfare.head()"
      ],
      "metadata": {
        "colab": {
          "base_uri": "https://localhost:8080/",
          "height": 206
        },
        "id": "BbRUhcGUyRUd",
        "outputId": "52e99b9d-3e0e-4d59-cde1-4a2e0a67db80"
      },
      "execution_count": null,
      "outputs": [
        {
          "output_type": "execute_result",
          "data": {
            "text/plain": [
              "   sex  birth_year  marital_status  religion  job_code  income  region_code\n",
              "0    2        1936               2         2       NaN     NaN            1\n",
              "1    2        1945               2         2       NaN     NaN            1\n",
              "2    1        1948               2         2     942.0   120.0            1\n",
              "3    1        1942               3         1     762.0   200.0            1\n",
              "4    2        1923               2         1       NaN     NaN            1"
            ],
            "text/html": [
              "\n",
              "  <div id=\"df-21f7d5c9-7221-4704-b1ce-60e8e0f7535e\" class=\"colab-df-container\">\n",
              "    <div>\n",
              "<style scoped>\n",
              "    .dataframe tbody tr th:only-of-type {\n",
              "        vertical-align: middle;\n",
              "    }\n",
              "\n",
              "    .dataframe tbody tr th {\n",
              "        vertical-align: top;\n",
              "    }\n",
              "\n",
              "    .dataframe thead th {\n",
              "        text-align: right;\n",
              "    }\n",
              "</style>\n",
              "<table border=\"1\" class=\"dataframe\">\n",
              "  <thead>\n",
              "    <tr style=\"text-align: right;\">\n",
              "      <th></th>\n",
              "      <th>sex</th>\n",
              "      <th>birth_year</th>\n",
              "      <th>marital_status</th>\n",
              "      <th>religion</th>\n",
              "      <th>job_code</th>\n",
              "      <th>income</th>\n",
              "      <th>region_code</th>\n",
              "    </tr>\n",
              "  </thead>\n",
              "  <tbody>\n",
              "    <tr>\n",
              "      <th>0</th>\n",
              "      <td>2</td>\n",
              "      <td>1936</td>\n",
              "      <td>2</td>\n",
              "      <td>2</td>\n",
              "      <td>NaN</td>\n",
              "      <td>NaN</td>\n",
              "      <td>1</td>\n",
              "    </tr>\n",
              "    <tr>\n",
              "      <th>1</th>\n",
              "      <td>2</td>\n",
              "      <td>1945</td>\n",
              "      <td>2</td>\n",
              "      <td>2</td>\n",
              "      <td>NaN</td>\n",
              "      <td>NaN</td>\n",
              "      <td>1</td>\n",
              "    </tr>\n",
              "    <tr>\n",
              "      <th>2</th>\n",
              "      <td>1</td>\n",
              "      <td>1948</td>\n",
              "      <td>2</td>\n",
              "      <td>2</td>\n",
              "      <td>942.0</td>\n",
              "      <td>120.0</td>\n",
              "      <td>1</td>\n",
              "    </tr>\n",
              "    <tr>\n",
              "      <th>3</th>\n",
              "      <td>1</td>\n",
              "      <td>1942</td>\n",
              "      <td>3</td>\n",
              "      <td>1</td>\n",
              "      <td>762.0</td>\n",
              "      <td>200.0</td>\n",
              "      <td>1</td>\n",
              "    </tr>\n",
              "    <tr>\n",
              "      <th>4</th>\n",
              "      <td>2</td>\n",
              "      <td>1923</td>\n",
              "      <td>2</td>\n",
              "      <td>1</td>\n",
              "      <td>NaN</td>\n",
              "      <td>NaN</td>\n",
              "      <td>1</td>\n",
              "    </tr>\n",
              "  </tbody>\n",
              "</table>\n",
              "</div>\n",
              "    <div class=\"colab-df-buttons\">\n",
              "\n",
              "  <div class=\"colab-df-container\">\n",
              "    <button class=\"colab-df-convert\" onclick=\"convertToInteractive('df-21f7d5c9-7221-4704-b1ce-60e8e0f7535e')\"\n",
              "            title=\"Convert this dataframe to an interactive table.\"\n",
              "            style=\"display:none;\">\n",
              "\n",
              "  <svg xmlns=\"http://www.w3.org/2000/svg\" height=\"24px\" viewBox=\"0 -960 960 960\">\n",
              "    <path d=\"M120-120v-720h720v720H120Zm60-500h600v-160H180v160Zm220 220h160v-160H400v160Zm0 220h160v-160H400v160ZM180-400h160v-160H180v160Zm440 0h160v-160H620v160ZM180-180h160v-160H180v160Zm440 0h160v-160H620v160Z\"/>\n",
              "  </svg>\n",
              "    </button>\n",
              "\n",
              "  <style>\n",
              "    .colab-df-container {\n",
              "      display:flex;\n",
              "      gap: 12px;\n",
              "    }\n",
              "\n",
              "    .colab-df-convert {\n",
              "      background-color: #E8F0FE;\n",
              "      border: none;\n",
              "      border-radius: 50%;\n",
              "      cursor: pointer;\n",
              "      display: none;\n",
              "      fill: #1967D2;\n",
              "      height: 32px;\n",
              "      padding: 0 0 0 0;\n",
              "      width: 32px;\n",
              "    }\n",
              "\n",
              "    .colab-df-convert:hover {\n",
              "      background-color: #E2EBFA;\n",
              "      box-shadow: 0px 1px 2px rgba(60, 64, 67, 0.3), 0px 1px 3px 1px rgba(60, 64, 67, 0.15);\n",
              "      fill: #174EA6;\n",
              "    }\n",
              "\n",
              "    .colab-df-buttons div {\n",
              "      margin-bottom: 4px;\n",
              "    }\n",
              "\n",
              "    [theme=dark] .colab-df-convert {\n",
              "      background-color: #3B4455;\n",
              "      fill: #D2E3FC;\n",
              "    }\n",
              "\n",
              "    [theme=dark] .colab-df-convert:hover {\n",
              "      background-color: #434B5C;\n",
              "      box-shadow: 0px 1px 3px 1px rgba(0, 0, 0, 0.15);\n",
              "      filter: drop-shadow(0px 1px 2px rgba(0, 0, 0, 0.3));\n",
              "      fill: #FFFFFF;\n",
              "    }\n",
              "  </style>\n",
              "\n",
              "    <script>\n",
              "      const buttonEl =\n",
              "        document.querySelector('#df-21f7d5c9-7221-4704-b1ce-60e8e0f7535e button.colab-df-convert');\n",
              "      buttonEl.style.display =\n",
              "        google.colab.kernel.accessAllowed ? 'block' : 'none';\n",
              "\n",
              "      async function convertToInteractive(key) {\n",
              "        const element = document.querySelector('#df-21f7d5c9-7221-4704-b1ce-60e8e0f7535e');\n",
              "        const dataTable =\n",
              "          await google.colab.kernel.invokeFunction('convertToInteractive',\n",
              "                                                    [key], {});\n",
              "        if (!dataTable) return;\n",
              "\n",
              "        const docLinkHtml = 'Like what you see? Visit the ' +\n",
              "          '<a target=\"_blank\" href=https://colab.research.google.com/notebooks/data_table.ipynb>data table notebook</a>'\n",
              "          + ' to learn more about interactive tables.';\n",
              "        element.innerHTML = '';\n",
              "        dataTable['output_type'] = 'display_data';\n",
              "        await google.colab.output.renderOutput(dataTable, element);\n",
              "        const docLink = document.createElement('div');\n",
              "        docLink.innerHTML = docLinkHtml;\n",
              "        element.appendChild(docLink);\n",
              "      }\n",
              "    </script>\n",
              "  </div>\n",
              "\n",
              "\n",
              "<div id=\"df-07c5b6a7-40b4-4745-b254-0252d3edebb4\">\n",
              "  <button class=\"colab-df-quickchart\" onclick=\"quickchart('df-07c5b6a7-40b4-4745-b254-0252d3edebb4')\"\n",
              "            title=\"Suggest charts\"\n",
              "            style=\"display:none;\">\n",
              "\n",
              "<svg xmlns=\"http://www.w3.org/2000/svg\" height=\"24px\"viewBox=\"0 0 24 24\"\n",
              "     width=\"24px\">\n",
              "    <g>\n",
              "        <path d=\"M19 3H5c-1.1 0-2 .9-2 2v14c0 1.1.9 2 2 2h14c1.1 0 2-.9 2-2V5c0-1.1-.9-2-2-2zM9 17H7v-7h2v7zm4 0h-2V7h2v10zm4 0h-2v-4h2v4z\"/>\n",
              "    </g>\n",
              "</svg>\n",
              "  </button>\n",
              "\n",
              "<style>\n",
              "  .colab-df-quickchart {\n",
              "      --bg-color: #E8F0FE;\n",
              "      --fill-color: #1967D2;\n",
              "      --hover-bg-color: #E2EBFA;\n",
              "      --hover-fill-color: #174EA6;\n",
              "      --disabled-fill-color: #AAA;\n",
              "      --disabled-bg-color: #DDD;\n",
              "  }\n",
              "\n",
              "  [theme=dark] .colab-df-quickchart {\n",
              "      --bg-color: #3B4455;\n",
              "      --fill-color: #D2E3FC;\n",
              "      --hover-bg-color: #434B5C;\n",
              "      --hover-fill-color: #FFFFFF;\n",
              "      --disabled-bg-color: #3B4455;\n",
              "      --disabled-fill-color: #666;\n",
              "  }\n",
              "\n",
              "  .colab-df-quickchart {\n",
              "    background-color: var(--bg-color);\n",
              "    border: none;\n",
              "    border-radius: 50%;\n",
              "    cursor: pointer;\n",
              "    display: none;\n",
              "    fill: var(--fill-color);\n",
              "    height: 32px;\n",
              "    padding: 0;\n",
              "    width: 32px;\n",
              "  }\n",
              "\n",
              "  .colab-df-quickchart:hover {\n",
              "    background-color: var(--hover-bg-color);\n",
              "    box-shadow: 0 1px 2px rgba(60, 64, 67, 0.3), 0 1px 3px 1px rgba(60, 64, 67, 0.15);\n",
              "    fill: var(--button-hover-fill-color);\n",
              "  }\n",
              "\n",
              "  .colab-df-quickchart-complete:disabled,\n",
              "  .colab-df-quickchart-complete:disabled:hover {\n",
              "    background-color: var(--disabled-bg-color);\n",
              "    fill: var(--disabled-fill-color);\n",
              "    box-shadow: none;\n",
              "  }\n",
              "\n",
              "  .colab-df-spinner {\n",
              "    border: 2px solid var(--fill-color);\n",
              "    border-color: transparent;\n",
              "    border-bottom-color: var(--fill-color);\n",
              "    animation:\n",
              "      spin 1s steps(1) infinite;\n",
              "  }\n",
              "\n",
              "  @keyframes spin {\n",
              "    0% {\n",
              "      border-color: transparent;\n",
              "      border-bottom-color: var(--fill-color);\n",
              "      border-left-color: var(--fill-color);\n",
              "    }\n",
              "    20% {\n",
              "      border-color: transparent;\n",
              "      border-left-color: var(--fill-color);\n",
              "      border-top-color: var(--fill-color);\n",
              "    }\n",
              "    30% {\n",
              "      border-color: transparent;\n",
              "      border-left-color: var(--fill-color);\n",
              "      border-top-color: var(--fill-color);\n",
              "      border-right-color: var(--fill-color);\n",
              "    }\n",
              "    40% {\n",
              "      border-color: transparent;\n",
              "      border-right-color: var(--fill-color);\n",
              "      border-top-color: var(--fill-color);\n",
              "    }\n",
              "    60% {\n",
              "      border-color: transparent;\n",
              "      border-right-color: var(--fill-color);\n",
              "    }\n",
              "    80% {\n",
              "      border-color: transparent;\n",
              "      border-right-color: var(--fill-color);\n",
              "      border-bottom-color: var(--fill-color);\n",
              "    }\n",
              "    90% {\n",
              "      border-color: transparent;\n",
              "      border-bottom-color: var(--fill-color);\n",
              "    }\n",
              "  }\n",
              "</style>\n",
              "\n",
              "  <script>\n",
              "    async function quickchart(key) {\n",
              "      const quickchartButtonEl =\n",
              "        document.querySelector('#' + key + ' button');\n",
              "      quickchartButtonEl.disabled = true;  // To prevent multiple clicks.\n",
              "      quickchartButtonEl.classList.add('colab-df-spinner');\n",
              "      try {\n",
              "        const charts = await google.colab.kernel.invokeFunction(\n",
              "            'suggestCharts', [key], {});\n",
              "      } catch (error) {\n",
              "        console.error('Error during call to suggestCharts:', error);\n",
              "      }\n",
              "      quickchartButtonEl.classList.remove('colab-df-spinner');\n",
              "      quickchartButtonEl.classList.add('colab-df-quickchart-complete');\n",
              "    }\n",
              "    (() => {\n",
              "      let quickchartButtonEl =\n",
              "        document.querySelector('#df-07c5b6a7-40b4-4745-b254-0252d3edebb4 button');\n",
              "      quickchartButtonEl.style.display =\n",
              "        google.colab.kernel.accessAllowed ? 'block' : 'none';\n",
              "    })();\n",
              "  </script>\n",
              "</div>\n",
              "\n",
              "    </div>\n",
              "  </div>\n"
            ],
            "application/vnd.google.colaboratory.intrinsic+json": {
              "type": "dataframe",
              "variable_name": "welfare",
              "summary": "{\n  \"name\": \"welfare\",\n  \"rows\": 16670,\n  \"fields\": [\n    {\n      \"column\": \"sex\",\n      \"properties\": {\n        \"dtype\": \"number\",\n        \"std\": 0,\n        \"min\": 1,\n        \"max\": 9,\n        \"num_unique_values\": 3,\n        \"samples\": [\n          2,\n          1,\n          9\n        ],\n        \"semantic_type\": \"\",\n        \"description\": \"\"\n      }\n    },\n    {\n      \"column\": \"birth_year\",\n      \"properties\": {\n        \"dtype\": \"number\",\n        \"std\": 66,\n        \"min\": 1907,\n        \"max\": 9999,\n        \"num_unique_values\": 103,\n        \"samples\": [\n          1939,\n          1988,\n          1981\n        ],\n        \"semantic_type\": \"\",\n        \"description\": \"\"\n      }\n    },\n    {\n      \"column\": \"marital_status\",\n      \"properties\": {\n        \"dtype\": \"number\",\n        \"std\": 1,\n        \"min\": 0,\n        \"max\": 9,\n        \"num_unique_values\": 8,\n        \"samples\": [\n          3,\n          4,\n          2\n        ],\n        \"semantic_type\": \"\",\n        \"description\": \"\"\n      }\n    },\n    {\n      \"column\": \"religion\",\n      \"properties\": {\n        \"dtype\": \"number\",\n        \"std\": 0,\n        \"min\": 1,\n        \"max\": 9,\n        \"num_unique_values\": 3,\n        \"samples\": [\n          2,\n          1,\n          9\n        ],\n        \"semantic_type\": \"\",\n        \"description\": \"\"\n      }\n    },\n    {\n      \"column\": \"job_code\",\n      \"properties\": {\n        \"dtype\": \"number\",\n        \"std\": 277.80442675969294,\n        \"min\": 111.0,\n        \"max\": 9999.0,\n        \"num_unique_values\": 146,\n        \"samples\": [\n          243.0,\n          855.0,\n          399.0\n        ],\n        \"semantic_type\": \"\",\n        \"description\": \"\"\n      }\n    },\n    {\n      \"column\": \"income\",\n      \"properties\": {\n        \"dtype\": \"number\",\n        \"std\": 233.54998802862727,\n        \"min\": 0.0,\n        \"max\": 9999.0,\n        \"num_unique_values\": 1768,\n        \"samples\": [\n          380.4,\n          156.9,\n          471.3\n        ],\n        \"semantic_type\": \"\",\n        \"description\": \"\"\n      }\n    },\n    {\n      \"column\": \"region_code\",\n      \"properties\": {\n        \"dtype\": \"number\",\n        \"std\": 2,\n        \"min\": 1,\n        \"max\": 7,\n        \"num_unique_values\": 7,\n        \"samples\": [\n          1,\n          7,\n          3\n        ],\n        \"semantic_type\": \"\",\n        \"description\": \"\"\n      }\n    }\n  ]\n}"
            }
          },
          "metadata": {},
          "execution_count": 185
        }
      ]
    },
    {
      "cell_type": "markdown",
      "metadata": {
        "id": "4973e90e-181a-496c-a1ce-c42419ae51a3"
      },
      "source": [
        "## 1 성별에 따른 월급 차이 - '성별에 따라 월급이 다를까?'"
      ]
    },
    {
      "cell_type": "markdown",
      "metadata": {
        "id": "ef8df942-a714-4fc5-814d-561ab884c3b1"
      },
      "source": [
        "### 성별 변수 검토 및 전처리하기"
      ]
    },
    {
      "cell_type": "markdown",
      "metadata": {
        "id": "788bf87c-cebf-43cc-90de-a118bb7a7f19"
      },
      "source": [
        "#### 1. 변수 검토하기"
      ]
    },
    {
      "cell_type": "code",
      "execution_count": null,
      "metadata": {
        "id": "3a8f8601",
        "outputId": "6758ebd3-b63f-44a1-ed17-da3e25f2d443",
        "colab": {
          "base_uri": "https://localhost:8080/"
        }
      },
      "outputs": [
        {
          "output_type": "execute_result",
          "data": {
            "text/plain": [
              "dtype('int64')"
            ]
          },
          "metadata": {},
          "execution_count": 186
        }
      ],
      "source": [
        "welfare['sex'].dtypes  # 변수 타입 출력"
      ]
    },
    {
      "cell_type": "code",
      "execution_count": null,
      "metadata": {
        "id": "2ea9a91f",
        "outputId": "63a08b13-1ec3-4388-ebeb-2cad63d33421",
        "colab": {
          "base_uri": "https://localhost:8080/"
        }
      },
      "outputs": [
        {
          "output_type": "execute_result",
          "data": {
            "text/plain": [
              "sex\n",
              "2    9089\n",
              "1    7580\n",
              "9       1\n",
              "Name: count, dtype: int64"
            ]
          },
          "metadata": {},
          "execution_count": 187
        }
      ],
      "source": [
        "welfare['sex'].value_counts()  # 빈도 구하기"
      ]
    },
    {
      "cell_type": "markdown",
      "metadata": {
        "id": "be0316e4"
      },
      "source": [
        "#### 2. 전처리"
      ]
    },
    {
      "cell_type": "code",
      "execution_count": null,
      "metadata": {
        "id": "2fe3c910",
        "outputId": "11ccb4a9-0cf8-410c-a27d-3b1165313c29",
        "colab": {
          "base_uri": "https://localhost:8080/"
        }
      },
      "outputs": [
        {
          "output_type": "execute_result",
          "data": {
            "text/plain": [
              "sex\n",
              "2    9089\n",
              "1    7580\n",
              "9       1\n",
              "Name: count, dtype: int64"
            ]
          },
          "metadata": {},
          "execution_count": 188
        }
      ],
      "source": [
        "# 이상치 확인\n",
        "welfare['sex'].value_counts(dropna = False)\n",
        "# 9 => 코드북 상으로 모름/무응답(미상)"
      ]
    },
    {
      "cell_type": "code",
      "execution_count": null,
      "metadata": {
        "id": "3412385c"
      },
      "outputs": [],
      "source": [
        "# 이상치 결측 처리\n",
        "welfare['sex'] = np.where(welfare['sex'] == 9, np.nan, welfare['sex'])"
      ]
    },
    {
      "cell_type": "code",
      "source": [
        "# 이상치, 결측치 확인\n",
        "welfare['sex'].value_counts(dropna = False)"
      ],
      "metadata": {
        "colab": {
          "base_uri": "https://localhost:8080/"
        },
        "id": "iAa9wne5452T",
        "outputId": "af81f064-8003-43cd-9e38-637643ec95b8"
      },
      "execution_count": null,
      "outputs": [
        {
          "output_type": "execute_result",
          "data": {
            "text/plain": [
              "sex\n",
              "2.0    9089\n",
              "1.0    7580\n",
              "NaN       1\n",
              "Name: count, dtype: int64"
            ]
          },
          "metadata": {},
          "execution_count": 190
        }
      ]
    },
    {
      "cell_type": "code",
      "source": [
        "# 결측치 확인\n",
        "welfare['sex'].isnull().sum()"
      ],
      "metadata": {
        "colab": {
          "base_uri": "https://localhost:8080/"
        },
        "id": "X1kr5B4x4-cp",
        "outputId": "53ccd33d-ba5c-4afd-f6ff-69e7abdc4b5f"
      },
      "execution_count": null,
      "outputs": [
        {
          "output_type": "execute_result",
          "data": {
            "text/plain": [
              "1"
            ]
          },
          "metadata": {},
          "execution_count": 191
        }
      ]
    },
    {
      "cell_type": "code",
      "source": [
        "# 성별 항목 이름 부여\n",
        "welfare['sex'] = np.where(welfare['sex'] == 1, 'male',\n",
        "                          np.where(welfare['sex'] == 2, 'female', np.nan))"
      ],
      "metadata": {
        "id": "YnOQ8s81MrOH"
      },
      "execution_count": null,
      "outputs": []
    },
    {
      "cell_type": "code",
      "source": [
        "# 빈도 구하기\n",
        "welfare['sex'].value_counts(dropna = False)"
      ],
      "metadata": {
        "colab": {
          "base_uri": "https://localhost:8080/"
        },
        "id": "A7m2Qd5j5F2A",
        "outputId": "8f9c6d72-fc1a-4913-c09d-dd8d80be3ff8"
      },
      "execution_count": null,
      "outputs": [
        {
          "output_type": "execute_result",
          "data": {
            "text/plain": [
              "sex\n",
              "female    9089\n",
              "male      7580\n",
              "nan          1\n",
              "Name: count, dtype: int64"
            ]
          },
          "metadata": {},
          "execution_count": 193
        }
      ]
    },
    {
      "cell_type": "code",
      "source": [
        "#  nan 문자열을 NaN 으로 변환\n",
        "welfare['sex'] = np.where(welfare['sex'] == 'nan', np.nan, welfare['sex'])"
      ],
      "metadata": {
        "id": "Gy7bEDlC7YwE"
      },
      "execution_count": null,
      "outputs": []
    },
    {
      "cell_type": "code",
      "source": [
        "# 빈도 구하기\n",
        "welfare['sex'].value_counts(dropna = False)"
      ],
      "metadata": {
        "colab": {
          "base_uri": "https://localhost:8080/"
        },
        "id": "Exmy4THL7qXz",
        "outputId": "46feea93-5b5e-444c-b761-10c434ced81b"
      },
      "execution_count": null,
      "outputs": [
        {
          "output_type": "execute_result",
          "data": {
            "text/plain": [
              "sex\n",
              "female    9089\n",
              "male      7580\n",
              "NaN          1\n",
              "Name: count, dtype: int64"
            ]
          },
          "metadata": {},
          "execution_count": 195
        }
      ]
    },
    {
      "cell_type": "code",
      "execution_count": null,
      "metadata": {
        "eval": false,
        "id": "3c897b65",
        "outputId": "f3447e43-9c3f-482f-d289-a1c985377e8f",
        "colab": {
          "base_uri": "https://localhost:8080/",
          "height": 447
        }
      },
      "outputs": [
        {
          "output_type": "display_data",
          "data": {
            "text/plain": [
              "<Figure size 640x480 with 1 Axes>"
            ],
            "image/png": "[encoded data removed]"
          },
          "metadata": {}
        }
      ],
      "source": [
        "# 빈도 막대 그래프 만들기\n",
        "sns.countplot(x = 'sex', data = welfare)\n",
        "plt.show()"
      ]
    },
    {
      "cell_type": "markdown",
      "metadata": {
        "id": "0c1c30c6"
      },
      "source": [
        "### 월급 변수 검토 및 전처리하기"
      ]
    },
    {
      "cell_type": "markdown",
      "source": [
        "#### 1. 변수 검토하기"
      ],
      "metadata": {
        "id": "vyVEsUdG4pgX"
      }
    },
    {
      "cell_type": "code",
      "execution_count": null,
      "metadata": {
        "id": "4d16dd00",
        "outputId": "ffe9c33a-2530-4ada-a8d9-a417d3c9d599",
        "colab": {
          "base_uri": "https://localhost:8080/"
        }
      },
      "outputs": [
        {
          "output_type": "execute_result",
          "data": {
            "text/plain": [
              "dtype('float64')"
            ]
          },
          "metadata": {},
          "execution_count": 197
        }
      ],
      "source": [
        "welfare['income'].dtypes  # 변수 타입 출력"
      ]
    },
    {
      "cell_type": "code",
      "execution_count": null,
      "metadata": {
        "id": "567a20e5",
        "outputId": "0aa7122b-a941-41b7-cb7b-f9282743063d",
        "colab": {
          "base_uri": "https://localhost:8080/"
        }
      },
      "outputs": [
        {
          "output_type": "execute_result",
          "data": {
            "text/plain": [
              "count    4635.000000\n",
              "mean      243.724168\n",
              "std       233.549988\n",
              "min         0.000000\n",
              "25%       122.000000\n",
              "50%       192.500000\n",
              "75%       316.650000\n",
              "max      9999.000000\n",
              "Name: income, dtype: float64"
            ]
          },
          "metadata": {},
          "execution_count": 198
        }
      ],
      "source": [
        "welfare['income'].describe()  # 요약 통계량 구하기"
      ]
    },
    {
      "cell_type": "markdown",
      "metadata": {
        "id": "30141494"
      },
      "source": [
        "#### 2. 전처리\n"
      ]
    },
    {
      "cell_type": "code",
      "execution_count": null,
      "metadata": {
        "id": "929159da",
        "outputId": "eb9ef3e7-ae80-4ee0-ab84-c9b3bade3b0c",
        "colab": {
          "base_uri": "https://localhost:8080/"
        }
      },
      "outputs": [
        {
          "output_type": "execute_result",
          "data": {
            "text/plain": [
              "count    4635.000000\n",
              "mean      243.724168\n",
              "std       233.549988\n",
              "min         0.000000\n",
              "25%       122.000000\n",
              "50%       192.500000\n",
              "75%       316.650000\n",
              "max      9999.000000\n",
              "Name: income, dtype: float64"
            ]
          },
          "metadata": {},
          "execution_count": 199
        }
      ],
      "source": [
        "welfare['income'].describe()  # 이상치 확인\n",
        "# 월급이 0 => 소득이 없음\n",
        "# 월급이 9999 => 코드북 상으로 모름/무응답(미상)"
      ]
    },
    {
      "cell_type": "code",
      "execution_count": null,
      "metadata": {
        "id": "3f2999f0",
        "outputId": "c553213d-51ff-4f85-f846-61e639104466",
        "colab": {
          "base_uri": "https://localhost:8080/"
        }
      },
      "outputs": [
        {
          "output_type": "execute_result",
          "data": {
            "text/plain": [
              "12035"
            ]
          },
          "metadata": {},
          "execution_count": 200
        }
      ],
      "source": [
        "welfare['income'].isnull().sum()  # 결측치 확인"
      ]
    },
    {
      "cell_type": "code",
      "source": [
        "# 빈도 구하기\n",
        "welfare['income'].value_counts(dropna = False)"
      ],
      "metadata": {
        "colab": {
          "base_uri": "https://localhost:8080/"
        },
        "id": "71ZG8A7vCuZj",
        "outputId": "2d195ddc-9bb7-4fb0-daaa-8e6b217f0099"
      },
      "execution_count": null,
      "outputs": [
        {
          "output_type": "execute_result",
          "data": {
            "text/plain": [
              "income\n",
              "NaN        12035\n",
              "20.00        136\n",
              "150.00       128\n",
              "200.00        91\n",
              "250.00        74\n",
              "           ...  \n",
              "392.70         1\n",
              "515.00         1\n",
              "397.18         1\n",
              "304.16         1\n",
              "9999.00        1\n",
              "Name: count, Length: 1769, dtype: int64"
            ]
          },
          "metadata": {},
          "execution_count": 201
        }
      ]
    },
    {
      "cell_type": "code",
      "execution_count": null,
      "metadata": {
        "eval": false,
        "id": "d5edafa9"
      },
      "outputs": [],
      "source": [
        "# 이상치 결측 처리 - 9999\n",
        "welfare['income'] = np.where(welfare['income'] == 9999, np.nan, welfare['income'])"
      ]
    },
    {
      "cell_type": "code",
      "source": [
        "# 결측치 확인\n",
        "welfare['income'].isnull().sum()"
      ],
      "metadata": {
        "colab": {
          "base_uri": "https://localhost:8080/"
        },
        "id": "z6miAKLk8YZt",
        "outputId": "9d621970-967d-49cf-8818-d25872784294"
      },
      "execution_count": null,
      "outputs": [
        {
          "output_type": "execute_result",
          "data": {
            "text/plain": [
              "12036"
            ]
          },
          "metadata": {},
          "execution_count": 203
        }
      ]
    },
    {
      "cell_type": "code",
      "source": [
        "# 빈도 구하기\n",
        "welfare['income'].value_counts(dropna = False)"
      ],
      "metadata": {
        "colab": {
          "base_uri": "https://localhost:8080/"
        },
        "id": "yYIS9EGbC2ve",
        "outputId": "86970953-d43d-4f7d-fd9c-a1cae1e862d2"
      },
      "execution_count": null,
      "outputs": [
        {
          "output_type": "execute_result",
          "data": {
            "text/plain": [
              "income\n",
              "NaN       12036\n",
              "20.00       136\n",
              "150.00      128\n",
              "200.00       91\n",
              "250.00       74\n",
              "          ...  \n",
              "515.00        1\n",
              "397.18        1\n",
              "304.16        1\n",
              "487.50        1\n",
              "187.66        1\n",
              "Name: count, Length: 1768, dtype: int64"
            ]
          },
          "metadata": {},
          "execution_count": 204
        }
      ]
    },
    {
      "cell_type": "code",
      "source": [
        "welfare['income'].describe()  # 이상치 확인"
      ],
      "metadata": {
        "colab": {
          "base_uri": "https://localhost:8080/"
        },
        "id": "yG1aFY4e8dtS",
        "outputId": "13e3bd04-680b-40e8-85f3-665530e31436"
      },
      "execution_count": null,
      "outputs": [
        {
          "output_type": "execute_result",
          "data": {
            "text/plain": [
              "count    4634.000000\n",
              "mean      241.619016\n",
              "std       184.423869\n",
              "min         0.000000\n",
              "25%       122.000000\n",
              "50%       192.500000\n",
              "75%       316.600000\n",
              "max      2400.000000\n",
              "Name: income, dtype: float64"
            ]
          },
          "metadata": {},
          "execution_count": 205
        }
      ]
    },
    {
      "cell_type": "code",
      "source": [
        "# 이상치 결측 처리 - 0\n",
        "welfare['income'] = np.where(welfare['income'] == 0, np.nan, welfare['income'])"
      ],
      "metadata": {
        "id": "A1V9dALL8jEX"
      },
      "execution_count": null,
      "outputs": []
    },
    {
      "cell_type": "code",
      "source": [
        "# 결측치 확인\n",
        "welfare['income'].isnull().sum()"
      ],
      "metadata": {
        "colab": {
          "base_uri": "https://localhost:8080/"
        },
        "id": "uD0S9ntIBDHW",
        "outputId": "32cdf6c8-40b5-4563-95b9-76b96dc97647"
      },
      "execution_count": null,
      "outputs": [
        {
          "output_type": "execute_result",
          "data": {
            "text/plain": [
              "12050"
            ]
          },
          "metadata": {},
          "execution_count": 207
        }
      ]
    },
    {
      "cell_type": "code",
      "source": [
        "# 빈도 구하기\n",
        "welfare['income'].value_counts(dropna = False)"
      ],
      "metadata": {
        "colab": {
          "base_uri": "https://localhost:8080/"
        },
        "id": "ESSYvW4zDIEi",
        "outputId": "88d74c65-a723-4771-d3e8-e53accdc8c94"
      },
      "execution_count": null,
      "outputs": [
        {
          "output_type": "execute_result",
          "data": {
            "text/plain": [
              "income\n",
              "NaN       12050\n",
              "20.00       136\n",
              "150.00      128\n",
              "200.00       91\n",
              "250.00       74\n",
              "          ...  \n",
              "515.00        1\n",
              "397.18        1\n",
              "304.16        1\n",
              "487.50        1\n",
              "187.66        1\n",
              "Name: count, Length: 1767, dtype: int64"
            ]
          },
          "metadata": {},
          "execution_count": 208
        }
      ]
    },
    {
      "cell_type": "code",
      "execution_count": null,
      "metadata": {
        "eval": false,
        "id": "3adad7d1",
        "outputId": "e5c13146-be48-42a2-93ea-8fd3f69fd1ab",
        "colab": {
          "base_uri": "https://localhost:8080/",
          "height": 447
        }
      },
      "outputs": [
        {
          "output_type": "display_data",
          "data": {
            "text/plain": [
              "<Figure size 640x480 with 1 Axes>"
            ],
            "image/png": "[encoded data removed]"
          },
          "metadata": {}
        }
      ],
      "source": [
        "sns.histplot(x = 'income', data = welfare)  # 히스토그램 만들기\n",
        "plt.show()"
      ]
    },
    {
      "cell_type": "code",
      "source": [
        "# 평균 월급 천만원 이내에 많이 모여 있으므로 자세히 보기 위해 축 범위 변경\n",
        "sns.histplot(x = 'income', data = welfare).set(xlim = (0,1000))  # 히스토그램 만들기\n",
        "plt.show()"
      ],
      "metadata": {
        "colab": {
          "base_uri": "https://localhost:8080/",
          "height": 447
        },
        "id": "kyDHnsBN7P1_",
        "outputId": "8faa735e-f8ad-4776-d041-eaa535b21989"
      },
      "execution_count": null,
      "outputs": [
        {
          "output_type": "display_data",
          "data": {
            "text/plain": [
              "<Figure size 640x480 with 1 Axes>"
            ],
            "image/png": "[encoded data removed]"
          },
          "metadata": {}
        }
      ]
    },
    {
      "cell_type": "markdown",
      "metadata": {
        "id": "f29b769b"
      },
      "source": [
        "### 성별에 따른 월급 차이 분석하기"
      ]
    },
    {
      "cell_type": "markdown",
      "source": [
        "#### 1. 성별 월급 평균표 만들기"
      ],
      "metadata": {
        "id": "iL1rlO-a4tCk"
      }
    },
    {
      "cell_type": "code",
      "source": [
        "welfare.info()"
      ],
      "metadata": {
        "id": "G2_uqyXCDUTc",
        "colab": {
          "base_uri": "https://localhost:8080/"
        },
        "outputId": "eeddd148-f1aa-483f-fb16-6b4aa10f5550"
      },
      "execution_count": null,
      "outputs": [
        {
          "output_type": "stream",
          "name": "stdout",
          "text": [
            "<class 'pandas.core.frame.DataFrame'>\n",
            "RangeIndex: 16670 entries, 0 to 16669\n",
            "Data columns (total 7 columns):\n",
            " #   Column          Non-Null Count  Dtype  \n",
            "---  ------          --------------  -----  \n",
            " 0   sex             16669 non-null  object \n",
            " 1   birth_year      16670 non-null  int64  \n",
            " 2   marital_status  16670 non-null  int64  \n",
            " 3   religion        16670 non-null  int64  \n",
            " 4   job_code        7530 non-null   float64\n",
            " 5   income          4620 non-null   float64\n",
            " 6   region_code     16670 non-null  int64  \n",
            "dtypes: float64(2), int64(4), object(1)\n",
            "memory usage: 911.8+ KB\n"
          ]
        }
      ]
    },
    {
      "cell_type": "code",
      "source": [
        "welfare.dropna(subset = ['sex','income'])"
      ],
      "metadata": {
        "id": "CP5c1Ox9Dgge",
        "colab": {
          "base_uri": "https://localhost:8080/",
          "height": 424
        },
        "outputId": "69a450fe-11c7-4d56-89b6-15b18199121c"
      },
      "execution_count": null,
      "outputs": [
        {
          "output_type": "execute_result",
          "data": {
            "text/plain": [
              "          sex  birth_year  marital_status  religion  job_code  income  \\\n",
              "2        male        1948               2         2     942.0  120.00   \n",
              "3        male        1942               3         1     762.0  200.00   \n",
              "18       male        1962               5         2     999.0   40.00   \n",
              "19       male        1978               1         2     312.0  350.00   \n",
              "20     female        1975               1         2     254.0  200.00   \n",
              "...       ...         ...             ...       ...       ...     ...   \n",
              "16639    male        1956               3         1     873.0  162.00   \n",
              "16642    male        1966               1         1     873.0  188.00   \n",
              "16643  female        1962               1         1     899.0   90.00   \n",
              "16654    male        1956               1         2     743.0  187.66   \n",
              "16660  female        1992               5         1     314.0  302.50   \n",
              "\n",
              "       region_code  \n",
              "2                1  \n",
              "3                1  \n",
              "18               1  \n",
              "19               1  \n",
              "20               1  \n",
              "...            ...  \n",
              "16639            6  \n",
              "16642            6  \n",
              "16643            6  \n",
              "16654            6  \n",
              "16660            5  \n",
              "\n",
              "[4620 rows x 7 columns]"
            ],
            "text/html": [
              "\n",
              "  <div id=\"df-4313e619-b9e5-4ac4-b4f9-79f7f573f013\" class=\"colab-df-container\">\n",
              "    <div>\n",
              "<style scoped>\n",
              "    .dataframe tbody tr th:only-of-type {\n",
              "        vertical-align: middle;\n",
              "    }\n",
              "\n",
              "    .dataframe tbody tr th {\n",
              "        vertical-align: top;\n",
              "    }\n",
              "\n",
              "    .dataframe thead th {\n",
              "        text-align: right;\n",
              "    }\n",
              "</style>\n",
              "<table border=\"1\" class=\"dataframe\">\n",
              "  <thead>\n",
              "    <tr style=\"text-align: right;\">\n",
              "      <th></th>\n",
              "      <th>sex</th>\n",
              "      <th>birth_year</th>\n",
              "      <th>marital_status</th>\n",
              "      <th>religion</th>\n",
              "      <th>job_code</th>\n",
              "      <th>income</th>\n",
              "      <th>region_code</th>\n",
              "    </tr>\n",
              "  </thead>\n",
              "  <tbody>\n",
              "    <tr>\n",
              "      <th>2</th>\n",
              "      <td>male</td>\n",
              "      <td>1948</td>\n",
              "      <td>2</td>\n",
              "      <td>2</td>\n",
              "      <td>942.0</td>\n",
              "      <td>120.00</td>\n",
              "      <td>1</td>\n",
              "    </tr>\n",
              "    <tr>\n",
              "      <th>3</th>\n",
              "      <td>male</td>\n",
              "      <td>1942</td>\n",
              "      <td>3</td>\n",
              "      <td>1</td>\n",
              "      <td>762.0</td>\n",
              "      <td>200.00</td>\n",
              "      <td>1</td>\n",
              "    </tr>\n",
              "    <tr>\n",
              "      <th>18</th>\n",
              "      <td>male</td>\n",
              "      <td>1962</td>\n",
              "      <td>5</td>\n",
              "      <td>2</td>\n",
              "      <td>999.0</td>\n",
              "      <td>40.00</td>\n",
              "      <td>1</td>\n",
              "    </tr>\n",
              "    <tr>\n",
              "      <th>19</th>\n",
              "      <td>male</td>\n",
              "      <td>1978</td>\n",
              "      <td>1</td>\n",
              "      <td>2</td>\n",
              "      <td>312.0</td>\n",
              "      <td>350.00</td>\n",
              "      <td>1</td>\n",
              "    </tr>\n",
              "    <tr>\n",
              "      <th>20</th>\n",
              "      <td>female</td>\n",
              "      <td>1975</td>\n",
              "      <td>1</td>\n",
              "      <td>2</td>\n",
              "      <td>254.0</td>\n",
              "      <td>200.00</td>\n",
              "      <td>1</td>\n",
              "    </tr>\n",
              "    <tr>\n",
              "      <th>...</th>\n",
              "      <td>...</td>\n",
              "      <td>...</td>\n",
              "      <td>...</td>\n",
              "      <td>...</td>\n",
              "      <td>...</td>\n",
              "      <td>...</td>\n",
              "      <td>...</td>\n",
              "    </tr>\n",
              "    <tr>\n",
              "      <th>16639</th>\n",
              "      <td>male</td>\n",
              "      <td>1956</td>\n",
              "      <td>3</td>\n",
              "      <td>1</td>\n",
              "      <td>873.0</td>\n",
              "      <td>162.00</td>\n",
              "      <td>6</td>\n",
              "    </tr>\n",
              "    <tr>\n",
              "      <th>16642</th>\n",
              "      <td>male</td>\n",
              "      <td>1966</td>\n",
              "      <td>1</td>\n",
              "      <td>1</td>\n",
              "      <td>873.0</td>\n",
              "      <td>188.00</td>\n",
              "      <td>6</td>\n",
              "    </tr>\n",
              "    <tr>\n",
              "      <th>16643</th>\n",
              "      <td>female</td>\n",
              "      <td>1962</td>\n",
              "      <td>1</td>\n",
              "      <td>1</td>\n",
              "      <td>899.0</td>\n",
              "      <td>90.00</td>\n",
              "      <td>6</td>\n",
              "    </tr>\n",
              "    <tr>\n",
              "      <th>16654</th>\n",
              "      <td>male</td>\n",
              "      <td>1956</td>\n",
              "      <td>1</td>\n",
              "      <td>2</td>\n",
              "      <td>743.0</td>\n",
              "      <td>187.66</td>\n",
              "      <td>6</td>\n",
              "    </tr>\n",
              "    <tr>\n",
              "      <th>16660</th>\n",
              "      <td>female</td>\n",
              "      <td>1992</td>\n",
              "      <td>5</td>\n",
              "      <td>1</td>\n",
              "      <td>314.0</td>\n",
              "      <td>302.50</td>\n",
              "      <td>5</td>\n",
              "    </tr>\n",
              "  </tbody>\n",
              "</table>\n",
              "<p>4620 rows × 7 columns</p>\n",
              "</div>\n",
              "    <div class=\"colab-df-buttons\">\n",
              "\n",
              "  <div class=\"colab-df-container\">\n",
              "    <button class=\"colab-df-convert\" onclick=\"convertToInteractive('df-4313e619-b9e5-4ac4-b4f9-79f7f573f013')\"\n",
              "            title=\"Convert this dataframe to an interactive table.\"\n",
              "            style=\"display:none;\">\n",
              "\n",
              "  <svg xmlns=\"http://www.w3.org/2000/svg\" height=\"24px\" viewBox=\"0 -960 960 960\">\n",
              "    <path d=\"M120-120v-720h720v720H120Zm60-500h600v-160H180v160Zm220 220h160v-160H400v160Zm0 220h160v-160H400v160ZM180-400h160v-160H180v160Zm440 0h160v-160H620v160ZM180-180h160v-160H180v160Zm440 0h160v-160H620v160Z\"/>\n",
              "  </svg>\n",
              "    </button>\n",
              "\n",
              "  <style>\n",
              "    .colab-df-container {\n",
              "      display:flex;\n",
              "      gap: 12px;\n",
              "    }\n",
              "\n",
              "    .colab-df-convert {\n",
              "      background-color: #E8F0FE;\n",
              "      border: none;\n",
              "      border-radius: 50%;\n",
              "      cursor: pointer;\n",
              "      display: none;\n",
              "      fill: #1967D2;\n",
              "      height: 32px;\n",
              "      padding: 0 0 0 0;\n",
              "      width: 32px;\n",
              "    }\n",
              "\n",
              "    .colab-df-convert:hover {\n",
              "      background-color: #E2EBFA;\n",
              "      box-shadow: 0px 1px 2px rgba(60, 64, 67, 0.3), 0px 1px 3px 1px rgba(60, 64, 67, 0.15);\n",
              "      fill: #174EA6;\n",
              "    }\n",
              "\n",
              "    .colab-df-buttons div {\n",
              "      margin-bottom: 4px;\n",
              "    }\n",
              "\n",
              "    [theme=dark] .colab-df-convert {\n",
              "      background-color: #3B4455;\n",
              "      fill: #D2E3FC;\n",
              "    }\n",
              "\n",
              "    [theme=dark] .colab-df-convert:hover {\n",
              "      background-color: #434B5C;\n",
              "      box-shadow: 0px 1px 3px 1px rgba(0, 0, 0, 0.15);\n",
              "      filter: drop-shadow(0px 1px 2px rgba(0, 0, 0, 0.3));\n",
              "      fill: #FFFFFF;\n",
              "    }\n",
              "  </style>\n",
              "\n",
              "    <script>\n",
              "      const buttonEl =\n",
              "        document.querySelector('#df-4313e619-b9e5-4ac4-b4f9-79f7f573f013 button.colab-df-convert');\n",
              "      buttonEl.style.display =\n",
              "        google.colab.kernel.accessAllowed ? 'block' : 'none';\n",
              "\n",
              "      async function convertToInteractive(key) {\n",
              "        const element = document.querySelector('#df-4313e619-b9e5-4ac4-b4f9-79f7f573f013');\n",
              "        const dataTable =\n",
              "          await google.colab.kernel.invokeFunction('convertToInteractive',\n",
              "                                                    [key], {});\n",
              "        if (!dataTable) return;\n",
              "\n",
              "        const docLinkHtml = 'Like what you see? Visit the ' +\n",
              "          '<a target=\"_blank\" href=https://colab.research.google.com/notebooks/data_table.ipynb>data table notebook</a>'\n",
              "          + ' to learn more about interactive tables.';\n",
              "        element.innerHTML = '';\n",
              "        dataTable['output_type'] = 'display_data';\n",
              "        await google.colab.output.renderOutput(dataTable, element);\n",
              "        const docLink = document.createElement('div');\n",
              "        docLink.innerHTML = docLinkHtml;\n",
              "        element.appendChild(docLink);\n",
              "      }\n",
              "    </script>\n",
              "  </div>\n",
              "\n",
              "\n",
              "<div id=\"df-bf7560ac-6f0c-481f-ad37-0656af0b0481\">\n",
              "  <button class=\"colab-df-quickchart\" onclick=\"quickchart('df-bf7560ac-6f0c-481f-ad37-0656af0b0481')\"\n",
              "            title=\"Suggest charts\"\n",
              "            style=\"display:none;\">\n",
              "\n",
              "<svg xmlns=\"http://www.w3.org/2000/svg\" height=\"24px\"viewBox=\"0 0 24 24\"\n",
              "     width=\"24px\">\n",
              "    <g>\n",
              "        <path d=\"M19 3H5c-1.1 0-2 .9-2 2v14c0 1.1.9 2 2 2h14c1.1 0 2-.9 2-2V5c0-1.1-.9-2-2-2zM9 17H7v-7h2v7zm4 0h-2V7h2v10zm4 0h-2v-4h2v4z\"/>\n",
              "    </g>\n",
              "</svg>\n",
              "  </button>\n",
              "\n",
              "<style>\n",
              "  .colab-df-quickchart {\n",
              "      --bg-color: #E8F0FE;\n",
              "      --fill-color: #1967D2;\n",
              "      --hover-bg-color: #E2EBFA;\n",
              "      --hover-fill-color: #174EA6;\n",
              "      --disabled-fill-color: #AAA;\n",
              "      --disabled-bg-color: #DDD;\n",
              "  }\n",
              "\n",
              "  [theme=dark] .colab-df-quickchart {\n",
              "      --bg-color: #3B4455;\n",
              "      --fill-color: #D2E3FC;\n",
              "      --hover-bg-color: #434B5C;\n",
              "      --hover-fill-color: #FFFFFF;\n",
              "      --disabled-bg-color: #3B4455;\n",
              "      --disabled-fill-color: #666;\n",
              "  }\n",
              "\n",
              "  .colab-df-quickchart {\n",
              "    background-color: var(--bg-color);\n",
              "    border: none;\n",
              "    border-radius: 50%;\n",
              "    cursor: pointer;\n",
              "    display: none;\n",
              "    fill: var(--fill-color);\n",
              "    height: 32px;\n",
              "    padding: 0;\n",
              "    width: 32px;\n",
              "  }\n",
              "\n",
              "  .colab-df-quickchart:hover {\n",
              "    background-color: var(--hover-bg-color);\n",
              "    box-shadow: 0 1px 2px rgba(60, 64, 67, 0.3), 0 1px 3px 1px rgba(60, 64, 67, 0.15);\n",
              "    fill: var(--button-hover-fill-color);\n",
              "  }\n",
              "\n",
              "  .colab-df-quickchart-complete:disabled,\n",
              "  .colab-df-quickchart-complete:disabled:hover {\n",
              "    background-color: var(--disabled-bg-color);\n",
              "    fill: var(--disabled-fill-color);\n",
              "    box-shadow: none;\n",
              "  }\n",
              "\n",
              "  .colab-df-spinner {\n",
              "    border: 2px solid var(--fill-color);\n",
              "    border-color: transparent;\n",
              "    border-bottom-color: var(--fill-color);\n",
              "    animation:\n",
              "      spin 1s steps(1) infinite;\n",
              "  }\n",
              "\n",
              "  @keyframes spin {\n",
              "    0% {\n",
              "      border-color: transparent;\n",
              "      border-bottom-color: var(--fill-color);\n",
              "      border-left-color: var(--fill-color);\n",
              "    }\n",
              "    20% {\n",
              "      border-color: transparent;\n",
              "      border-left-color: var(--fill-color);\n",
              "      border-top-color: var(--fill-color);\n",
              "    }\n",
              "    30% {\n",
              "      border-color: transparent;\n",
              "      border-left-color: var(--fill-color);\n",
              "      border-top-color: var(--fill-color);\n",
              "      border-right-color: var(--fill-color);\n",
              "    }\n",
              "    40% {\n",
              "      border-color: transparent;\n",
              "      border-right-color: var(--fill-color);\n",
              "      border-top-color: var(--fill-color);\n",
              "    }\n",
              "    60% {\n",
              "      border-color: transparent;\n",
              "      border-right-color: var(--fill-color);\n",
              "    }\n",
              "    80% {\n",
              "      border-color: transparent;\n",
              "      border-right-color: var(--fill-color);\n",
              "      border-bottom-color: var(--fill-color);\n",
              "    }\n",
              "    90% {\n",
              "      border-color: transparent;\n",
              "      border-bottom-color: var(--fill-color);\n",
              "    }\n",
              "  }\n",
              "</style>\n",
              "\n",
              "  <script>\n",
              "    async function quickchart(key) {\n",
              "      const quickchartButtonEl =\n",
              "        document.querySelector('#' + key + ' button');\n",
              "      quickchartButtonEl.disabled = true;  // To prevent multiple clicks.\n",
              "      quickchartButtonEl.classList.add('colab-df-spinner');\n",
              "      try {\n",
              "        const charts = await google.colab.kernel.invokeFunction(\n",
              "            'suggestCharts', [key], {});\n",
              "      } catch (error) {\n",
              "        console.error('Error during call to suggestCharts:', error);\n",
              "      }\n",
              "      quickchartButtonEl.classList.remove('colab-df-spinner');\n",
              "      quickchartButtonEl.classList.add('colab-df-quickchart-complete');\n",
              "    }\n",
              "    (() => {\n",
              "      let quickchartButtonEl =\n",
              "        document.querySelector('#df-bf7560ac-6f0c-481f-ad37-0656af0b0481 button');\n",
              "      quickchartButtonEl.style.display =\n",
              "        google.colab.kernel.accessAllowed ? 'block' : 'none';\n",
              "    })();\n",
              "  </script>\n",
              "</div>\n",
              "\n",
              "    </div>\n",
              "  </div>\n"
            ],
            "application/vnd.google.colaboratory.intrinsic+json": {
              "type": "dataframe",
              "summary": "{\n  \"name\": \"welfare\",\n  \"rows\": 4620,\n  \"fields\": [\n    {\n      \"column\": \"sex\",\n      \"properties\": {\n        \"dtype\": \"category\",\n        \"num_unique_values\": 2,\n        \"samples\": [\n          \"female\",\n          \"male\"\n        ],\n        \"semantic_type\": \"\",\n        \"description\": \"\"\n      }\n    },\n    {\n      \"column\": \"birth_year\",\n      \"properties\": {\n        \"dtype\": \"number\",\n        \"std\": 13,\n        \"min\": 1927,\n        \"max\": 1996,\n        \"num_unique_values\": 69,\n        \"samples\": [\n          1947,\n          1948\n        ],\n        \"semantic_type\": \"\",\n        \"description\": \"\"\n      }\n    },\n    {\n      \"column\": \"marital_status\",\n      \"properties\": {\n        \"dtype\": \"number\",\n        \"std\": 1,\n        \"min\": 1,\n        \"max\": 5,\n        \"num_unique_values\": 5,\n        \"samples\": [\n          3,\n          4\n        ],\n        \"semantic_type\": \"\",\n        \"description\": \"\"\n      }\n    },\n    {\n      \"column\": \"religion\",\n      \"properties\": {\n        \"dtype\": \"number\",\n        \"std\": 0,\n        \"min\": 1,\n        \"max\": 2,\n        \"num_unique_values\": 2,\n        \"samples\": [\n          1,\n          2\n        ],\n        \"semantic_type\": \"\",\n        \"description\": \"\"\n      }\n    },\n    {\n      \"column\": \"job_code\",\n      \"properties\": {\n        \"dtype\": \"number\",\n        \"std\": 290.24178923636566,\n        \"min\": 111.0,\n        \"max\": 1012.0,\n        \"num_unique_values\": 142,\n        \"samples\": [\n          742.0,\n          313.0\n        ],\n        \"semantic_type\": \"\",\n        \"description\": \"\"\n      }\n    },\n    {\n      \"column\": \"income\",\n      \"properties\": {\n        \"dtype\": \"number\",\n        \"std\": 184.22206728611204,\n        \"min\": 0.46,\n        \"max\": 2400.0,\n        \"num_unique_values\": 1766,\n        \"samples\": [\n          405.5,\n          93.1\n        ],\n        \"semantic_type\": \"\",\n        \"description\": \"\"\n      }\n    },\n    {\n      \"column\": \"region_code\",\n      \"properties\": {\n        \"dtype\": \"number\",\n        \"std\": 2,\n        \"min\": 1,\n        \"max\": 7,\n        \"num_unique_values\": 7,\n        \"samples\": [\n          1,\n          7\n        ],\n        \"semantic_type\": \"\",\n        \"description\": \"\"\n      }\n    }\n  ]\n}"
            }
          },
          "metadata": {},
          "execution_count": 212
        }
      ]
    },
    {
      "cell_type": "code",
      "source": [
        "# 하나씩 해보자!\n",
        "sex_income_test = welfare.dropna(subset = ['sex','income'])"
      ],
      "metadata": {
        "id": "RG3ZFJ0MB3Zb"
      },
      "execution_count": null,
      "outputs": []
    },
    {
      "cell_type": "code",
      "source": [
        "sex_income_test.sex.value_counts(dropna=False)"
      ],
      "metadata": {
        "colab": {
          "base_uri": "https://localhost:8080/"
        },
        "id": "6JIWIcJZCH_6",
        "outputId": "b511bf66-b77d-4558-dbf2-a15162d04fc2"
      },
      "execution_count": null,
      "outputs": [
        {
          "output_type": "execute_result",
          "data": {
            "text/plain": [
              "sex\n",
              "male      2452\n",
              "female    2168\n",
              "Name: count, dtype: int64"
            ]
          },
          "metadata": {},
          "execution_count": 214
        }
      ]
    },
    {
      "cell_type": "code",
      "source": [
        "sex_income_test.income.describe()"
      ],
      "metadata": {
        "colab": {
          "base_uri": "https://localhost:8080/"
        },
        "id": "uGTXpqeFCgPn",
        "outputId": "b5c2a647-e920-44b3-9a57-68b25fbe9a51"
      },
      "execution_count": null,
      "outputs": [
        {
          "output_type": "execute_result",
          "data": {
            "text/plain": [
              "count    4620.000000\n",
              "mean      242.351195\n",
              "std       184.222067\n",
              "min         0.460000\n",
              "25%       123.000000\n",
              "50%       193.000000\n",
              "75%       316.700000\n",
              "max      2400.000000\n",
              "Name: income, dtype: float64"
            ]
          },
          "metadata": {},
          "execution_count": 215
        }
      ]
    },
    {
      "cell_type": "code",
      "source": [
        "sex_income_test.income.value_counts(dropna=False)"
      ],
      "metadata": {
        "colab": {
          "base_uri": "https://localhost:8080/"
        },
        "id": "QlSLWS-bD2xx",
        "outputId": "2cd83760-3f8b-4bbc-f389-2e7287209a00"
      },
      "execution_count": null,
      "outputs": [
        {
          "output_type": "execute_result",
          "data": {
            "text/plain": [
              "income\n",
              "20.00     136\n",
              "150.00    128\n",
              "200.00     91\n",
              "250.00     74\n",
              "120.00     71\n",
              "         ... \n",
              "515.00      1\n",
              "397.18      1\n",
              "304.16      1\n",
              "487.50      1\n",
              "187.66      1\n",
              "Name: count, Length: 1766, dtype: int64"
            ]
          },
          "metadata": {},
          "execution_count": 216
        }
      ]
    },
    {
      "cell_type": "code",
      "source": [
        "# as_index = True => 그룹 이름을 행 인덱스로 사용\n",
        "grouped = sex_income_test.groupby('sex')\n",
        "print(grouped.agg({'income': 'mean'}))\n",
        "print(grouped.agg({'income': ['mean','std']}))\n",
        "grouped.agg(mean_income = ('income', 'mean'), sd_income = ('income', 'std')) # 튜플 형태"
      ],
      "metadata": {
        "colab": {
          "base_uri": "https://localhost:8080/",
          "height": 309
        },
        "id": "BFPibRb4D6PW",
        "outputId": "5a7dd236-6b36-4373-f9b1-8dc551af2150"
      },
      "execution_count": null,
      "outputs": [
        {
          "output_type": "stream",
          "name": "stdout",
          "text": [
            "            income\n",
            "sex               \n",
            "female  163.247085\n",
            "male    312.293165\n",
            "            income            \n",
            "              mean         std\n",
            "sex                           \n",
            "female  163.247085  126.053981\n",
            "male    312.293165  198.694969\n"
          ]
        },
        {
          "output_type": "execute_result",
          "data": {
            "text/plain": [
              "        mean_income   sd_income\n",
              "sex                            \n",
              "female   163.247085  126.053981\n",
              "male     312.293165  198.694969"
            ],
            "text/html": [
              "\n",
              "  <div id=\"df-aad53737-3bba-407e-9d96-bb970bae7bfd\" class=\"colab-df-container\">\n",
              "    <div>\n",
              "<style scoped>\n",
              "    .dataframe tbody tr th:only-of-type {\n",
              "        vertical-align: middle;\n",
              "    }\n",
              "\n",
              "    .dataframe tbody tr th {\n",
              "        vertical-align: top;\n",
              "    }\n",
              "\n",
              "    .dataframe thead th {\n",
              "        text-align: right;\n",
              "    }\n",
              "</style>\n",
              "<table border=\"1\" class=\"dataframe\">\n",
              "  <thead>\n",
              "    <tr style=\"text-align: right;\">\n",
              "      <th></th>\n",
              "      <th>mean_income</th>\n",
              "      <th>sd_income</th>\n",
              "    </tr>\n",
              "    <tr>\n",
              "      <th>sex</th>\n",
              "      <th></th>\n",
              "      <th></th>\n",
              "    </tr>\n",
              "  </thead>\n",
              "  <tbody>\n",
              "    <tr>\n",
              "      <th>female</th>\n",
              "      <td>163.247085</td>\n",
              "      <td>126.053981</td>\n",
              "    </tr>\n",
              "    <tr>\n",
              "      <th>male</th>\n",
              "      <td>312.293165</td>\n",
              "      <td>198.694969</td>\n",
              "    </tr>\n",
              "  </tbody>\n",
              "</table>\n",
              "</div>\n",
              "    <div class=\"colab-df-buttons\">\n",
              "\n",
              "  <div class=\"colab-df-container\">\n",
              "    <button class=\"colab-df-convert\" onclick=\"convertToInteractive('df-aad53737-3bba-407e-9d96-bb970bae7bfd')\"\n",
              "            title=\"Convert this dataframe to an interactive table.\"\n",
              "            style=\"display:none;\">\n",
              "\n",
              "  <svg xmlns=\"http://www.w3.org/2000/svg\" height=\"24px\" viewBox=\"0 -960 960 960\">\n",
              "    <path d=\"M120-120v-720h720v720H120Zm60-500h600v-160H180v160Zm220 220h160v-160H400v160Zm0 220h160v-160H400v160ZM180-400h160v-160H180v160Zm440 0h160v-160H620v160ZM180-180h160v-160H180v160Zm440 0h160v-160H620v160Z\"/>\n",
              "  </svg>\n",
              "    </button>\n",
              "\n",
              "  <style>\n",
              "    .colab-df-container {\n",
              "      display:flex;\n",
              "      gap: 12px;\n",
              "    }\n",
              "\n",
              "    .colab-df-convert {\n",
              "      background-color: #E8F0FE;\n",
              "      border: none;\n",
              "      border-radius: 50%;\n",
              "      cursor: pointer;\n",
              "      display: none;\n",
              "      fill: #1967D2;\n",
              "      height: 32px;\n",
              "      padding: 0 0 0 0;\n",
              "      width: 32px;\n",
              "    }\n",
              "\n",
              "    .colab-df-convert:hover {\n",
              "      background-color: #E2EBFA;\n",
              "      box-shadow: 0px 1px 2px rgba(60, 64, 67, 0.3), 0px 1px 3px 1px rgba(60, 64, 67, 0.15);\n",
              "      fill: #174EA6;\n",
              "    }\n",
              "\n",
              "    .colab-df-buttons div {\n",
              "      margin-bottom: 4px;\n",
              "    }\n",
              "\n",
              "    [theme=dark] .colab-df-convert {\n",
              "      background-color: #3B4455;\n",
              "      fill: #D2E3FC;\n",
              "    }\n",
              "\n",
              "    [theme=dark] .colab-df-convert:hover {\n",
              "      background-color: #434B5C;\n",
              "      box-shadow: 0px 1px 3px 1px rgba(0, 0, 0, 0.15);\n",
              "      filter: drop-shadow(0px 1px 2px rgba(0, 0, 0, 0.3));\n",
              "      fill: #FFFFFF;\n",
              "    }\n",
              "  </style>\n",
              "\n",
              "    <script>\n",
              "      const buttonEl =\n",
              "        document.querySelector('#df-aad53737-3bba-407e-9d96-bb970bae7bfd button.colab-df-convert');\n",
              "      buttonEl.style.display =\n",
              "        google.colab.kernel.accessAllowed ? 'block' : 'none';\n",
              "\n",
              "      async function convertToInteractive(key) {\n",
              "        const element = document.querySelector('#df-aad53737-3bba-407e-9d96-bb970bae7bfd');\n",
              "        const dataTable =\n",
              "          await google.colab.kernel.invokeFunction('convertToInteractive',\n",
              "                                                    [key], {});\n",
              "        if (!dataTable) return;\n",
              "\n",
              "        const docLinkHtml = 'Like what you see? Visit the ' +\n",
              "          '<a target=\"_blank\" href=https://colab.research.google.com/notebooks/data_table.ipynb>data table notebook</a>'\n",
              "          + ' to learn more about interactive tables.';\n",
              "        element.innerHTML = '';\n",
              "        dataTable['output_type'] = 'display_data';\n",
              "        await google.colab.output.renderOutput(dataTable, element);\n",
              "        const docLink = document.createElement('div');\n",
              "        docLink.innerHTML = docLinkHtml;\n",
              "        element.appendChild(docLink);\n",
              "      }\n",
              "    </script>\n",
              "  </div>\n",
              "\n",
              "\n",
              "<div id=\"df-c3c3a797-06df-42a1-8838-249cdd89383f\">\n",
              "  <button class=\"colab-df-quickchart\" onclick=\"quickchart('df-c3c3a797-06df-42a1-8838-249cdd89383f')\"\n",
              "            title=\"Suggest charts\"\n",
              "            style=\"display:none;\">\n",
              "\n",
              "<svg xmlns=\"http://www.w3.org/2000/svg\" height=\"24px\"viewBox=\"0 0 24 24\"\n",
              "     width=\"24px\">\n",
              "    <g>\n",
              "        <path d=\"M19 3H5c-1.1 0-2 .9-2 2v14c0 1.1.9 2 2 2h14c1.1 0 2-.9 2-2V5c0-1.1-.9-2-2-2zM9 17H7v-7h2v7zm4 0h-2V7h2v10zm4 0h-2v-4h2v4z\"/>\n",
              "    </g>\n",
              "</svg>\n",
              "  </button>\n",
              "\n",
              "<style>\n",
              "  .colab-df-quickchart {\n",
              "      --bg-color: #E8F0FE;\n",
              "      --fill-color: #1967D2;\n",
              "      --hover-bg-color: #E2EBFA;\n",
              "      --hover-fill-color: #174EA6;\n",
              "      --disabled-fill-color: #AAA;\n",
              "      --disabled-bg-color: #DDD;\n",
              "  }\n",
              "\n",
              "  [theme=dark] .colab-df-quickchart {\n",
              "      --bg-color: #3B4455;\n",
              "      --fill-color: #D2E3FC;\n",
              "      --hover-bg-color: #434B5C;\n",
              "      --hover-fill-color: #FFFFFF;\n",
              "      --disabled-bg-color: #3B4455;\n",
              "      --disabled-fill-color: #666;\n",
              "  }\n",
              "\n",
              "  .colab-df-quickchart {\n",
              "    background-color: var(--bg-color);\n",
              "    border: none;\n",
              "    border-radius: 50%;\n",
              "    cursor: pointer;\n",
              "    display: none;\n",
              "    fill: var(--fill-color);\n",
              "    height: 32px;\n",
              "    padding: 0;\n",
              "    width: 32px;\n",
              "  }\n",
              "\n",
              "  .colab-df-quickchart:hover {\n",
              "    background-color: var(--hover-bg-color);\n",
              "    box-shadow: 0 1px 2px rgba(60, 64, 67, 0.3), 0 1px 3px 1px rgba(60, 64, 67, 0.15);\n",
              "    fill: var(--button-hover-fill-color);\n",
              "  }\n",
              "\n",
              "  .colab-df-quickchart-complete:disabled,\n",
              "  .colab-df-quickchart-complete:disabled:hover {\n",
              "    background-color: var(--disabled-bg-color);\n",
              "    fill: var(--disabled-fill-color);\n",
              "    box-shadow: none;\n",
              "  }\n",
              "\n",
              "  .colab-df-spinner {\n",
              "    border: 2px solid var(--fill-color);\n",
              "    border-color: transparent;\n",
              "    border-bottom-color: var(--fill-color);\n",
              "    animation:\n",
              "      spin 1s steps(1) infinite;\n",
              "  }\n",
              "\n",
              "  @keyframes spin {\n",
              "    0% {\n",
              "      border-color: transparent;\n",
              "      border-bottom-color: var(--fill-color);\n",
              "      border-left-color: var(--fill-color);\n",
              "    }\n",
              "    20% {\n",
              "      border-color: transparent;\n",
              "      border-left-color: var(--fill-color);\n",
              "      border-top-color: var(--fill-color);\n",
              "    }\n",
              "    30% {\n",
              "      border-color: transparent;\n",
              "      border-left-color: var(--fill-color);\n",
              "      border-top-color: var(--fill-color);\n",
              "      border-right-color: var(--fill-color);\n",
              "    }\n",
              "    40% {\n",
              "      border-color: transparent;\n",
              "      border-right-color: var(--fill-color);\n",
              "      border-top-color: var(--fill-color);\n",
              "    }\n",
              "    60% {\n",
              "      border-color: transparent;\n",
              "      border-right-color: var(--fill-color);\n",
              "    }\n",
              "    80% {\n",
              "      border-color: transparent;\n",
              "      border-right-color: var(--fill-color);\n",
              "      border-bottom-color: var(--fill-color);\n",
              "    }\n",
              "    90% {\n",
              "      border-color: transparent;\n",
              "      border-bottom-color: var(--fill-color);\n",
              "    }\n",
              "  }\n",
              "</style>\n",
              "\n",
              "  <script>\n",
              "    async function quickchart(key) {\n",
              "      const quickchartButtonEl =\n",
              "        document.querySelector('#' + key + ' button');\n",
              "      quickchartButtonEl.disabled = true;  // To prevent multiple clicks.\n",
              "      quickchartButtonEl.classList.add('colab-df-spinner');\n",
              "      try {\n",
              "        const charts = await google.colab.kernel.invokeFunction(\n",
              "            'suggestCharts', [key], {});\n",
              "      } catch (error) {\n",
              "        console.error('Error during call to suggestCharts:', error);\n",
              "      }\n",
              "      quickchartButtonEl.classList.remove('colab-df-spinner');\n",
              "      quickchartButtonEl.classList.add('colab-df-quickchart-complete');\n",
              "    }\n",
              "    (() => {\n",
              "      let quickchartButtonEl =\n",
              "        document.querySelector('#df-c3c3a797-06df-42a1-8838-249cdd89383f button');\n",
              "      quickchartButtonEl.style.display =\n",
              "        google.colab.kernel.accessAllowed ? 'block' : 'none';\n",
              "    })();\n",
              "  </script>\n",
              "</div>\n",
              "\n",
              "    </div>\n",
              "  </div>\n"
            ],
            "application/vnd.google.colaboratory.intrinsic+json": {
              "type": "dataframe",
              "summary": "{\n  \"name\": \"grouped\",\n  \"rows\": 2,\n  \"fields\": [\n    {\n      \"column\": \"sex\",\n      \"properties\": {\n        \"dtype\": \"string\",\n        \"num_unique_values\": 2,\n        \"samples\": [\n          \"male\",\n          \"female\"\n        ],\n        \"semantic_type\": \"\",\n        \"description\": \"\"\n      }\n    },\n    {\n      \"column\": \"mean_income\",\n      \"properties\": {\n        \"dtype\": \"number\",\n        \"std\": 105.39149380133622,\n        \"min\": 163.2470848708487,\n        \"max\": 312.2931647634584,\n        \"num_unique_values\": 2,\n        \"samples\": [\n          312.2931647634584,\n          163.2470848708487\n        ],\n        \"semantic_type\": \"\",\n        \"description\": \"\"\n      }\n    },\n    {\n      \"column\": \"sd_income\",\n      \"properties\": {\n        \"dtype\": \"number\",\n        \"std\": 51.36493582411064,\n        \"min\": 126.05398053661833,\n        \"max\": 198.69496940949924,\n        \"num_unique_values\": 2,\n        \"samples\": [\n          198.69496940949924,\n          126.05398053661833\n        ],\n        \"semantic_type\": \"\",\n        \"description\": \"\"\n      }\n    }\n  ]\n}"
            }
          },
          "metadata": {},
          "execution_count": 217
        }
      ]
    },
    {
      "cell_type": "code",
      "source": [
        "# as_index = False => 그룹 이름을 행 인덱스로 사용하지 않게 설정\n",
        "grouped = sex_income_test.groupby('sex', as_index = False)\n",
        "print(grouped.agg({'income': 'mean'}))\n",
        "print(grouped.agg({'income': ['mean','std']}))\n",
        "grouped.agg(mean_income = ('income', 'mean'), sd_income = ('income', 'std')) # 튜플 형태"
      ],
      "metadata": {
        "colab": {
          "base_uri": "https://localhost:8080/",
          "height": 241
        },
        "id": "4_b2mhaAHPQM",
        "outputId": "b5d06b8d-a75d-44f6-9036-c018ca18a7cd"
      },
      "execution_count": null,
      "outputs": [
        {
          "output_type": "stream",
          "name": "stdout",
          "text": [
            "      sex      income\n",
            "0  female  163.247085\n",
            "1    male  312.293165\n",
            "      sex      income            \n",
            "                 mean         std\n",
            "0  female  163.247085  126.053981\n",
            "1    male  312.293165  198.694969\n"
          ]
        },
        {
          "output_type": "execute_result",
          "data": {
            "text/plain": [
              "      sex  mean_income   sd_income\n",
              "0  female   163.247085  126.053981\n",
              "1    male   312.293165  198.694969"
            ],
            "text/html": [
              "\n",
              "  <div id=\"df-8e97c97d-e32d-404f-8827-e955b78cf624\" class=\"colab-df-container\">\n",
              "    <div>\n",
              "<style scoped>\n",
              "    .dataframe tbody tr th:only-of-type {\n",
              "        vertical-align: middle;\n",
              "    }\n",
              "\n",
              "    .dataframe tbody tr th {\n",
              "        vertical-align: top;\n",
              "    }\n",
              "\n",
              "    .dataframe thead th {\n",
              "        text-align: right;\n",
              "    }\n",
              "</style>\n",
              "<table border=\"1\" class=\"dataframe\">\n",
              "  <thead>\n",
              "    <tr style=\"text-align: right;\">\n",
              "      <th></th>\n",
              "      <th>sex</th>\n",
              "      <th>mean_income</th>\n",
              "      <th>sd_income</th>\n",
              "    </tr>\n",
              "  </thead>\n",
              "  <tbody>\n",
              "    <tr>\n",
              "      <th>0</th>\n",
              "      <td>female</td>\n",
              "      <td>163.247085</td>\n",
              "      <td>126.053981</td>\n",
              "    </tr>\n",
              "    <tr>\n",
              "      <th>1</th>\n",
              "      <td>male</td>\n",
              "      <td>312.293165</td>\n",
              "      <td>198.694969</td>\n",
              "    </tr>\n",
              "  </tbody>\n",
              "</table>\n",
              "</div>\n",
              "    <div class=\"colab-df-buttons\">\n",
              "\n",
              "  <div class=\"colab-df-container\">\n",
              "    <button class=\"colab-df-convert\" onclick=\"convertToInteractive('df-8e97c97d-e32d-404f-8827-e955b78cf624')\"\n",
              "            title=\"Convert this dataframe to an interactive table.\"\n",
              "            style=\"display:none;\">\n",
              "\n",
              "  <svg xmlns=\"http://www.w3.org/2000/svg\" height=\"24px\" viewBox=\"0 -960 960 960\">\n",
              "    <path d=\"M120-120v-720h720v720H120Zm60-500h600v-160H180v160Zm220 220h160v-160H400v160Zm0 220h160v-160H400v160ZM180-400h160v-160H180v160Zm440 0h160v-160H620v160ZM180-180h160v-160H180v160Zm440 0h160v-160H620v160Z\"/>\n",
              "  </svg>\n",
              "    </button>\n",
              "\n",
              "  <style>\n",
              "    .colab-df-container {\n",
              "      display:flex;\n",
              "      gap: 12px;\n",
              "    }\n",
              "\n",
              "    .colab-df-convert {\n",
              "      background-color: #E8F0FE;\n",
              "      border: none;\n",
              "      border-radius: 50%;\n",
              "      cursor: pointer;\n",
              "      display: none;\n",
              "      fill: #1967D2;\n",
              "      height: 32px;\n",
              "      padding: 0 0 0 0;\n",
              "      width: 32px;\n",
              "    }\n",
              "\n",
              "    .colab-df-convert:hover {\n",
              "      background-color: #E2EBFA;\n",
              "      box-shadow: 0px 1px 2px rgba(60, 64, 67, 0.3), 0px 1px 3px 1px rgba(60, 64, 67, 0.15);\n",
              "      fill: #174EA6;\n",
              "    }\n",
              "\n",
              "    .colab-df-buttons div {\n",
              "      margin-bottom: 4px;\n",
              "    }\n",
              "\n",
              "    [theme=dark] .colab-df-convert {\n",
              "      background-color: #3B4455;\n",
              "      fill: #D2E3FC;\n",
              "    }\n",
              "\n",
              "    [theme=dark] .colab-df-convert:hover {\n",
              "      background-color: #434B5C;\n",
              "      box-shadow: 0px 1px 3px 1px rgba(0, 0, 0, 0.15);\n",
              "      filter: drop-shadow(0px 1px 2px rgba(0, 0, 0, 0.3));\n",
              "      fill: #FFFFFF;\n",
              "    }\n",
              "  </style>\n",
              "\n",
              "    <script>\n",
              "      const buttonEl =\n",
              "        document.querySelector('#df-8e97c97d-e32d-404f-8827-e955b78cf624 button.colab-df-convert');\n",
              "      buttonEl.style.display =\n",
              "        google.colab.kernel.accessAllowed ? 'block' : 'none';\n",
              "\n",
              "      async function convertToInteractive(key) {\n",
              "        const element = document.querySelector('#df-8e97c97d-e32d-404f-8827-e955b78cf624');\n",
              "        const dataTable =\n",
              "          await google.colab.kernel.invokeFunction('convertToInteractive',\n",
              "                                                    [key], {});\n",
              "        if (!dataTable) return;\n",
              "\n",
              "        const docLinkHtml = 'Like what you see? Visit the ' +\n",
              "          '<a target=\"_blank\" href=https://colab.research.google.com/notebooks/data_table.ipynb>data table notebook</a>'\n",
              "          + ' to learn more about interactive tables.';\n",
              "        element.innerHTML = '';\n",
              "        dataTable['output_type'] = 'display_data';\n",
              "        await google.colab.output.renderOutput(dataTable, element);\n",
              "        const docLink = document.createElement('div');\n",
              "        docLink.innerHTML = docLinkHtml;\n",
              "        element.appendChild(docLink);\n",
              "      }\n",
              "    </script>\n",
              "  </div>\n",
              "\n",
              "\n",
              "<div id=\"df-c05edb14-4eb6-4879-8748-316a7d1b1a56\">\n",
              "  <button class=\"colab-df-quickchart\" onclick=\"quickchart('df-c05edb14-4eb6-4879-8748-316a7d1b1a56')\"\n",
              "            title=\"Suggest charts\"\n",
              "            style=\"display:none;\">\n",
              "\n",
              "<svg xmlns=\"http://www.w3.org/2000/svg\" height=\"24px\"viewBox=\"0 0 24 24\"\n",
              "     width=\"24px\">\n",
              "    <g>\n",
              "        <path d=\"M19 3H5c-1.1 0-2 .9-2 2v14c0 1.1.9 2 2 2h14c1.1 0 2-.9 2-2V5c0-1.1-.9-2-2-2zM9 17H7v-7h2v7zm4 0h-2V7h2v10zm4 0h-2v-4h2v4z\"/>\n",
              "    </g>\n",
              "</svg>\n",
              "  </button>\n",
              "\n",
              "<style>\n",
              "  .colab-df-quickchart {\n",
              "      --bg-color: #E8F0FE;\n",
              "      --fill-color: #1967D2;\n",
              "      --hover-bg-color: #E2EBFA;\n",
              "      --hover-fill-color: #174EA6;\n",
              "      --disabled-fill-color: #AAA;\n",
              "      --disabled-bg-color: #DDD;\n",
              "  }\n",
              "\n",
              "  [theme=dark] .colab-df-quickchart {\n",
              "      --bg-color: #3B4455;\n",
              "      --fill-color: #D2E3FC;\n",
              "      --hover-bg-color: #434B5C;\n",
              "      --hover-fill-color: #FFFFFF;\n",
              "      --disabled-bg-color: #3B4455;\n",
              "      --disabled-fill-color: #666;\n",
              "  }\n",
              "\n",
              "  .colab-df-quickchart {\n",
              "    background-color: var(--bg-color);\n",
              "    border: none;\n",
              "    border-radius: 50%;\n",
              "    cursor: pointer;\n",
              "    display: none;\n",
              "    fill: var(--fill-color);\n",
              "    height: 32px;\n",
              "    padding: 0;\n",
              "    width: 32px;\n",
              "  }\n",
              "\n",
              "  .colab-df-quickchart:hover {\n",
              "    background-color: var(--hover-bg-color);\n",
              "    box-shadow: 0 1px 2px rgba(60, 64, 67, 0.3), 0 1px 3px 1px rgba(60, 64, 67, 0.15);\n",
              "    fill: var(--button-hover-fill-color);\n",
              "  }\n",
              "\n",
              "  .colab-df-quickchart-complete:disabled,\n",
              "  .colab-df-quickchart-complete:disabled:hover {\n",
              "    background-color: var(--disabled-bg-color);\n",
              "    fill: var(--disabled-fill-color);\n",
              "    box-shadow: none;\n",
              "  }\n",
              "\n",
              "  .colab-df-spinner {\n",
              "    border: 2px solid var(--fill-color);\n",
              "    border-color: transparent;\n",
              "    border-bottom-color: var(--fill-color);\n",
              "    animation:\n",
              "      spin 1s steps(1) infinite;\n",
              "  }\n",
              "\n",
              "  @keyframes spin {\n",
              "    0% {\n",
              "      border-color: transparent;\n",
              "      border-bottom-color: var(--fill-color);\n",
              "      border-left-color: var(--fill-color);\n",
              "    }\n",
              "    20% {\n",
              "      border-color: transparent;\n",
              "      border-left-color: var(--fill-color);\n",
              "      border-top-color: var(--fill-color);\n",
              "    }\n",
              "    30% {\n",
              "      border-color: transparent;\n",
              "      border-left-color: var(--fill-color);\n",
              "      border-top-color: var(--fill-color);\n",
              "      border-right-color: var(--fill-color);\n",
              "    }\n",
              "    40% {\n",
              "      border-color: transparent;\n",
              "      border-right-color: var(--fill-color);\n",
              "      border-top-color: var(--fill-color);\n",
              "    }\n",
              "    60% {\n",
              "      border-color: transparent;\n",
              "      border-right-color: var(--fill-color);\n",
              "    }\n",
              "    80% {\n",
              "      border-color: transparent;\n",
              "      border-right-color: var(--fill-color);\n",
              "      border-bottom-color: var(--fill-color);\n",
              "    }\n",
              "    90% {\n",
              "      border-color: transparent;\n",
              "      border-bottom-color: var(--fill-color);\n",
              "    }\n",
              "  }\n",
              "</style>\n",
              "\n",
              "  <script>\n",
              "    async function quickchart(key) {\n",
              "      const quickchartButtonEl =\n",
              "        document.querySelector('#' + key + ' button');\n",
              "      quickchartButtonEl.disabled = true;  // To prevent multiple clicks.\n",
              "      quickchartButtonEl.classList.add('colab-df-spinner');\n",
              "      try {\n",
              "        const charts = await google.colab.kernel.invokeFunction(\n",
              "            'suggestCharts', [key], {});\n",
              "      } catch (error) {\n",
              "        console.error('Error during call to suggestCharts:', error);\n",
              "      }\n",
              "      quickchartButtonEl.classList.remove('colab-df-spinner');\n",
              "      quickchartButtonEl.classList.add('colab-df-quickchart-complete');\n",
              "    }\n",
              "    (() => {\n",
              "      let quickchartButtonEl =\n",
              "        document.querySelector('#df-c05edb14-4eb6-4879-8748-316a7d1b1a56 button');\n",
              "      quickchartButtonEl.style.display =\n",
              "        google.colab.kernel.accessAllowed ? 'block' : 'none';\n",
              "    })();\n",
              "  </script>\n",
              "</div>\n",
              "\n",
              "    </div>\n",
              "  </div>\n"
            ],
            "application/vnd.google.colaboratory.intrinsic+json": {
              "type": "dataframe",
              "summary": "{\n  \"name\": \"grouped\",\n  \"rows\": 2,\n  \"fields\": [\n    {\n      \"column\": \"sex\",\n      \"properties\": {\n        \"dtype\": \"string\",\n        \"num_unique_values\": 2,\n        \"samples\": [\n          \"male\",\n          \"female\"\n        ],\n        \"semantic_type\": \"\",\n        \"description\": \"\"\n      }\n    },\n    {\n      \"column\": \"mean_income\",\n      \"properties\": {\n        \"dtype\": \"number\",\n        \"std\": 105.39149380133622,\n        \"min\": 163.2470848708487,\n        \"max\": 312.2931647634584,\n        \"num_unique_values\": 2,\n        \"samples\": [\n          312.2931647634584,\n          163.2470848708487\n        ],\n        \"semantic_type\": \"\",\n        \"description\": \"\"\n      }\n    },\n    {\n      \"column\": \"sd_income\",\n      \"properties\": {\n        \"dtype\": \"number\",\n        \"std\": 51.36493582411064,\n        \"min\": 126.05398053661833,\n        \"max\": 198.69496940949924,\n        \"num_unique_values\": 2,\n        \"samples\": [\n          198.69496940949924,\n          126.05398053661833\n        ],\n        \"semantic_type\": \"\",\n        \"description\": \"\"\n      }\n    }\n  ]\n}"
            }
          },
          "metadata": {},
          "execution_count": 218
        }
      ]
    },
    {
      "cell_type": "code",
      "execution_count": null,
      "metadata": {
        "id": "1dfad869",
        "colab": {
          "base_uri": "https://localhost:8080/",
          "height": 125
        },
        "outputId": "2c381ae5-0e62-457b-e20e-e613b4c52ac0"
      },
      "outputs": [
        {
          "output_type": "execute_result",
          "data": {
            "text/plain": [
              "      sex  mean_income\n",
              "0  female   163.247085\n",
              "1    male   312.293165"
            ],
            "text/html": [
              "\n",
              "  <div id=\"df-ba5e188e-8fba-4937-b5ca-e58d922fa6d5\" class=\"colab-df-container\">\n",
              "    <div>\n",
              "<style scoped>\n",
              "    .dataframe tbody tr th:only-of-type {\n",
              "        vertical-align: middle;\n",
              "    }\n",
              "\n",
              "    .dataframe tbody tr th {\n",
              "        vertical-align: top;\n",
              "    }\n",
              "\n",
              "    .dataframe thead th {\n",
              "        text-align: right;\n",
              "    }\n",
              "</style>\n",
              "<table border=\"1\" class=\"dataframe\">\n",
              "  <thead>\n",
              "    <tr style=\"text-align: right;\">\n",
              "      <th></th>\n",
              "      <th>sex</th>\n",
              "      <th>mean_income</th>\n",
              "    </tr>\n",
              "  </thead>\n",
              "  <tbody>\n",
              "    <tr>\n",
              "      <th>0</th>\n",
              "      <td>female</td>\n",
              "      <td>163.247085</td>\n",
              "    </tr>\n",
              "    <tr>\n",
              "      <th>1</th>\n",
              "      <td>male</td>\n",
              "      <td>312.293165</td>\n",
              "    </tr>\n",
              "  </tbody>\n",
              "</table>\n",
              "</div>\n",
              "    <div class=\"colab-df-buttons\">\n",
              "\n",
              "  <div class=\"colab-df-container\">\n",
              "    <button class=\"colab-df-convert\" onclick=\"convertToInteractive('df-ba5e188e-8fba-4937-b5ca-e58d922fa6d5')\"\n",
              "            title=\"Convert this dataframe to an interactive table.\"\n",
              "            style=\"display:none;\">\n",
              "\n",
              "  <svg xmlns=\"http://www.w3.org/2000/svg\" height=\"24px\" viewBox=\"0 -960 960 960\">\n",
              "    <path d=\"M120-120v-720h720v720H120Zm60-500h600v-160H180v160Zm220 220h160v-160H400v160Zm0 220h160v-160H400v160ZM180-400h160v-160H180v160Zm440 0h160v-160H620v160ZM180-180h160v-160H180v160Zm440 0h160v-160H620v160Z\"/>\n",
              "  </svg>\n",
              "    </button>\n",
              "\n",
              "  <style>\n",
              "    .colab-df-container {\n",
              "      display:flex;\n",
              "      gap: 12px;\n",
              "    }\n",
              "\n",
              "    .colab-df-convert {\n",
              "      background-color: #E8F0FE;\n",
              "      border: none;\n",
              "      border-radius: 50%;\n",
              "      cursor: pointer;\n",
              "      display: none;\n",
              "      fill: #1967D2;\n",
              "      height: 32px;\n",
              "      padding: 0 0 0 0;\n",
              "      width: 32px;\n",
              "    }\n",
              "\n",
              "    .colab-df-convert:hover {\n",
              "      background-color: #E2EBFA;\n",
              "      box-shadow: 0px 1px 2px rgba(60, 64, 67, 0.3), 0px 1px 3px 1px rgba(60, 64, 67, 0.15);\n",
              "      fill: #174EA6;\n",
              "    }\n",
              "\n",
              "    .colab-df-buttons div {\n",
              "      margin-bottom: 4px;\n",
              "    }\n",
              "\n",
              "    [theme=dark] .colab-df-convert {\n",
              "      background-color: #3B4455;\n",
              "      fill: #D2E3FC;\n",
              "    }\n",
              "\n",
              "    [theme=dark] .colab-df-convert:hover {\n",
              "      background-color: #434B5C;\n",
              "      box-shadow: 0px 1px 3px 1px rgba(0, 0, 0, 0.15);\n",
              "      filter: drop-shadow(0px 1px 2px rgba(0, 0, 0, 0.3));\n",
              "      fill: #FFFFFF;\n",
              "    }\n",
              "  </style>\n",
              "\n",
              "    <script>\n",
              "      const buttonEl =\n",
              "        document.querySelector('#df-ba5e188e-8fba-4937-b5ca-e58d922fa6d5 button.colab-df-convert');\n",
              "      buttonEl.style.display =\n",
              "        google.colab.kernel.accessAllowed ? 'block' : 'none';\n",
              "\n",
              "      async function convertToInteractive(key) {\n",
              "        const element = document.querySelector('#df-ba5e188e-8fba-4937-b5ca-e58d922fa6d5');\n",
              "        const dataTable =\n",
              "          await google.colab.kernel.invokeFunction('convertToInteractive',\n",
              "                                                    [key], {});\n",
              "        if (!dataTable) return;\n",
              "\n",
              "        const docLinkHtml = 'Like what you see? Visit the ' +\n",
              "          '<a target=\"_blank\" href=https://colab.research.google.com/notebooks/data_table.ipynb>data table notebook</a>'\n",
              "          + ' to learn more about interactive tables.';\n",
              "        element.innerHTML = '';\n",
              "        dataTable['output_type'] = 'display_data';\n",
              "        await google.colab.output.renderOutput(dataTable, element);\n",
              "        const docLink = document.createElement('div');\n",
              "        docLink.innerHTML = docLinkHtml;\n",
              "        element.appendChild(docLink);\n",
              "      }\n",
              "    </script>\n",
              "  </div>\n",
              "\n",
              "\n",
              "<div id=\"df-b5b167eb-9190-4150-920d-8ec3e1e97646\">\n",
              "  <button class=\"colab-df-quickchart\" onclick=\"quickchart('df-b5b167eb-9190-4150-920d-8ec3e1e97646')\"\n",
              "            title=\"Suggest charts\"\n",
              "            style=\"display:none;\">\n",
              "\n",
              "<svg xmlns=\"http://www.w3.org/2000/svg\" height=\"24px\"viewBox=\"0 0 24 24\"\n",
              "     width=\"24px\">\n",
              "    <g>\n",
              "        <path d=\"M19 3H5c-1.1 0-2 .9-2 2v14c0 1.1.9 2 2 2h14c1.1 0 2-.9 2-2V5c0-1.1-.9-2-2-2zM9 17H7v-7h2v7zm4 0h-2V7h2v10zm4 0h-2v-4h2v4z\"/>\n",
              "    </g>\n",
              "</svg>\n",
              "  </button>\n",
              "\n",
              "<style>\n",
              "  .colab-df-quickchart {\n",
              "      --bg-color: #E8F0FE;\n",
              "      --fill-color: #1967D2;\n",
              "      --hover-bg-color: #E2EBFA;\n",
              "      --hover-fill-color: #174EA6;\n",
              "      --disabled-fill-color: #AAA;\n",
              "      --disabled-bg-color: #DDD;\n",
              "  }\n",
              "\n",
              "  [theme=dark] .colab-df-quickchart {\n",
              "      --bg-color: #3B4455;\n",
              "      --fill-color: #D2E3FC;\n",
              "      --hover-bg-color: #434B5C;\n",
              "      --hover-fill-color: #FFFFFF;\n",
              "      --disabled-bg-color: #3B4455;\n",
              "      --disabled-fill-color: #666;\n",
              "  }\n",
              "\n",
              "  .colab-df-quickchart {\n",
              "    background-color: var(--bg-color);\n",
              "    border: none;\n",
              "    border-radius: 50%;\n",
              "    cursor: pointer;\n",
              "    display: none;\n",
              "    fill: var(--fill-color);\n",
              "    height: 32px;\n",
              "    padding: 0;\n",
              "    width: 32px;\n",
              "  }\n",
              "\n",
              "  .colab-df-quickchart:hover {\n",
              "    background-color: var(--hover-bg-color);\n",
              "    box-shadow: 0 1px 2px rgba(60, 64, 67, 0.3), 0 1px 3px 1px rgba(60, 64, 67, 0.15);\n",
              "    fill: var(--button-hover-fill-color);\n",
              "  }\n",
              "\n",
              "  .colab-df-quickchart-complete:disabled,\n",
              "  .colab-df-quickchart-complete:disabled:hover {\n",
              "    background-color: var(--disabled-bg-color);\n",
              "    fill: var(--disabled-fill-color);\n",
              "    box-shadow: none;\n",
              "  }\n",
              "\n",
              "  .colab-df-spinner {\n",
              "    border: 2px solid var(--fill-color);\n",
              "    border-color: transparent;\n",
              "    border-bottom-color: var(--fill-color);\n",
              "    animation:\n",
              "      spin 1s steps(1) infinite;\n",
              "  }\n",
              "\n",
              "  @keyframes spin {\n",
              "    0% {\n",
              "      border-color: transparent;\n",
              "      border-bottom-color: var(--fill-color);\n",
              "      border-left-color: var(--fill-color);\n",
              "    }\n",
              "    20% {\n",
              "      border-color: transparent;\n",
              "      border-left-color: var(--fill-color);\n",
              "      border-top-color: var(--fill-color);\n",
              "    }\n",
              "    30% {\n",
              "      border-color: transparent;\n",
              "      border-left-color: var(--fill-color);\n",
              "      border-top-color: var(--fill-color);\n",
              "      border-right-color: var(--fill-color);\n",
              "    }\n",
              "    40% {\n",
              "      border-color: transparent;\n",
              "      border-right-color: var(--fill-color);\n",
              "      border-top-color: var(--fill-color);\n",
              "    }\n",
              "    60% {\n",
              "      border-color: transparent;\n",
              "      border-right-color: var(--fill-color);\n",
              "    }\n",
              "    80% {\n",
              "      border-color: transparent;\n",
              "      border-right-color: var(--fill-color);\n",
              "      border-bottom-color: var(--fill-color);\n",
              "    }\n",
              "    90% {\n",
              "      border-color: transparent;\n",
              "      border-bottom-color: var(--fill-color);\n",
              "    }\n",
              "  }\n",
              "</style>\n",
              "\n",
              "  <script>\n",
              "    async function quickchart(key) {\n",
              "      const quickchartButtonEl =\n",
              "        document.querySelector('#' + key + ' button');\n",
              "      quickchartButtonEl.disabled = true;  // To prevent multiple clicks.\n",
              "      quickchartButtonEl.classList.add('colab-df-spinner');\n",
              "      try {\n",
              "        const charts = await google.colab.kernel.invokeFunction(\n",
              "            'suggestCharts', [key], {});\n",
              "      } catch (error) {\n",
              "        console.error('Error during call to suggestCharts:', error);\n",
              "      }\n",
              "      quickchartButtonEl.classList.remove('colab-df-spinner');\n",
              "      quickchartButtonEl.classList.add('colab-df-quickchart-complete');\n",
              "    }\n",
              "    (() => {\n",
              "      let quickchartButtonEl =\n",
              "        document.querySelector('#df-b5b167eb-9190-4150-920d-8ec3e1e97646 button');\n",
              "      quickchartButtonEl.style.display =\n",
              "        google.colab.kernel.accessAllowed ? 'block' : 'none';\n",
              "    })();\n",
              "  </script>\n",
              "</div>\n",
              "\n",
              "  <div id=\"id_ec3d2947-447d-476d-a35c-b0f6d83ad450\">\n",
              "    <style>\n",
              "      .colab-df-generate {\n",
              "        background-color: #E8F0FE;\n",
              "        border: none;\n",
              "        border-radius: 50%;\n",
              "        cursor: pointer;\n",
              "        display: none;\n",
              "        fill: #1967D2;\n",
              "        height: 32px;\n",
              "        padding: 0 0 0 0;\n",
              "        width: 32px;\n",
              "      }\n",
              "\n",
              "      .colab-df-generate:hover {\n",
              "        background-color: #E2EBFA;\n",
              "        box-shadow: 0px 1px 2px rgba(60, 64, 67, 0.3), 0px 1px 3px 1px rgba(60, 64, 67, 0.15);\n",
              "        fill: #174EA6;\n",
              "      }\n",
              "\n",
              "      [theme=dark] .colab-df-generate {\n",
              "        background-color: #3B4455;\n",
              "        fill: #D2E3FC;\n",
              "      }\n",
              "\n",
              "      [theme=dark] .colab-df-generate:hover {\n",
              "        background-color: #434B5C;\n",
              "        box-shadow: 0px 1px 3px 1px rgba(0, 0, 0, 0.15);\n",
              "        filter: drop-shadow(0px 1px 2px rgba(0, 0, 0, 0.3));\n",
              "        fill: #FFFFFF;\n",
              "      }\n",
              "    </style>\n",
              "    <button class=\"colab-df-generate\" onclick=\"generateWithVariable('sex_income')\"\n",
              "            title=\"Generate code using this dataframe.\"\n",
              "            style=\"display:none;\">\n",
              "\n",
              "  <svg xmlns=\"http://www.w3.org/2000/svg\" height=\"24px\"viewBox=\"0 0 24 24\"\n",
              "       width=\"24px\">\n",
              "    <path d=\"M7,19H8.4L18.45,9,17,7.55,7,17.6ZM5,21V16.75L18.45,3.32a2,2,0,0,1,2.83,0l1.4,1.43a1.91,1.91,0,0,1,.58,1.4,1.91,1.91,0,0,1-.58,1.4L9.25,21ZM18.45,9,17,7.55Zm-12,3A5.31,5.31,0,0,0,4.9,8.1,5.31,5.31,0,0,0,1,6.5,5.31,5.31,0,0,0,4.9,4.9,5.31,5.31,0,0,0,6.5,1,5.31,5.31,0,0,0,8.1,4.9,5.31,5.31,0,0,0,12,6.5,5.46,5.46,0,0,0,6.5,12Z\"/>\n",
              "  </svg>\n",
              "    </button>\n",
              "    <script>\n",
              "      (() => {\n",
              "      const buttonEl =\n",
              "        document.querySelector('#id_ec3d2947-447d-476d-a35c-b0f6d83ad450 button.colab-df-generate');\n",
              "      buttonEl.style.display =\n",
              "        google.colab.kernel.accessAllowed ? 'block' : 'none';\n",
              "\n",
              "      buttonEl.onclick = () => {\n",
              "        google.colab.notebook.generateWithVariable('sex_income');\n",
              "      }\n",
              "      })();\n",
              "    </script>\n",
              "  </div>\n",
              "\n",
              "    </div>\n",
              "  </div>\n"
            ],
            "application/vnd.google.colaboratory.intrinsic+json": {
              "type": "dataframe",
              "variable_name": "sex_income",
              "summary": "{\n  \"name\": \"sex_income\",\n  \"rows\": 2,\n  \"fields\": [\n    {\n      \"column\": \"sex\",\n      \"properties\": {\n        \"dtype\": \"string\",\n        \"num_unique_values\": 2,\n        \"samples\": [\n          \"male\",\n          \"female\"\n        ],\n        \"semantic_type\": \"\",\n        \"description\": \"\"\n      }\n    },\n    {\n      \"column\": \"mean_income\",\n      \"properties\": {\n        \"dtype\": \"number\",\n        \"std\": 105.39149380133622,\n        \"min\": 163.2470848708487,\n        \"max\": 312.2931647634584,\n        \"num_unique_values\": 2,\n        \"samples\": [\n          312.2931647634584,\n          163.2470848708487\n        ],\n        \"semantic_type\": \"\",\n        \"description\": \"\"\n      }\n    }\n  ]\n}"
            }
          },
          "metadata": {},
          "execution_count": 219
        }
      ],
      "source": [
        "# 하나씩 한 내용 종합하여 한번에 처리\n",
        "\n",
        "# 성별 월급 평균표 만들기\n",
        "# 그룹 이름을 행 인덱스로 사용하지 않게 설정\n",
        "sex_income = welfare.dropna(subset = ['sex','income']). \\\n",
        "                     groupby('sex', as_index = False). \\\n",
        "                     agg(mean_income = ('income', 'mean'))\n",
        "sex_income\n",
        "# income 결측치 제거\n",
        "# sex별 분리\n",
        "# income 평균 구하기"
      ]
    },
    {
      "cell_type": "code",
      "source": [
        "sex_income_diff = sex_income.iloc[1,1] - sex_income.iloc[0,1]\n",
        "sex_income_diff"
      ],
      "metadata": {
        "colab": {
          "base_uri": "https://localhost:8080/"
        },
        "id": "GBaUWTgdIvBu",
        "outputId": "a761cee8-b294-4a77-f6c3-b87b8fe3c050"
      },
      "execution_count": null,
      "outputs": [
        {
          "output_type": "execute_result",
          "data": {
            "text/plain": [
              "149.04607989260967"
            ]
          },
          "metadata": {},
          "execution_count": 220
        }
      ]
    },
    {
      "cell_type": "markdown",
      "metadata": {
        "id": "a09e2e54"
      },
      "source": [
        "#### 2. 그래프 만들기"
      ]
    },
    {
      "cell_type": "code",
      "execution_count": null,
      "metadata": {
        "eval": false,
        "id": "10f5d3f8",
        "colab": {
          "base_uri": "https://localhost:8080/",
          "height": 447
        },
        "outputId": "e6886fe4-753b-46b2-bbae-305833ce1982"
      },
      "outputs": [
        {
          "output_type": "display_data",
          "data": {
            "text/plain": [
              "<Figure size 640x480 with 1 Axes>"
            ],
            "image/png": "[encoded data removed]"
          },
          "metadata": {}
        }
      ],
      "source": [
        "# 막대 그래프 만들기\n",
        "sns.barplot(x = 'sex', y = 'mean_income', data = sex_income)\n",
        "plt.show()\n",
        "# 추가 분석 진행 - 독립표본 t검정 & 유의확률"
      ]
    },
    {
      "cell_type": "code",
      "source": [
        "# 막대 그래프 만들기\n",
        "sns.barplot(x = 'sex', y = 'mean_income', data = sex_income)\n",
        "for i, j in enumerate(sex_income[\"mean_income\"]):\n",
        "  plt.annotate(round(j), (i, j), xytext = (0, 2), textcoords = 'offset points', fontsize = 8, ha = 'center', color = 'black')\n",
        "plt.show()"
      ],
      "metadata": {
        "colab": {
          "base_uri": "https://localhost:8080/",
          "height": 447
        },
        "id": "8sO9AQ3Fa2B1",
        "outputId": "9c436a1c-1965-43bf-dec2-ba3582b65138"
      },
      "execution_count": null,
      "outputs": [
        {
          "output_type": "display_data",
          "data": {
            "text/plain": [
              "<Figure size 640x480 with 1 Axes>"
            ],
            "image/png": "[encoded data removed]"
          },
          "metadata": {}
        }
      ]
    },
    {
      "cell_type": "markdown",
      "source": [
        "# 중간 데이터 저장"
      ],
      "metadata": {
        "id": "4-OxoGZY3ShK"
      }
    },
    {
      "cell_type": "code",
      "source": [
        "welfare.to_csv('/content/drive/MyDrive/lsda02/data/welfare_2015_0408.csv', index = False)"
      ],
      "metadata": {
        "id": "C39LfYkb3Uxz"
      },
      "execution_count": null,
      "outputs": []
    },
    {
      "cell_type": "code",
      "source": [
        "# 데이터 불러오기\n",
        "welfare = pd.read_csv('/content/drive/MyDrive/lsda02/data/welfare_2015_0408.csv')"
      ],
      "metadata": {
        "id": "_9hiZHFr3reH"
      },
      "execution_count": null,
      "outputs": []
    },
    {
      "cell_type": "markdown",
      "metadata": {
        "id": "f86fab2e"
      },
      "source": [
        "## 2 나이와 월급의 관계 - '몇 살 때 월급을 가장 많이 받을까?'"
      ]
    },
    {
      "cell_type": "markdown",
      "source": [
        "### 나이 변수 검토 및 전처리하기"
      ],
      "metadata": {
        "id": "v5uQtOcO4wsU"
      }
    },
    {
      "cell_type": "markdown",
      "source": [
        "#### 1. 변수 검토하기"
      ],
      "metadata": {
        "id": "rK9IK99Z4yxh"
      }
    },
    {
      "cell_type": "code",
      "execution_count": null,
      "metadata": {
        "id": "861c3bf4",
        "outputId": "f411c0be-8f01-431a-b49e-df063517d6da",
        "colab": {
          "base_uri": "https://localhost:8080/"
        }
      },
      "outputs": [
        {
          "output_type": "execute_result",
          "data": {
            "text/plain": [
              "dtype('int64')"
            ]
          },
          "metadata": {},
          "execution_count": 225
        }
      ],
      "source": [
        "welfare['birth_year'].dtypes  # 변수 타입 출력"
      ]
    },
    {
      "cell_type": "code",
      "execution_count": null,
      "metadata": {
        "id": "7604c8ff",
        "colab": {
          "base_uri": "https://localhost:8080/"
        },
        "outputId": "bb2b70d3-8c8f-4f34-b22d-b0918f17c483"
      },
      "outputs": [
        {
          "output_type": "execute_result",
          "data": {
            "text/plain": [
              "count    16670.000000\n",
              "mean      1968.047391\n",
              "std         66.738241\n",
              "min       1907.000000\n",
              "25%       1946.000000\n",
              "50%       1966.000000\n",
              "75%       1988.000000\n",
              "max       9999.000000\n",
              "Name: birth_year, dtype: float64"
            ]
          },
          "metadata": {},
          "execution_count": 226
        }
      ],
      "source": [
        "welfare['birth_year'].describe()  # 요약 통계량 구하기"
      ]
    },
    {
      "cell_type": "code",
      "source": [
        "# 빈도 구하기\n",
        "welfare['birth_year'].value_counts(dropna = False)"
      ],
      "metadata": {
        "id": "m2_-UxcfEjfD",
        "colab": {
          "base_uri": "https://localhost:8080/"
        },
        "outputId": "2709e68d-ca69-4e1d-b9a2-c42f33f8de5f"
      },
      "execution_count": null,
      "outputs": [
        {
          "output_type": "execute_result",
          "data": {
            "text/plain": [
              "birth_year\n",
              "1942    354\n",
              "1939    300\n",
              "1940    294\n",
              "1938    279\n",
              "1947    269\n",
              "       ... \n",
              "1914      1\n",
              "1911      1\n",
              "1917      1\n",
              "1915      1\n",
              "9999      1\n",
              "Name: count, Length: 103, dtype: int64"
            ]
          },
          "metadata": {},
          "execution_count": 227
        }
      ]
    },
    {
      "cell_type": "code",
      "execution_count": null,
      "metadata": {
        "eval": false,
        "id": "d79f323e",
        "outputId": "05f99fcc-b783-4c09-8547-73b05d29c41f",
        "colab": {
          "base_uri": "https://localhost:8080/",
          "height": 447
        }
      },
      "outputs": [
        {
          "output_type": "display_data",
          "data": {
            "text/plain": [
              "<Figure size 640x480 with 1 Axes>"
            ],
            "image/png": "[encoded data removed]"
          },
          "metadata": {}
        }
      ],
      "source": [
        "sns.histplot(x = 'birth_year', data = welfare).set(xlim = (1900,2020))  # 히스토그램 만들기\n",
        "plt.show()"
      ]
    },
    {
      "cell_type": "markdown",
      "metadata": {
        "id": "549fd2df"
      },
      "source": [
        "#### 2. 전처리"
      ]
    },
    {
      "cell_type": "code",
      "execution_count": null,
      "metadata": {
        "id": "531b1090",
        "outputId": "2bcbfd31-4b8f-4b6d-c4af-a257eb81860c",
        "colab": {
          "base_uri": "https://localhost:8080/"
        }
      },
      "outputs": [
        {
          "output_type": "execute_result",
          "data": {
            "text/plain": [
              "count    16670.000000\n",
              "mean      1968.047391\n",
              "std         66.738241\n",
              "min       1907.000000\n",
              "25%       1946.000000\n",
              "50%       1966.000000\n",
              "75%       1988.000000\n",
              "max       9999.000000\n",
              "Name: birth_year, dtype: float64"
            ]
          },
          "metadata": {},
          "execution_count": 229
        }
      ],
      "source": [
        "welfare['birth_year'].describe()  # 이상치 확인\n",
        "# 9999 => 코드북 상으로 모름/무응답(미상)"
      ]
    },
    {
      "cell_type": "code",
      "execution_count": null,
      "metadata": {
        "id": "eb63165b",
        "outputId": "3604feec-8606-455a-b576-d7c2ca36a849",
        "colab": {
          "base_uri": "https://localhost:8080/"
        }
      },
      "outputs": [
        {
          "output_type": "execute_result",
          "data": {
            "text/plain": [
              "0"
            ]
          },
          "metadata": {},
          "execution_count": 230
        }
      ],
      "source": [
        "welfare['birth_year'].isnull().sum()  # 결측치 확인"
      ]
    },
    {
      "cell_type": "code",
      "source": [
        "# 빈도 구하기\n",
        "welfare['birth_year'].value_counts(dropna = False)"
      ],
      "metadata": {
        "colab": {
          "base_uri": "https://localhost:8080/"
        },
        "id": "On6nVpRIE60S",
        "outputId": "374acdbe-ff87-4cab-9240-3501457fd607"
      },
      "execution_count": null,
      "outputs": [
        {
          "output_type": "execute_result",
          "data": {
            "text/plain": [
              "birth_year\n",
              "1942    354\n",
              "1939    300\n",
              "1940    294\n",
              "1938    279\n",
              "1947    269\n",
              "       ... \n",
              "1914      1\n",
              "1911      1\n",
              "1917      1\n",
              "1915      1\n",
              "9999      1\n",
              "Name: count, Length: 103, dtype: int64"
            ]
          },
          "metadata": {},
          "execution_count": 231
        }
      ]
    },
    {
      "cell_type": "code",
      "execution_count": null,
      "metadata": {
        "eval": false,
        "id": "87acb792"
      },
      "outputs": [],
      "source": [
        "# 이상치 결측 처리\n",
        "welfare['birth_year'] = np.where(welfare['birth_year'] == 9999, np.nan, welfare['birth_year'])"
      ]
    },
    {
      "cell_type": "code",
      "source": [
        "# 결측치 확인\n",
        "welfare['birth_year'].isnull().sum()"
      ],
      "metadata": {
        "colab": {
          "base_uri": "https://localhost:8080/"
        },
        "id": "M6Q10dPVTbAf",
        "outputId": "7d1aca5f-4cfa-4fcb-b7e9-4bcb9b851298"
      },
      "execution_count": null,
      "outputs": [
        {
          "output_type": "execute_result",
          "data": {
            "text/plain": [
              "1"
            ]
          },
          "metadata": {},
          "execution_count": 233
        }
      ]
    },
    {
      "cell_type": "code",
      "source": [
        "# 빈도 구하기\n",
        "welfare['birth_year'].value_counts(dropna = False)"
      ],
      "metadata": {
        "colab": {
          "base_uri": "https://localhost:8080/"
        },
        "id": "834JFdZuFC3G",
        "outputId": "ba3863a5-53fe-4c5a-dd33-401d6ac5e403"
      },
      "execution_count": null,
      "outputs": [
        {
          "output_type": "execute_result",
          "data": {
            "text/plain": [
              "birth_year\n",
              "1942.0    354\n",
              "1939.0    300\n",
              "1940.0    294\n",
              "1938.0    279\n",
              "1947.0    269\n",
              "         ... \n",
              "1914.0      1\n",
              "1911.0      1\n",
              "1917.0      1\n",
              "1915.0      1\n",
              "NaN         1\n",
              "Name: count, Length: 103, dtype: int64"
            ]
          },
          "metadata": {},
          "execution_count": 234
        }
      ]
    },
    {
      "cell_type": "code",
      "source": [
        "welfare['birth_year'].describe()  # 이상치 확인"
      ],
      "metadata": {
        "colab": {
          "base_uri": "https://localhost:8080/"
        },
        "id": "oMUAI-zCUBvE",
        "outputId": "26bb357a-0354-429c-817e-2c28fbded6b7"
      },
      "execution_count": null,
      "outputs": [
        {
          "output_type": "execute_result",
          "data": {
            "text/plain": [
              "count    16669.000000\n",
              "mean      1967.565601\n",
              "std         24.177789\n",
              "min       1907.000000\n",
              "25%       1946.000000\n",
              "50%       1966.000000\n",
              "75%       1988.000000\n",
              "max       2014.000000\n",
              "Name: birth_year, dtype: float64"
            ]
          },
          "metadata": {},
          "execution_count": 235
        }
      ]
    },
    {
      "cell_type": "markdown",
      "metadata": {
        "id": "757ff7ce"
      },
      "source": [
        "#### 3. 파생변수 만들기 - 나이"
      ]
    },
    {
      "cell_type": "code",
      "source": [
        "welfare['age'] = 2015 - welfare['birth_year'] + 1"
      ],
      "metadata": {
        "id": "i1DVisCqf8cy"
      },
      "execution_count": null,
      "outputs": []
    },
    {
      "cell_type": "code",
      "source": [
        "welfare.head()"
      ],
      "metadata": {
        "colab": {
          "base_uri": "https://localhost:8080/",
          "height": 206
        },
        "id": "iFWc4FhBTsbv",
        "outputId": "c7c21305-b6e1-43c8-e70d-45c61b5a6083"
      },
      "execution_count": null,
      "outputs": [
        {
          "output_type": "execute_result",
          "data": {
            "text/plain": [
              "      sex  birth_year  marital_status  religion  job_code  income  \\\n",
              "0  female      1936.0               2         2       NaN     NaN   \n",
              "1  female      1945.0               2         2       NaN     NaN   \n",
              "2    male      1948.0               2         2     942.0   120.0   \n",
              "3    male      1942.0               3         1     762.0   200.0   \n",
              "4  female      1923.0               2         1       NaN     NaN   \n",
              "\n",
              "   region_code   age  \n",
              "0            1  80.0  \n",
              "1            1  71.0  \n",
              "2            1  68.0  \n",
              "3            1  74.0  \n",
              "4            1  93.0  "
            ],
            "text/html": [
              "\n",
              "  <div id=\"df-cb5aeb63-64a7-4511-b79c-5fe02962f5dc\" class=\"colab-df-container\">\n",
              "    <div>\n",
              "<style scoped>\n",
              "    .dataframe tbody tr th:only-of-type {\n",
              "        vertical-align: middle;\n",
              "    }\n",
              "\n",
              "    .dataframe tbody tr th {\n",
              "        vertical-align: top;\n",
              "    }\n",
              "\n",
              "    .dataframe thead th {\n",
              "        text-align: right;\n",
              "    }\n",
              "</style>\n",
              "<table border=\"1\" class=\"dataframe\">\n",
              "  <thead>\n",
              "    <tr style=\"text-align: right;\">\n",
              "      <th></th>\n",
              "      <th>sex</th>\n",
              "      <th>birth_year</th>\n",
              "      <th>marital_status</th>\n",
              "      <th>religion</th>\n",
              "      <th>job_code</th>\n",
              "      <th>income</th>\n",
              "      <th>region_code</th>\n",
              "      <th>age</th>\n",
              "    </tr>\n",
              "  </thead>\n",
              "  <tbody>\n",
              "    <tr>\n",
              "      <th>0</th>\n",
              "      <td>female</td>\n",
              "      <td>1936.0</td>\n",
              "      <td>2</td>\n",
              "      <td>2</td>\n",
              "      <td>NaN</td>\n",
              "      <td>NaN</td>\n",
              "      <td>1</td>\n",
              "      <td>80.0</td>\n",
              "    </tr>\n",
              "    <tr>\n",
              "      <th>1</th>\n",
              "      <td>female</td>\n",
              "      <td>1945.0</td>\n",
              "      <td>2</td>\n",
              "      <td>2</td>\n",
              "      <td>NaN</td>\n",
              "      <td>NaN</td>\n",
              "      <td>1</td>\n",
              "      <td>71.0</td>\n",
              "    </tr>\n",
              "    <tr>\n",
              "      <th>2</th>\n",
              "      <td>male</td>\n",
              "      <td>1948.0</td>\n",
              "      <td>2</td>\n",
              "      <td>2</td>\n",
              "      <td>942.0</td>\n",
              "      <td>120.0</td>\n",
              "      <td>1</td>\n",
              "      <td>68.0</td>\n",
              "    </tr>\n",
              "    <tr>\n",
              "      <th>3</th>\n",
              "      <td>male</td>\n",
              "      <td>1942.0</td>\n",
              "      <td>3</td>\n",
              "      <td>1</td>\n",
              "      <td>762.0</td>\n",
              "      <td>200.0</td>\n",
              "      <td>1</td>\n",
              "      <td>74.0</td>\n",
              "    </tr>\n",
              "    <tr>\n",
              "      <th>4</th>\n",
              "      <td>female</td>\n",
              "      <td>1923.0</td>\n",
              "      <td>2</td>\n",
              "      <td>1</td>\n",
              "      <td>NaN</td>\n",
              "      <td>NaN</td>\n",
              "      <td>1</td>\n",
              "      <td>93.0</td>\n",
              "    </tr>\n",
              "  </tbody>\n",
              "</table>\n",
              "</div>\n",
              "    <div class=\"colab-df-buttons\">\n",
              "\n",
              "  <div class=\"colab-df-container\">\n",
              "    <button class=\"colab-df-convert\" onclick=\"convertToInteractive('df-cb5aeb63-64a7-4511-b79c-5fe02962f5dc')\"\n",
              "            title=\"Convert this dataframe to an interactive table.\"\n",
              "            style=\"display:none;\">\n",
              "\n",
              "  <svg xmlns=\"http://www.w3.org/2000/svg\" height=\"24px\" viewBox=\"0 -960 960 960\">\n",
              "    <path d=\"M120-120v-720h720v720H120Zm60-500h600v-160H180v160Zm220 220h160v-160H400v160Zm0 220h160v-160H400v160ZM180-400h160v-160H180v160Zm440 0h160v-160H620v160ZM180-180h160v-160H180v160Zm440 0h160v-160H620v160Z\"/>\n",
              "  </svg>\n",
              "    </button>\n",
              "\n",
              "  <style>\n",
              "    .colab-df-container {\n",
              "      display:flex;\n",
              "      gap: 12px;\n",
              "    }\n",
              "\n",
              "    .colab-df-convert {\n",
              "      background-color: #E8F0FE;\n",
              "      border: none;\n",
              "      border-radius: 50%;\n",
              "      cursor: pointer;\n",
              "      display: none;\n",
              "      fill: #1967D2;\n",
              "      height: 32px;\n",
              "      padding: 0 0 0 0;\n",
              "      width: 32px;\n",
              "    }\n",
              "\n",
              "    .colab-df-convert:hover {\n",
              "      background-color: #E2EBFA;\n",
              "      box-shadow: 0px 1px 2px rgba(60, 64, 67, 0.3), 0px 1px 3px 1px rgba(60, 64, 67, 0.15);\n",
              "      fill: #174EA6;\n",
              "    }\n",
              "\n",
              "    .colab-df-buttons div {\n",
              "      margin-bottom: 4px;\n",
              "    }\n",
              "\n",
              "    [theme=dark] .colab-df-convert {\n",
              "      background-color: #3B4455;\n",
              "      fill: #D2E3FC;\n",
              "    }\n",
              "\n",
              "    [theme=dark] .colab-df-convert:hover {\n",
              "      background-color: #434B5C;\n",
              "      box-shadow: 0px 1px 3px 1px rgba(0, 0, 0, 0.15);\n",
              "      filter: drop-shadow(0px 1px 2px rgba(0, 0, 0, 0.3));\n",
              "      fill: #FFFFFF;\n",
              "    }\n",
              "  </style>\n",
              "\n",
              "    <script>\n",
              "      const buttonEl =\n",
              "        document.querySelector('#df-cb5aeb63-64a7-4511-b79c-5fe02962f5dc button.colab-df-convert');\n",
              "      buttonEl.style.display =\n",
              "        google.colab.kernel.accessAllowed ? 'block' : 'none';\n",
              "\n",
              "      async function convertToInteractive(key) {\n",
              "        const element = document.querySelector('#df-cb5aeb63-64a7-4511-b79c-5fe02962f5dc');\n",
              "        const dataTable =\n",
              "          await google.colab.kernel.invokeFunction('convertToInteractive',\n",
              "                                                    [key], {});\n",
              "        if (!dataTable) return;\n",
              "\n",
              "        const docLinkHtml = 'Like what you see? Visit the ' +\n",
              "          '<a target=\"_blank\" href=https://colab.research.google.com/notebooks/data_table.ipynb>data table notebook</a>'\n",
              "          + ' to learn more about interactive tables.';\n",
              "        element.innerHTML = '';\n",
              "        dataTable['output_type'] = 'display_data';\n",
              "        await google.colab.output.renderOutput(dataTable, element);\n",
              "        const docLink = document.createElement('div');\n",
              "        docLink.innerHTML = docLinkHtml;\n",
              "        element.appendChild(docLink);\n",
              "      }\n",
              "    </script>\n",
              "  </div>\n",
              "\n",
              "\n",
              "<div id=\"df-c987855c-a934-4142-8533-d7dfe2d6d4eb\">\n",
              "  <button class=\"colab-df-quickchart\" onclick=\"quickchart('df-c987855c-a934-4142-8533-d7dfe2d6d4eb')\"\n",
              "            title=\"Suggest charts\"\n",
              "            style=\"display:none;\">\n",
              "\n",
              "<svg xmlns=\"http://www.w3.org/2000/svg\" height=\"24px\"viewBox=\"0 0 24 24\"\n",
              "     width=\"24px\">\n",
              "    <g>\n",
              "        <path d=\"M19 3H5c-1.1 0-2 .9-2 2v14c0 1.1.9 2 2 2h14c1.1 0 2-.9 2-2V5c0-1.1-.9-2-2-2zM9 17H7v-7h2v7zm4 0h-2V7h2v10zm4 0h-2v-4h2v4z\"/>\n",
              "    </g>\n",
              "</svg>\n",
              "  </button>\n",
              "\n",
              "<style>\n",
              "  .colab-df-quickchart {\n",
              "      --bg-color: #E8F0FE;\n",
              "      --fill-color: #1967D2;\n",
              "      --hover-bg-color: #E2EBFA;\n",
              "      --hover-fill-color: #174EA6;\n",
              "      --disabled-fill-color: #AAA;\n",
              "      --disabled-bg-color: #DDD;\n",
              "  }\n",
              "\n",
              "  [theme=dark] .colab-df-quickchart {\n",
              "      --bg-color: #3B4455;\n",
              "      --fill-color: #D2E3FC;\n",
              "      --hover-bg-color: #434B5C;\n",
              "      --hover-fill-color: #FFFFFF;\n",
              "      --disabled-bg-color: #3B4455;\n",
              "      --disabled-fill-color: #666;\n",
              "  }\n",
              "\n",
              "  .colab-df-quickchart {\n",
              "    background-color: var(--bg-color);\n",
              "    border: none;\n",
              "    border-radius: 50%;\n",
              "    cursor: pointer;\n",
              "    display: none;\n",
              "    fill: var(--fill-color);\n",
              "    height: 32px;\n",
              "    padding: 0;\n",
              "    width: 32px;\n",
              "  }\n",
              "\n",
              "  .colab-df-quickchart:hover {\n",
              "    background-color: var(--hover-bg-color);\n",
              "    box-shadow: 0 1px 2px rgba(60, 64, 67, 0.3), 0 1px 3px 1px rgba(60, 64, 67, 0.15);\n",
              "    fill: var(--button-hover-fill-color);\n",
              "  }\n",
              "\n",
              "  .colab-df-quickchart-complete:disabled,\n",
              "  .colab-df-quickchart-complete:disabled:hover {\n",
              "    background-color: var(--disabled-bg-color);\n",
              "    fill: var(--disabled-fill-color);\n",
              "    box-shadow: none;\n",
              "  }\n",
              "\n",
              "  .colab-df-spinner {\n",
              "    border: 2px solid var(--fill-color);\n",
              "    border-color: transparent;\n",
              "    border-bottom-color: var(--fill-color);\n",
              "    animation:\n",
              "      spin 1s steps(1) infinite;\n",
              "  }\n",
              "\n",
              "  @keyframes spin {\n",
              "    0% {\n",
              "      border-color: transparent;\n",
              "      border-bottom-color: var(--fill-color);\n",
              "      border-left-color: var(--fill-color);\n",
              "    }\n",
              "    20% {\n",
              "      border-color: transparent;\n",
              "      border-left-color: var(--fill-color);\n",
              "      border-top-color: var(--fill-color);\n",
              "    }\n",
              "    30% {\n",
              "      border-color: transparent;\n",
              "      border-left-color: var(--fill-color);\n",
              "      border-top-color: var(--fill-color);\n",
              "      border-right-color: var(--fill-color);\n",
              "    }\n",
              "    40% {\n",
              "      border-color: transparent;\n",
              "      border-right-color: var(--fill-color);\n",
              "      border-top-color: var(--fill-color);\n",
              "    }\n",
              "    60% {\n",
              "      border-color: transparent;\n",
              "      border-right-color: var(--fill-color);\n",
              "    }\n",
              "    80% {\n",
              "      border-color: transparent;\n",
              "      border-right-color: var(--fill-color);\n",
              "      border-bottom-color: var(--fill-color);\n",
              "    }\n",
              "    90% {\n",
              "      border-color: transparent;\n",
              "      border-bottom-color: var(--fill-color);\n",
              "    }\n",
              "  }\n",
              "</style>\n",
              "\n",
              "  <script>\n",
              "    async function quickchart(key) {\n",
              "      const quickchartButtonEl =\n",
              "        document.querySelector('#' + key + ' button');\n",
              "      quickchartButtonEl.disabled = true;  // To prevent multiple clicks.\n",
              "      quickchartButtonEl.classList.add('colab-df-spinner');\n",
              "      try {\n",
              "        const charts = await google.colab.kernel.invokeFunction(\n",
              "            'suggestCharts', [key], {});\n",
              "      } catch (error) {\n",
              "        console.error('Error during call to suggestCharts:', error);\n",
              "      }\n",
              "      quickchartButtonEl.classList.remove('colab-df-spinner');\n",
              "      quickchartButtonEl.classList.add('colab-df-quickchart-complete');\n",
              "    }\n",
              "    (() => {\n",
              "      let quickchartButtonEl =\n",
              "        document.querySelector('#df-c987855c-a934-4142-8533-d7dfe2d6d4eb button');\n",
              "      quickchartButtonEl.style.display =\n",
              "        google.colab.kernel.accessAllowed ? 'block' : 'none';\n",
              "    })();\n",
              "  </script>\n",
              "</div>\n",
              "\n",
              "    </div>\n",
              "  </div>\n"
            ],
            "application/vnd.google.colaboratory.intrinsic+json": {
              "type": "dataframe",
              "variable_name": "welfare",
              "summary": "{\n  \"name\": \"welfare\",\n  \"rows\": 16670,\n  \"fields\": [\n    {\n      \"column\": \"sex\",\n      \"properties\": {\n        \"dtype\": \"category\",\n        \"num_unique_values\": 2,\n        \"samples\": [\n          \"male\",\n          \"female\"\n        ],\n        \"semantic_type\": \"\",\n        \"description\": \"\"\n      }\n    },\n    {\n      \"column\": \"birth_year\",\n      \"properties\": {\n        \"dtype\": \"number\",\n        \"std\": 24.17778909850143,\n        \"min\": 1907.0,\n        \"max\": 2014.0,\n        \"num_unique_values\": 102,\n        \"samples\": [\n          1939.0,\n          1988.0\n        ],\n        \"semantic_type\": \"\",\n        \"description\": \"\"\n      }\n    },\n    {\n      \"column\": \"marital_status\",\n      \"properties\": {\n        \"dtype\": \"number\",\n        \"std\": 1,\n        \"min\": 0,\n        \"max\": 9,\n        \"num_unique_values\": 8,\n        \"samples\": [\n          3,\n          4\n        ],\n        \"semantic_type\": \"\",\n        \"description\": \"\"\n      }\n    },\n    {\n      \"column\": \"religion\",\n      \"properties\": {\n        \"dtype\": \"number\",\n        \"std\": 0,\n        \"min\": 1,\n        \"max\": 9,\n        \"num_unique_values\": 3,\n        \"samples\": [\n          2,\n          1\n        ],\n        \"semantic_type\": \"\",\n        \"description\": \"\"\n      }\n    },\n    {\n      \"column\": \"job_code\",\n      \"properties\": {\n        \"dtype\": \"number\",\n        \"std\": 277.80442675969294,\n        \"min\": 111.0,\n        \"max\": 9999.0,\n        \"num_unique_values\": 146,\n        \"samples\": [\n          243.0,\n          855.0\n        ],\n        \"semantic_type\": \"\",\n        \"description\": \"\"\n      }\n    },\n    {\n      \"column\": \"income\",\n      \"properties\": {\n        \"dtype\": \"number\",\n        \"std\": 184.22206728611204,\n        \"min\": 0.46,\n        \"max\": 2400.0,\n        \"num_unique_values\": 1766,\n        \"samples\": [\n          405.5,\n          93.1\n        ],\n        \"semantic_type\": \"\",\n        \"description\": \"\"\n      }\n    },\n    {\n      \"column\": \"region_code\",\n      \"properties\": {\n        \"dtype\": \"number\",\n        \"std\": 2,\n        \"min\": 1,\n        \"max\": 7,\n        \"num_unique_values\": 7,\n        \"samples\": [\n          1,\n          7\n        ],\n        \"semantic_type\": \"\",\n        \"description\": \"\"\n      }\n    },\n    {\n      \"column\": \"age\",\n      \"properties\": {\n        \"dtype\": \"number\",\n        \"std\": 24.17778909850143,\n        \"min\": 2.0,\n        \"max\": 109.0,\n        \"num_unique_values\": 102,\n        \"samples\": [\n          77.0,\n          28.0\n        ],\n        \"semantic_type\": \"\",\n        \"description\": \"\"\n      }\n    }\n  ]\n}"
            }
          },
          "metadata": {},
          "execution_count": 237
        }
      ]
    },
    {
      "cell_type": "code",
      "source": [
        "# 결측치 확인\n",
        "welfare['age'].isnull().sum()"
      ],
      "metadata": {
        "colab": {
          "base_uri": "https://localhost:8080/"
        },
        "id": "unThOWUmU0c0",
        "outputId": "035c27b0-d4c4-4681-bf15-49ff158d85d2"
      },
      "execution_count": null,
      "outputs": [
        {
          "output_type": "execute_result",
          "data": {
            "text/plain": [
              "1"
            ]
          },
          "metadata": {},
          "execution_count": 238
        }
      ]
    },
    {
      "cell_type": "code",
      "source": [
        "# 빈도 구하기\n",
        "welfare['age'].value_counts(dropna = False)"
      ],
      "metadata": {
        "colab": {
          "base_uri": "https://localhost:8080/"
        },
        "id": "qGKy4PyzFWl9",
        "outputId": "6f82052e-953e-4ff7-89d6-c8512b171304"
      },
      "execution_count": null,
      "outputs": [
        {
          "output_type": "execute_result",
          "data": {
            "text/plain": [
              "age\n",
              "74.0     354\n",
              "77.0     300\n",
              "76.0     294\n",
              "78.0     279\n",
              "69.0     269\n",
              "        ... \n",
              "102.0      1\n",
              "105.0      1\n",
              "99.0       1\n",
              "101.0      1\n",
              "NaN        1\n",
              "Name: count, Length: 103, dtype: int64"
            ]
          },
          "metadata": {},
          "execution_count": 239
        }
      ]
    },
    {
      "cell_type": "code",
      "source": [
        "welfare['age'].describe() # 요약 통계량 구하기"
      ],
      "metadata": {
        "colab": {
          "base_uri": "https://localhost:8080/"
        },
        "id": "PiGddkf5TisT",
        "outputId": "a1c44bd3-b439-442f-a53c-36519a7b05bd"
      },
      "execution_count": null,
      "outputs": [
        {
          "output_type": "execute_result",
          "data": {
            "text/plain": [
              "count    16669.000000\n",
              "mean        48.434399\n",
              "std         24.177789\n",
              "min          2.000000\n",
              "25%         28.000000\n",
              "50%         50.000000\n",
              "75%         70.000000\n",
              "max        109.000000\n",
              "Name: age, dtype: float64"
            ]
          },
          "metadata": {},
          "execution_count": 240
        }
      ]
    },
    {
      "cell_type": "code",
      "execution_count": null,
      "metadata": {
        "eval": false,
        "id": "9d09266a",
        "outputId": "2cd8dc8c-0a51-4255-a3b1-b69af0d8acd0",
        "colab": {
          "base_uri": "https://localhost:8080/",
          "height": 451
        }
      },
      "outputs": [
        {
          "output_type": "display_data",
          "data": {
            "text/plain": [
              "<Figure size 640x480 with 1 Axes>"
            ],
            "image/png": "[encoded data removed]"
          },
          "metadata": {}
        }
      ],
      "source": [
        "sns.histplot(x = 'age', data = welfare)  # 히스토그램 만들기\n",
        "plt.show()"
      ]
    },
    {
      "cell_type": "markdown",
      "metadata": {
        "id": "834ef6ee"
      },
      "source": [
        "### 나이와 월급의 관계 분석하기"
      ]
    },
    {
      "cell_type": "markdown",
      "source": [
        "#### 1. 나이에 따른 월급 평균표 만들기"
      ],
      "metadata": {
        "id": "XPH8O1Xs4K-9"
      }
    },
    {
      "cell_type": "code",
      "source": [
        "welfare.info()"
      ],
      "metadata": {
        "colab": {
          "base_uri": "https://localhost:8080/"
        },
        "id": "clIQsyfZF8b5",
        "outputId": "fd871fe1-9adb-4990-8c16-5115d5d67294"
      },
      "execution_count": null,
      "outputs": [
        {
          "output_type": "stream",
          "name": "stdout",
          "text": [
            "<class 'pandas.core.frame.DataFrame'>\n",
            "RangeIndex: 16670 entries, 0 to 16669\n",
            "Data columns (total 8 columns):\n",
            " #   Column          Non-Null Count  Dtype  \n",
            "---  ------          --------------  -----  \n",
            " 0   sex             16669 non-null  object \n",
            " 1   birth_year      16669 non-null  float64\n",
            " 2   marital_status  16670 non-null  int64  \n",
            " 3   religion        16670 non-null  int64  \n",
            " 4   job_code        7530 non-null   float64\n",
            " 5   income          4620 non-null   float64\n",
            " 6   region_code     16670 non-null  int64  \n",
            " 7   age             16669 non-null  float64\n",
            "dtypes: float64(4), int64(3), object(1)\n",
            "memory usage: 1.0+ MB\n"
          ]
        }
      ]
    },
    {
      "cell_type": "code",
      "execution_count": null,
      "metadata": {
        "id": "a01f170d",
        "outputId": "9c427e97-a599-43d2-c050-feeb84b978dc",
        "colab": {
          "base_uri": "https://localhost:8080/",
          "height": 206
        }
      },
      "outputs": [
        {
          "output_type": "execute_result",
          "data": {
            "text/plain": [
              "    age  mean_income\n",
              "0  20.0   121.300000\n",
              "1  21.0   105.518519\n",
              "2  22.0   130.092258\n",
              "3  23.0   141.715652\n",
              "4  24.0   134.087736"
            ],
            "text/html": [
              "\n",
              "  <div id=\"df-288698b1-9dd8-4622-a911-a1a433ed11a9\" class=\"colab-df-container\">\n",
              "    <div>\n",
              "<style scoped>\n",
              "    .dataframe tbody tr th:only-of-type {\n",
              "        vertical-align: middle;\n",
              "    }\n",
              "\n",
              "    .dataframe tbody tr th {\n",
              "        vertical-align: top;\n",
              "    }\n",
              "\n",
              "    .dataframe thead th {\n",
              "        text-align: right;\n",
              "    }\n",
              "</style>\n",
              "<table border=\"1\" class=\"dataframe\">\n",
              "  <thead>\n",
              "    <tr style=\"text-align: right;\">\n",
              "      <th></th>\n",
              "      <th>age</th>\n",
              "      <th>mean_income</th>\n",
              "    </tr>\n",
              "  </thead>\n",
              "  <tbody>\n",
              "    <tr>\n",
              "      <th>0</th>\n",
              "      <td>20.0</td>\n",
              "      <td>121.300000</td>\n",
              "    </tr>\n",
              "    <tr>\n",
              "      <th>1</th>\n",
              "      <td>21.0</td>\n",
              "      <td>105.518519</td>\n",
              "    </tr>\n",
              "    <tr>\n",
              "      <th>2</th>\n",
              "      <td>22.0</td>\n",
              "      <td>130.092258</td>\n",
              "    </tr>\n",
              "    <tr>\n",
              "      <th>3</th>\n",
              "      <td>23.0</td>\n",
              "      <td>141.715652</td>\n",
              "    </tr>\n",
              "    <tr>\n",
              "      <th>4</th>\n",
              "      <td>24.0</td>\n",
              "      <td>134.087736</td>\n",
              "    </tr>\n",
              "  </tbody>\n",
              "</table>\n",
              "</div>\n",
              "    <div class=\"colab-df-buttons\">\n",
              "\n",
              "  <div class=\"colab-df-container\">\n",
              "    <button class=\"colab-df-convert\" onclick=\"convertToInteractive('df-288698b1-9dd8-4622-a911-a1a433ed11a9')\"\n",
              "            title=\"Convert this dataframe to an interactive table.\"\n",
              "            style=\"display:none;\">\n",
              "\n",
              "  <svg xmlns=\"http://www.w3.org/2000/svg\" height=\"24px\" viewBox=\"0 -960 960 960\">\n",
              "    <path d=\"M120-120v-720h720v720H120Zm60-500h600v-160H180v160Zm220 220h160v-160H400v160Zm0 220h160v-160H400v160ZM180-400h160v-160H180v160Zm440 0h160v-160H620v160ZM180-180h160v-160H180v160Zm440 0h160v-160H620v160Z\"/>\n",
              "  </svg>\n",
              "    </button>\n",
              "\n",
              "  <style>\n",
              "    .colab-df-container {\n",
              "      display:flex;\n",
              "      gap: 12px;\n",
              "    }\n",
              "\n",
              "    .colab-df-convert {\n",
              "      background-color: #E8F0FE;\n",
              "      border: none;\n",
              "      border-radius: 50%;\n",
              "      cursor: pointer;\n",
              "      display: none;\n",
              "      fill: #1967D2;\n",
              "      height: 32px;\n",
              "      padding: 0 0 0 0;\n",
              "      width: 32px;\n",
              "    }\n",
              "\n",
              "    .colab-df-convert:hover {\n",
              "      background-color: #E2EBFA;\n",
              "      box-shadow: 0px 1px 2px rgba(60, 64, 67, 0.3), 0px 1px 3px 1px rgba(60, 64, 67, 0.15);\n",
              "      fill: #174EA6;\n",
              "    }\n",
              "\n",
              "    .colab-df-buttons div {\n",
              "      margin-bottom: 4px;\n",
              "    }\n",
              "\n",
              "    [theme=dark] .colab-df-convert {\n",
              "      background-color: #3B4455;\n",
              "      fill: #D2E3FC;\n",
              "    }\n",
              "\n",
              "    [theme=dark] .colab-df-convert:hover {\n",
              "      background-color: #434B5C;\n",
              "      box-shadow: 0px 1px 3px 1px rgba(0, 0, 0, 0.15);\n",
              "      filter: drop-shadow(0px 1px 2px rgba(0, 0, 0, 0.3));\n",
              "      fill: #FFFFFF;\n",
              "    }\n",
              "  </style>\n",
              "\n",
              "    <script>\n",
              "      const buttonEl =\n",
              "        document.querySelector('#df-288698b1-9dd8-4622-a911-a1a433ed11a9 button.colab-df-convert');\n",
              "      buttonEl.style.display =\n",
              "        google.colab.kernel.accessAllowed ? 'block' : 'none';\n",
              "\n",
              "      async function convertToInteractive(key) {\n",
              "        const element = document.querySelector('#df-288698b1-9dd8-4622-a911-a1a433ed11a9');\n",
              "        const dataTable =\n",
              "          await google.colab.kernel.invokeFunction('convertToInteractive',\n",
              "                                                    [key], {});\n",
              "        if (!dataTable) return;\n",
              "\n",
              "        const docLinkHtml = 'Like what you see? Visit the ' +\n",
              "          '<a target=\"_blank\" href=https://colab.research.google.com/notebooks/data_table.ipynb>data table notebook</a>'\n",
              "          + ' to learn more about interactive tables.';\n",
              "        element.innerHTML = '';\n",
              "        dataTable['output_type'] = 'display_data';\n",
              "        await google.colab.output.renderOutput(dataTable, element);\n",
              "        const docLink = document.createElement('div');\n",
              "        docLink.innerHTML = docLinkHtml;\n",
              "        element.appendChild(docLink);\n",
              "      }\n",
              "    </script>\n",
              "  </div>\n",
              "\n",
              "\n",
              "<div id=\"df-b1cdae57-fc86-4835-ba67-5c2772791337\">\n",
              "  <button class=\"colab-df-quickchart\" onclick=\"quickchart('df-b1cdae57-fc86-4835-ba67-5c2772791337')\"\n",
              "            title=\"Suggest charts\"\n",
              "            style=\"display:none;\">\n",
              "\n",
              "<svg xmlns=\"http://www.w3.org/2000/svg\" height=\"24px\"viewBox=\"0 0 24 24\"\n",
              "     width=\"24px\">\n",
              "    <g>\n",
              "        <path d=\"M19 3H5c-1.1 0-2 .9-2 2v14c0 1.1.9 2 2 2h14c1.1 0 2-.9 2-2V5c0-1.1-.9-2-2-2zM9 17H7v-7h2v7zm4 0h-2V7h2v10zm4 0h-2v-4h2v4z\"/>\n",
              "    </g>\n",
              "</svg>\n",
              "  </button>\n",
              "\n",
              "<style>\n",
              "  .colab-df-quickchart {\n",
              "      --bg-color: #E8F0FE;\n",
              "      --fill-color: #1967D2;\n",
              "      --hover-bg-color: #E2EBFA;\n",
              "      --hover-fill-color: #174EA6;\n",
              "      --disabled-fill-color: #AAA;\n",
              "      --disabled-bg-color: #DDD;\n",
              "  }\n",
              "\n",
              "  [theme=dark] .colab-df-quickchart {\n",
              "      --bg-color: #3B4455;\n",
              "      --fill-color: #D2E3FC;\n",
              "      --hover-bg-color: #434B5C;\n",
              "      --hover-fill-color: #FFFFFF;\n",
              "      --disabled-bg-color: #3B4455;\n",
              "      --disabled-fill-color: #666;\n",
              "  }\n",
              "\n",
              "  .colab-df-quickchart {\n",
              "    background-color: var(--bg-color);\n",
              "    border: none;\n",
              "    border-radius: 50%;\n",
              "    cursor: pointer;\n",
              "    display: none;\n",
              "    fill: var(--fill-color);\n",
              "    height: 32px;\n",
              "    padding: 0;\n",
              "    width: 32px;\n",
              "  }\n",
              "\n",
              "  .colab-df-quickchart:hover {\n",
              "    background-color: var(--hover-bg-color);\n",
              "    box-shadow: 0 1px 2px rgba(60, 64, 67, 0.3), 0 1px 3px 1px rgba(60, 64, 67, 0.15);\n",
              "    fill: var(--button-hover-fill-color);\n",
              "  }\n",
              "\n",
              "  .colab-df-quickchart-complete:disabled,\n",
              "  .colab-df-quickchart-complete:disabled:hover {\n",
              "    background-color: var(--disabled-bg-color);\n",
              "    fill: var(--disabled-fill-color);\n",
              "    box-shadow: none;\n",
              "  }\n",
              "\n",
              "  .colab-df-spinner {\n",
              "    border: 2px solid var(--fill-color);\n",
              "    border-color: transparent;\n",
              "    border-bottom-color: var(--fill-color);\n",
              "    animation:\n",
              "      spin 1s steps(1) infinite;\n",
              "  }\n",
              "\n",
              "  @keyframes spin {\n",
              "    0% {\n",
              "      border-color: transparent;\n",
              "      border-bottom-color: var(--fill-color);\n",
              "      border-left-color: var(--fill-color);\n",
              "    }\n",
              "    20% {\n",
              "      border-color: transparent;\n",
              "      border-left-color: var(--fill-color);\n",
              "      border-top-color: var(--fill-color);\n",
              "    }\n",
              "    30% {\n",
              "      border-color: transparent;\n",
              "      border-left-color: var(--fill-color);\n",
              "      border-top-color: var(--fill-color);\n",
              "      border-right-color: var(--fill-color);\n",
              "    }\n",
              "    40% {\n",
              "      border-color: transparent;\n",
              "      border-right-color: var(--fill-color);\n",
              "      border-top-color: var(--fill-color);\n",
              "    }\n",
              "    60% {\n",
              "      border-color: transparent;\n",
              "      border-right-color: var(--fill-color);\n",
              "    }\n",
              "    80% {\n",
              "      border-color: transparent;\n",
              "      border-right-color: var(--fill-color);\n",
              "      border-bottom-color: var(--fill-color);\n",
              "    }\n",
              "    90% {\n",
              "      border-color: transparent;\n",
              "      border-bottom-color: var(--fill-color);\n",
              "    }\n",
              "  }\n",
              "</style>\n",
              "\n",
              "  <script>\n",
              "    async function quickchart(key) {\n",
              "      const quickchartButtonEl =\n",
              "        document.querySelector('#' + key + ' button');\n",
              "      quickchartButtonEl.disabled = true;  // To prevent multiple clicks.\n",
              "      quickchartButtonEl.classList.add('colab-df-spinner');\n",
              "      try {\n",
              "        const charts = await google.colab.kernel.invokeFunction(\n",
              "            'suggestCharts', [key], {});\n",
              "      } catch (error) {\n",
              "        console.error('Error during call to suggestCharts:', error);\n",
              "      }\n",
              "      quickchartButtonEl.classList.remove('colab-df-spinner');\n",
              "      quickchartButtonEl.classList.add('colab-df-quickchart-complete');\n",
              "    }\n",
              "    (() => {\n",
              "      let quickchartButtonEl =\n",
              "        document.querySelector('#df-b1cdae57-fc86-4835-ba67-5c2772791337 button');\n",
              "      quickchartButtonEl.style.display =\n",
              "        google.colab.kernel.accessAllowed ? 'block' : 'none';\n",
              "    })();\n",
              "  </script>\n",
              "</div>\n",
              "\n",
              "    </div>\n",
              "  </div>\n"
            ],
            "application/vnd.google.colaboratory.intrinsic+json": {
              "type": "dataframe",
              "variable_name": "age_income",
              "summary": "{\n  \"name\": \"age_income\",\n  \"rows\": 69,\n  \"fields\": [\n    {\n      \"column\": \"age\",\n      \"properties\": {\n        \"dtype\": \"number\",\n        \"std\": 20.135887469748468,\n        \"min\": 20.0,\n        \"max\": 89.0,\n        \"num_unique_values\": 69,\n        \"samples\": [\n          42.0,\n          20.0,\n          67.0\n        ],\n        \"semantic_type\": \"\",\n        \"description\": \"\"\n      }\n    },\n    {\n      \"column\": \"mean_income\",\n      \"properties\": {\n        \"dtype\": \"number\",\n        \"std\": 102.90163903945384,\n        \"min\": 15.0,\n        \"max\": 318.6777477477478,\n        \"num_unique_values\": 66,\n        \"samples\": [\n          72.06888888888889,\n          20.0,\n          121.3\n        ],\n        \"semantic_type\": \"\",\n        \"description\": \"\"\n      }\n    }\n  ]\n}"
            }
          },
          "metadata": {},
          "execution_count": 243
        }
      ],
      "source": [
        "# 나이별 월급 평균표 만들기\n",
        "age_income = welfare.dropna(subset = ['age','income']) \\\n",
        "                    .groupby('age', as_index = False) \\\n",
        "                    .agg(mean_income = ('income', 'mean'))\n",
        "# 결측치 제거\n",
        "# age별 분리\n",
        "# income 평균 구하기\n",
        "age_income.head()"
      ]
    },
    {
      "cell_type": "code",
      "source": [
        "# 평균 월급 최대값 나이 확인\n",
        "max_age_income = age_income.mean_income.max()\n",
        "print(max_age_income)\n",
        "age_income[age_income['mean_income'] == max_age_income]\n",
        "# age_income[age_income.mean_income == age_income.mean_income.max()]"
      ],
      "metadata": {
        "colab": {
          "base_uri": "https://localhost:8080/",
          "height": 99
        },
        "id": "gd4tJUfeVLYs",
        "outputId": "bde29cf3-7e95-44d5-cfe6-86ebfc688376"
      },
      "execution_count": null,
      "outputs": [
        {
          "output_type": "stream",
          "name": "stdout",
          "text": [
            "318.6777477477478\n"
          ]
        },
        {
          "output_type": "execute_result",
          "data": {
            "text/plain": [
              "     age  mean_income\n",
              "33  53.0   318.677748"
            ],
            "text/html": [
              "\n",
              "  <div id=\"df-54c26d91-7a35-420c-9614-f41b395bcefc\" class=\"colab-df-container\">\n",
              "    <div>\n",
              "<style scoped>\n",
              "    .dataframe tbody tr th:only-of-type {\n",
              "        vertical-align: middle;\n",
              "    }\n",
              "\n",
              "    .dataframe tbody tr th {\n",
              "        vertical-align: top;\n",
              "    }\n",
              "\n",
              "    .dataframe thead th {\n",
              "        text-align: right;\n",
              "    }\n",
              "</style>\n",
              "<table border=\"1\" class=\"dataframe\">\n",
              "  <thead>\n",
              "    <tr style=\"text-align: right;\">\n",
              "      <th></th>\n",
              "      <th>age</th>\n",
              "      <th>mean_income</th>\n",
              "    </tr>\n",
              "  </thead>\n",
              "  <tbody>\n",
              "    <tr>\n",
              "      <th>33</th>\n",
              "      <td>53.0</td>\n",
              "      <td>318.677748</td>\n",
              "    </tr>\n",
              "  </tbody>\n",
              "</table>\n",
              "</div>\n",
              "    <div class=\"colab-df-buttons\">\n",
              "\n",
              "  <div class=\"colab-df-container\">\n",
              "    <button class=\"colab-df-convert\" onclick=\"convertToInteractive('df-54c26d91-7a35-420c-9614-f41b395bcefc')\"\n",
              "            title=\"Convert this dataframe to an interactive table.\"\n",
              "            style=\"display:none;\">\n",
              "\n",
              "  <svg xmlns=\"http://www.w3.org/2000/svg\" height=\"24px\" viewBox=\"0 -960 960 960\">\n",
              "    <path d=\"M120-120v-720h720v720H120Zm60-500h600v-160H180v160Zm220 220h160v-160H400v160Zm0 220h160v-160H400v160ZM180-400h160v-160H180v160Zm440 0h160v-160H620v160ZM180-180h160v-160H180v160Zm440 0h160v-160H620v160Z\"/>\n",
              "  </svg>\n",
              "    </button>\n",
              "\n",
              "  <style>\n",
              "    .colab-df-container {\n",
              "      display:flex;\n",
              "      gap: 12px;\n",
              "    }\n",
              "\n",
              "    .colab-df-convert {\n",
              "      background-color: #E8F0FE;\n",
              "      border: none;\n",
              "      border-radius: 50%;\n",
              "      cursor: pointer;\n",
              "      display: none;\n",
              "      fill: #1967D2;\n",
              "      height: 32px;\n",
              "      padding: 0 0 0 0;\n",
              "      width: 32px;\n",
              "    }\n",
              "\n",
              "    .colab-df-convert:hover {\n",
              "      background-color: #E2EBFA;\n",
              "      box-shadow: 0px 1px 2px rgba(60, 64, 67, 0.3), 0px 1px 3px 1px rgba(60, 64, 67, 0.15);\n",
              "      fill: #174EA6;\n",
              "    }\n",
              "\n",
              "    .colab-df-buttons div {\n",
              "      margin-bottom: 4px;\n",
              "    }\n",
              "\n",
              "    [theme=dark] .colab-df-convert {\n",
              "      background-color: #3B4455;\n",
              "      fill: #D2E3FC;\n",
              "    }\n",
              "\n",
              "    [theme=dark] .colab-df-convert:hover {\n",
              "      background-color: #434B5C;\n",
              "      box-shadow: 0px 1px 3px 1px rgba(0, 0, 0, 0.15);\n",
              "      filter: drop-shadow(0px 1px 2px rgba(0, 0, 0, 0.3));\n",
              "      fill: #FFFFFF;\n",
              "    }\n",
              "  </style>\n",
              "\n",
              "    <script>\n",
              "      const buttonEl =\n",
              "        document.querySelector('#df-54c26d91-7a35-420c-9614-f41b395bcefc button.colab-df-convert');\n",
              "      buttonEl.style.display =\n",
              "        google.colab.kernel.accessAllowed ? 'block' : 'none';\n",
              "\n",
              "      async function convertToInteractive(key) {\n",
              "        const element = document.querySelector('#df-54c26d91-7a35-420c-9614-f41b395bcefc');\n",
              "        const dataTable =\n",
              "          await google.colab.kernel.invokeFunction('convertToInteractive',\n",
              "                                                    [key], {});\n",
              "        if (!dataTable) return;\n",
              "\n",
              "        const docLinkHtml = 'Like what you see? Visit the ' +\n",
              "          '<a target=\"_blank\" href=https://colab.research.google.com/notebooks/data_table.ipynb>data table notebook</a>'\n",
              "          + ' to learn more about interactive tables.';\n",
              "        element.innerHTML = '';\n",
              "        dataTable['output_type'] = 'display_data';\n",
              "        await google.colab.output.renderOutput(dataTable, element);\n",
              "        const docLink = document.createElement('div');\n",
              "        docLink.innerHTML = docLinkHtml;\n",
              "        element.appendChild(docLink);\n",
              "      }\n",
              "    </script>\n",
              "  </div>\n",
              "\n",
              "\n",
              "    </div>\n",
              "  </div>\n"
            ],
            "application/vnd.google.colaboratory.intrinsic+json": {
              "type": "dataframe",
              "summary": "{\n  \"name\": \"# age_income[age_income\",\n  \"rows\": 1,\n  \"fields\": [\n    {\n      \"column\": \"age\",\n      \"properties\": {\n        \"dtype\": \"number\",\n        \"std\": null,\n        \"min\": 53.0,\n        \"max\": 53.0,\n        \"num_unique_values\": 1,\n        \"samples\": [\n          53.0\n        ],\n        \"semantic_type\": \"\",\n        \"description\": \"\"\n      }\n    },\n    {\n      \"column\": \"mean_income\",\n      \"properties\": {\n        \"dtype\": \"number\",\n        \"std\": null,\n        \"min\": 318.6777477477478,\n        \"max\": 318.6777477477478,\n        \"num_unique_values\": 1,\n        \"samples\": [\n          318.6777477477478\n        ],\n        \"semantic_type\": \"\",\n        \"description\": \"\"\n      }\n    }\n  ]\n}"
            }
          },
          "metadata": {},
          "execution_count": 244
        }
      ]
    },
    {
      "cell_type": "code",
      "source": [
        "max_age_income_index = np.argmax(age_income['mean_income'])\n",
        "print(max_age_income_index)\n",
        "age_income.iloc[max_age_income_index,:]"
      ],
      "metadata": {
        "colab": {
          "base_uri": "https://localhost:8080/"
        },
        "id": "OpVBz7teWHyw",
        "outputId": "dcd9f1b3-e4a6-438c-b075-532eb07db11e"
      },
      "execution_count": null,
      "outputs": [
        {
          "output_type": "stream",
          "name": "stdout",
          "text": [
            "33\n"
          ]
        },
        {
          "output_type": "execute_result",
          "data": {
            "text/plain": [
              "age             53.000000\n",
              "mean_income    318.677748\n",
              "Name: 33, dtype: float64"
            ]
          },
          "metadata": {},
          "execution_count": 245
        }
      ]
    },
    {
      "cell_type": "markdown",
      "metadata": {
        "id": "4f2e5974"
      },
      "source": [
        "#### 2.  그래프 만들기"
      ]
    },
    {
      "cell_type": "code",
      "execution_count": null,
      "metadata": {
        "eval": false,
        "id": "8ba9470c",
        "outputId": "805b20ad-eeeb-42eb-a1e0-0568e9efc182",
        "colab": {
          "base_uri": "https://localhost:8080/",
          "height": 447
        }
      },
      "outputs": [
        {
          "output_type": "display_data",
          "data": {
            "text/plain": [
              "<Figure size 640x480 with 1 Axes>"
            ],
            "image/png": "[encoded data removed]"
          },
          "metadata": {}
        }
      ],
      "source": [
        "# 선 그래프 만들기\n",
        "sns.lineplot(x = 'age', y = 'mean_income', data = age_income)\n",
        "plt.show()"
      ]
    },
    {
      "cell_type": "markdown",
      "source": [
        "# 중간 데이터 저장"
      ],
      "metadata": {
        "id": "8ni3TpDpPxfy"
      }
    },
    {
      "cell_type": "code",
      "source": [
        "welfare.to_csv('/content/drive/MyDrive/lsda02/data/welfare_2015_0408.csv', index = False)"
      ],
      "metadata": {
        "id": "RT88aQXmPxfy"
      },
      "execution_count": null,
      "outputs": []
    },
    {
      "cell_type": "code",
      "source": [
        "# 데이터 불러오기\n",
        "welfare = pd.read_csv('/content/drive/MyDrive/lsda02/data/welfare_2015_0408.csv')"
      ],
      "metadata": {
        "id": "kMrkN8gcPxfy"
      },
      "execution_count": null,
      "outputs": []
    },
    {
      "cell_type": "markdown",
      "metadata": {
        "id": "b5dbddcd"
      },
      "source": [
        "## 3 연령대에 따른 월급 차이 - 어떤 연령대의 월급이 가장 많을까?\n"
      ]
    },
    {
      "cell_type": "markdown",
      "source": [
        "### 연령대 변수 검토 및 전처리하기"
      ],
      "metadata": {
        "id": "-lWyeAgm5Qlu"
      }
    },
    {
      "cell_type": "markdown",
      "source": [
        "#### 파생변수 만들기 - 연령대"
      ],
      "metadata": {
        "id": "kndeZqE55SW8"
      }
    },
    {
      "cell_type": "code",
      "execution_count": null,
      "metadata": {
        "id": "434111bf",
        "colab": {
          "base_uri": "https://localhost:8080/"
        },
        "outputId": "b970a5a4-4e40-4f7f-fc17-c670c6ca5806"
      },
      "outputs": [
        {
          "output_type": "execute_result",
          "data": {
            "text/plain": [
              "0    80.0\n",
              "1    71.0\n",
              "2    68.0\n",
              "3    74.0\n",
              "4    93.0\n",
              "Name: age, dtype: float64"
            ]
          },
          "metadata": {},
          "execution_count": 249
        }
      ],
      "source": [
        "# 나이 변수 살펴보기\n",
        "welfare['age'].head()"
      ]
    },
    {
      "cell_type": "code",
      "source": [
        "welfare['age'].describe() # 요약 통계량 구하기"
      ],
      "metadata": {
        "id": "SvSxFlbxYWeu",
        "colab": {
          "base_uri": "https://localhost:8080/"
        },
        "outputId": "242b5e74-91da-42c7-e1a8-1c4797ac2f93"
      },
      "execution_count": null,
      "outputs": [
        {
          "output_type": "execute_result",
          "data": {
            "text/plain": [
              "count    16669.000000\n",
              "mean        48.434399\n",
              "std         24.177789\n",
              "min          2.000000\n",
              "25%         28.000000\n",
              "50%         50.000000\n",
              "75%         70.000000\n",
              "max        109.000000\n",
              "Name: age, dtype: float64"
            ]
          },
          "metadata": {},
          "execution_count": 250
        }
      ]
    },
    {
      "cell_type": "code",
      "source": [
        "# 결측치 확인\n",
        "welfare['age'].isnull().sum()"
      ],
      "metadata": {
        "id": "DlteBpkAYWe0",
        "colab": {
          "base_uri": "https://localhost:8080/"
        },
        "outputId": "b48945e3-f130-4663-ce15-d9745ad1fc5e"
      },
      "execution_count": null,
      "outputs": [
        {
          "output_type": "execute_result",
          "data": {
            "text/plain": [
              "1"
            ]
          },
          "metadata": {},
          "execution_count": 251
        }
      ]
    },
    {
      "cell_type": "code",
      "source": [
        "# 빈도 구하기\n",
        "welfare['age'].value_counts(dropna = False)"
      ],
      "metadata": {
        "id": "L1n05G5oGbyB",
        "colab": {
          "base_uri": "https://localhost:8080/"
        },
        "outputId": "edccb758-d0b3-4588-b380-9af58d3ff72b"
      },
      "execution_count": null,
      "outputs": [
        {
          "output_type": "execute_result",
          "data": {
            "text/plain": [
              "age\n",
              "74.0     354\n",
              "77.0     300\n",
              "76.0     294\n",
              "78.0     279\n",
              "69.0     269\n",
              "        ... \n",
              "102.0      1\n",
              "105.0      1\n",
              "99.0       1\n",
              "101.0      1\n",
              "NaN        1\n",
              "Name: count, Length: 103, dtype: int64"
            ]
          },
          "metadata": {},
          "execution_count": 252
        }
      ]
    },
    {
      "cell_type": "code",
      "execution_count": null,
      "metadata": {
        "id": "14d84e59"
      },
      "outputs": [],
      "source": [
        "# 연령대 변수 만들기\n",
        "# 60 세 이상 = old\n",
        "# 30 ~ 59 세 = middle\n",
        "# ~ 29 세 = young\n",
        "welfare['age_group'] = np.where(welfare['age'].isnull() == True, np.nan,\n",
        "                                np.where(welfare['age'] >=  60, 'old',\n",
        "                                         np.where(welfare['age'] >= 30, 'middle', 'young')))"
      ]
    },
    {
      "cell_type": "code",
      "source": [
        "# 빈도 구하기\n",
        "welfare['age_group'].value_counts(dropna = False)"
      ],
      "metadata": {
        "id": "leQnfd1aYDrc",
        "colab": {
          "base_uri": "https://localhost:8080/"
        },
        "outputId": "e6d850d3-e5fd-45b6-9bb4-8b5b8c77af32"
      },
      "execution_count": null,
      "outputs": [
        {
          "output_type": "execute_result",
          "data": {
            "text/plain": [
              "age_group\n",
              "old       6283\n",
              "middle    6052\n",
              "young     4334\n",
              "nan          1\n",
              "Name: count, dtype: int64"
            ]
          },
          "metadata": {},
          "execution_count": 254
        }
      ]
    },
    {
      "cell_type": "code",
      "source": [
        "# 결측치 확인\n",
        "welfare['age_group'].isnull().sum()"
      ],
      "metadata": {
        "id": "HVW5zFbYaZY2",
        "colab": {
          "base_uri": "https://localhost:8080/"
        },
        "outputId": "24712c39-e36b-41ff-b683-6c3fbbe77c1e"
      },
      "execution_count": null,
      "outputs": [
        {
          "output_type": "execute_result",
          "data": {
            "text/plain": [
              "0"
            ]
          },
          "metadata": {},
          "execution_count": 255
        }
      ]
    },
    {
      "cell_type": "code",
      "source": [
        "# 문자열 nan 을 NaN 으로 변환\n",
        "welfare['age_group'] = np.where(welfare['age_group'] == 'nan', np.nan, welfare['age_group'])"
      ],
      "metadata": {
        "id": "uznJaNl0fl8I"
      },
      "execution_count": null,
      "outputs": []
    },
    {
      "cell_type": "code",
      "source": [
        "# 결측치 확인\n",
        "welfare['age_group'].isnull().sum()"
      ],
      "metadata": {
        "id": "gufNcqxHh-3t",
        "colab": {
          "base_uri": "https://localhost:8080/"
        },
        "outputId": "1c38a200-a0f6-43aa-cd3f-5dee3f7f0e38"
      },
      "execution_count": null,
      "outputs": [
        {
          "output_type": "execute_result",
          "data": {
            "text/plain": [
              "1"
            ]
          },
          "metadata": {},
          "execution_count": 257
        }
      ]
    },
    {
      "cell_type": "code",
      "source": [
        "# 빈도 구하기\n",
        "welfare['age_group'].value_counts(dropna = False)"
      ],
      "metadata": {
        "id": "PjkXf_9DG6yr",
        "colab": {
          "base_uri": "https://localhost:8080/"
        },
        "outputId": "af6ce4a3-b9fc-4f8b-ec48-5b6c189d036d"
      },
      "execution_count": null,
      "outputs": [
        {
          "output_type": "execute_result",
          "data": {
            "text/plain": [
              "age_group\n",
              "old       6283\n",
              "middle    6052\n",
              "young     4334\n",
              "NaN          1\n",
              "Name: count, dtype: int64"
            ]
          },
          "metadata": {},
          "execution_count": 258
        }
      ]
    },
    {
      "cell_type": "code",
      "execution_count": null,
      "metadata": {
        "eval": false,
        "name": "p_ageg",
        "id": "17ab826c",
        "colab": {
          "base_uri": "https://localhost:8080/",
          "height": 447
        },
        "outputId": "b53082c4-146d-4512-b661-7d8cb2f10fa7"
      },
      "outputs": [
        {
          "output_type": "display_data",
          "data": {
            "text/plain": [
              "<Figure size 640x480 with 1 Axes>"
            ],
            "image/png": "[encoded data removed]"
          },
          "metadata": {}
        }
      ],
      "source": [
        "# 빈도 막대 그래프 만들기\n",
        "sns.countplot(x = 'age_group', data = welfare)\n",
        "plt.show()"
      ]
    },
    {
      "cell_type": "markdown",
      "metadata": {
        "id": "31542b89"
      },
      "source": [
        "### 연령대에 따른 월급 차이 분석하기"
      ]
    },
    {
      "cell_type": "markdown",
      "source": [
        "#### 1. 연령대별 월급 평균표 만들기"
      ],
      "metadata": {
        "id": "s9qDY4pg4BaD"
      }
    },
    {
      "cell_type": "code",
      "source": [
        "welfare.info()"
      ],
      "metadata": {
        "id": "k3KMKHVtH4em",
        "colab": {
          "base_uri": "https://localhost:8080/"
        },
        "outputId": "0fd029ec-4c0e-45eb-d510-62a2e30ec453"
      },
      "execution_count": null,
      "outputs": [
        {
          "output_type": "stream",
          "name": "stdout",
          "text": [
            "<class 'pandas.core.frame.DataFrame'>\n",
            "RangeIndex: 16670 entries, 0 to 16669\n",
            "Data columns (total 9 columns):\n",
            " #   Column          Non-Null Count  Dtype  \n",
            "---  ------          --------------  -----  \n",
            " 0   sex             16669 non-null  object \n",
            " 1   birth_year      16669 non-null  float64\n",
            " 2   marital_status  16670 non-null  int64  \n",
            " 3   religion        16670 non-null  int64  \n",
            " 4   job_code        7530 non-null   float64\n",
            " 5   income          4620 non-null   float64\n",
            " 6   region_code     16670 non-null  int64  \n",
            " 7   age             16669 non-null  float64\n",
            " 8   age_group       16669 non-null  object \n",
            "dtypes: float64(4), int64(3), object(2)\n",
            "memory usage: 1.1+ MB\n"
          ]
        }
      ]
    },
    {
      "cell_type": "code",
      "execution_count": null,
      "metadata": {
        "id": "1a48caa7",
        "colab": {
          "base_uri": "https://localhost:8080/",
          "height": 143
        },
        "outputId": "39ffe569-764d-469f-8025-40cf163ebad9"
      },
      "outputs": [
        {
          "output_type": "execute_result",
          "data": {
            "text/plain": [
              "  age_group  mean_income\n",
              "0    middle   281.887100\n",
              "1       old   125.329463\n",
              "2     young   163.595331"
            ],
            "text/html": [
              "\n",
              "  <div id=\"df-e8b12d0e-451b-470e-950f-ec590fd8ea36\" class=\"colab-df-container\">\n",
              "    <div>\n",
              "<style scoped>\n",
              "    .dataframe tbody tr th:only-of-type {\n",
              "        vertical-align: middle;\n",
              "    }\n",
              "\n",
              "    .dataframe tbody tr th {\n",
              "        vertical-align: top;\n",
              "    }\n",
              "\n",
              "    .dataframe thead th {\n",
              "        text-align: right;\n",
              "    }\n",
              "</style>\n",
              "<table border=\"1\" class=\"dataframe\">\n",
              "  <thead>\n",
              "    <tr style=\"text-align: right;\">\n",
              "      <th></th>\n",
              "      <th>age_group</th>\n",
              "      <th>mean_income</th>\n",
              "    </tr>\n",
              "  </thead>\n",
              "  <tbody>\n",
              "    <tr>\n",
              "      <th>0</th>\n",
              "      <td>middle</td>\n",
              "      <td>281.887100</td>\n",
              "    </tr>\n",
              "    <tr>\n",
              "      <th>1</th>\n",
              "      <td>old</td>\n",
              "      <td>125.329463</td>\n",
              "    </tr>\n",
              "    <tr>\n",
              "      <th>2</th>\n",
              "      <td>young</td>\n",
              "      <td>163.595331</td>\n",
              "    </tr>\n",
              "  </tbody>\n",
              "</table>\n",
              "</div>\n",
              "    <div class=\"colab-df-buttons\">\n",
              "\n",
              "  <div class=\"colab-df-container\">\n",
              "    <button class=\"colab-df-convert\" onclick=\"convertToInteractive('df-e8b12d0e-451b-470e-950f-ec590fd8ea36')\"\n",
              "            title=\"Convert this dataframe to an interactive table.\"\n",
              "            style=\"display:none;\">\n",
              "\n",
              "  <svg xmlns=\"http://www.w3.org/2000/svg\" height=\"24px\" viewBox=\"0 -960 960 960\">\n",
              "    <path d=\"M120-120v-720h720v720H120Zm60-500h600v-160H180v160Zm220 220h160v-160H400v160Zm0 220h160v-160H400v160ZM180-400h160v-160H180v160Zm440 0h160v-160H620v160ZM180-180h160v-160H180v160Zm440 0h160v-160H620v160Z\"/>\n",
              "  </svg>\n",
              "    </button>\n",
              "\n",
              "  <style>\n",
              "    .colab-df-container {\n",
              "      display:flex;\n",
              "      gap: 12px;\n",
              "    }\n",
              "\n",
              "    .colab-df-convert {\n",
              "      background-color: #E8F0FE;\n",
              "      border: none;\n",
              "      border-radius: 50%;\n",
              "      cursor: pointer;\n",
              "      display: none;\n",
              "      fill: #1967D2;\n",
              "      height: 32px;\n",
              "      padding: 0 0 0 0;\n",
              "      width: 32px;\n",
              "    }\n",
              "\n",
              "    .colab-df-convert:hover {\n",
              "      background-color: #E2EBFA;\n",
              "      box-shadow: 0px 1px 2px rgba(60, 64, 67, 0.3), 0px 1px 3px 1px rgba(60, 64, 67, 0.15);\n",
              "      fill: #174EA6;\n",
              "    }\n",
              "\n",
              "    .colab-df-buttons div {\n",
              "      margin-bottom: 4px;\n",
              "    }\n",
              "\n",
              "    [theme=dark] .colab-df-convert {\n",
              "      background-color: #3B4455;\n",
              "      fill: #D2E3FC;\n",
              "    }\n",
              "\n",
              "    [theme=dark] .colab-df-convert:hover {\n",
              "      background-color: #434B5C;\n",
              "      box-shadow: 0px 1px 3px 1px rgba(0, 0, 0, 0.15);\n",
              "      filter: drop-shadow(0px 1px 2px rgba(0, 0, 0, 0.3));\n",
              "      fill: #FFFFFF;\n",
              "    }\n",
              "  </style>\n",
              "\n",
              "    <script>\n",
              "      const buttonEl =\n",
              "        document.querySelector('#df-e8b12d0e-451b-470e-950f-ec590fd8ea36 button.colab-df-convert');\n",
              "      buttonEl.style.display =\n",
              "        google.colab.kernel.accessAllowed ? 'block' : 'none';\n",
              "\n",
              "      async function convertToInteractive(key) {\n",
              "        const element = document.querySelector('#df-e8b12d0e-451b-470e-950f-ec590fd8ea36');\n",
              "        const dataTable =\n",
              "          await google.colab.kernel.invokeFunction('convertToInteractive',\n",
              "                                                    [key], {});\n",
              "        if (!dataTable) return;\n",
              "\n",
              "        const docLinkHtml = 'Like what you see? Visit the ' +\n",
              "          '<a target=\"_blank\" href=https://colab.research.google.com/notebooks/data_table.ipynb>data table notebook</a>'\n",
              "          + ' to learn more about interactive tables.';\n",
              "        element.innerHTML = '';\n",
              "        dataTable['output_type'] = 'display_data';\n",
              "        await google.colab.output.renderOutput(dataTable, element);\n",
              "        const docLink = document.createElement('div');\n",
              "        docLink.innerHTML = docLinkHtml;\n",
              "        element.appendChild(docLink);\n",
              "      }\n",
              "    </script>\n",
              "  </div>\n",
              "\n",
              "\n",
              "<div id=\"df-f91a4fa8-e186-4675-9b38-29c2cae57447\">\n",
              "  <button class=\"colab-df-quickchart\" onclick=\"quickchart('df-f91a4fa8-e186-4675-9b38-29c2cae57447')\"\n",
              "            title=\"Suggest charts\"\n",
              "            style=\"display:none;\">\n",
              "\n",
              "<svg xmlns=\"http://www.w3.org/2000/svg\" height=\"24px\"viewBox=\"0 0 24 24\"\n",
              "     width=\"24px\">\n",
              "    <g>\n",
              "        <path d=\"M19 3H5c-1.1 0-2 .9-2 2v14c0 1.1.9 2 2 2h14c1.1 0 2-.9 2-2V5c0-1.1-.9-2-2-2zM9 17H7v-7h2v7zm4 0h-2V7h2v10zm4 0h-2v-4h2v4z\"/>\n",
              "    </g>\n",
              "</svg>\n",
              "  </button>\n",
              "\n",
              "<style>\n",
              "  .colab-df-quickchart {\n",
              "      --bg-color: #E8F0FE;\n",
              "      --fill-color: #1967D2;\n",
              "      --hover-bg-color: #E2EBFA;\n",
              "      --hover-fill-color: #174EA6;\n",
              "      --disabled-fill-color: #AAA;\n",
              "      --disabled-bg-color: #DDD;\n",
              "  }\n",
              "\n",
              "  [theme=dark] .colab-df-quickchart {\n",
              "      --bg-color: #3B4455;\n",
              "      --fill-color: #D2E3FC;\n",
              "      --hover-bg-color: #434B5C;\n",
              "      --hover-fill-color: #FFFFFF;\n",
              "      --disabled-bg-color: #3B4455;\n",
              "      --disabled-fill-color: #666;\n",
              "  }\n",
              "\n",
              "  .colab-df-quickchart {\n",
              "    background-color: var(--bg-color);\n",
              "    border: none;\n",
              "    border-radius: 50%;\n",
              "    cursor: pointer;\n",
              "    display: none;\n",
              "    fill: var(--fill-color);\n",
              "    height: 32px;\n",
              "    padding: 0;\n",
              "    width: 32px;\n",
              "  }\n",
              "\n",
              "  .colab-df-quickchart:hover {\n",
              "    background-color: var(--hover-bg-color);\n",
              "    box-shadow: 0 1px 2px rgba(60, 64, 67, 0.3), 0 1px 3px 1px rgba(60, 64, 67, 0.15);\n",
              "    fill: var(--button-hover-fill-color);\n",
              "  }\n",
              "\n",
              "  .colab-df-quickchart-complete:disabled,\n",
              "  .colab-df-quickchart-complete:disabled:hover {\n",
              "    background-color: var(--disabled-bg-color);\n",
              "    fill: var(--disabled-fill-color);\n",
              "    box-shadow: none;\n",
              "  }\n",
              "\n",
              "  .colab-df-spinner {\n",
              "    border: 2px solid var(--fill-color);\n",
              "    border-color: transparent;\n",
              "    border-bottom-color: var(--fill-color);\n",
              "    animation:\n",
              "      spin 1s steps(1) infinite;\n",
              "  }\n",
              "\n",
              "  @keyframes spin {\n",
              "    0% {\n",
              "      border-color: transparent;\n",
              "      border-bottom-color: var(--fill-color);\n",
              "      border-left-color: var(--fill-color);\n",
              "    }\n",
              "    20% {\n",
              "      border-color: transparent;\n",
              "      border-left-color: var(--fill-color);\n",
              "      border-top-color: var(--fill-color);\n",
              "    }\n",
              "    30% {\n",
              "      border-color: transparent;\n",
              "      border-left-color: var(--fill-color);\n",
              "      border-top-color: var(--fill-color);\n",
              "      border-right-color: var(--fill-color);\n",
              "    }\n",
              "    40% {\n",
              "      border-color: transparent;\n",
              "      border-right-color: var(--fill-color);\n",
              "      border-top-color: var(--fill-color);\n",
              "    }\n",
              "    60% {\n",
              "      border-color: transparent;\n",
              "      border-right-color: var(--fill-color);\n",
              "    }\n",
              "    80% {\n",
              "      border-color: transparent;\n",
              "      border-right-color: var(--fill-color);\n",
              "      border-bottom-color: var(--fill-color);\n",
              "    }\n",
              "    90% {\n",
              "      border-color: transparent;\n",
              "      border-bottom-color: var(--fill-color);\n",
              "    }\n",
              "  }\n",
              "</style>\n",
              "\n",
              "  <script>\n",
              "    async function quickchart(key) {\n",
              "      const quickchartButtonEl =\n",
              "        document.querySelector('#' + key + ' button');\n",
              "      quickchartButtonEl.disabled = true;  // To prevent multiple clicks.\n",
              "      quickchartButtonEl.classList.add('colab-df-spinner');\n",
              "      try {\n",
              "        const charts = await google.colab.kernel.invokeFunction(\n",
              "            'suggestCharts', [key], {});\n",
              "      } catch (error) {\n",
              "        console.error('Error during call to suggestCharts:', error);\n",
              "      }\n",
              "      quickchartButtonEl.classList.remove('colab-df-spinner');\n",
              "      quickchartButtonEl.classList.add('colab-df-quickchart-complete');\n",
              "    }\n",
              "    (() => {\n",
              "      let quickchartButtonEl =\n",
              "        document.querySelector('#df-f91a4fa8-e186-4675-9b38-29c2cae57447 button');\n",
              "      quickchartButtonEl.style.display =\n",
              "        google.colab.kernel.accessAllowed ? 'block' : 'none';\n",
              "    })();\n",
              "  </script>\n",
              "</div>\n",
              "\n",
              "  <div id=\"id_7b03b16e-1b4f-4bfb-9992-d1f73884ba75\">\n",
              "    <style>\n",
              "      .colab-df-generate {\n",
              "        background-color: #E8F0FE;\n",
              "        border: none;\n",
              "        border-radius: 50%;\n",
              "        cursor: pointer;\n",
              "        display: none;\n",
              "        fill: #1967D2;\n",
              "        height: 32px;\n",
              "        padding: 0 0 0 0;\n",
              "        width: 32px;\n",
              "      }\n",
              "\n",
              "      .colab-df-generate:hover {\n",
              "        background-color: #E2EBFA;\n",
              "        box-shadow: 0px 1px 2px rgba(60, 64, 67, 0.3), 0px 1px 3px 1px rgba(60, 64, 67, 0.15);\n",
              "        fill: #174EA6;\n",
              "      }\n",
              "\n",
              "      [theme=dark] .colab-df-generate {\n",
              "        background-color: #3B4455;\n",
              "        fill: #D2E3FC;\n",
              "      }\n",
              "\n",
              "      [theme=dark] .colab-df-generate:hover {\n",
              "        background-color: #434B5C;\n",
              "        box-shadow: 0px 1px 3px 1px rgba(0, 0, 0, 0.15);\n",
              "        filter: drop-shadow(0px 1px 2px rgba(0, 0, 0, 0.3));\n",
              "        fill: #FFFFFF;\n",
              "      }\n",
              "    </style>\n",
              "    <button class=\"colab-df-generate\" onclick=\"generateWithVariable('age_group_income')\"\n",
              "            title=\"Generate code using this dataframe.\"\n",
              "            style=\"display:none;\">\n",
              "\n",
              "  <svg xmlns=\"http://www.w3.org/2000/svg\" height=\"24px\"viewBox=\"0 0 24 24\"\n",
              "       width=\"24px\">\n",
              "    <path d=\"M7,19H8.4L18.45,9,17,7.55,7,17.6ZM5,21V16.75L18.45,3.32a2,2,0,0,1,2.83,0l1.4,1.43a1.91,1.91,0,0,1,.58,1.4,1.91,1.91,0,0,1-.58,1.4L9.25,21ZM18.45,9,17,7.55Zm-12,3A5.31,5.31,0,0,0,4.9,8.1,5.31,5.31,0,0,0,1,6.5,5.31,5.31,0,0,0,4.9,4.9,5.31,5.31,0,0,0,6.5,1,5.31,5.31,0,0,0,8.1,4.9,5.31,5.31,0,0,0,12,6.5,5.46,5.46,0,0,0,6.5,12Z\"/>\n",
              "  </svg>\n",
              "    </button>\n",
              "    <script>\n",
              "      (() => {\n",
              "      const buttonEl =\n",
              "        document.querySelector('#id_7b03b16e-1b4f-4bfb-9992-d1f73884ba75 button.colab-df-generate');\n",
              "      buttonEl.style.display =\n",
              "        google.colab.kernel.accessAllowed ? 'block' : 'none';\n",
              "\n",
              "      buttonEl.onclick = () => {\n",
              "        google.colab.notebook.generateWithVariable('age_group_income');\n",
              "      }\n",
              "      })();\n",
              "    </script>\n",
              "  </div>\n",
              "\n",
              "    </div>\n",
              "  </div>\n"
            ],
            "application/vnd.google.colaboratory.intrinsic+json": {
              "type": "dataframe",
              "variable_name": "age_group_income",
              "summary": "{\n  \"name\": \"age_group_income\",\n  \"rows\": 3,\n  \"fields\": [\n    {\n      \"column\": \"age_group\",\n      \"properties\": {\n        \"dtype\": \"string\",\n        \"num_unique_values\": 3,\n        \"samples\": [\n          \"middle\",\n          \"old\",\n          \"young\"\n        ],\n        \"semantic_type\": \"\",\n        \"description\": \"\"\n      }\n    },\n    {\n      \"column\": \"mean_income\",\n      \"properties\": {\n        \"dtype\": \"number\",\n        \"std\": 81.61649467481386,\n        \"min\": 125.3294631710362,\n        \"max\": 281.8871004497751,\n        \"num_unique_values\": 3,\n        \"samples\": [\n          281.8871004497751,\n          125.3294631710362,\n          163.5953305785124\n        ],\n        \"semantic_type\": \"\",\n        \"description\": \"\"\n      }\n    }\n  ]\n}"
            }
          },
          "metadata": {},
          "execution_count": 261
        }
      ],
      "source": [
        "# 연령대별 월급 평균표 만들기\n",
        "age_group_income = welfare.dropna(subset = ['age_group','income']) \\\n",
        "                     .groupby('age_group', as_index = False) \\\n",
        "                     .agg(mean_income = ('income', 'mean'))\n",
        "# 결측치 제거\n",
        "# age_group 별 분리\n",
        "# income 평균 구하기\n",
        "age_group_income"
      ]
    },
    {
      "cell_type": "code",
      "execution_count": null,
      "metadata": {
        "id": "504ee27a",
        "colab": {
          "base_uri": "https://localhost:8080/"
        },
        "outputId": "0131e3af-0b9c-41df-ce93-f518776c18cf"
      },
      "outputs": [
        {
          "output_type": "stream",
          "name": "stdout",
          "text": [
            "156.55763727873892\n",
            "118.29176987126272\n",
            "38.26586740747621\n"
          ]
        }
      ],
      "source": [
        "# middle 과 old 의 평균 월급 차이\n",
        "print(age_group_income.iloc[0,1] - age_group_income.iloc[1,1])\n",
        "# middle 과 young 의 평균 월급 차이\n",
        "print(age_group_income.iloc[0,1] - age_group_income.iloc[2,1])\n",
        "# young 과 old 의 평균 월급 차이\n",
        "print(age_group_income.iloc[2,1] - age_group_income.iloc[1,1])"
      ]
    },
    {
      "cell_type": "markdown",
      "metadata": {
        "id": "99b63226"
      },
      "source": [
        "#### 2. 그래프 만들기"
      ]
    },
    {
      "cell_type": "code",
      "execution_count": null,
      "metadata": {
        "eval": false,
        "name": "p_ageg_income",
        "id": "6bd6ae9f",
        "colab": {
          "base_uri": "https://localhost:8080/",
          "height": 447
        },
        "outputId": "bb6076e5-830b-44eb-8bed-2206333e87e4"
      },
      "outputs": [
        {
          "output_type": "display_data",
          "data": {
            "text/plain": [
              "<Figure size 640x480 with 1 Axes>"
            ],
            "image/png": "[encoded data removed]"
          },
          "metadata": {}
        }
      ],
      "source": [
        "# 막대 그래프 만들기\n",
        "sns.barplot(x = 'age_group', y = 'mean_income', data = age_group_income)\n",
        "plt.show()\n",
        "# 추가 분석 진행 - 단순분산분석 & 사후검정"
      ]
    },
    {
      "cell_type": "code",
      "execution_count": null,
      "metadata": {
        "eval": false,
        "name": "p_ageg_income_reorder",
        "id": "1c6e69b3",
        "colab": {
          "base_uri": "https://localhost:8080/",
          "height": 447
        },
        "outputId": "5da26211-cb77-42ed-8922-96142c8ed20b"
      },
      "outputs": [
        {
          "output_type": "display_data",
          "data": {
            "text/plain": [
              "<Figure size 640x480 with 1 Axes>"
            ],
            "image/png": "[encoded data removed]"
          },
          "metadata": {}
        }
      ],
      "source": [
        "# 막대 정렬하기\n",
        "sns.barplot(x = 'age_group', y = 'mean_income',\n",
        "            data = age_group_income, order = ['young', 'middle', 'old'])\n",
        "plt.show()"
      ]
    },
    {
      "cell_type": "markdown",
      "source": [
        "# 중간 데이터 저장"
      ],
      "metadata": {
        "id": "XKZD63qpKmqb"
      }
    },
    {
      "cell_type": "code",
      "source": [
        "welfare.to_csv('/content/drive/MyDrive/lsda02/data/welfare_2015_0408.csv', index = False)"
      ],
      "metadata": {
        "id": "02K_7FOLKmqc"
      },
      "execution_count": null,
      "outputs": []
    },
    {
      "cell_type": "code",
      "source": [
        "# 데이터 불러오기\n",
        "welfare = pd.read_csv('/content/drive/MyDrive/lsda02/data/welfare_2015_0408.csv')"
      ],
      "metadata": {
        "id": "jXWrsh0cKmqc"
      },
      "execution_count": null,
      "outputs": []
    },
    {
      "cell_type": "code",
      "source": [],
      "metadata": {
        "id": "Tf7ESedEPZTo"
      },
      "execution_count": null,
      "outputs": []
    }
  ]
}