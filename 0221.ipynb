{
  "nbformat": 4,
  "nbformat_minor": 0,
  "metadata": {
    "colab": {
      "provenance": [],
      "toc_visible": true
    },
    "kernelspec": {
      "name": "python3",
      "display_name": "Python 3"
    },
    "language_info": {
      "name": "python"
    }
  },
  "cells": [
    {
      "cell_type": "code",
      "execution_count": null,
      "metadata": {
        "id": "a5GfVXc8BF7Y"
      },
      "outputs": [],
      "source": [
        "# 한 줄 주석 ctrl + /\n",
        "# 여러 줄 주석 \"\"\" ~ \"\"\" / ''' ~ '''\n",
        "# 실행 ctrl + enter (해당 셀에서 실행)\n",
        "# 실행 alt + enter (다음 셀로 넘어감, 다음 셀이 없으면 새로 만듦)\n",
        "# 실행 shift + enter (다음 셀로 넘어감, 다음 셀이 있을때만 감, 다음 셀이 없으면 그 자리에 있음)"
      ]
    },
    {
      "cell_type": "code",
      "source": [
        "#여러 줄 주석\n",
        "\"\"\"\n",
        "a = 1\n",
        "b = 1\n",
        "\"\"\""
      ],
      "metadata": {
        "colab": {
          "base_uri": "https://localhost:8080/",
          "height": 35
        },
        "id": "M2EKn5gPB-75",
        "outputId": "06ac0669-1758-4dc0-ca21-715e2301b990"
      },
      "execution_count": null,
      "outputs": [
        {
          "output_type": "execute_result",
          "data": {
            "text/plain": [
              "'\\na = 1\\nb = 1\\n'"
            ],
            "application/vnd.google.colaboratory.intrinsic+json": {
              "type": "string"
            }
          },
          "metadata": {},
          "execution_count": 2
        }
      ]
    },
    {
      "cell_type": "code",
      "source": [
        "1+2"
      ],
      "metadata": {
        "colab": {
          "base_uri": "https://localhost:8080/"
        },
        "id": "QR4ioKmwCfcu",
        "outputId": "4a53cb6d-905f-4257-d2b2-498aca0ec086"
      },
      "execution_count": null,
      "outputs": [
        {
          "output_type": "execute_result",
          "data": {
            "text/plain": [
              "3"
            ]
          },
          "metadata": {},
          "execution_count": 3
        }
      ]
    },
    {
      "cell_type": "markdown",
      "source": [
        "# 마크다운 연습\n",
        "# 가장 큰 제목\n"
      ],
      "metadata": {
        "id": "cVQXBs7eCvO3"
      }
    },
    {
      "cell_type": "code",
      "source": [
        "a = 1\n",
        "b = 2\n",
        "c = 3\n",
        "d = 4\n",
        "print(a)\n",
        "print(b)\n",
        "print(c)\n",
        "print(d)"
      ],
      "metadata": {
        "colab": {
          "base_uri": "https://localhost:8080/"
        },
        "id": "itoDrGU-DSxa",
        "outputId": "c2b4d910-ebe4-493e-e2fc-5657f7214897"
      },
      "execution_count": null,
      "outputs": [
        {
          "output_type": "stream",
          "name": "stdout",
          "text": [
            "1\n",
            "2\n",
            "3\n",
            "4\n"
          ]
        }
      ]
    },
    {
      "cell_type": "code",
      "source": [
        "a\n",
        "b\n",
        "c\n",
        "d"
      ],
      "metadata": {
        "colab": {
          "base_uri": "https://localhost:8080/"
        },
        "id": "GK16XqO7Ddvr",
        "outputId": "423fd167-e726-4467-dbcf-192c6f3404bb"
      },
      "execution_count": null,
      "outputs": [
        {
          "output_type": "execute_result",
          "data": {
            "text/plain": [
              "4"
            ]
          },
          "metadata": {},
          "execution_count": 5
        }
      ]
    },
    {
      "cell_type": "code",
      "source": [
        "#코드 뒤에 주석 달기 > 바로 뒤에 #하고 주석 달 수 있음\n",
        "a + b # = 1 + 2"
      ],
      "metadata": {
        "colab": {
          "base_uri": "https://localhost:8080/"
        },
        "id": "QGlH_Nd1D7pB",
        "outputId": "275935ad-c3fc-4591-c20c-9aabb9c60268"
      },
      "execution_count": null,
      "outputs": [
        {
          "output_type": "execute_result",
          "data": {
            "text/plain": [
              "3"
            ]
          },
          "metadata": {},
          "execution_count": 6
        }
      ]
    },
    {
      "cell_type": "markdown",
      "source": [],
      "metadata": {
        "id": "UeOAqQrvG50Z"
      }
    },
    {
      "cell_type": "markdown",
      "source": [
        "# 파이썬 기초"
      ],
      "metadata": {
        "id": "VKebX1OHG_AS"
      }
    },
    {
      "cell_type": "code",
      "source": [
        "# 출력을 해주는 함수\n",
        "print(\"안녕 파이썬\")"
      ],
      "metadata": {
        "colab": {
          "base_uri": "https://localhost:8080/"
        },
        "id": "5mHhlZF2HD3o",
        "outputId": "5eea8b62-890f-40ae-ab14-ec0d3cb437c5"
      },
      "execution_count": null,
      "outputs": [
        {
          "output_type": "stream",
          "name": "stdout",
          "text": [
            "안녕 파이썬\n"
          ]
        }
      ]
    },
    {
      "cell_type": "code",
      "source": [
        "print(\"안녕\"*10)"
      ],
      "metadata": {
        "colab": {
          "base_uri": "https://localhost:8080/"
        },
        "id": "kpXXIcwCHE2B",
        "outputId": "48f371eb-bc04-461a-8c09-3c608000b1c3"
      },
      "execution_count": null,
      "outputs": [
        {
          "output_type": "stream",
          "name": "stdout",
          "text": [
            "안녕안녕안녕안녕안녕안녕안녕안녕안녕안녕\n"
          ]
        }
      ]
    },
    {
      "cell_type": "code",
      "source": [
        "# 표현식\n",
        "23\n",
        "\"Hello\"\n",
        "1+2\n",
        "# + : 연산자"
      ],
      "metadata": {
        "colab": {
          "base_uri": "https://localhost:8080/"
        },
        "id": "FZ397SIwHHb-",
        "outputId": "3270027d-d608-4290-d442-329c17e3d37e"
      },
      "execution_count": null,
      "outputs": [
        {
          "output_type": "execute_result",
          "data": {
            "text/plain": [
              "3"
            ]
          },
          "metadata": {},
          "execution_count": 9
        }
      ]
    },
    {
      "cell_type": "code",
      "source": [
        "# 문장: 표현식이 모여서 실행할 수 있는 코드\n",
        "# 한줄의 코드\n",
        "a = 1+2"
      ],
      "metadata": {
        "id": "bPp0DINzHJHj"
      },
      "execution_count": null,
      "outputs": []
    },
    {
      "cell_type": "code",
      "source": [
        "a"
      ],
      "metadata": {
        "colab": {
          "base_uri": "https://localhost:8080/"
        },
        "id": "Y6qG_8PlHKgn",
        "outputId": "46ae0498-3876-4bb5-e307-7ed436fe9418"
      },
      "execution_count": null,
      "outputs": [
        {
          "output_type": "execute_result",
          "data": {
            "text/plain": [
              "3"
            ]
          },
          "metadata": {},
          "execution_count": 11
        }
      ]
    },
    {
      "cell_type": "code",
      "source": [
        "print(\"Hello, Python\")"
      ],
      "metadata": {
        "colab": {
          "base_uri": "https://localhost:8080/"
        },
        "id": "iunnigEOHPAb",
        "outputId": "210403a9-cd82-4c1b-8b80-15b7b8cb1221"
      },
      "execution_count": null,
      "outputs": [
        {
          "output_type": "stream",
          "name": "stdout",
          "text": [
            "Hello, Python\n"
          ]
        }
      ]
    },
    {
      "cell_type": "code",
      "source": [
        "# 프로그램: 문장이 모여서 만들어진 코드\n",
        "import time\n",
        "time.sleep(3)\n",
        "print(\"Hello\")"
      ],
      "metadata": {
        "colab": {
          "base_uri": "https://localhost:8080/"
        },
        "id": "Y1WCB_lCHRQB",
        "outputId": "46cb43de-9eaf-4c67-d3f3-d1006057a632"
      },
      "execution_count": null,
      "outputs": [
        {
          "output_type": "stream",
          "name": "stdout",
          "text": [
            "Hello\n"
          ]
        }
      ]
    },
    {
      "cell_type": "code",
      "source": [
        "import time\n",
        "\n",
        "def main():\n",
        "    s = input(\"몇 초 쉬어야 하나요? \")\n",
        "    time.sleep(int(s))\n",
        "    print(\"Hello\")\n",
        "\n",
        "if __name__ == \"__main__\":\n",
        "    main()"
      ],
      "metadata": {
        "colab": {
          "base_uri": "https://localhost:8080/"
        },
        "id": "DAeQzDxKHofh",
        "outputId": "356a31e6-d48f-4aa5-bb6c-ee63e07955ce"
      },
      "execution_count": null,
      "outputs": [
        {
          "output_type": "stream",
          "name": "stdout",
          "text": [
            "몇 초 쉬어야 하나요? 3\n",
            "Hello\n"
          ]
        }
      ]
    },
    {
      "cell_type": "code",
      "source": [
        "import time\n",
        "s = 1\n",
        "time.sleep(s)\n",
        "print(\"Hello\")"
      ],
      "metadata": {
        "id": "JLSum5fIHs9w",
        "colab": {
          "base_uri": "https://localhost:8080/"
        },
        "outputId": "b6e099cd-a761-4760-fa62-509954387d5d"
      },
      "execution_count": null,
      "outputs": [
        {
          "output_type": "stream",
          "name": "stdout",
          "text": [
            "Hello\n"
          ]
        }
      ]
    },
    {
      "cell_type": "markdown",
      "source": [
        "#키워드 & 식별자"
      ],
      "metadata": {
        "id": "cY4Qm1mxIECX"
      }
    },
    {
      "cell_type": "code",
      "source": [
        "#키워드 확인 방법\n",
        "import keyword\n",
        "print(keyword.kwlist)"
      ],
      "metadata": {
        "id": "SYb8Ar6EIDR8",
        "colab": {
          "base_uri": "https://localhost:8080/"
        },
        "outputId": "f16b1844-c7bf-4dc6-e26e-d2154e20c330"
      },
      "execution_count": null,
      "outputs": [
        {
          "output_type": "stream",
          "name": "stdout",
          "text": [
            "['False', 'None', 'True', 'and', 'as', 'assert', 'async', 'await', 'break', 'class', 'continue', 'def', 'del', 'elif', 'else', 'except', 'finally', 'for', 'from', 'global', 'if', 'import', 'in', 'is', 'lambda', 'nonlocal', 'not', 'or', 'pass', 'raise', 'return', 'try', 'while', 'with', 'yield']\n"
          ]
        }
      ]
    },
    {
      "cell_type": "code",
      "source": [
        "# 식별자\n",
        "# 소문자로만 쓰는거는 뱀같이 생겨서 snake case\n",
        "student_name = \"Tom\"\n",
        "student_name"
      ],
      "metadata": {
        "id": "yf-xDsUxIK9c",
        "colab": {
          "base_uri": "https://localhost:8080/",
          "height": 35
        },
        "outputId": "5c9f79c9-e6fd-48fa-f86a-5f6116501a14"
      },
      "execution_count": null,
      "outputs": [
        {
          "output_type": "execute_result",
          "data": {
            "text/plain": [
              "'Tom'"
            ],
            "application/vnd.google.colaboratory.intrinsic+json": {
              "type": "string"
            }
          },
          "metadata": {},
          "execution_count": 19
        }
      ]
    },
    {
      "cell_type": "code",
      "source": [
        "# 대문자 소문자 같이 쓰는 거는 낙타 혹같이 생겨서 camel case라고 함\n",
        "StudentName = \"Tom\"\n",
        "StudentName"
      ],
      "metadata": {
        "id": "DAe31ASDMPCF",
        "colab": {
          "base_uri": "https://localhost:8080/",
          "height": 35
        },
        "outputId": "7e0ff8e3-130b-4be2-d167-ea49ed414503"
      },
      "execution_count": null,
      "outputs": [
        {
          "output_type": "execute_result",
          "data": {
            "text/plain": [
              "'Tom'"
            ],
            "application/vnd.google.colaboratory.intrinsic+json": {
              "type": "string"
            }
          },
          "metadata": {},
          "execution_count": 20
        }
      ]
    },
    {
      "cell_type": "code",
      "source": [
        "# class 가 키워드로 이미 존재하고 있기 때문에 error 발생\n",
        "class = 1\n",
        "class"
      ],
      "metadata": {
        "id": "Ry4Eu-bNMUpD",
        "colab": {
          "base_uri": "https://localhost:8080/",
          "height": 110
        },
        "outputId": "10890a47-14e9-4ef5-cf9e-0bb7bcb5af3d"
      },
      "execution_count": null,
      "outputs": [
        {
          "output_type": "error",
          "ename": "SyntaxError",
          "evalue": "invalid syntax (<ipython-input-21-39ef5c6b4940>, line 2)",
          "traceback": [
            "\u001b[0;36m  File \u001b[0;32m\"<ipython-input-21-39ef5c6b4940>\"\u001b[0;36m, line \u001b[0;32m2\u001b[0m\n\u001b[0;31m    class = 1\u001b[0m\n\u001b[0m          ^\u001b[0m\n\u001b[0;31mSyntaxError\u001b[0m\u001b[0;31m:\u001b[0m invalid syntax\n"
          ]
        }
      ]
    },
    {
      "cell_type": "code",
      "source": [
        "_class = 1\n",
        "_class"
      ],
      "metadata": {
        "id": "QjHI0_dkMWVe",
        "colab": {
          "base_uri": "https://localhost:8080/"
        },
        "outputId": "05aad200-b79e-4d7d-df54-01ab34679171"
      },
      "execution_count": null,
      "outputs": [
        {
          "output_type": "execute_result",
          "data": {
            "text/plain": [
              "1"
            ]
          },
          "metadata": {},
          "execution_count": 22
        }
      ]
    },
    {
      "cell_type": "code",
      "source": [
        "# 특수문자는 언더바(_) 만 사용가능! 다른 특수문자 사용시 문법 오류가 남.\n",
        "$class = 1\n",
        "$class"
      ],
      "metadata": {
        "id": "G6UdWv1WMfCY",
        "colab": {
          "base_uri": "https://localhost:8080/",
          "height": 110
        },
        "outputId": "364cb020-5982-4955-b175-13b2ce52578d"
      },
      "execution_count": null,
      "outputs": [
        {
          "output_type": "error",
          "ename": "SyntaxError",
          "evalue": "invalid syntax (<ipython-input-23-b8c83d9c7cd5>, line 2)",
          "traceback": [
            "\u001b[0;36m  File \u001b[0;32m\"<ipython-input-23-b8c83d9c7cd5>\"\u001b[0;36m, line \u001b[0;32m2\u001b[0m\n\u001b[0;31m    $class = 1\u001b[0m\n\u001b[0m    ^\u001b[0m\n\u001b[0;31mSyntaxError\u001b[0m\u001b[0;31m:\u001b[0m invalid syntax\n"
          ]
        }
      ]
    },
    {
      "cell_type": "code",
      "source": [
        "2class = 1\n",
        "2class"
      ],
      "metadata": {
        "id": "KID1wbRMMgew",
        "colab": {
          "base_uri": "https://localhost:8080/"
        },
        "outputId": "6fab09c7-ee0e-40cc-b2ff-72495d5fb1d1"
      },
      "execution_count": null,
      "outputs": [
        {
          "output_type": "execute_result",
          "data": {
            "text/plain": [
              "1"
            ]
          },
          "metadata": {},
          "execution_count": 25
        }
      ]
    },
    {
      "cell_type": "code",
      "source": [
        "first name = \"Tom\"\n",
        "first name\n",
        "# first name => first_name"
      ],
      "metadata": {
        "colab": {
          "base_uri": "https://localhost:8080/",
          "height": 110
        },
        "id": "i7FI8ZsTMhyi",
        "outputId": "7afce65e-cbf7-4660-8daa-d261e1e749f0"
      },
      "execution_count": null,
      "outputs": [
        {
          "output_type": "error",
          "ename": "SyntaxError",
          "evalue": "invalid syntax (<ipython-input-26-bfa0530b619f>, line 1)",
          "traceback": [
            "\u001b[0;36m  File \u001b[0;32m\"<ipython-input-26-bfa0530b619f>\"\u001b[0;36m, line \u001b[0;32m1\u001b[0m\n\u001b[0;31m    first name = \"Tom\"\u001b[0m\n\u001b[0m          ^\u001b[0m\n\u001b[0;31mSyntaxError\u001b[0m\u001b[0;31m:\u001b[0m invalid syntax\n"
          ]
        }
      ]
    },
    {
      "cell_type": "markdown",
      "source": [
        "# 자료형"
      ],
      "metadata": {
        "id": "Lq1Bom5hn_r6"
      }
    },
    {
      "cell_type": "code",
      "source": [
        "# 자료형 확인\n",
        "type(\"배고파\") # str = string 문자열"
      ],
      "metadata": {
        "id": "9CEKdEshl7mp",
        "colab": {
          "base_uri": "https://localhost:8080/"
        },
        "outputId": "7432ebf3-e104-46d6-caf4-b75a20b446e1"
      },
      "execution_count": null,
      "outputs": [
        {
          "output_type": "execute_result",
          "data": {
            "text/plain": [
              "str"
            ]
          },
          "metadata": {},
          "execution_count": 27
        }
      ]
    },
    {
      "cell_type": "code",
      "source": [
        "type(23) # int = integer 정수 = 소수점이 없는 숫자"
      ],
      "metadata": {
        "id": "cJIdBbtEoLRx",
        "colab": {
          "base_uri": "https://localhost:8080/"
        },
        "outputId": "677b0fb1-56c0-456e-b8af-ee01ab2d0dfc"
      },
      "execution_count": null,
      "outputs": [
        {
          "output_type": "execute_result",
          "data": {
            "text/plain": [
              "int"
            ]
          },
          "metadata": {},
          "execution_count": 28
        }
      ]
    },
    {
      "cell_type": "code",
      "source": [
        "type(2.3) # float 실수 = 소수점이 있는 숫자"
      ],
      "metadata": {
        "id": "lbNljSTSoYMz",
        "colab": {
          "base_uri": "https://localhost:8080/"
        },
        "outputId": "5a8db815-7885-4ad0-c7f0-b7ec777b5583"
      },
      "execution_count": null,
      "outputs": [
        {
          "output_type": "execute_result",
          "data": {
            "text/plain": [
              "float"
            ]
          },
          "metadata": {},
          "execution_count": 29
        }
      ]
    },
    {
      "cell_type": "code",
      "source": [
        "type(True) # bool = boolean 불 = 논리형 = 참/거짓"
      ],
      "metadata": {
        "id": "B0mXs2fjolB1",
        "colab": {
          "base_uri": "https://localhost:8080/"
        },
        "outputId": "58324593-2014-415b-e044-afaaf17d1d65"
      },
      "execution_count": null,
      "outputs": [
        {
          "output_type": "execute_result",
          "data": {
            "text/plain": [
              "bool"
            ]
          },
          "metadata": {},
          "execution_count": 31
        }
      ]
    },
    {
      "cell_type": "markdown",
      "source": [
        "## 문자열"
      ],
      "metadata": {
        "id": "8symZT-xp0VS"
      }
    },
    {
      "cell_type": "code",
      "source": [
        "print(\"Korea\")\n",
        "print('Korea')"
      ],
      "metadata": {
        "id": "IJNThoi0DayI",
        "colab": {
          "base_uri": "https://localhost:8080/"
        },
        "outputId": "9e7a8138-7a8c-4af2-ca8f-36f2ce718474"
      },
      "execution_count": null,
      "outputs": [
        {
          "output_type": "stream",
          "name": "stdout",
          "text": [
            "Korea\n",
            "Korea\n"
          ]
        }
      ]
    },
    {
      "cell_type": "code",
      "source": [
        "print(\"Hello\", \"Korea\", \"is\", \"beautiful!\")"
      ],
      "metadata": {
        "id": "5UfOiv1FDlig",
        "colab": {
          "base_uri": "https://localhost:8080/"
        },
        "outputId": "3bd43602-4c93-44d2-a4e2-41db6e71a99f"
      },
      "execution_count": null,
      "outputs": [
        {
          "output_type": "stream",
          "name": "stdout",
          "text": [
            "Hello Korea is beautiful!\n"
          ]
        }
      ]
    },
    {
      "cell_type": "code",
      "source": [
        "print(\"안녕\")\n",
        "print('안녕')"
      ],
      "metadata": {
        "id": "Yu4BuwHjov0n",
        "colab": {
          "base_uri": "https://localhost:8080/"
        },
        "outputId": "bc4aee19-01c1-47d3-e8c1-4aa11c762ef7"
      },
      "execution_count": null,
      "outputs": [
        {
          "output_type": "stream",
          "name": "stdout",
          "text": [
            "안녕\n",
            "안녕\n"
          ]
        }
      ]
    },
    {
      "cell_type": "code",
      "source": [
        "# 큰따옴표가 출력되길 원하면 작은걸로 묶고, 작은게 나오길 원하면 큰걸로 감싸야함\n",
        "print(\"He said \"Hello\"\")\n",
        "# SyntaxError: invalid syntax => 구문 오류 = 코드 실행 전에 발생하는 오류 = 보통 오타"
      ],
      "metadata": {
        "colab": {
          "base_uri": "https://localhost:8080/",
          "height": 110
        },
        "id": "EcsZcQv4EBpc",
        "outputId": "5b9abcca-e52e-45bb-ef08-59d9a0038372"
      },
      "execution_count": null,
      "outputs": [
        {
          "output_type": "error",
          "ename": "SyntaxError",
          "evalue": "invalid syntax. Perhaps you forgot a comma? (<ipython-input-35-bf7f9abd6c3f>, line 2)",
          "traceback": [
            "\u001b[0;36m  File \u001b[0;32m\"<ipython-input-35-bf7f9abd6c3f>\"\u001b[0;36m, line \u001b[0;32m2\u001b[0m\n\u001b[0;31m    print(\"He said \"Hello\"\")\u001b[0m\n\u001b[0m          ^\u001b[0m\n\u001b[0;31mSyntaxError\u001b[0m\u001b[0;31m:\u001b[0m invalid syntax. Perhaps you forgot a comma?\n"
          ]
        }
      ]
    },
    {
      "cell_type": "code",
      "source": [
        "# 오류 수정\n",
        "print('He said \"Hello\"')\n",
        "print(\"He said 'Hello'\")"
      ],
      "metadata": {
        "id": "cqW6UvKXELjQ",
        "colab": {
          "base_uri": "https://localhost:8080/"
        },
        "outputId": "fcfd3732-49bf-49b5-eb9b-c342d4dce4d5"
      },
      "execution_count": null,
      "outputs": [
        {
          "output_type": "stream",
          "name": "stdout",
          "text": [
            "He said \"Hello\"\n",
            "He said 'Hello'\n"
          ]
        }
      ]
    },
    {
      "cell_type": "code",
      "source": [
        "# 문자열 안에서 따옴표를 사용하는 경우\n",
        "print(\"\"안녕\"이라고 말해봐\")"
      ],
      "metadata": {
        "id": "sEgZ2Cw-qATK",
        "colab": {
          "base_uri": "https://localhost:8080/",
          "height": 110
        },
        "outputId": "f6a98ca4-da8b-4d6a-cc12-6bc152f40afe"
      },
      "execution_count": null,
      "outputs": [
        {
          "output_type": "error",
          "ename": "SyntaxError",
          "evalue": "invalid syntax. Perhaps you forgot a comma? (<ipython-input-37-400f9b609a59>, line 2)",
          "traceback": [
            "\u001b[0;36m  File \u001b[0;32m\"<ipython-input-37-400f9b609a59>\"\u001b[0;36m, line \u001b[0;32m2\u001b[0m\n\u001b[0;31m    print(\"\"안녕\"이라고 말해봐\")\u001b[0m\n\u001b[0m          ^\u001b[0m\n\u001b[0;31mSyntaxError\u001b[0m\u001b[0;31m:\u001b[0m invalid syntax. Perhaps you forgot a comma?\n"
          ]
        }
      ]
    },
    {
      "cell_type": "code",
      "source": [
        "# 위의 에러 수정\n",
        "print('\"안녕\"이라고 말해봐')"
      ],
      "metadata": {
        "id": "FA1GtJXBqtUc",
        "colab": {
          "base_uri": "https://localhost:8080/"
        },
        "outputId": "b0ae41df-b710-4f7c-9e83-123f2f6bfc6e"
      },
      "execution_count": null,
      "outputs": [
        {
          "output_type": "stream",
          "name": "stdout",
          "text": [
            "\"안녕\"이라고 말해봐\n"
          ]
        }
      ]
    },
    {
      "cell_type": "code",
      "source": [
        "print(\"'안녕'이라고 말해봐\")"
      ],
      "metadata": {
        "id": "cx_t9izbq2R4",
        "colab": {
          "base_uri": "https://localhost:8080/"
        },
        "outputId": "41c949f6-29f1-4c68-ab8a-3732d776bf60"
      },
      "execution_count": null,
      "outputs": [
        {
          "output_type": "stream",
          "name": "stdout",
          "text": [
            "'안녕'이라고 말해봐\n"
          ]
        }
      ]
    },
    {
      "cell_type": "markdown",
      "source": [
        "### 이스케이프 문자"
      ],
      "metadata": {
        "id": "HOg67UgbrsWM"
      }
    },
    {
      "cell_type": "code",
      "source": [
        "# \\\"\n",
        "print('He said \\\"Hello\\\"')"
      ],
      "metadata": {
        "id": "kqq-BozfEjaQ",
        "colab": {
          "base_uri": "https://localhost:8080/"
        },
        "outputId": "8511b26d-2906-4db7-c303-1fb14bdd5efe"
      },
      "execution_count": null,
      "outputs": [
        {
          "output_type": "stream",
          "name": "stdout",
          "text": [
            "He said \"Hello\"\n"
          ]
        }
      ]
    },
    {
      "cell_type": "code",
      "source": [
        "print(\"He said \\\"Hello\\\"\")"
      ],
      "metadata": {
        "id": "ABjAv9UBE3Lu",
        "colab": {
          "base_uri": "https://localhost:8080/"
        },
        "outputId": "28f52a17-1c85-4fac-8ae0-c88e10f73e38"
      },
      "execution_count": null,
      "outputs": [
        {
          "output_type": "stream",
          "name": "stdout",
          "text": [
            "He said \"Hello\"\n"
          ]
        }
      ]
    },
    {
      "cell_type": "code",
      "source": [
        "print('He said \\nHello\\n')"
      ],
      "metadata": {
        "id": "5mY-7ZzoE85Y",
        "colab": {
          "base_uri": "https://localhost:8080/"
        },
        "outputId": "df04b947-dcc7-4345-f324-7d05f9957e83"
      },
      "execution_count": null,
      "outputs": [
        {
          "output_type": "stream",
          "name": "stdout",
          "text": [
            "He said \n",
            "Hello\n",
            "\n"
          ]
        }
      ]
    },
    {
      "cell_type": "code",
      "source": [
        "print('He said \\tHello\\t')"
      ],
      "metadata": {
        "id": "n7louqIrFAvj",
        "colab": {
          "base_uri": "https://localhost:8080/"
        },
        "outputId": "50cfe9c7-c105-48fd-d20e-14083f8f04ab"
      },
      "execution_count": null,
      "outputs": [
        {
          "output_type": "stream",
          "name": "stdout",
          "text": [
            "He said \tHello\t\n"
          ]
        }
      ]
    },
    {
      "cell_type": "code",
      "source": [
        "print('He said \\\\Hello\\\\')"
      ],
      "metadata": {
        "id": "lgJ2h6W1FD0_",
        "colab": {
          "base_uri": "https://localhost:8080/"
        },
        "outputId": "335ad333-555f-46f0-dd91-0c3e74152036"
      },
      "execution_count": null,
      "outputs": [
        {
          "output_type": "stream",
          "name": "stdout",
          "text": [
            "He said \\Hello\\\n"
          ]
        }
      ]
    },
    {
      "cell_type": "code",
      "source": [
        "# 역슬래시(\\) 와 함께 쓰는 문자\n",
        "print(\"\\\"안녕\\\"이라고 말해봐\")"
      ],
      "metadata": {
        "id": "8H_65w3OrRLi",
        "colab": {
          "base_uri": "https://localhost:8080/"
        },
        "outputId": "effcea4d-8030-4d43-9ab2-9d2dc83a92c4"
      },
      "execution_count": null,
      "outputs": [
        {
          "output_type": "stream",
          "name": "stdout",
          "text": [
            "\"안녕\"이라고 말해봐\n"
          ]
        }
      ]
    },
    {
      "cell_type": "code",
      "source": [
        "print('\\'안녕\\'이라고 말해봐')"
      ],
      "metadata": {
        "id": "38gzaGRksSMC",
        "colab": {
          "base_uri": "https://localhost:8080/"
        },
        "outputId": "7b99e189-f322-426f-d140-2cc958948c55"
      },
      "execution_count": null,
      "outputs": [
        {
          "output_type": "stream",
          "name": "stdout",
          "text": [
            "'안녕'이라고 말해봐\n"
          ]
        }
      ]
    },
    {
      "cell_type": "code",
      "source": [
        "# 줄바꿈 \\n\n",
        "print(\"동해물과 백두산이\\n마르고 닳도록\")"
      ],
      "metadata": {
        "id": "2N8TsRvNsaBT",
        "colab": {
          "base_uri": "https://localhost:8080/"
        },
        "outputId": "c47c532d-d6b8-47a8-c180-04d681972a49"
      },
      "execution_count": null,
      "outputs": [
        {
          "output_type": "stream",
          "name": "stdout",
          "text": [
            "동해물과 백두산이\n",
            "마르고 닳도록\n"
          ]
        }
      ]
    },
    {
      "cell_type": "code",
      "source": [
        "# 탭 \\t\n",
        "print(\"안녕\\t안녕\")"
      ],
      "metadata": {
        "id": "aGqfmjANtROd",
        "colab": {
          "base_uri": "https://localhost:8080/"
        },
        "outputId": "141ccdd1-5ed1-4f17-d46b-982274c6493f"
      },
      "execution_count": null,
      "outputs": [
        {
          "output_type": "stream",
          "name": "stdout",
          "text": [
            "안녕\t안녕\n"
          ]
        }
      ]
    },
    {
      "cell_type": "code",
      "source": [
        "# 역슬래시 \\\\\n",
        "print(\"\\\\\\\\\")"
      ],
      "metadata": {
        "id": "hPMGxNI9-pPj",
        "colab": {
          "base_uri": "https://localhost:8080/"
        },
        "outputId": "1bb4ad0d-10d5-4090-d830-8364f4fa9724"
      },
      "execution_count": null,
      "outputs": [
        {
          "output_type": "stream",
          "name": "stdout",
          "text": [
            "\\\\\n"
          ]
        }
      ]
    },
    {
      "cell_type": "markdown",
      "source": [
        "### 여러 줄의 문자열"
      ],
      "metadata": {
        "id": "8na3AW2J-9KX"
      }
    },
    {
      "cell_type": "code",
      "source": [
        "print(\"Python\\nBasic\\nClass\")"
      ],
      "metadata": {
        "id": "7a0SHa09FQ9u",
        "colab": {
          "base_uri": "https://localhost:8080/"
        },
        "outputId": "d634145c-a106-4be1-9106-c411788bb77e"
      },
      "execution_count": null,
      "outputs": [
        {
          "output_type": "stream",
          "name": "stdout",
          "text": [
            "Python\n",
            "Basic\n",
            "Class\n"
          ]
        }
      ]
    },
    {
      "cell_type": "code",
      "source": [
        "print(\"\"\"Python\n",
        "Basic\n",
        "Class\"\"\")"
      ],
      "metadata": {
        "id": "YiEh_2RXFbuL",
        "colab": {
          "base_uri": "https://localhost:8080/"
        },
        "outputId": "90f88667-be9a-41ee-a048-e4c6a541eff5"
      },
      "execution_count": null,
      "outputs": [
        {
          "output_type": "stream",
          "name": "stdout",
          "text": [
            "Python\n",
            "Basic\n",
            "Class\n"
          ]
        }
      ]
    },
    {
      "cell_type": "code",
      "source": [
        "print('''Python\n",
        "Basic\n",
        "Class''')"
      ],
      "metadata": {
        "id": "_YItHksgFin8",
        "colab": {
          "base_uri": "https://localhost:8080/"
        },
        "outputId": "65e82dc2-6ac6-46e7-f735-d45b8c38e685"
      },
      "execution_count": null,
      "outputs": [
        {
          "output_type": "stream",
          "name": "stdout",
          "text": [
            "Python\n",
            "Basic\n",
            "Class\n"
          ]
        }
      ]
    },
    {
      "cell_type": "code",
      "source": [
        "print(\"하나~~~~~\\n둘~~~~~\\n셋~~~~~\\n넷~~~~~~\")"
      ],
      "metadata": {
        "id": "bTtCT9r4-36s",
        "colab": {
          "base_uri": "https://localhost:8080/"
        },
        "outputId": "107457a6-9384-4e7e-95ff-63edb97ea479"
      },
      "execution_count": null,
      "outputs": [
        {
          "output_type": "stream",
          "name": "stdout",
          "text": [
            "하나~~~~~\n",
            "둘~~~~~\n",
            "셋~~~~~\n",
            "넷~~~~~~\n"
          ]
        }
      ]
    },
    {
      "cell_type": "code",
      "source": [
        "#아래 케이스와는 다르게 끝과 마지막에 엔터가 생김\n",
        "print(\"\"\"\n",
        "Python\n",
        "Basic\n",
        "Class\n",
        "\"\"\")"
      ],
      "metadata": {
        "id": "3IU0oH_pF-Zw",
        "colab": {
          "base_uri": "https://localhost:8080/"
        },
        "outputId": "e0306f15-0dcd-4cb9-ec63-c9ab750aec9c"
      },
      "execution_count": null,
      "outputs": [
        {
          "output_type": "stream",
          "name": "stdout",
          "text": [
            "\n",
            "Python\n",
            "Basic\n",
            "Class\n",
            "\n"
          ]
        }
      ]
    },
    {
      "cell_type": "code",
      "source": [
        "#위의 결과와 다른 점은 원하지 않는 줄바꿈을 없애기 위해서 역슬래시 사용했음.\n",
        "print(\"\"\"\\\n",
        "Python\n",
        "Basic\n",
        "Class\\\n",
        "\"\"\")"
      ],
      "metadata": {
        "id": "86R1OFjXGDkJ",
        "colab": {
          "base_uri": "https://localhost:8080/"
        },
        "outputId": "0f0fccbe-0dd1-461e-9204-9a4d2d713959"
      },
      "execution_count": null,
      "outputs": [
        {
          "output_type": "stream",
          "name": "stdout",
          "text": [
            "Python\n",
            "Basic\n",
            "Class\n"
          ]
        }
      ]
    },
    {
      "cell_type": "code",
      "source": [
        "print(\"\"\"하나~~~~~\n",
        "둘~~~~~\n",
        "셋~~~~~\n",
        "넷~~~~~~\"\"\")"
      ],
      "metadata": {
        "id": "ZRfUSi1B-jYm",
        "colab": {
          "base_uri": "https://localhost:8080/"
        },
        "outputId": "438ec4f2-bc10-4735-ed29-ebdf136628c9"
      },
      "execution_count": null,
      "outputs": [
        {
          "output_type": "stream",
          "name": "stdout",
          "text": [
            "하나~~~~~\n",
            "둘~~~~~\n",
            "셋~~~~~\n",
            "넷~~~~~~\n"
          ]
        }
      ]
    },
    {
      "cell_type": "code",
      "source": [
        "print(\"\"\"\n",
        "하나~~~~~\n",
        "둘~~~~~\n",
        "셋~~~~~\n",
        "넷~~~~~~\n",
        "\"\"\")"
      ],
      "metadata": {
        "id": "wuQa8tgm_nE9",
        "colab": {
          "base_uri": "https://localhost:8080/"
        },
        "outputId": "c695d397-dd61-417d-9e3f-679e9d183b88"
      },
      "execution_count": null,
      "outputs": [
        {
          "output_type": "stream",
          "name": "stdout",
          "text": [
            "\n",
            "하나~~~~~\n",
            "둘~~~~~\n",
            "셋~~~~~\n",
            "넷~~~~~~\n",
            "\n"
          ]
        }
      ]
    },
    {
      "cell_type": "code",
      "source": [
        "print(\"\"\"\\\n",
        "하나~~~~~\n",
        "둘~~~~~\n",
        "셋~~~~~\n",
        "넷~~~~~~\\\n",
        "\"\"\")"
      ],
      "metadata": {
        "id": "JW3dKgp1_58c",
        "colab": {
          "base_uri": "https://localhost:8080/"
        },
        "outputId": "edd6e056-561e-431e-b756-bec0beed90a6"
      },
      "execution_count": null,
      "outputs": [
        {
          "output_type": "stream",
          "name": "stdout",
          "text": [
            "하나~~~~~\n",
            "둘~~~~~\n",
            "셋~~~~~\n",
            "넷~~~~~~\n"
          ]
        }
      ]
    },
    {
      "cell_type": "markdown",
      "source": [
        "### 문자열 연산자"
      ],
      "metadata": {
        "id": "z8JsIjBrZ8GP"
      }
    },
    {
      "cell_type": "code",
      "source": [
        "print(\"대한\" + \"민국\")"
      ],
      "metadata": {
        "id": "vUF2e4nOZ8Un",
        "colab": {
          "base_uri": "https://localhost:8080/"
        },
        "outputId": "ae83de01-0627-4212-95e0-2050085cd105"
      },
      "execution_count": null,
      "outputs": [
        {
          "output_type": "stream",
          "name": "stdout",
          "text": [
            "대한민국\n"
          ]
        }
      ]
    },
    {
      "cell_type": "code",
      "source": [
        "#문자열끼리만 연산이 되기 때문에 int형도 반드시 str로 변환해줘야함\n",
        "print(\"대한\" + \"민국\" + 1004)"
      ],
      "metadata": {
        "id": "pS4OwIdxZ8Un",
        "colab": {
          "base_uri": "https://localhost:8080/",
          "height": 164
        },
        "outputId": "719eabce-d7d5-4e64-9315-73ecc8bd1e58"
      },
      "execution_count": null,
      "outputs": [
        {
          "output_type": "error",
          "ename": "TypeError",
          "evalue": "can only concatenate str (not \"int\") to str",
          "traceback": [
            "\u001b[0;31m---------------------------------------------------------------------------\u001b[0m",
            "\u001b[0;31mTypeError\u001b[0m                                 Traceback (most recent call last)",
            "\u001b[0;32m<ipython-input-62-7572df570e3f>\u001b[0m in \u001b[0;36m<cell line: 2>\u001b[0;34m()\u001b[0m\n\u001b[1;32m      1\u001b[0m \u001b[0;31m#문자열끼리만 연산이 되기 때문에 int형도 반드시 str로 변환해줘야함\u001b[0m\u001b[0;34m\u001b[0m\u001b[0;34m\u001b[0m\u001b[0m\n\u001b[0;32m----> 2\u001b[0;31m \u001b[0mprint\u001b[0m\u001b[0;34m(\u001b[0m\u001b[0;34m\"대한\"\u001b[0m \u001b[0;34m+\u001b[0m \u001b[0;34m\"민국\"\u001b[0m \u001b[0;34m+\u001b[0m \u001b[0;36m1004\u001b[0m\u001b[0;34m)\u001b[0m\u001b[0;34m\u001b[0m\u001b[0;34m\u001b[0m\u001b[0m\n\u001b[0m",
            "\u001b[0;31mTypeError\u001b[0m: can only concatenate str (not \"int\") to str"
          ]
        }
      ]
    },
    {
      "cell_type": "code",
      "source": [
        "print(\"대한\" + \"민국\" + \"1004\")"
      ],
      "metadata": {
        "id": "LbgVUNzLZ8Un",
        "colab": {
          "base_uri": "https://localhost:8080/"
        },
        "outputId": "4823c79e-cddb-483e-a2a4-2b2b4757cdaa"
      },
      "execution_count": null,
      "outputs": [
        {
          "output_type": "stream",
          "name": "stdout",
          "text": [
            "대한민국1004\n"
          ]
        }
      ]
    },
    {
      "cell_type": "code",
      "source": [
        "# + : 문자열 연결 연산자 = 합쳐주기\n",
        "print(\"안녕\"+\"하시렵니까?\")\n",
        "print(\"안녕\"+\"!!!\")\n",
        "print(\"안녕\"+1)"
      ],
      "metadata": {
        "id": "od4EvgFAZ8Un",
        "colab": {
          "base_uri": "https://localhost:8080/",
          "height": 219
        },
        "outputId": "764e754c-3c7c-49d9-c831-bb9f73359e84"
      },
      "execution_count": null,
      "outputs": [
        {
          "output_type": "stream",
          "name": "stdout",
          "text": [
            "안녕하시렵니까?\n",
            "안녕!!!\n"
          ]
        },
        {
          "output_type": "error",
          "ename": "TypeError",
          "evalue": "can only concatenate str (not \"int\") to str",
          "traceback": [
            "\u001b[0;31m---------------------------------------------------------------------------\u001b[0m",
            "\u001b[0;31mTypeError\u001b[0m                                 Traceback (most recent call last)",
            "\u001b[0;32m<ipython-input-66-8299bd397ce5>\u001b[0m in \u001b[0;36m<cell line: 4>\u001b[0;34m()\u001b[0m\n\u001b[1;32m      2\u001b[0m \u001b[0mprint\u001b[0m\u001b[0;34m(\u001b[0m\u001b[0;34m\"안녕\"\u001b[0m\u001b[0;34m+\u001b[0m\u001b[0;34m\"하시렵니까?\"\u001b[0m\u001b[0;34m)\u001b[0m\u001b[0;34m\u001b[0m\u001b[0;34m\u001b[0m\u001b[0m\n\u001b[1;32m      3\u001b[0m \u001b[0mprint\u001b[0m\u001b[0;34m(\u001b[0m\u001b[0;34m\"안녕\"\u001b[0m\u001b[0;34m+\u001b[0m\u001b[0;34m\"!!!\"\u001b[0m\u001b[0;34m)\u001b[0m\u001b[0;34m\u001b[0m\u001b[0;34m\u001b[0m\u001b[0m\n\u001b[0;32m----> 4\u001b[0;31m \u001b[0mprint\u001b[0m\u001b[0;34m(\u001b[0m\u001b[0;34m\"안녕\"\u001b[0m\u001b[0;34m+\u001b[0m\u001b[0;36m1\u001b[0m\u001b[0;34m)\u001b[0m\u001b[0;34m\u001b[0m\u001b[0;34m\u001b[0m\u001b[0m\n\u001b[0m",
            "\u001b[0;31mTypeError\u001b[0m: can only concatenate str (not \"int\") to str"
          ]
        }
      ]
    },
    {
      "cell_type": "code",
      "source": [
        "print(\"안녕\"+\"1\")"
      ],
      "metadata": {
        "id": "-EKJC22EZ8Uo",
        "colab": {
          "base_uri": "https://localhost:8080/"
        },
        "outputId": "2710e42d-407d-42cf-a037-c33b62301d2e"
      },
      "execution_count": null,
      "outputs": [
        {
          "output_type": "stream",
          "name": "stdout",
          "text": [
            "안녕1\n"
          ]
        }
      ]
    },
    {
      "cell_type": "code",
      "source": [
        "print(\"대한민국만세\" * 2)"
      ],
      "metadata": {
        "id": "RWWyYoGnZ8Uo",
        "colab": {
          "base_uri": "https://localhost:8080/"
        },
        "outputId": "7cad368f-f2b1-4fb0-87cd-77509cd43138"
      },
      "execution_count": null,
      "outputs": [
        {
          "output_type": "stream",
          "name": "stdout",
          "text": [
            "대한민국만세대한민국만세\n"
          ]
        }
      ]
    },
    {
      "cell_type": "code",
      "source": [
        "print(2 * \"대한민국만세\")"
      ],
      "metadata": {
        "id": "YzQPtXCyZ8Uo",
        "colab": {
          "base_uri": "https://localhost:8080/"
        },
        "outputId": "17cd2a37-3464-4f82-a4e1-d656f98ae84d"
      },
      "execution_count": null,
      "outputs": [
        {
          "output_type": "stream",
          "name": "stdout",
          "text": [
            "대한민국만세대한민국만세\n"
          ]
        }
      ]
    },
    {
      "cell_type": "code",
      "source": [
        "print(\"대한민국\" + \"만세\" * 3)"
      ],
      "metadata": {
        "id": "q7ihCvqYZ8Uo",
        "colab": {
          "base_uri": "https://localhost:8080/"
        },
        "outputId": "4ed16474-3664-49be-a9ba-00d951e1003f"
      },
      "execution_count": null,
      "outputs": [
        {
          "output_type": "stream",
          "name": "stdout",
          "text": [
            "대한민국만세만세만세\n"
          ]
        }
      ]
    },
    {
      "cell_type": "code",
      "source": [
        "# * : 문자열 반복 연산자 = 반복\n",
        "print(\"안녕\"*5)"
      ],
      "metadata": {
        "id": "E-W21krmZ8Uo",
        "colab": {
          "base_uri": "https://localhost:8080/"
        },
        "outputId": "9d13ba78-f9a7-4368-b082-053a74f2f4b7"
      },
      "execution_count": null,
      "outputs": [
        {
          "output_type": "stream",
          "name": "stdout",
          "text": [
            "안녕안녕안녕안녕안녕\n"
          ]
        }
      ]
    },
    {
      "cell_type": "code",
      "source": [
        "print(5*\"안녕\")"
      ],
      "metadata": {
        "id": "45j8_ZnzZ8Uo",
        "colab": {
          "base_uri": "https://localhost:8080/"
        },
        "outputId": "55eb473f-ace6-44f5-a69d-711ff456810e"
      },
      "execution_count": null,
      "outputs": [
        {
          "output_type": "stream",
          "name": "stdout",
          "text": [
            "안녕안녕안녕안녕안녕\n"
          ]
        }
      ]
    },
    {
      "cell_type": "markdown",
      "source": [
        "### 문자열의 우선순위"
      ],
      "metadata": {
        "id": "TKExGsNqa3Z-"
      }
    },
    {
      "cell_type": "code",
      "source": [
        "print(\"안녕\"+\"하세요\")"
      ],
      "metadata": {
        "id": "30XU7GdzaeTw",
        "colab": {
          "base_uri": "https://localhost:8080/"
        },
        "outputId": "b6a908ca-8dd0-4154-b22b-e554bb95706b"
      },
      "execution_count": null,
      "outputs": [
        {
          "output_type": "stream",
          "name": "stdout",
          "text": [
            "안녕하세요\n"
          ]
        }
      ]
    },
    {
      "cell_type": "code",
      "source": [
        "print(\"안녕\"+\"하세요\"*3)"
      ],
      "metadata": {
        "id": "klf1H-YabH1B",
        "colab": {
          "base_uri": "https://localhost:8080/"
        },
        "outputId": "20601e93-d2d4-412f-d57d-387c9bad8f6d"
      },
      "execution_count": null,
      "outputs": [
        {
          "output_type": "stream",
          "name": "stdout",
          "text": [
            "안녕하세요하세요하세요\n"
          ]
        }
      ]
    },
    {
      "cell_type": "code",
      "source": [
        "print(\"안녕\"+(\"하세요\"*3))"
      ],
      "metadata": {
        "id": "mn5qIRz6bP3_",
        "colab": {
          "base_uri": "https://localhost:8080/"
        },
        "outputId": "9e9db82b-1abb-461e-cd7a-485cfb7dc3b6"
      },
      "execution_count": null,
      "outputs": [
        {
          "output_type": "stream",
          "name": "stdout",
          "text": [
            "안녕하세요하세요하세요\n"
          ]
        }
      ]
    },
    {
      "cell_type": "code",
      "source": [
        "print((\"안녕\"+\"하세요\")*3)"
      ],
      "metadata": {
        "id": "bfKDlfbZbXhK",
        "colab": {
          "base_uri": "https://localhost:8080/"
        },
        "outputId": "0a39bfea-c06a-45fd-dbfa-70c16b99a7a9"
      },
      "execution_count": null,
      "outputs": [
        {
          "output_type": "stream",
          "name": "stdout",
          "text": [
            "안녕하세요안녕하세요안녕하세요\n"
          ]
        }
      ]
    },
    {
      "cell_type": "code",
      "source": [
        "print(\"Hello\" + \"Python\" * 2) # * 연산자부터 적용됨 = 우선 순위가 높음"
      ],
      "metadata": {
        "id": "m-r_EAwmbP5d",
        "colab": {
          "base_uri": "https://localhost:8080/"
        },
        "outputId": "4d3bf31e-7861-48b9-fdc2-5adf57e77025"
      },
      "execution_count": null,
      "outputs": [
        {
          "output_type": "stream",
          "name": "stdout",
          "text": [
            "HelloPythonPython\n"
          ]
        }
      ]
    },
    {
      "cell_type": "code",
      "source": [
        "print(\"Hello\" + (\"Python\" * 2)) # * 연산자부터 적용되지만 소괄호 사용 권장"
      ],
      "metadata": {
        "id": "R-4hc2qYbP3p",
        "colab": {
          "base_uri": "https://localhost:8080/"
        },
        "outputId": "8c985b12-d119-42df-d385-27a9f569037e"
      },
      "execution_count": null,
      "outputs": [
        {
          "output_type": "stream",
          "name": "stdout",
          "text": [
            "HelloPythonPython\n"
          ]
        }
      ]
    },
    {
      "cell_type": "code",
      "source": [
        "print((\"Hello\" + \"Python\") * 2) # * 연산자의 우선 순위가 높지만 소괄호부터 적용됨"
      ],
      "metadata": {
        "id": "p_RyAmf9bS_G",
        "colab": {
          "base_uri": "https://localhost:8080/"
        },
        "outputId": "bebea00d-1976-49a2-9bb8-ea7cc77a21e8"
      },
      "execution_count": null,
      "outputs": [
        {
          "output_type": "stream",
          "name": "stdout",
          "text": [
            "HelloPythonHelloPython\n"
          ]
        }
      ]
    },
    {
      "cell_type": "markdown",
      "source": [
        "### 인덱스 & 인덱싱"
      ],
      "metadata": {
        "id": "RWPpDyh4GEIn"
      }
    },
    {
      "cell_type": "code",
      "source": [
        "print(\"Hello\"[0]); print(\"Hello\"[-1])"
      ],
      "metadata": {
        "id": "d_iSwsbXbj0m",
        "colab": {
          "base_uri": "https://localhost:8080/"
        },
        "outputId": "f70ab082-f315-4e08-dd5c-6b27c5539f7d"
      },
      "execution_count": null,
      "outputs": [
        {
          "output_type": "stream",
          "name": "stdout",
          "text": [
            "H\n",
            "o\n"
          ]
        }
      ]
    },
    {
      "cell_type": "code",
      "source": [
        "print(\"Hello\"[5]) # 인덱스 번호가 없는 것으로 지정하는 경우\n",
        "# 없는 인덱스 번호로 인덱싱할 경우 발생하는 에러"
      ],
      "metadata": {
        "id": "0L5I-v1Obwbo",
        "colab": {
          "base_uri": "https://localhost:8080/",
          "height": 164
        },
        "outputId": "381b7856-02fb-4918-830e-fcdee95dd3c0"
      },
      "execution_count": null,
      "outputs": [
        {
          "output_type": "error",
          "ename": "IndexError",
          "evalue": "string index out of range",
          "traceback": [
            "\u001b[0;31m---------------------------------------------------------------------------\u001b[0m",
            "\u001b[0;31mIndexError\u001b[0m                                Traceback (most recent call last)",
            "\u001b[0;32m<ipython-input-81-8a31723aac32>\u001b[0m in \u001b[0;36m<cell line: 1>\u001b[0;34m()\u001b[0m\n\u001b[0;32m----> 1\u001b[0;31m \u001b[0mprint\u001b[0m\u001b[0;34m(\u001b[0m\u001b[0;34m\"Hello\"\u001b[0m\u001b[0;34m[\u001b[0m\u001b[0;36m5\u001b[0m\u001b[0;34m]\u001b[0m\u001b[0;34m)\u001b[0m \u001b[0;31m# 인덱스 번호가 없는 것으로 지정하는 경우\u001b[0m\u001b[0;34m\u001b[0m\u001b[0;34m\u001b[0m\u001b[0m\n\u001b[0m\u001b[1;32m      2\u001b[0m \u001b[0;31m# 없는 인덱스 번호로 인덱싱할 경우 발생하는 에러\u001b[0m\u001b[0;34m\u001b[0m\u001b[0;34m\u001b[0m\u001b[0m\n",
            "\u001b[0;31mIndexError\u001b[0m: string index out of range"
          ]
        }
      ]
    },
    {
      "cell_type": "code",
      "source": [
        "# 안녕하세요\n",
        "# 1 2 3 4 5 => 원인덱스 = 보통 숫자 세는 방식\n",
        "# 0 1 2 3 4 => 제로인덱스 = 파이썬 숫자 세는 방식\n",
        "print(\"안녕하세요\"[0])"
      ],
      "metadata": {
        "id": "KKfeCuWtDea_",
        "colab": {
          "base_uri": "https://localhost:8080/"
        },
        "outputId": "4d411632-4b13-4d23-f78b-8642ac8bb8e9"
      },
      "execution_count": null,
      "outputs": [
        {
          "output_type": "stream",
          "name": "stdout",
          "text": [
            "안\n"
          ]
        }
      ]
    },
    {
      "cell_type": "code",
      "source": [
        "print(\"안녕하세요\"[1])"
      ],
      "metadata": {
        "id": "FNfgT3ozGlFN",
        "colab": {
          "base_uri": "https://localhost:8080/"
        },
        "outputId": "d7de549c-391f-42dc-846b-883c1f5ddfb3"
      },
      "execution_count": null,
      "outputs": [
        {
          "output_type": "stream",
          "name": "stdout",
          "text": [
            "녕\n"
          ]
        }
      ]
    },
    {
      "cell_type": "code",
      "source": [
        "print(\"안녕하세요\"[2])"
      ],
      "metadata": {
        "id": "HoG1uyjMGsSj",
        "colab": {
          "base_uri": "https://localhost:8080/"
        },
        "outputId": "f7da57be-43af-492a-86e5-17f989ad388b"
      },
      "execution_count": null,
      "outputs": [
        {
          "output_type": "stream",
          "name": "stdout",
          "text": [
            "하\n"
          ]
        }
      ]
    },
    {
      "cell_type": "code",
      "source": [
        "print(\"안녕하세요\"[3])"
      ],
      "metadata": {
        "id": "F0X7UOZeGvKU",
        "colab": {
          "base_uri": "https://localhost:8080/"
        },
        "outputId": "534c6b31-1e76-4ea4-e0be-4db5015c71bc"
      },
      "execution_count": null,
      "outputs": [
        {
          "output_type": "stream",
          "name": "stdout",
          "text": [
            "세\n"
          ]
        }
      ]
    },
    {
      "cell_type": "code",
      "source": [
        "print(\"안녕하세요\"[4])"
      ],
      "metadata": {
        "id": "I3qot2UaGwt8",
        "colab": {
          "base_uri": "https://localhost:8080/"
        },
        "outputId": "42144ec9-96dc-47f6-8911-87d5dae9131b"
      },
      "execution_count": null,
      "outputs": [
        {
          "output_type": "stream",
          "name": "stdout",
          "text": [
            "요\n"
          ]
        }
      ]
    },
    {
      "cell_type": "code",
      "source": [
        "print(\"안녕하세요\"[5])"
      ],
      "metadata": {
        "id": "djJVzIzUGyMY",
        "colab": {
          "base_uri": "https://localhost:8080/",
          "height": 146
        },
        "outputId": "b2dead15-d5b1-4898-b2db-4eba5b1a1b90"
      },
      "execution_count": null,
      "outputs": [
        {
          "output_type": "error",
          "ename": "IndexError",
          "evalue": "string index out of range",
          "traceback": [
            "\u001b[0;31m---------------------------------------------------------------------------\u001b[0m",
            "\u001b[0;31mIndexError\u001b[0m                                Traceback (most recent call last)",
            "\u001b[0;32m<ipython-input-87-69e86a823cc4>\u001b[0m in \u001b[0;36m<cell line: 1>\u001b[0;34m()\u001b[0m\n\u001b[0;32m----> 1\u001b[0;31m \u001b[0mprint\u001b[0m\u001b[0;34m(\u001b[0m\u001b[0;34m\"안녕하세요\"\u001b[0m\u001b[0;34m[\u001b[0m\u001b[0;36m5\u001b[0m\u001b[0;34m]\u001b[0m\u001b[0;34m)\u001b[0m\u001b[0;34m\u001b[0m\u001b[0;34m\u001b[0m\u001b[0m\n\u001b[0m",
            "\u001b[0;31mIndexError\u001b[0m: string index out of range"
          ]
        }
      ]
    },
    {
      "cell_type": "code",
      "source": [
        "# 안녕하세요\n",
        "# 1 2 3 4 5\n",
        "# -5 -4 -3 -2 -1\n",
        "print(\"안녕하세요\"[-5])"
      ],
      "metadata": {
        "id": "ZhJUSEyzG3-e",
        "colab": {
          "base_uri": "https://localhost:8080/"
        },
        "outputId": "e9b4725d-9802-42c7-e1e4-e54e604f49b2"
      },
      "execution_count": null,
      "outputs": [
        {
          "output_type": "stream",
          "name": "stdout",
          "text": [
            "안\n"
          ]
        }
      ]
    },
    {
      "cell_type": "code",
      "source": [
        "print(\"안녕하세요\"[-4])"
      ],
      "metadata": {
        "id": "x0TULjM-IHMi",
        "colab": {
          "base_uri": "https://localhost:8080/"
        },
        "outputId": "58625e35-cb0f-423a-a093-f352cf773060"
      },
      "execution_count": null,
      "outputs": [
        {
          "output_type": "stream",
          "name": "stdout",
          "text": [
            "녕\n"
          ]
        }
      ]
    },
    {
      "cell_type": "code",
      "source": [
        "print(\"안녕하세요\"[-3])"
      ],
      "metadata": {
        "id": "AcIeui9gIIt9",
        "colab": {
          "base_uri": "https://localhost:8080/"
        },
        "outputId": "d676ec7d-d43c-4e4e-c5dc-6c93a005c11e"
      },
      "execution_count": null,
      "outputs": [
        {
          "output_type": "stream",
          "name": "stdout",
          "text": [
            "하\n"
          ]
        }
      ]
    },
    {
      "cell_type": "code",
      "source": [
        "print(\"안녕하세요\"[-2])"
      ],
      "metadata": {
        "id": "RhbgGvh0IKH_",
        "colab": {
          "base_uri": "https://localhost:8080/"
        },
        "outputId": "11452224-abea-4f9e-a44b-8e6799fc7186"
      },
      "execution_count": null,
      "outputs": [
        {
          "output_type": "stream",
          "name": "stdout",
          "text": [
            "세\n"
          ]
        }
      ]
    },
    {
      "cell_type": "code",
      "source": [
        "print(\"안녕하세요\"[-1])"
      ],
      "metadata": {
        "id": "kyV-x--1ILjQ",
        "colab": {
          "base_uri": "https://localhost:8080/"
        },
        "outputId": "9b4a82c9-b017-496d-db37-cadc17398aa3"
      },
      "execution_count": null,
      "outputs": [
        {
          "output_type": "stream",
          "name": "stdout",
          "text": [
            "요\n"
          ]
        }
      ]
    },
    {
      "cell_type": "markdown",
      "source": [
        "### 슬라이싱"
      ],
      "metadata": {
        "id": "EkXUEn8yM4lv"
      }
    },
    {
      "cell_type": "code",
      "source": [
        "# 슬라이싱은 끝 번호를 범위에 포함하지 않음\n",
        "print(\"Hello\"[0:3]) # print(\"Hello\")[0:2+1] 과 같음\n",
        "print(\"Hello\"[1:3]) # print(\"Hello\")[1:2+1] 과 같음"
      ],
      "metadata": {
        "id": "bItQoi0dcFQ9",
        "colab": {
          "base_uri": "https://localhost:8080/"
        },
        "outputId": "3dee0275-30ae-4c24-d8c0-d5111840fde3"
      },
      "execution_count": null,
      "outputs": [
        {
          "output_type": "stream",
          "name": "stdout",
          "text": [
            "Hel\n",
            "el\n"
          ]
        }
      ]
    },
    {
      "cell_type": "code",
      "source": [
        "# 인덱스 범위 지정 = 슬라이싱\n",
        "# [시작번호:끝번호]\n",
        "# 파이썬은 끝번호를 포함하지 않음\n",
        "# 안녕하세요\n",
        "# 0 1 2 3 4\n",
        "# 안녕 => 0:1 => 0:1+1 => 0:2\n",
        "print(\"안녕하세요\"[0:1+1])"
      ],
      "metadata": {
        "id": "-Zz267dPIM6s",
        "colab": {
          "base_uri": "https://localhost:8080/"
        },
        "outputId": "4e3738c2-726d-4cd7-91d6-47c9dce7c868"
      },
      "execution_count": null,
      "outputs": [
        {
          "output_type": "stream",
          "name": "stdout",
          "text": [
            "안녕\n"
          ]
        }
      ]
    },
    {
      "cell_type": "code",
      "source": [
        "print(\"안녕하세요\"[0:2])"
      ],
      "metadata": {
        "id": "NU_bD1c3Nfuq",
        "colab": {
          "base_uri": "https://localhost:8080/"
        },
        "outputId": "aadf2e3f-a2bb-4f2b-a013-0914bcd5f196"
      },
      "execution_count": null,
      "outputs": [
        {
          "output_type": "stream",
          "name": "stdout",
          "text": [
            "안녕\n"
          ]
        }
      ]
    },
    {
      "cell_type": "code",
      "source": [
        "# 하세요 => 2:4 => 2:4+1 => 2:5\n",
        "print(\"안녕하세요\"[2:4+1])"
      ],
      "metadata": {
        "id": "OEPmN6LkNjPY",
        "colab": {
          "base_uri": "https://localhost:8080/"
        },
        "outputId": "627246d8-7c0f-4a7e-9f2a-b0c10e9a2470"
      },
      "execution_count": null,
      "outputs": [
        {
          "output_type": "stream",
          "name": "stdout",
          "text": [
            "하세요\n"
          ]
        }
      ]
    },
    {
      "cell_type": "code",
      "source": [
        "print(\"안녕하세요\"[2:5])"
      ],
      "metadata": {
        "id": "JOWv_b-BNzm_",
        "colab": {
          "base_uri": "https://localhost:8080/"
        },
        "outputId": "f4910afa-28be-455d-c58e-1cea8f415f28"
      },
      "execution_count": null,
      "outputs": [
        {
          "output_type": "stream",
          "name": "stdout",
          "text": [
            "하세요\n"
          ]
        }
      ]
    },
    {
      "cell_type": "code",
      "source": [
        "# 시작/끝번호를 생략할수 있음. 안쓰면 그냥 끝까지 또는 처음부터가 됨\n",
        "print(\"Hello\"[:3]) # print(\"Hello\"[0:2+1]) 과 같음\n",
        "print(\"Hello\"[1:]) # print(\"Hello\"[1:4+1]) 과 같음"
      ],
      "metadata": {
        "id": "_jVpfaUbcn29",
        "colab": {
          "base_uri": "https://localhost:8080/"
        },
        "outputId": "ccc59b87-8c36-4ea1-e260-3b6f152dee6a"
      },
      "execution_count": null,
      "outputs": [
        {
          "output_type": "stream",
          "name": "stdout",
          "text": [
            "Hel\n",
            "ello\n"
          ]
        }
      ]
    },
    {
      "cell_type": "code",
      "source": [
        "print(\"Hello\"[0:2+1])\n",
        "print(\"Hello\"[1:4+1])"
      ],
      "metadata": {
        "id": "7zgE8CTtct0B",
        "colab": {
          "base_uri": "https://localhost:8080/"
        },
        "outputId": "29b83730-159f-4d62-bd12-20c2ed176622"
      },
      "execution_count": null,
      "outputs": [
        {
          "output_type": "stream",
          "name": "stdout",
          "text": [
            "Hel\n",
            "ello\n"
          ]
        }
      ]
    },
    {
      "cell_type": "code",
      "source": [
        "# 안녕\n",
        "# 시작번호 생략 => [:1+1] = [:2] => 처음부터~\n",
        "print(\"안녕하세요\"[:1+1])\n",
        "print(\"안녕하세요\"[:2])"
      ],
      "metadata": {
        "id": "8qM0Sr3nN2N8",
        "colab": {
          "base_uri": "https://localhost:8080/"
        },
        "outputId": "ae6025f8-6885-48e1-b55d-960d8b01862f"
      },
      "execution_count": null,
      "outputs": [
        {
          "output_type": "stream",
          "name": "stdout",
          "text": [
            "안녕\n",
            "안녕\n"
          ]
        }
      ]
    },
    {
      "cell_type": "code",
      "source": [
        "# 하세요\n",
        "# 끝번호 생략 => [2:] => 끝까지~\n",
        "print(\"안녕하세요\"[2:])"
      ],
      "metadata": {
        "id": "u23bKoHEOSCT",
        "colab": {
          "base_uri": "https://localhost:8080/"
        },
        "outputId": "1bd55d94-e536-4243-b533-e3be5919f28b"
      },
      "execution_count": null,
      "outputs": [
        {
          "output_type": "stream",
          "name": "stdout",
          "text": [
            "하세요\n"
          ]
        }
      ]
    },
    {
      "cell_type": "markdown",
      "source": [
        "### 문자열의 길이"
      ],
      "metadata": {
        "id": "cAGjbL8CRIkG"
      }
    },
    {
      "cell_type": "code",
      "source": [
        "print(len(\"Hello\"))"
      ],
      "metadata": {
        "id": "s_k1zcBodW4h",
        "colab": {
          "base_uri": "https://localhost:8080/"
        },
        "outputId": "07d869af-94b8-4ba8-bf37-b8900a040efe"
      },
      "execution_count": null,
      "outputs": [
        {
          "output_type": "stream",
          "name": "stdout",
          "text": [
            "5\n"
          ]
        }
      ]
    },
    {
      "cell_type": "code",
      "source": [
        "len(\"Hello\")"
      ],
      "metadata": {
        "id": "YLaA2og0dclV",
        "colab": {
          "base_uri": "https://localhost:8080/"
        },
        "outputId": "ff404a2e-2fea-44f3-d7e4-9fff7f48d216"
      },
      "execution_count": null,
      "outputs": [
        {
          "output_type": "execute_result",
          "data": {
            "text/plain": [
              "5"
            ]
          },
          "metadata": {},
          "execution_count": 103
        }
      ]
    },
    {
      "cell_type": "code",
      "source": [
        "# length 문자열 길이 반환 return\n",
        "print(len(\"안녕하세요\")) # = print(5)"
      ],
      "metadata": {
        "id": "OtAdTtd8OuXU",
        "colab": {
          "base_uri": "https://localhost:8080/"
        },
        "outputId": "0e0fddad-de73-451a-ae91-29ccfb747a27"
      },
      "execution_count": null,
      "outputs": [
        {
          "output_type": "stream",
          "name": "stdout",
          "text": [
            "5\n"
          ]
        }
      ]
    },
    {
      "cell_type": "code",
      "source": [
        "\"Hello\"[-len(\"Hello\"):-2]"
      ],
      "metadata": {
        "id": "zF1XA5CdsM_-",
        "colab": {
          "base_uri": "https://localhost:8080/",
          "height": 35
        },
        "outputId": "8c756251-895f-4747-930d-688db952d2ae"
      },
      "execution_count": null,
      "outputs": [
        {
          "output_type": "execute_result",
          "data": {
            "text/plain": [
              "'Hel'"
            ],
            "application/vnd.google.colaboratory.intrinsic+json": {
              "type": "string"
            }
          },
          "metadata": {},
          "execution_count": 105
        }
      ]
    },
    {
      "cell_type": "code",
      "source": [
        "\"Hello\"[:-2]"
      ],
      "metadata": {
        "id": "HgJKQwI1sbzD",
        "colab": {
          "base_uri": "https://localhost:8080/",
          "height": 35
        },
        "outputId": "2d407f04-2f2b-43b6-88a3-403ef7e6feb5"
      },
      "execution_count": null,
      "outputs": [
        {
          "output_type": "execute_result",
          "data": {
            "text/plain": [
              "'Hel'"
            ],
            "application/vnd.google.colaboratory.intrinsic+json": {
              "type": "string"
            }
          },
          "metadata": {},
          "execution_count": 106
        }
      ]
    },
    {
      "cell_type": "markdown",
      "source": [
        "## 확인 문제"
      ],
      "metadata": {
        "id": "ZCwQ-S4QiYKN"
      }
    },
    {
      "cell_type": "code",
      "source": [
        "\"글자\"\n",
        "'글자'\n",
        "\"\"\"문자열\n",
        "문자열\n",
        "문자열\"\"\"\n",
        "'''문자열\n",
        "문자열\n",
        "문자열'''"
      ],
      "metadata": {
        "id": "TVmoyH_iD2xc"
      },
      "execution_count": null,
      "outputs": []
    },
    {
      "cell_type": "code",
      "source": [
        "\\\"\n",
        "\\'\n",
        "\\n\n",
        "\\t\n",
        "\\\\"
      ],
      "metadata": {
        "id": "QCytsWvFhpBh",
        "colab": {
          "base_uri": "https://localhost:8080/",
          "height": 110
        },
        "outputId": "d86c91ef-e59d-4bcc-e614-d6b69f9587f1"
      },
      "execution_count": null,
      "outputs": [
        {
          "output_type": "error",
          "ename": "SyntaxError",
          "evalue": "unexpected character after line continuation character (<ipython-input-107-ad6d1ef0861f>, line 1)",
          "traceback": [
            "\u001b[0;36m  File \u001b[0;32m\"<ipython-input-107-ad6d1ef0861f>\"\u001b[0;36m, line \u001b[0;32m1\u001b[0m\n\u001b[0;31m    \\\"\u001b[0m\n\u001b[0m     ^\u001b[0m\n\u001b[0;31mSyntaxError\u001b[0m\u001b[0;31m:\u001b[0m unexpected character after line continuation character\n"
          ]
        }
      ]
    },
    {
      "cell_type": "code",
      "source": [
        "print(\"# 연습문제\")\n",
        "print(\"\\\\\\\\\\\\\\\\\")\n",
        "print(\"-\" * 8)"
      ],
      "metadata": {
        "id": "268m5V8UhqRK",
        "colab": {
          "base_uri": "https://localhost:8080/"
        },
        "outputId": "54ac51d4-3ff1-4022-803f-7e2db45bc0f0"
      },
      "execution_count": null,
      "outputs": [
        {
          "output_type": "stream",
          "name": "stdout",
          "text": [
            "# 연습문제\n",
            "\\\\\\\\\n",
            "--------\n"
          ]
        }
      ]
    },
    {
      "cell_type": "code",
      "source": [
        "print(\"안녕하세요\"[1])\n",
        "print(\"안녕하세요\"[2])\n",
        "print(\"안녕하세요\"[3])\n",
        "print(\"안녕하세요\"[4])\n",
        "print(\"안녕하세요\"[5])"
      ],
      "metadata": {
        "id": "Qe_LgK7-hyJA",
        "colab": {
          "base_uri": "https://localhost:8080/",
          "height": 255
        },
        "outputId": "08c7e7b5-b32c-43bc-9e5a-ebd2ec9a6994"
      },
      "execution_count": null,
      "outputs": [
        {
          "output_type": "stream",
          "name": "stdout",
          "text": [
            "녕\n",
            "하\n",
            "세\n",
            "요\n"
          ]
        },
        {
          "output_type": "error",
          "ename": "IndexError",
          "evalue": "string index out of range",
          "traceback": [
            "\u001b[0;31m---------------------------------------------------------------------------\u001b[0m",
            "\u001b[0;31mIndexError\u001b[0m                                Traceback (most recent call last)",
            "\u001b[0;32m<ipython-input-109-a61e9f15cd9d>\u001b[0m in \u001b[0;36m<cell line: 5>\u001b[0;34m()\u001b[0m\n\u001b[1;32m      3\u001b[0m \u001b[0mprint\u001b[0m\u001b[0;34m(\u001b[0m\u001b[0;34m\"안녕하세요\"\u001b[0m\u001b[0;34m[\u001b[0m\u001b[0;36m3\u001b[0m\u001b[0;34m]\u001b[0m\u001b[0;34m)\u001b[0m\u001b[0;34m\u001b[0m\u001b[0;34m\u001b[0m\u001b[0m\n\u001b[1;32m      4\u001b[0m \u001b[0mprint\u001b[0m\u001b[0;34m(\u001b[0m\u001b[0;34m\"안녕하세요\"\u001b[0m\u001b[0;34m[\u001b[0m\u001b[0;36m4\u001b[0m\u001b[0;34m]\u001b[0m\u001b[0;34m)\u001b[0m\u001b[0;34m\u001b[0m\u001b[0;34m\u001b[0m\u001b[0m\n\u001b[0;32m----> 5\u001b[0;31m \u001b[0mprint\u001b[0m\u001b[0;34m(\u001b[0m\u001b[0;34m\"안녕하세요\"\u001b[0m\u001b[0;34m[\u001b[0m\u001b[0;36m5\u001b[0m\u001b[0;34m]\u001b[0m\u001b[0;34m)\u001b[0m\u001b[0;34m\u001b[0m\u001b[0;34m\u001b[0m\u001b[0m\n\u001b[0m",
            "\u001b[0;31mIndexError\u001b[0m: string index out of range"
          ]
        }
      ]
    },
    {
      "cell_type": "code",
      "source": [
        "print(\"안녕하세요\"[1:3])\n",
        "print(\"안녕하세요\"[2:4])\n",
        "print(\"안녕하세요\"[1:])\n",
        "print(\"안녕하세요\"[:3])"
      ],
      "metadata": {
        "id": "_stmOAuWh6he",
        "colab": {
          "base_uri": "https://localhost:8080/"
        },
        "outputId": "a6324be6-464a-4791-8cba-44ad00a30606"
      },
      "execution_count": null,
      "outputs": [
        {
          "output_type": "stream",
          "name": "stdout",
          "text": [
            "녕하\n",
            "하세\n",
            "녕하세요\n",
            "안녕하\n"
          ]
        }
      ]
    },
    {
      "cell_type": "markdown",
      "source": [
        "## 숫자"
      ],
      "metadata": {
        "id": "g4YToVIRScov"
      }
    },
    {
      "cell_type": "code",
      "source": [
        "# 정수\n",
        "print(23)"
      ],
      "metadata": {
        "id": "oG2SXMxPRb-o",
        "colab": {
          "base_uri": "https://localhost:8080/"
        },
        "outputId": "9ab634fe-693c-4a19-9f55-57ca0eb6a7c8"
      },
      "execution_count": null,
      "outputs": [
        {
          "output_type": "stream",
          "name": "stdout",
          "text": [
            "23\n"
          ]
        }
      ]
    },
    {
      "cell_type": "code",
      "source": [
        "print(type(23)) # int = integer 정수 = 소수점이 없는 숫자"
      ],
      "metadata": {
        "id": "43PvBCOOSs0v",
        "colab": {
          "base_uri": "https://localhost:8080/"
        },
        "outputId": "e41a6557-73fd-46d7-cbec-d0fb39622c43"
      },
      "execution_count": null,
      "outputs": [
        {
          "output_type": "stream",
          "name": "stdout",
          "text": [
            "<class 'int'>\n"
          ]
        }
      ]
    },
    {
      "cell_type": "code",
      "source": [
        "# 실수\n",
        "print(1.32)\n",
        "print(2.3)"
      ],
      "metadata": {
        "id": "fr9pIcLcS1R9",
        "colab": {
          "base_uri": "https://localhost:8080/"
        },
        "outputId": "49344feb-5dcd-4ee9-f0ea-03b72388c42e"
      },
      "execution_count": null,
      "outputs": [
        {
          "output_type": "stream",
          "name": "stdout",
          "text": [
            "1.32\n",
            "2.3\n"
          ]
        }
      ]
    },
    {
      "cell_type": "code",
      "source": [
        "print(type(2.3)) # float 실수 = 소수점이 있는 숫자"
      ],
      "metadata": {
        "id": "NbYGDKwsTABl",
        "colab": {
          "base_uri": "https://localhost:8080/"
        },
        "outputId": "ab4721df-fd20-4160-a753-99f9baad7dbb"
      },
      "execution_count": null,
      "outputs": [
        {
          "output_type": "stream",
          "name": "stdout",
          "text": [
            "<class 'float'>\n"
          ]
        }
      ]
    },
    {
      "cell_type": "markdown",
      "source": [
        "### 사칙연산자"
      ],
      "metadata": {
        "id": "-5AGSGJ7TkxM"
      }
    },
    {
      "cell_type": "code",
      "source": [
        "print(5+3)\n",
        "print(5-3)\n",
        "print(5*3)\n",
        "print(5/3)"
      ],
      "metadata": {
        "id": "b4PDoLgbfYtV",
        "colab": {
          "base_uri": "https://localhost:8080/"
        },
        "outputId": "bf7fda5d-1309-45fb-cdb9-08da1aa259d7"
      },
      "execution_count": null,
      "outputs": [
        {
          "output_type": "stream",
          "name": "stdout",
          "text": [
            "8\n",
            "2\n",
            "15\n",
            "1.6666666666666667\n"
          ]
        }
      ]
    },
    {
      "cell_type": "code",
      "source": [
        "print(3+2)\n",
        "print(3-2)\n",
        "print(3*2)\n",
        "print(3/2)"
      ],
      "metadata": {
        "id": "EvBHa4L1TFR1",
        "colab": {
          "base_uri": "https://localhost:8080/"
        },
        "outputId": "94cc164e-09ca-4676-9ac8-8b684519cf1c"
      },
      "execution_count": null,
      "outputs": [
        {
          "output_type": "stream",
          "name": "stdout",
          "text": [
            "5\n",
            "1\n",
            "6\n",
            "1.5\n"
          ]
        }
      ]
    },
    {
      "cell_type": "code",
      "source": [
        "# 나누기\n",
        "print(3/2) # 실수\n",
        "print(3//2) # 몫 = 정수\n",
        "print(3%2) # 나머지 = 정수"
      ],
      "metadata": {
        "id": "DRxaosTgRVyM",
        "colab": {
          "base_uri": "https://localhost:8080/"
        },
        "outputId": "179b7d33-3f61-4a64-b3ea-6d76dc6bd413"
      },
      "execution_count": null,
      "outputs": [
        {
          "output_type": "stream",
          "name": "stdout",
          "text": [
            "1.5\n",
            "1\n",
            "1\n"
          ]
        }
      ]
    },
    {
      "cell_type": "code",
      "source": [
        "# 제곱\n",
        "2**2"
      ],
      "metadata": {
        "id": "fiCtvnJxUYBX",
        "colab": {
          "base_uri": "https://localhost:8080/"
        },
        "outputId": "98f9dd52-b7c4-49fe-8d38-b0810ea82a43"
      },
      "execution_count": null,
      "outputs": [
        {
          "output_type": "execute_result",
          "data": {
            "text/plain": [
              "4"
            ]
          },
          "metadata": {},
          "execution_count": 118
        }
      ]
    },
    {
      "cell_type": "code",
      "source": [
        "2*2"
      ],
      "metadata": {
        "id": "VYrMNLjXij2t",
        "colab": {
          "base_uri": "https://localhost:8080/"
        },
        "outputId": "68019a42-c243-4caa-ad80-de7c89754842"
      },
      "execution_count": null,
      "outputs": [
        {
          "output_type": "execute_result",
          "data": {
            "text/plain": [
              "4"
            ]
          },
          "metadata": {},
          "execution_count": 119
        }
      ]
    },
    {
      "cell_type": "code",
      "source": [
        "2**3"
      ],
      "metadata": {
        "id": "IHZKY9QIVHKY",
        "colab": {
          "base_uri": "https://localhost:8080/"
        },
        "outputId": "1f134fea-7e40-491b-8150-ba266e07d8d8"
      },
      "execution_count": null,
      "outputs": [
        {
          "output_type": "execute_result",
          "data": {
            "text/plain": [
              "8"
            ]
          },
          "metadata": {},
          "execution_count": 120
        }
      ]
    },
    {
      "cell_type": "code",
      "source": [
        "2*2*2"
      ],
      "metadata": {
        "id": "AlMrZ53tilvh",
        "colab": {
          "base_uri": "https://localhost:8080/"
        },
        "outputId": "056deae2-c6bb-405a-c05c-0480fb84dc6a"
      },
      "execution_count": null,
      "outputs": [
        {
          "output_type": "execute_result",
          "data": {
            "text/plain": [
              "8"
            ]
          },
          "metadata": {},
          "execution_count": 121
        }
      ]
    },
    {
      "cell_type": "code",
      "source": [
        "2**4"
      ],
      "metadata": {
        "id": "8CG04icKVK5F",
        "colab": {
          "base_uri": "https://localhost:8080/"
        },
        "outputId": "8755b5f1-eaf3-4f0f-a5a7-ef0f29112a17"
      },
      "execution_count": null,
      "outputs": [
        {
          "output_type": "execute_result",
          "data": {
            "text/plain": [
              "16"
            ]
          },
          "metadata": {},
          "execution_count": 122
        }
      ]
    },
    {
      "cell_type": "code",
      "source": [
        "2*2*2*2"
      ],
      "metadata": {
        "id": "vnks032Nipp_",
        "colab": {
          "base_uri": "https://localhost:8080/"
        },
        "outputId": "0d8622d8-4ffb-4e5d-91fa-89a64cabfa80"
      },
      "execution_count": null,
      "outputs": [
        {
          "output_type": "execute_result",
          "data": {
            "text/plain": [
              "16"
            ]
          },
          "metadata": {},
          "execution_count": 123
        }
      ]
    },
    {
      "cell_type": "markdown",
      "source": [
        "### 우선순위"
      ],
      "metadata": {
        "id": "2Cx8eyEAVWGG"
      }
    },
    {
      "cell_type": "code",
      "source": [
        "print(1+2-3*2/2)"
      ],
      "metadata": {
        "id": "wi6PgyfifkMy",
        "colab": {
          "base_uri": "https://localhost:8080/"
        },
        "outputId": "e068a1d6-6107-4873-ccbd-4a08c1288389"
      },
      "execution_count": null,
      "outputs": [
        {
          "output_type": "stream",
          "name": "stdout",
          "text": [
            "0.0\n"
          ]
        }
      ]
    },
    {
      "cell_type": "code",
      "source": [
        "2+2*2"
      ],
      "metadata": {
        "id": "ut1gqVzJVM2M",
        "colab": {
          "base_uri": "https://localhost:8080/"
        },
        "outputId": "369ee136-c192-44a0-dca3-7284741894a4"
      },
      "execution_count": null,
      "outputs": [
        {
          "output_type": "execute_result",
          "data": {
            "text/plain": [
              "6"
            ]
          },
          "metadata": {},
          "execution_count": 125
        }
      ]
    },
    {
      "cell_type": "code",
      "source": [
        "2+(2*2)"
      ],
      "metadata": {
        "id": "G7yR50YNV2CB",
        "colab": {
          "base_uri": "https://localhost:8080/"
        },
        "outputId": "966c37c6-28b0-40f8-c997-f0b7c15ff03e"
      },
      "execution_count": null,
      "outputs": [
        {
          "output_type": "execute_result",
          "data": {
            "text/plain": [
              "6"
            ]
          },
          "metadata": {},
          "execution_count": 126
        }
      ]
    },
    {
      "cell_type": "code",
      "source": [
        "2+2-2*2/2*2"
      ],
      "metadata": {
        "id": "wEikAk7kV-AE",
        "colab": {
          "base_uri": "https://localhost:8080/"
        },
        "outputId": "dfed6ff9-2e65-4975-b55d-cdc58eb746a8"
      },
      "execution_count": null,
      "outputs": [
        {
          "output_type": "execute_result",
          "data": {
            "text/plain": [
              "0.0"
            ]
          },
          "metadata": {},
          "execution_count": 127
        }
      ]
    },
    {
      "cell_type": "code",
      "source": [
        "2+2-(((2*2)/2)*2)"
      ],
      "metadata": {
        "id": "pGSu99y_WM2_",
        "colab": {
          "base_uri": "https://localhost:8080/"
        },
        "outputId": "61d1323d-24a0-4c6f-be99-ac4509840520"
      },
      "execution_count": null,
      "outputs": [
        {
          "output_type": "execute_result",
          "data": {
            "text/plain": [
              "0.0"
            ]
          },
          "metadata": {},
          "execution_count": 128
        }
      ]
    },
    {
      "cell_type": "code",
      "source": [
        "5+3*2"
      ],
      "metadata": {
        "id": "8XjY9uW_WeeO",
        "colab": {
          "base_uri": "https://localhost:8080/"
        },
        "outputId": "47747021-4a1e-4bef-fb4a-a20f62c3ef78"
      },
      "execution_count": null,
      "outputs": [
        {
          "output_type": "execute_result",
          "data": {
            "text/plain": [
              "11"
            ]
          },
          "metadata": {},
          "execution_count": 129
        }
      ]
    },
    {
      "cell_type": "code",
      "source": [
        "(5+3)*2"
      ],
      "metadata": {
        "id": "T-ksvaUCZqNW",
        "colab": {
          "base_uri": "https://localhost:8080/"
        },
        "outputId": "e9883cc7-92d5-4e2b-f15b-83a5923fde2d"
      },
      "execution_count": null,
      "outputs": [
        {
          "output_type": "execute_result",
          "data": {
            "text/plain": [
              "16"
            ]
          },
          "metadata": {},
          "execution_count": 130
        }
      ]
    },
    {
      "cell_type": "markdown",
      "source": [
        "### 숫자와 문자열 연산"
      ],
      "metadata": {
        "id": "AUEB7UAkZ5h-"
      }
    },
    {
      "cell_type": "code",
      "source": [
        "#숫자와 문자열을 같이 계산할 때에는 숫자를 문자열로 만든 다음에 계산해야함\n",
        "number = 4\n",
        "string = \"랑해\"\n",
        "print(number + string)"
      ],
      "metadata": {
        "id": "lG17gblyZwKA",
        "colab": {
          "base_uri": "https://localhost:8080/",
          "height": 182
        },
        "outputId": "d9fc4e68-4343-46fd-de4b-44de8bbfb4bb"
      },
      "execution_count": null,
      "outputs": [
        {
          "output_type": "error",
          "ename": "TypeError",
          "evalue": "unsupported operand type(s) for +: 'int' and 'str'",
          "traceback": [
            "\u001b[0;31m---------------------------------------------------------------------------\u001b[0m",
            "\u001b[0;31mTypeError\u001b[0m                                 Traceback (most recent call last)",
            "\u001b[0;32m<ipython-input-131-e9ebb711e0f2>\u001b[0m in \u001b[0;36m<cell line: 4>\u001b[0;34m()\u001b[0m\n\u001b[1;32m      2\u001b[0m \u001b[0mnumber\u001b[0m \u001b[0;34m=\u001b[0m \u001b[0;36m4\u001b[0m\u001b[0;34m\u001b[0m\u001b[0;34m\u001b[0m\u001b[0m\n\u001b[1;32m      3\u001b[0m \u001b[0mstring\u001b[0m \u001b[0;34m=\u001b[0m \u001b[0;34m\"랑해\"\u001b[0m\u001b[0;34m\u001b[0m\u001b[0;34m\u001b[0m\u001b[0m\n\u001b[0;32m----> 4\u001b[0;31m \u001b[0mprint\u001b[0m\u001b[0;34m(\u001b[0m\u001b[0mnumber\u001b[0m \u001b[0;34m+\u001b[0m \u001b[0mstring\u001b[0m\u001b[0;34m)\u001b[0m\u001b[0;34m\u001b[0m\u001b[0;34m\u001b[0m\u001b[0m\n\u001b[0m",
            "\u001b[0;31mTypeError\u001b[0m: unsupported operand type(s) for +: 'int' and 'str'"
          ]
        }
      ]
    },
    {
      "cell_type": "code",
      "source": [
        "number = \"4\"\n",
        "string = \"랑해\"\n",
        "print(number + string)"
      ],
      "metadata": {
        "id": "2G53qeojaHRe",
        "colab": {
          "base_uri": "https://localhost:8080/"
        },
        "outputId": "bd9d12cb-ac70-4e66-cb64-84f1824b13c1"
      },
      "execution_count": null,
      "outputs": [
        {
          "output_type": "stream",
          "name": "stdout",
          "text": [
            "4랑해\n"
          ]
        }
      ]
    },
    {
      "cell_type": "code",
      "source": [
        "15/4"
      ],
      "metadata": {
        "id": "erdmPQMr4OYO"
      },
      "execution_count": null,
      "outputs": []
    },
    {
      "cell_type": "markdown",
      "source": [
        "## 확인 문제"
      ],
      "metadata": {
        "id": "KxWWPutXL-C2"
      }
    },
    {
      "cell_type": "code",
      "source": [
        "int\n",
        "float"
      ],
      "metadata": {
        "id": "3j_jt80x3hEV"
      },
      "execution_count": null,
      "outputs": []
    },
    {
      "cell_type": "code",
      "source": [
        "+\n",
        "-\n",
        "*\n",
        "/\n",
        "// # 정수 나누기 = 몫\n",
        "%\n",
        "**"
      ],
      "metadata": {
        "id": "NR4DMHxb5QUm"
      },
      "execution_count": null,
      "outputs": []
    },
    {
      "cell_type": "code",
      "source": [
        "print(\"# 기본적인 연산\")\n",
        "print(15, \"+\", 4, \"=\", 15 + 4)\n",
        "print(15, \"-\", 4, \"=\", 15 - 4)\n",
        "print(15, \"*\", 4, \"=\", 15 * 4)\n",
        "print(15, \"/\", 4, \"=\", 15 / 4)"
      ],
      "metadata": {
        "id": "IHT45SgQ5bY9",
        "colab": {
          "base_uri": "https://localhost:8080/"
        },
        "outputId": "ac6541e3-f64f-4eaa-a6ed-67cd8733394d"
      },
      "execution_count": null,
      "outputs": [
        {
          "output_type": "stream",
          "name": "stdout",
          "text": [
            "# 기본적인 연산\n",
            "15 + 4 = 19\n",
            "15 - 4 = 11\n",
            "15 * 4 = 60\n",
            "15 / 4 = 3.75\n"
          ]
        }
      ]
    },
    {
      "cell_type": "code",
      "source": [
        "print(\"3462를 17로 나누었을 때의\")\n",
        "print(\"- 몫:\", 3462 // 17)\n",
        "print(\"- 나머지:\", 3462 % 17)"
      ],
      "metadata": {
        "id": "EQUCCXX_5eJG",
        "colab": {
          "base_uri": "https://localhost:8080/"
        },
        "outputId": "dcfdfc88-f249-425b-9367-366b92fbb1ed"
      },
      "execution_count": null,
      "outputs": [
        {
          "output_type": "stream",
          "name": "stdout",
          "text": [
            "3462를 17로 나누었을 때의\n",
            "- 몫: 203\n",
            "- 나머지: 11\n"
          ]
        }
      ]
    },
    {
      "cell_type": "code",
      "source": [
        "print(2 + 2 - 2 * 2 / 2 * 2)\n",
        "print(2 - 2 + 2 / 2 * 2 + 2)"
      ],
      "metadata": {
        "id": "acLAu8YJ5pTi",
        "colab": {
          "base_uri": "https://localhost:8080/"
        },
        "outputId": "50ab3f8f-db4e-4a4c-d6fa-416821a7bd48"
      },
      "execution_count": null,
      "outputs": [
        {
          "output_type": "stream",
          "name": "stdout",
          "text": [
            "0.0\n",
            "4.0\n"
          ]
        }
      ]
    },
    {
      "cell_type": "code",
      "source": [
        "print(2 + 2 - (((2 * 2) / 2) * 2))\n",
        "print(2 - 2 + ((2 / 2) * 2) + 2)"
      ],
      "metadata": {
        "id": "3vDXgVfp5tkq",
        "colab": {
          "base_uri": "https://localhost:8080/"
        },
        "outputId": "cc39b4c6-25ad-48b8-c3ad-2ae0259c6c4e"
      },
      "execution_count": null,
      "outputs": [
        {
          "output_type": "stream",
          "name": "stdout",
          "text": [
            "0.0\n",
            "4.0\n"
          ]
        }
      ]
    },
    {
      "cell_type": "markdown",
      "source": [
        "# 변수"
      ],
      "metadata": {
        "id": "SPlzAgUDd8Ap"
      }
    },
    {
      "cell_type": "code",
      "source": [
        "ABC = 1\n",
        "Abc = 2"
      ],
      "metadata": {
        "id": "ATVf0orDqvwy"
      },
      "execution_count": null,
      "outputs": []
    },
    {
      "cell_type": "code",
      "source": [
        "print(ABC, Abc)"
      ],
      "metadata": {
        "id": "yO2CIuNfq0GM",
        "colab": {
          "base_uri": "https://localhost:8080/"
        },
        "outputId": "d0a817ad-e6c6-40aa-cc84-bbb7ee52b578"
      },
      "execution_count": null,
      "outputs": [
        {
          "output_type": "stream",
          "name": "stdout",
          "text": [
            "1 2\n"
          ]
        }
      ]
    },
    {
      "cell_type": "code",
      "source": [
        "#숫자가 가장 먼저 나오고 underbar은 안됨\n",
        "#You cannot use integers to start variable names in Python.Variable names in Python must start with a letter or the underscore character (_). They can contain alphanumeric characters (a-z, A-Z, 0-9) and underscores after the first character.\n",
        "var = 3\n",
        "_var = 4\n",
        "2_var = 5"
      ],
      "metadata": {
        "id": "Q7gHsGlQq2y0",
        "colab": {
          "base_uri": "https://localhost:8080/",
          "height": 110
        },
        "outputId": "f4522aae-5b66-4b2d-f44e-31ead1265b29"
      },
      "execution_count": null,
      "outputs": [
        {
          "output_type": "error",
          "ename": "SyntaxError",
          "evalue": "invalid decimal literal (<ipython-input-139-57c9e8c0e2a9>, line 5)",
          "traceback": [
            "\u001b[0;36m  File \u001b[0;32m\"<ipython-input-139-57c9e8c0e2a9>\"\u001b[0;36m, line \u001b[0;32m5\u001b[0m\n\u001b[0;31m    2_var = 5\u001b[0m\n\u001b[0m     ^\u001b[0m\n\u001b[0;31mSyntaxError\u001b[0m\u001b[0;31m:\u001b[0m invalid decimal literal\n"
          ]
        }
      ]
    },
    {
      "cell_type": "code",
      "source": [
        "_2var = 6\n",
        "_var2 = 7\n",
        "var2 = 8"
      ],
      "metadata": {
        "id": "MTXIqxaErKtj"
      },
      "execution_count": null,
      "outputs": []
    },
    {
      "cell_type": "code",
      "source": [
        "print(_2var, _var2, var2)"
      ],
      "metadata": {
        "id": "Duz_S43Lrgsj",
        "colab": {
          "base_uri": "https://localhost:8080/"
        },
        "outputId": "5647f255-6154-48d4-fa79-b7f267573c57"
      },
      "execution_count": null,
      "outputs": [
        {
          "output_type": "stream",
          "name": "stdout",
          "text": [
            "6 7 8\n"
          ]
        }
      ]
    },
    {
      "cell_type": "code",
      "source": [
        "#언더바가 아니라서 안됨\n",
        "v-ar = 8"
      ],
      "metadata": {
        "id": "TQgacD2err5O",
        "colab": {
          "base_uri": "https://localhost:8080/",
          "height": 110
        },
        "outputId": "997e6d44-7bbe-4c72-d0fa-9f1562300e9b"
      },
      "execution_count": null,
      "outputs": [
        {
          "output_type": "error",
          "ename": "SyntaxError",
          "evalue": "cannot assign to expression here. Maybe you meant '==' instead of '='? (<ipython-input-142-81e520dccd1e>, line 2)",
          "traceback": [
            "\u001b[0;36m  File \u001b[0;32m\"<ipython-input-142-81e520dccd1e>\"\u001b[0;36m, line \u001b[0;32m2\u001b[0m\n\u001b[0;31m    v-ar = 8\u001b[0m\n\u001b[0m    ^\u001b[0m\n\u001b[0;31mSyntaxError\u001b[0m\u001b[0;31m:\u001b[0m cannot assign to expression here. Maybe you meant '==' instead of '='?\n"
          ]
        }
      ]
    },
    {
      "cell_type": "code",
      "source": [
        "var--var = 9"
      ],
      "metadata": {
        "id": "irUjO1acrxUz",
        "colab": {
          "base_uri": "https://localhost:8080/",
          "height": 110
        },
        "outputId": "e001856a-dc47-4b94-b817-14f929fb0a1c"
      },
      "execution_count": null,
      "outputs": [
        {
          "output_type": "error",
          "ename": "SyntaxError",
          "evalue": "cannot assign to expression here. Maybe you meant '==' instead of '='? (<ipython-input-143-f9453260bc9e>, line 1)",
          "traceback": [
            "\u001b[0;36m  File \u001b[0;32m\"<ipython-input-143-f9453260bc9e>\"\u001b[0;36m, line \u001b[0;32m1\u001b[0m\n\u001b[0;31m    var--var = 9\u001b[0m\n\u001b[0m    ^\u001b[0m\n\u001b[0;31mSyntaxError\u001b[0m\u001b[0;31m:\u001b[0m cannot assign to expression here. Maybe you meant '==' instead of '='?\n"
          ]
        }
      ]
    },
    {
      "cell_type": "code",
      "source": [
        "student_name = 'Tom'"
      ],
      "metadata": {
        "id": "aslRQ92kr6Jy"
      },
      "execution_count": null,
      "outputs": []
    },
    {
      "cell_type": "code",
      "source": [
        "print(student_name)"
      ],
      "metadata": {
        "id": "zbON2cFYr9UM",
        "colab": {
          "base_uri": "https://localhost:8080/"
        },
        "outputId": "5316ca7b-be27-43aa-c5ae-ada1166c2d28"
      },
      "execution_count": null,
      "outputs": [
        {
          "output_type": "stream",
          "name": "stdout",
          "text": [
            "Tom\n"
          ]
        }
      ]
    },
    {
      "cell_type": "code",
      "source": [
        "a = 2\n",
        "a"
      ],
      "metadata": {
        "id": "GZXAuHL4jICo",
        "colab": {
          "base_uri": "https://localhost:8080/"
        },
        "outputId": "c3f6518d-91a5-4687-9233-6ccf37040a28"
      },
      "execution_count": null,
      "outputs": [
        {
          "output_type": "execute_result",
          "data": {
            "text/plain": [
              "2"
            ]
          },
          "metadata": {},
          "execution_count": 146
        }
      ]
    },
    {
      "cell_type": "code",
      "source": [
        "print(a)"
      ],
      "metadata": {
        "id": "xioXLb23ja3u",
        "colab": {
          "base_uri": "https://localhost:8080/"
        },
        "outputId": "03c9a01c-1c26-477b-86aa-0e85fdf018d9"
      },
      "execution_count": null,
      "outputs": [
        {
          "output_type": "stream",
          "name": "stdout",
          "text": [
            "2\n"
          ]
        }
      ]
    },
    {
      "cell_type": "code",
      "source": [
        "a + 3"
      ],
      "metadata": {
        "id": "j3kwlNYAjNe1",
        "colab": {
          "base_uri": "https://localhost:8080/"
        },
        "outputId": "d6f01494-b6c5-40a7-b4cf-2a6af065b366"
      },
      "execution_count": null,
      "outputs": [
        {
          "output_type": "execute_result",
          "data": {
            "text/plain": [
              "5"
            ]
          },
          "metadata": {},
          "execution_count": 148
        }
      ]
    },
    {
      "cell_type": "code",
      "source": [
        "print(type(a))"
      ],
      "metadata": {
        "id": "WgKkskuwjqTl",
        "colab": {
          "base_uri": "https://localhost:8080/"
        },
        "outputId": "6d75b4f3-f315-4b95-dc4e-f946853fc42c"
      },
      "execution_count": null,
      "outputs": [
        {
          "output_type": "stream",
          "name": "stdout",
          "text": [
            "<class 'int'>\n"
          ]
        }
      ]
    },
    {
      "cell_type": "code",
      "source": [
        "# 변수 생성\n",
        "pi = 3.14"
      ],
      "metadata": {
        "id": "ZS8A9DbIbjlZ"
      },
      "execution_count": null,
      "outputs": []
    },
    {
      "cell_type": "code",
      "source": [
        "# 변수 확인\n",
        "print(pi)"
      ],
      "metadata": {
        "id": "tR1qSME0eGAD",
        "colab": {
          "base_uri": "https://localhost:8080/"
        },
        "outputId": "58be6667-e615-46d3-a56e-99f1bc3469e2"
      },
      "execution_count": null,
      "outputs": [
        {
          "output_type": "stream",
          "name": "stdout",
          "text": [
            "3.14\n"
          ]
        }
      ]
    },
    {
      "cell_type": "code",
      "source": [
        "# 변수 사용\n",
        "print(pi + pi) # 3.14 + 3.14"
      ],
      "metadata": {
        "id": "tRE-jEi4eRN8",
        "colab": {
          "base_uri": "https://localhost:8080/"
        },
        "outputId": "30371294-e89b-4c40-a62a-db4305de7976"
      },
      "execution_count": null,
      "outputs": [
        {
          "output_type": "stream",
          "name": "stdout",
          "text": [
            "6.28\n"
          ]
        }
      ]
    },
    {
      "cell_type": "markdown",
      "source": [
        "## 연산"
      ],
      "metadata": {
        "id": "hKj02BbGgChP"
      }
    },
    {
      "cell_type": "code",
      "source": [
        "# 사칙연산\n",
        "print(pi+pi)\n",
        "print(pi-pi)\n",
        "print(pi*pi)\n",
        "print(pi/pi)"
      ],
      "metadata": {
        "id": "0FJp112ve5rn",
        "colab": {
          "base_uri": "https://localhost:8080/"
        },
        "outputId": "a7631e33-ae03-4778-f25a-c5898afca210"
      },
      "execution_count": null,
      "outputs": [
        {
          "output_type": "stream",
          "name": "stdout",
          "text": [
            "6.28\n",
            "0.0\n",
            "9.8596\n",
            "1.0\n"
          ]
        }
      ]
    },
    {
      "cell_type": "code",
      "source": [
        "print(pi//2) # 몫\n",
        "print(pi%2) # 나머지"
      ],
      "metadata": {
        "id": "3XgNsrZCeka-",
        "colab": {
          "base_uri": "https://localhost:8080/"
        },
        "outputId": "be20540d-ca02-449e-8ab0-73e7d0f0812b"
      },
      "execution_count": null,
      "outputs": [
        {
          "output_type": "stream",
          "name": "stdout",
          "text": [
            "1.0\n",
            "1.1400000000000001\n"
          ]
        }
      ]
    },
    {
      "cell_type": "code",
      "source": [
        "# 제곱\n",
        "print(pi**2)\n",
        "print(pi**3)\n",
        "print(pi**4)"
      ],
      "metadata": {
        "id": "0Yd2QD6Pgsgf",
        "colab": {
          "base_uri": "https://localhost:8080/"
        },
        "outputId": "7af0a935-83c8-47e8-ad0a-790eea6dba4a"
      },
      "execution_count": null,
      "outputs": [
        {
          "output_type": "stream",
          "name": "stdout",
          "text": [
            "9.8596\n",
            "30.959144000000002\n",
            "97.21171216000002\n"
          ]
        }
      ]
    },
    {
      "cell_type": "code",
      "source": [
        "# 원의 둘레 = 2*pi*r\n",
        "# 원의 넓이 = pi*r*r\n",
        "pi = 3.14\n",
        "r = 10\n",
        "print(\"원의 둘레: \", 2*pi*r)\n",
        "print(\"원의 넓이: \", pi*r*r)"
      ],
      "metadata": {
        "id": "k3e3c9_thAlY",
        "colab": {
          "base_uri": "https://localhost:8080/"
        },
        "outputId": "23d49678-53d8-4033-df08-fbc27714596e"
      },
      "execution_count": null,
      "outputs": [
        {
          "output_type": "stream",
          "name": "stdout",
          "text": [
            "원의 둘레:  62.800000000000004\n",
            "원의 넓이:  314.0\n"
          ]
        }
      ]
    },
    {
      "cell_type": "markdown",
      "source": [
        "## 복합대입연산자"
      ],
      "metadata": {
        "id": "KhJ1Cy7nn7jP"
      }
    },
    {
      "cell_type": "code",
      "source": [
        "a = 2; a += 1; print(a)\n",
        "# a = a + 1"
      ],
      "metadata": {
        "id": "rh6SeaAqksn9",
        "colab": {
          "base_uri": "https://localhost:8080/"
        },
        "outputId": "b3edaa7a-e6a9-4ebc-a125-ee58dd06c8f7"
      },
      "execution_count": null,
      "outputs": [
        {
          "output_type": "stream",
          "name": "stdout",
          "text": [
            "3\n"
          ]
        }
      ]
    },
    {
      "cell_type": "code",
      "source": [
        "# += <= 숫자\n",
        "no = 10\n",
        "no += 1 # 10 + 1 = 11 = no\n",
        "no += 1 # 11 + 1 = 12 = no\n",
        "no += 1 # 12 + 1 = 13 = no\n",
        "print(no)"
      ],
      "metadata": {
        "id": "7R6rZlHNiuyI",
        "colab": {
          "base_uri": "https://localhost:8080/"
        },
        "outputId": "1af98acf-a1a6-4fca-a167-f75eff5dcf1c"
      },
      "execution_count": null,
      "outputs": [
        {
          "output_type": "stream",
          "name": "stdout",
          "text": [
            "13\n"
          ]
        }
      ]
    },
    {
      "cell_type": "code",
      "source": [
        "no = 10\n",
        "no -= 1\n",
        "no -= 1\n",
        "no -= 1\n",
        "print(no)"
      ],
      "metadata": {
        "id": "OVT5RKJanddc",
        "colab": {
          "base_uri": "https://localhost:8080/"
        },
        "outputId": "e438fb02-2069-4fed-f227-db665ffce7c4"
      },
      "execution_count": null,
      "outputs": [
        {
          "output_type": "stream",
          "name": "stdout",
          "text": [
            "7\n"
          ]
        }
      ]
    },
    {
      "cell_type": "code",
      "source": [
        "no = 10\n",
        "no *= 2\n",
        "no *= 2\n",
        "no *= 2\n",
        "print(no)"
      ],
      "metadata": {
        "id": "RIugJxQ7njbz",
        "colab": {
          "base_uri": "https://localhost:8080/"
        },
        "outputId": "13088c1a-5f21-4f94-9bc3-1ef7556edf71"
      },
      "execution_count": null,
      "outputs": [
        {
          "output_type": "stream",
          "name": "stdout",
          "text": [
            "80\n"
          ]
        }
      ]
    },
    {
      "cell_type": "code",
      "source": [
        "no = 10\n",
        "no /= 2\n",
        "no /= 2\n",
        "no /= 2\n",
        "print(no)"
      ],
      "metadata": {
        "id": "hM963_QAnqaV",
        "colab": {
          "base_uri": "https://localhost:8080/"
        },
        "outputId": "bc36099c-d367-4d07-eeb2-c0bb1d076df7"
      },
      "execution_count": null,
      "outputs": [
        {
          "output_type": "stream",
          "name": "stdout",
          "text": [
            "1.25\n"
          ]
        }
      ]
    },
    {
      "cell_type": "code",
      "source": [
        "no = 10\n",
        "no //= 2\n",
        "no //= 2\n",
        "no //= 2\n",
        "print(no)"
      ],
      "metadata": {
        "id": "I-4TJubXnv7u",
        "colab": {
          "base_uri": "https://localhost:8080/"
        },
        "outputId": "c90d3878-4947-40d1-d2c2-6b5c2a95120a"
      },
      "execution_count": null,
      "outputs": [
        {
          "output_type": "stream",
          "name": "stdout",
          "text": [
            "1\n"
          ]
        }
      ]
    },
    {
      "cell_type": "code",
      "source": [
        "no = 10\n",
        "no %= 7\n",
        "no %= 2\n",
        "no %= 1\n",
        "print(no)"
      ],
      "metadata": {
        "id": "0clRfzBEn1Ag",
        "colab": {
          "base_uri": "https://localhost:8080/"
        },
        "outputId": "cf4257d1-aa2a-4c11-bb6d-d79d4a50c437"
      },
      "execution_count": null,
      "outputs": [
        {
          "output_type": "stream",
          "name": "stdout",
          "text": [
            "0\n"
          ]
        }
      ]
    },
    {
      "cell_type": "code",
      "source": [
        "no = 10\n",
        "no **= 2\n",
        "no **= 2\n",
        "no **= 2\n",
        "print(no)"
      ],
      "metadata": {
        "id": "Mt9u-VLGn7x2",
        "colab": {
          "base_uri": "https://localhost:8080/"
        },
        "outputId": "dc0f1a95-e657-4ac5-f615-4fb8d055abed"
      },
      "execution_count": null,
      "outputs": [
        {
          "output_type": "stream",
          "name": "stdout",
          "text": [
            "100000000\n"
          ]
        }
      ]
    },
    {
      "cell_type": "code",
      "source": [
        "str = \"Hello\"; str += \"Python\"; print(str)"
      ],
      "metadata": {
        "id": "r3608xsxo9LA",
        "colab": {
          "base_uri": "https://localhost:8080/"
        },
        "outputId": "fe0085c8-92f1-4220-8397-d2727f726c25"
      },
      "execution_count": null,
      "outputs": [
        {
          "output_type": "stream",
          "name": "stdout",
          "text": [
            "HelloPython\n"
          ]
        }
      ]
    },
    {
      "cell_type": "code",
      "source": [
        "# += <= 문자 (+, *)\n",
        "string = \"안녕\"\n",
        "string += \"!\" # 안녕 + ! = 안녕! = string\n",
        "string += \"!\" # 안녕! + ! = 안녕!! = string\n",
        "string += \"!\" # 안녕!! + ! = 안녕!!! = string\n",
        "print(string)"
      ],
      "metadata": {
        "id": "wXYvSOyqoOhB",
        "colab": {
          "base_uri": "https://localhost:8080/"
        },
        "outputId": "b7a2587a-1f62-49a1-e14a-0cdaf5210f8b"
      },
      "execution_count": null,
      "outputs": [
        {
          "output_type": "stream",
          "name": "stdout",
          "text": [
            "안녕!!!\n"
          ]
        }
      ]
    },
    {
      "cell_type": "code",
      "source": [
        "string = \"안녕\"\n",
        "string *= 2 # 안녕 + ! = 안녕! = string\n",
        "string *= 2\n",
        "string *= 2\n",
        "print(string)"
      ],
      "metadata": {
        "id": "fMIJMQEkolRI",
        "colab": {
          "base_uri": "https://localhost:8080/"
        },
        "outputId": "a709a1a6-01f5-4950-dd72-f4a63c1180ff"
      },
      "execution_count": null,
      "outputs": [
        {
          "output_type": "stream",
          "name": "stdout",
          "text": [
            "안녕안녕안녕안녕안녕안녕안녕안녕\n"
          ]
        }
      ]
    },
    {
      "cell_type": "markdown",
      "source": [
        "## 사용자입력"
      ],
      "metadata": {
        "id": "I6xvNEGtrRDg"
      }
    },
    {
      "cell_type": "code",
      "source": [
        "input(\"값을 입력하세요>\") #결과를 보면 '' 즉, 문자형으로 출력됨"
      ],
      "metadata": {
        "id": "7UIgws4pfw35",
        "colab": {
          "base_uri": "https://localhost:8080/",
          "height": 54
        },
        "outputId": "9d540ae9-e34e-48a5-98d4-480d07994a18"
      },
      "execution_count": null,
      "outputs": [
        {
          "name": "stdout",
          "output_type": "stream",
          "text": [
            "값을 입력하세요>3\n"
          ]
        },
        {
          "output_type": "execute_result",
          "data": {
            "text/plain": [
              "'3'"
            ],
            "application/vnd.google.colaboratory.intrinsic+json": {
              "type": "string"
            }
          },
          "metadata": {},
          "execution_count": 168
        }
      ]
    },
    {
      "cell_type": "code",
      "source": [
        "# 사용자 입력 값을 반환\n",
        "input(\"문자를 입력하세요> \")"
      ],
      "metadata": {
        "id": "24hJ6om-pD36",
        "colab": {
          "base_uri": "https://localhost:8080/",
          "height": 54
        },
        "outputId": "028f217c-e89c-406b-e286-9cc1f220d433"
      },
      "execution_count": null,
      "outputs": [
        {
          "name": "stdout",
          "output_type": "stream",
          "text": [
            "문자를 입력하세요> connie\n"
          ]
        },
        {
          "output_type": "execute_result",
          "data": {
            "text/plain": [
              "'connie'"
            ],
            "application/vnd.google.colaboratory.intrinsic+json": {
              "type": "string"
            }
          },
          "metadata": {},
          "execution_count": 169
        }
      ]
    },
    {
      "cell_type": "code",
      "source": [
        "input(\"숫자를 입력하세요> \")"
      ],
      "metadata": {
        "id": "49nChoC2rcWB",
        "colab": {
          "base_uri": "https://localhost:8080/",
          "height": 54
        },
        "outputId": "92596174-390e-457f-e3a7-d045ced96383"
      },
      "execution_count": null,
      "outputs": [
        {
          "name": "stdout",
          "output_type": "stream",
          "text": [
            "숫자를 입력하세요> 23\n"
          ]
        },
        {
          "output_type": "execute_result",
          "data": {
            "text/plain": [
              "'23'"
            ],
            "application/vnd.google.colaboratory.intrinsic+json": {
              "type": "string"
            }
          },
          "metadata": {},
          "execution_count": 170
        }
      ]
    },
    {
      "cell_type": "code",
      "source": [
        "value = input(\"값을 입력하세요>\"); print(value) ; type(value)"
      ],
      "metadata": {
        "id": "ukbX1wtgpohW",
        "colab": {
          "base_uri": "https://localhost:8080/"
        },
        "outputId": "48d9e3b3-10ac-4eb5-9d7b-c1d34817f8a1"
      },
      "execution_count": null,
      "outputs": [
        {
          "output_type": "stream",
          "name": "stdout",
          "text": [
            "값을 입력하세요>11\n",
            "11\n"
          ]
        },
        {
          "output_type": "execute_result",
          "data": {
            "text/plain": [
              "str"
            ]
          },
          "metadata": {},
          "execution_count": 172
        }
      ]
    },
    {
      "cell_type": "code",
      "source": [
        "value = input(\"값을 입력하세요>\"); print(type(value)) # 입력값에 Hello 입력하기"
      ],
      "metadata": {
        "id": "LkwP9DDoqKhP",
        "colab": {
          "base_uri": "https://localhost:8080/"
        },
        "outputId": "fd83a8d7-6d1e-4fb0-c1a9-f848b8bee644"
      },
      "execution_count": null,
      "outputs": [
        {
          "output_type": "stream",
          "name": "stdout",
          "text": [
            "값을 입력하세요>hello\n",
            "<class 'str'>\n"
          ]
        }
      ]
    },
    {
      "cell_type": "code",
      "source": [
        "value = input(\"값을 입력하세요>\"); print(type(value)) # 입력값에 23 입력하기"
      ],
      "metadata": {
        "id": "0FsrqNdkqMJw",
        "colab": {
          "base_uri": "https://localhost:8080/"
        },
        "outputId": "87f5cd9f-f39a-44a7-a0fa-117651a8b270"
      },
      "execution_count": null,
      "outputs": [
        {
          "output_type": "stream",
          "name": "stdout",
          "text": [
            "값을 입력하세요>23\n",
            "<class 'str'>\n"
          ]
        }
      ]
    },
    {
      "cell_type": "code",
      "source": [
        "# 문자열\n",
        "var1 = input(\"문자를 입력하세요> \")\n",
        "print(type(var1))"
      ],
      "metadata": {
        "id": "k1-35C-ersZE",
        "colab": {
          "base_uri": "https://localhost:8080/"
        },
        "outputId": "14f4d319-3330-40eb-cad0-30ae17671565"
      },
      "execution_count": null,
      "outputs": [
        {
          "output_type": "stream",
          "name": "stdout",
          "text": [
            "문자를 입력하세요> Conni2\n",
            "<class 'str'>\n"
          ]
        }
      ]
    },
    {
      "cell_type": "code",
      "source": [
        "# 숫자\n",
        "var2 = input(\"숫자를 입력하세요> \")\n",
        "print(type(var2))"
      ],
      "metadata": {
        "id": "PtIKZ-08sYiD",
        "colab": {
          "base_uri": "https://localhost:8080/"
        },
        "outputId": "80f6c5c5-e020-4590-e08c-97d9cb5305a9"
      },
      "execution_count": null,
      "outputs": [
        {
          "output_type": "stream",
          "name": "stdout",
          "text": [
            "숫자를 입력하세요> 12\n",
            "<class 'str'>\n"
          ]
        }
      ]
    },
    {
      "cell_type": "code",
      "source": [
        "# bool\n",
        "var3 = input(\"bool를 입력하세요> \")\n",
        "var3 = bool(var3)\n",
        "print(type(var3))"
      ],
      "metadata": {
        "id": "VhhfCPhCsjNz",
        "colab": {
          "base_uri": "https://localhost:8080/"
        },
        "outputId": "413789ba-fe55-4834-85d4-d2c11cc3f44f"
      },
      "execution_count": null,
      "outputs": [
        {
          "output_type": "stream",
          "name": "stdout",
          "text": [
            "bool를 입력하세요> False\n",
            "<class 'bool'>\n"
          ]
        }
      ]
    },
    {
      "cell_type": "code",
      "source": [
        "no = input(\"정수를 입력하세요> \")\n",
        "print(\"계산 결과: \", no + 10)"
      ],
      "metadata": {
        "id": "l0u0bgcDsuCR",
        "colab": {
          "base_uri": "https://localhost:8080/",
          "height": 182
        },
        "outputId": "85c00a05-dcc0-4a53-9cb4-ec2e1b87d7e9"
      },
      "execution_count": null,
      "outputs": [
        {
          "name": "stdout",
          "output_type": "stream",
          "text": [
            "정수를 입력하세요> 32\n"
          ]
        },
        {
          "output_type": "error",
          "ename": "TypeError",
          "evalue": "can only concatenate str (not \"int\") to str",
          "traceback": [
            "\u001b[0;31m---------------------------------------------------------------------------\u001b[0m",
            "\u001b[0;31mTypeError\u001b[0m                                 Traceback (most recent call last)",
            "\u001b[0;32m<ipython-input-178-68f6803b066c>\u001b[0m in \u001b[0;36m<cell line: 2>\u001b[0;34m()\u001b[0m\n\u001b[1;32m      1\u001b[0m \u001b[0mno\u001b[0m \u001b[0;34m=\u001b[0m \u001b[0minput\u001b[0m\u001b[0;34m(\u001b[0m\u001b[0;34m\"정수를 입력하세요> \"\u001b[0m\u001b[0;34m)\u001b[0m\u001b[0;34m\u001b[0m\u001b[0;34m\u001b[0m\u001b[0m\n\u001b[0;32m----> 2\u001b[0;31m \u001b[0mprint\u001b[0m\u001b[0;34m(\u001b[0m\u001b[0;34m\"계산 결과: \"\u001b[0m\u001b[0;34m,\u001b[0m \u001b[0mno\u001b[0m \u001b[0;34m+\u001b[0m \u001b[0;36m10\u001b[0m\u001b[0;34m)\u001b[0m\u001b[0;34m\u001b[0m\u001b[0;34m\u001b[0m\u001b[0m\n\u001b[0m",
            "\u001b[0;31mTypeError\u001b[0m: can only concatenate str (not \"int\") to str"
          ]
        }
      ]
    },
    {
      "cell_type": "markdown",
      "source": [
        "## 캐스트 함수"
      ],
      "metadata": {
        "id": "pMstxdrwumy_"
      }
    },
    {
      "cell_type": "code",
      "source": [
        "a = input(\"input integer>\"); print(type(a)); a = int(a); print(type(a)) # 정수 입력"
      ],
      "metadata": {
        "id": "E48UJfh0qdY8",
        "colab": {
          "base_uri": "https://localhost:8080/"
        },
        "outputId": "9d708965-a97d-466d-93ac-5ff927dba2bd"
      },
      "execution_count": null,
      "outputs": [
        {
          "output_type": "stream",
          "name": "stdout",
          "text": [
            "input integer>23\n",
            "<class 'str'>\n",
            "<class 'int'>\n"
          ]
        }
      ]
    },
    {
      "cell_type": "code",
      "source": [
        "a = input(\"input float>\"); print(type(a)); a = float(a); print(type(a)) # 실수 입력"
      ],
      "metadata": {
        "id": "EA1gSD8wqdVx",
        "colab": {
          "base_uri": "https://localhost:8080/"
        },
        "outputId": "f5e0bc9f-bf46-4d57-b283-343c85ed8c75"
      },
      "execution_count": null,
      "outputs": [
        {
          "output_type": "stream",
          "name": "stdout",
          "text": [
            "input float>1.1\n",
            "<class 'str'>\n",
            "<class 'float'>\n"
          ]
        }
      ]
    },
    {
      "cell_type": "code",
      "source": [
        "# 정수로 변환 int()\n",
        "input_a = input(\"첫번째 정수를 입력하세요> \")\n",
        "input_b = input(\"두번째 정수를 입력하세요> \")\n",
        "int_a = int(input_a)\n",
        "int_b = int(input_b)\n",
        "print(\"문자열 = \", input_a + input_b)\n",
        "print(\"정수 = \", int_a + int_b)"
      ],
      "metadata": {
        "id": "--1ONw6qtl6y",
        "colab": {
          "base_uri": "https://localhost:8080/"
        },
        "outputId": "a390f6b5-e3a3-404c-b174-5deef8301ce8"
      },
      "execution_count": null,
      "outputs": [
        {
          "output_type": "stream",
          "name": "stdout",
          "text": [
            "첫번째 정수를 입력하세요> 23\n",
            "두번째 정수를 입력하세요> 11\n",
            "문자열 =  2311\n",
            "정수 =  34\n"
          ]
        }
      ]
    },
    {
      "cell_type": "code",
      "source": [
        "input_a = input(\"첫번째 정수를 입력하세요> \")\n",
        "input_b = input(\"두번째 정수를 입력하세요> \")\n",
        "int_a = float(input_a)\n",
        "int_b = float(input_b)\n",
        "print(\"문자열 = \", input_a + input_b)\n",
        "print(\"정수 = \", int_a + int_b)"
      ],
      "metadata": {
        "id": "pyiSJwDLvioa",
        "colab": {
          "base_uri": "https://localhost:8080/"
        },
        "outputId": "f9cfe883-0793-48de-86c9-c968e609ef1e"
      },
      "execution_count": null,
      "outputs": [
        {
          "output_type": "stream",
          "name": "stdout",
          "text": [
            "첫번째 정수를 입력하세요> 1\n",
            "두번째 정수를 입력하세요> 2\n",
            "문자열 =  12\n",
            "정수 =  3.0\n"
          ]
        }
      ]
    },
    {
      "cell_type": "code",
      "source": [
        "a = int(\"23\")\n",
        "b = float(\"2.3\")\n",
        "print(type(a))\n",
        "print(type(b))"
      ],
      "metadata": {
        "id": "RIw8Ob9PwzBM",
        "colab": {
          "base_uri": "https://localhost:8080/"
        },
        "outputId": "86b48085-0652-4e7a-dfbf-8ee3ca7cf15b"
      },
      "execution_count": null,
      "outputs": [
        {
          "output_type": "stream",
          "name": "stdout",
          "text": [
            "<class 'int'>\n",
            "<class 'float'>\n"
          ]
        }
      ]
    },
    {
      "cell_type": "markdown",
      "source": [
        "## 숫자를 문자로 변환"
      ],
      "metadata": {
        "id": "DKoiu9dJ1JOv"
      }
    },
    {
      "cell_type": "code",
      "source": [
        "# str()\n",
        "a = str(23)\n",
        "b = str(2.3)\n",
        "print(type(a))\n",
        "print(type(b))"
      ],
      "metadata": {
        "id": "EkOzo9IkwOIG",
        "colab": {
          "base_uri": "https://localhost:8080/",
          "height": 219
        },
        "outputId": "9da68d72-541d-46c0-c1c9-1217450eb99c"
      },
      "execution_count": null,
      "outputs": [
        {
          "output_type": "error",
          "ename": "TypeError",
          "evalue": "'str' object is not callable",
          "traceback": [
            "\u001b[0;31m---------------------------------------------------------------------------\u001b[0m",
            "\u001b[0;31mTypeError\u001b[0m                                 Traceback (most recent call last)",
            "\u001b[0;32m<ipython-input-187-692dedfa1850>\u001b[0m in \u001b[0;36m<cell line: 2>\u001b[0;34m()\u001b[0m\n\u001b[1;32m      1\u001b[0m \u001b[0;31m# str()\u001b[0m\u001b[0;34m\u001b[0m\u001b[0;34m\u001b[0m\u001b[0m\n\u001b[0;32m----> 2\u001b[0;31m \u001b[0ma\u001b[0m \u001b[0;34m=\u001b[0m \u001b[0mstr\u001b[0m\u001b[0;34m(\u001b[0m\u001b[0;36m23\u001b[0m\u001b[0;34m)\u001b[0m\u001b[0;34m\u001b[0m\u001b[0;34m\u001b[0m\u001b[0m\n\u001b[0m\u001b[1;32m      3\u001b[0m \u001b[0mb\u001b[0m \u001b[0;34m=\u001b[0m \u001b[0mstr\u001b[0m\u001b[0;34m(\u001b[0m\u001b[0;36m2.3\u001b[0m\u001b[0;34m)\u001b[0m\u001b[0;34m\u001b[0m\u001b[0;34m\u001b[0m\u001b[0m\n\u001b[1;32m      4\u001b[0m \u001b[0mprint\u001b[0m\u001b[0;34m(\u001b[0m\u001b[0mtype\u001b[0m\u001b[0;34m(\u001b[0m\u001b[0ma\u001b[0m\u001b[0;34m)\u001b[0m\u001b[0;34m)\u001b[0m\u001b[0;34m\u001b[0m\u001b[0;34m\u001b[0m\u001b[0m\n\u001b[1;32m      5\u001b[0m \u001b[0mprint\u001b[0m\u001b[0;34m(\u001b[0m\u001b[0mtype\u001b[0m\u001b[0;34m(\u001b[0m\u001b[0mb\u001b[0m\u001b[0;34m)\u001b[0m\u001b[0;34m)\u001b[0m\u001b[0;34m\u001b[0m\u001b[0;34m\u001b[0m\u001b[0m\n",
            "\u001b[0;31mTypeError\u001b[0m: 'str' object is not callable"
          ]
        }
      ]
    },
    {
      "cell_type": "markdown",
      "source": [
        "## ValueError"
      ],
      "metadata": {
        "id": "OjboGFMf1nQh"
      }
    },
    {
      "cell_type": "code",
      "source": [
        "# 1) 숫자가 아닌 값을 숫자로 변환하는 경우\n",
        "int(\"안녕\")"
      ],
      "metadata": {
        "id": "Rcg5lb0Viqfz",
        "colab": {
          "base_uri": "https://localhost:8080/",
          "height": 164
        },
        "outputId": "2ecd581a-138e-4d32-b315-c7094f02ff96"
      },
      "execution_count": null,
      "outputs": [
        {
          "output_type": "error",
          "ename": "ValueError",
          "evalue": "invalid literal for int() with base 10: '안녕'",
          "traceback": [
            "\u001b[0;31m---------------------------------------------------------------------------\u001b[0m",
            "\u001b[0;31mValueError\u001b[0m                                Traceback (most recent call last)",
            "\u001b[0;32m<ipython-input-188-fd6a93eb1f4b>\u001b[0m in \u001b[0;36m<cell line: 2>\u001b[0;34m()\u001b[0m\n\u001b[1;32m      1\u001b[0m \u001b[0;31m# 1) 숫자가 아닌 값을 숫자로 변환하는 경우\u001b[0m\u001b[0;34m\u001b[0m\u001b[0;34m\u001b[0m\u001b[0m\n\u001b[0;32m----> 2\u001b[0;31m \u001b[0mint\u001b[0m\u001b[0;34m(\u001b[0m\u001b[0;34m\"안녕\"\u001b[0m\u001b[0;34m)\u001b[0m\u001b[0;34m\u001b[0m\u001b[0;34m\u001b[0m\u001b[0m\n\u001b[0m",
            "\u001b[0;31mValueError\u001b[0m: invalid literal for int() with base 10: '안녕'"
          ]
        }
      ]
    },
    {
      "cell_type": "code",
      "source": [
        "# 2) 실수를 정수로 변환하는 경우\n",
        "int(\"2.3\")"
      ],
      "metadata": {
        "id": "eVd4WwSx16dp",
        "colab": {
          "base_uri": "https://localhost:8080/",
          "height": 164
        },
        "outputId": "7ea6f7ec-436a-4cda-cc8e-dc798db82687"
      },
      "execution_count": null,
      "outputs": [
        {
          "output_type": "error",
          "ename": "ValueError",
          "evalue": "invalid literal for int() with base 10: '2.3'",
          "traceback": [
            "\u001b[0;31m---------------------------------------------------------------------------\u001b[0m",
            "\u001b[0;31mValueError\u001b[0m                                Traceback (most recent call last)",
            "\u001b[0;32m<ipython-input-189-a6156ff8ef01>\u001b[0m in \u001b[0;36m<cell line: 2>\u001b[0;34m()\u001b[0m\n\u001b[1;32m      1\u001b[0m \u001b[0;31m# 2) 실수를 정수로 변환하는 경우\u001b[0m\u001b[0;34m\u001b[0m\u001b[0;34m\u001b[0m\u001b[0m\n\u001b[0;32m----> 2\u001b[0;31m \u001b[0mint\u001b[0m\u001b[0;34m(\u001b[0m\u001b[0;34m\"2.3\"\u001b[0m\u001b[0;34m)\u001b[0m\u001b[0;34m\u001b[0m\u001b[0;34m\u001b[0m\u001b[0m\n\u001b[0m",
            "\u001b[0;31mValueError\u001b[0m: invalid literal for int() with base 10: '2.3'"
          ]
        }
      ]
    },
    {
      "cell_type": "code",
      "source": [
        "# 1 m = 100 cm\n",
        "meter = input(\"키(m)를 입력하세요> \")\n",
        "meter = float(meter) #float를 쓴 이유는 정수나 실수 중에 어떤 걸 넣을지 모르니까\n",
        "height = meter * 100\n",
        "print(meter, \"m 는 cm 로 변환하면 \", height, \"cm 입니다.\")"
      ],
      "metadata": {
        "id": "Zi_qyw9G2Iw6",
        "colab": {
          "base_uri": "https://localhost:8080/"
        },
        "outputId": "7a6f84c7-c770-4f77-ab00-2601f780446f"
      },
      "execution_count": null,
      "outputs": [
        {
          "output_type": "stream",
          "name": "stdout",
          "text": [
            "키(m)를 입력하세요> 12\n",
            "12.0 m 는 cm 로 변환하면  1200.0 cm 입니다.\n"
          ]
        }
      ]
    },
    {
      "cell_type": "code",
      "source": [
        "#inch를 cm로 변환하는 프로그램\n",
        "# 1 inch = 2.54cm\n",
        "inch = float(input())\n",
        "cm = inch * 2.54\n",
        "print(\"{} cm\".format(cm))"
      ],
      "metadata": {
        "id": "7AcJ2Ye3GjfI",
        "colab": {
          "base_uri": "https://localhost:8080/"
        },
        "outputId": "bb17d06a-ec62-42aa-e585-fd20f11cc5c4"
      },
      "execution_count": null,
      "outputs": [
        {
          "output_type": "stream",
          "name": "stdout",
          "text": [
            "33\n",
            "83.82000000000001 cm\n"
          ]
        }
      ]
    },
    {
      "cell_type": "code",
      "source": [
        "# inch 를 cm 로 변환하는 프로그램\n",
        "# 1 inch = 2.54 cm\n",
        "inch = input(\"inch 를 입력하세요> \")\n",
        "inch = float(inch)\n",
        "cm = inch * 2.54\n",
        "print(inch, \"inch 는 cm 로 변환하면 \", cm, \"cm 입니다.\")"
      ],
      "metadata": {
        "id": "-0-hNePlGzjl",
        "colab": {
          "base_uri": "https://localhost:8080/"
        },
        "outputId": "2d0cf29c-0f5f-40b0-9c99-c88ae078f2dd"
      },
      "execution_count": null,
      "outputs": [
        {
          "output_type": "stream",
          "name": "stdout",
          "text": [
            "inch 를 입력하세요> 1\n",
            "1.0 inch 는 cm 로 변환하면  2.54 cm 입니다.\n"
          ]
        }
      ]
    },
    {
      "cell_type": "markdown",
      "source": [
        "## 확인 문제"
      ],
      "metadata": {
        "id": "gf-o2JDCMowS"
      }
    },
    {
      "cell_type": "code",
      "source": [
        "="
      ],
      "metadata": {
        "id": "wUwcCPfEBGyM"
      },
      "execution_count": null,
      "outputs": []
    },
    {
      "cell_type": "code",
      "source": [
        "+=\n",
        "-=\n",
        "*=\n",
        "/=\n",
        "%=\n",
        "**="
      ],
      "metadata": {
        "id": "5fpGeT1LBKkU"
      },
      "execution_count": null,
      "outputs": []
    },
    {
      "cell_type": "code",
      "source": [
        "int()\n",
        "float()\n",
        "str()"
      ],
      "metadata": {
        "id": "NPB8H0NqJGsk"
      },
      "execution_count": null,
      "outputs": []
    },
    {
      "cell_type": "code",
      "source": [
        "str_input = input(\"숫자 입력> \")\n",
        "num_input = float(str_input)\n",
        "\n",
        "print()\n",
        "print(num_input, \"inch\")\n",
        "print((num_input * 2.54), \"cm\")"
      ],
      "metadata": {
        "id": "8gDNJ93QN-Px",
        "colab": {
          "base_uri": "https://localhost:8080/"
        },
        "outputId": "d8b76e7e-0ec5-48cd-ae26-20aa18a96c55"
      },
      "execution_count": null,
      "outputs": [
        {
          "output_type": "stream",
          "name": "stdout",
          "text": [
            "숫자 입력> 33\n",
            "\n",
            "33.0 inch\n",
            "83.82000000000001 cm\n"
          ]
        }
      ]
    },
    {
      "cell_type": "code",
      "source": [
        "str_input = input(\"숫자 입력> \")\n",
        "num_input = float(str_input)\n",
        "\n",
        "print()\n",
        "print(num_input, \"inch\")\n",
        "print((num_input * 2.54), \"cm\")"
      ],
      "metadata": {
        "id": "QjAqx1-wOKbR",
        "colab": {
          "base_uri": "https://localhost:8080/"
        },
        "outputId": "317595e3-6d5d-4ea8-ec23-e370f83af21f"
      },
      "execution_count": null,
      "outputs": [
        {
          "output_type": "stream",
          "name": "stdout",
          "text": [
            "숫자 입력> 10\n",
            "\n",
            "10.0 inch\n",
            "25.4 cm\n"
          ]
        }
      ]
    },
    {
      "cell_type": "code",
      "source": [
        "str_input = input(\"원의 반지름 입력> \")\n",
        "num_input = float(str_input)\n",
        "print()\n",
        "print(\"반지름: \", num_input)\n",
        "print(\"둘레: \", 2 * 3.14 * num_input )\n",
        "print(\"넓이: \", 3.14 * num_input ** 2)"
      ],
      "metadata": {
        "id": "bJ8p7oV_OWlD",
        "colab": {
          "base_uri": "https://localhost:8080/"
        },
        "outputId": "b3766698-7187-440b-fe00-ddb69c2f1d51"
      },
      "execution_count": null,
      "outputs": [
        {
          "output_type": "stream",
          "name": "stdout",
          "text": [
            "원의 반지름 입력> 2\n",
            "\n",
            "반지름:  2.0\n",
            "둘레:  12.56\n",
            "넓이:  12.56\n"
          ]
        }
      ]
    },
    {
      "cell_type": "code",
      "source": [
        "str_input = input(\"원의 반지름 입력> \")\n",
        "num_input = float(str_input)\n",
        "print()\n",
        "print(\"반지름: \", num_input)\n",
        "print(\"둘레: \", 2 * 3.14 * num_input )\n",
        "print(\"넓이: \", 3.14 * num_input ** 2)"
      ],
      "metadata": {
        "id": "dCBUTMnAaDBk",
        "colab": {
          "base_uri": "https://localhost:8080/"
        },
        "outputId": "32f5066e-f6cf-465c-ddf8-9847a3111982"
      },
      "execution_count": null,
      "outputs": [
        {
          "output_type": "stream",
          "name": "stdout",
          "text": [
            "원의 반지름 입력> 11\n",
            "\n",
            "반지름:  11.0\n",
            "둘레:  69.08\n",
            "넓이:  379.94\n"
          ]
        }
      ]
    },
    {
      "cell_type": "code",
      "source": [
        "a = input(\"문자열 입력> \")\n",
        "b = input(\"문자열 입력> \")\n",
        "\n",
        "print(a, b)\n",
        "c = a # a => c\n",
        "a = b # b => a\n",
        "b = c # c => b\n",
        "print(a, b)"
      ],
      "metadata": {
        "id": "P9Qir7dCamf-",
        "colab": {
          "base_uri": "https://localhost:8080/"
        },
        "outputId": "327f3250-857a-4814-ad2d-207d16a42102"
      },
      "execution_count": null,
      "outputs": [
        {
          "output_type": "stream",
          "name": "stdout",
          "text": [
            "문자열 입력> 2\n",
            "문자열 입력> Connie\n",
            "2 Connie\n",
            "Connie 2\n"
          ]
        }
      ]
    },
    {
      "cell_type": "markdown",
      "source": [
        "## format"
      ],
      "metadata": {
        "id": "2z-voOEtUcsa"
      }
    },
    {
      "cell_type": "code",
      "execution_count": null,
      "metadata": {
        "id": "Mod6evq9Ti48",
        "colab": {
          "base_uri": "https://localhost:8080/"
        },
        "outputId": "7ab00a09-30fc-4edd-96c1-ea68e61c9464"
      },
      "outputs": [
        {
          "output_type": "stream",
          "name": "stdout",
          "text": [
            "23\n",
            "<class 'str'>\n"
          ]
        }
      ],
      "source": [
        "# 숫자를 문자열로 변환하는 함수\n",
        "str = \"{}\".format(23); print(str); print(type(str))"
      ]
    },
    {
      "cell_type": "code",
      "source": [
        "\"유퀴즈 상금 {} 만원\".format(100)"
      ],
      "metadata": {
        "id": "GN8oS2gjU36x",
        "colab": {
          "base_uri": "https://localhost:8080/",
          "height": 35
        },
        "outputId": "2a3cdc4b-f38c-4be2-80ba-949643ab7958"
      },
      "execution_count": null,
      "outputs": [
        {
          "output_type": "execute_result",
          "data": {
            "text/plain": [
              "'유퀴즈 상금 100 만원'"
            ],
            "application/vnd.google.colaboratory.intrinsic+json": {
              "type": "string"
            }
          },
          "metadata": {},
          "execution_count": 199
        }
      ]
    },
    {
      "cell_type": "code",
      "source": [
        "str_a = \"{} {}\".format(23, 24); print(str_a); str_b = \"{} {}\".format(23, 24, 25); print(str_b)"
      ],
      "metadata": {
        "id": "S8zWJ9b5PJDf",
        "colab": {
          "base_uri": "https://localhost:8080/"
        },
        "outputId": "df680686-424d-42ed-c0cf-239daeb3285c"
      },
      "execution_count": null,
      "outputs": [
        {
          "output_type": "stream",
          "name": "stdout",
          "text": [
            "23 24\n",
            "23 24\n"
          ]
        }
      ]
    },
    {
      "cell_type": "code",
      "source": [
        "\"{} {} {}\".format(1,2,3)"
      ],
      "metadata": {
        "id": "k5pbIQpnVIAe",
        "colab": {
          "base_uri": "https://localhost:8080/",
          "height": 35
        },
        "outputId": "fa02873a-8082-4ec4-fdd4-192f16df6bf7"
      },
      "execution_count": null,
      "outputs": [
        {
          "output_type": "execute_result",
          "data": {
            "text/plain": [
              "'1 2 3'"
            ],
            "application/vnd.google.colaboratory.intrinsic+json": {
              "type": "string"
            }
          },
          "metadata": {},
          "execution_count": 201
        }
      ]
    },
    {
      "cell_type": "code",
      "source": [
        "# 할당하는 칸이 입력보다 많으면 eror 생김\n",
        "\"{} {} {}\".format(1,2)"
      ],
      "metadata": {
        "id": "6jMMeYFYVVXs",
        "colab": {
          "base_uri": "https://localhost:8080/",
          "height": 164
        },
        "outputId": "deed6147-b1ed-40b8-dd7e-665d9a8f94ec"
      },
      "execution_count": null,
      "outputs": [
        {
          "output_type": "error",
          "ename": "IndexError",
          "evalue": "Replacement index 2 out of range for positional args tuple",
          "traceback": [
            "\u001b[0;31m---------------------------------------------------------------------------\u001b[0m",
            "\u001b[0;31mIndexError\u001b[0m                                Traceback (most recent call last)",
            "\u001b[0;32m<ipython-input-202-4e49e6684021>\u001b[0m in \u001b[0;36m<cell line: 2>\u001b[0;34m()\u001b[0m\n\u001b[1;32m      1\u001b[0m \u001b[0;31m# 할당하는 칸이 입력보다 많으면 eror 생김\u001b[0m\u001b[0;34m\u001b[0m\u001b[0;34m\u001b[0m\u001b[0m\n\u001b[0;32m----> 2\u001b[0;31m \u001b[0;34m\"{} {} {}\"\u001b[0m\u001b[0;34m.\u001b[0m\u001b[0mformat\u001b[0m\u001b[0;34m(\u001b[0m\u001b[0;36m1\u001b[0m\u001b[0;34m,\u001b[0m\u001b[0;36m2\u001b[0m\u001b[0;34m)\u001b[0m\u001b[0;34m\u001b[0m\u001b[0;34m\u001b[0m\u001b[0m\n\u001b[0m",
            "\u001b[0;31mIndexError\u001b[0m: Replacement index 2 out of range for positional args tuple"
          ]
        }
      ]
    },
    {
      "cell_type": "code",
      "source": [
        "#근데 할당하는 칸보다 입력값이 많으면 그냥 할당칸에 맞춰서 출력됨\n",
        "\"{} {} {}\".format(1,2,3,4)"
      ],
      "metadata": {
        "id": "TUoMwtGHVnQq",
        "colab": {
          "base_uri": "https://localhost:8080/",
          "height": 35
        },
        "outputId": "b1f2867e-9b11-4817-f590-88ea8b41f1b7"
      },
      "execution_count": null,
      "outputs": [
        {
          "output_type": "execute_result",
          "data": {
            "text/plain": [
              "'1 2 3'"
            ],
            "application/vnd.google.colaboratory.intrinsic+json": {
              "type": "string"
            }
          },
          "metadata": {},
          "execution_count": 203
        }
      ]
    },
    {
      "cell_type": "code",
      "source": [
        "\"{}\".format(2.3)"
      ],
      "metadata": {
        "id": "PcuLJJ3tV6KK",
        "colab": {
          "base_uri": "https://localhost:8080/",
          "height": 35
        },
        "outputId": "85e8e17f-decf-4f58-9826-14dd1f50e7f0"
      },
      "execution_count": null,
      "outputs": [
        {
          "output_type": "execute_result",
          "data": {
            "text/plain": [
              "'2.3'"
            ],
            "application/vnd.google.colaboratory.intrinsic+json": {
              "type": "string"
            }
          },
          "metadata": {},
          "execution_count": 204
        }
      ]
    },
    {
      "cell_type": "code",
      "source": [
        "\"{} {} {}\".format(1,\"안녕\",True)"
      ],
      "metadata": {
        "id": "RI8QEwWLW8SG",
        "colab": {
          "base_uri": "https://localhost:8080/",
          "height": 35
        },
        "outputId": "abc977b9-663c-4c2e-b64e-07ef5655cda5"
      },
      "execution_count": null,
      "outputs": [
        {
          "output_type": "execute_result",
          "data": {
            "text/plain": [
              "'1 안녕 True'"
            ],
            "application/vnd.google.colaboratory.intrinsic+json": {
              "type": "string"
            }
          },
          "metadata": {},
          "execution_count": 205
        }
      ]
    },
    {
      "cell_type": "markdown",
      "source": [
        "### 정수형"
      ],
      "metadata": {
        "id": "CB7_h1OhXgPT"
      }
    },
    {
      "cell_type": "code",
      "source": [
        "a = \"{:d}\".format(23); b = \"{:5d}\".format(23); c = \"{:05d}\".format(23); d = \"{:05d}\".format(-23)\n",
        "print(a); print(b); print(c); print(d)"
      ],
      "metadata": {
        "id": "JgrGEnZBPeq0",
        "colab": {
          "base_uri": "https://localhost:8080/"
        },
        "outputId": "31c69174-c27b-4239-db05-e294f4528814"
      },
      "execution_count": null,
      "outputs": [
        {
          "output_type": "stream",
          "name": "stdout",
          "text": [
            "23\n",
            "   23\n",
            "00023\n",
            "-0023\n"
          ]
        }
      ]
    },
    {
      "cell_type": "code",
      "source": [
        "a = \"{:d}\".format(23) # 정수\n",
        "b = \"{:5d}\".format(23) # 자리수 & 남은 자리를 빈칸으로 채움\n",
        "c = \"{:05d}\".format(23) # 자리수 & 남은 자리를 0을 채움\n",
        "d = \"{:05d}\".format(-23) # 자리수 & 한자리 - 기호 & 남은 자리를 0을 채움\n",
        "print(a)\n",
        "print(b)\n",
        "print(c)\n",
        "print(d)"
      ],
      "metadata": {
        "id": "V3EVxnbVXJAi",
        "colab": {
          "base_uri": "https://localhost:8080/"
        },
        "outputId": "69187b85-dc5d-42b8-e7b8-ebc99191c5a4"
      },
      "execution_count": null,
      "outputs": [
        {
          "output_type": "stream",
          "name": "stdout",
          "text": [
            "23\n",
            "   23\n",
            "00023\n",
            "-0023\n"
          ]
        }
      ]
    },
    {
      "cell_type": "code",
      "source": [
        "a = \"{:+d}\".format(23); b = \"{:+d}\".format(-23); c = \"{: d}\".format(23); d = \"{: d}\".format(-23)\n",
        "print(a); print(b); print(c); print(d)"
      ],
      "metadata": {
        "id": "Y1HWoIfLP2jR",
        "colab": {
          "base_uri": "https://localhost:8080/"
        },
        "outputId": "8a0c247c-40b0-4982-b3eb-1164718753f9"
      },
      "execution_count": null,
      "outputs": [
        {
          "output_type": "stream",
          "name": "stdout",
          "text": [
            "+23\n",
            "-23\n",
            " 23\n",
            "-23\n"
          ]
        }
      ]
    },
    {
      "cell_type": "code",
      "source": [
        "a = \"{:+d}\".format(23) # 양수 기호와 함께 출력\n",
        "b = \"{:+d}\".format(-23) # 음수, 무조건 - 기호\n",
        "c = \"{: d}\".format(23) # 양수 기호를 생략해서 출력\n",
        "d = \"{: d}\".format(-23) # 음수, 무조건 - 기호\n",
        "print(a)\n",
        "print(b)\n",
        "print(c)\n",
        "print(d)"
      ],
      "metadata": {
        "id": "MwzJQXeiYhIZ",
        "colab": {
          "base_uri": "https://localhost:8080/"
        },
        "outputId": "bc2b788d-1fb6-49e5-e51b-f91f745f804b"
      },
      "execution_count": null,
      "outputs": [
        {
          "output_type": "stream",
          "name": "stdout",
          "text": [
            "+23\n",
            "-23\n",
            " 23\n",
            "-23\n"
          ]
        }
      ]
    },
    {
      "cell_type": "code",
      "source": [
        "a = \"{:+5d}\".format(23) # 자리수 & 숫자 바로 앞에 기호\n",
        "b = \"{:+5d}\".format(-23) #\n",
        "c = \"{:=+5d}\".format(23) # 자리수 & 맨 앞에 기호 & 남아있는 자리를 빈칸으로 채움\n",
        "d = \"{:=+5d}\".format(-23) #\n",
        "e = \"{:=+05d}\".format(23) # 자리수 & 맨 앞에 기호 & 남아있는 자리를 0으로 채움\n",
        "f = \"{:=+05d}\".format(-23) #\n",
        "print(a);print(b);print(c);print(d);print(e);print(f)"
      ],
      "metadata": {
        "id": "NHwElBrwerf7",
        "colab": {
          "base_uri": "https://localhost:8080/"
        },
        "outputId": "d781f87f-51a9-407a-ebea-c2eb5b894906"
      },
      "execution_count": null,
      "outputs": [
        {
          "output_type": "stream",
          "name": "stdout",
          "text": [
            "  +23\n",
            "  -23\n",
            "+  23\n",
            "-  23\n",
            "+0023\n",
            "-0023\n"
          ]
        }
      ]
    },
    {
      "cell_type": "code",
      "source": [
        "\"{:+05d}\".format(23) # = 사용할 필요 없음"
      ],
      "metadata": {
        "id": "FtdXKSJ2sIh-",
        "colab": {
          "base_uri": "https://localhost:8080/",
          "height": 35
        },
        "outputId": "7a789f7e-a2be-4f90-b714-8329a5d5e581"
      },
      "execution_count": null,
      "outputs": [
        {
          "output_type": "execute_result",
          "data": {
            "text/plain": [
              "'+0023'"
            ],
            "application/vnd.google.colaboratory.intrinsic+json": {
              "type": "string"
            }
          },
          "metadata": {},
          "execution_count": 211
        }
      ]
    },
    {
      "cell_type": "code",
      "source": [
        "\"{:=+05d}\".format(-23) #"
      ],
      "metadata": {
        "id": "BjkJbGLKQ9NI",
        "colab": {
          "base_uri": "https://localhost:8080/",
          "height": 35
        },
        "outputId": "48bd7761-a20d-4ba6-fe23-44dafef1972e"
      },
      "execution_count": null,
      "outputs": [
        {
          "output_type": "execute_result",
          "data": {
            "text/plain": [
              "'-0023'"
            ],
            "application/vnd.google.colaboratory.intrinsic+json": {
              "type": "string"
            }
          },
          "metadata": {},
          "execution_count": 212
        }
      ]
    },
    {
      "cell_type": "markdown",
      "source": [
        "### 실수형"
      ],
      "metadata": {
        "id": "yALQuNpAhM8u"
      }
    },
    {
      "cell_type": "code",
      "source": [
        "a = \"{:f}\".format(23.45) # 실수\n",
        "b = \"{:15f}\".format(23.45) # 자리수 & 남은 자리를 빈칸으로 채움\n",
        "c = \"{:+15f}\".format(23.45) # 자리수 & 한자리 + 기호 & 남은 자리를 빈칸으로 채움\n",
        "d = \"{:+015f}\".format(-23.45) # 자리수 & 한자리 - 기호 맨앞에 & 남은 자리를 0을 채움\n",
        "print(a);print(b);print(c);print(d)\n",
        "type(a)"
      ],
      "metadata": {
        "id": "7f6p-LWSfqDs",
        "colab": {
          "base_uri": "https://localhost:8080/"
        },
        "outputId": "7ff05dac-997b-42b3-f8fa-b081c00ab68a"
      },
      "execution_count": null,
      "outputs": [
        {
          "output_type": "stream",
          "name": "stdout",
          "text": [
            "23.450000\n",
            "      23.450000\n",
            "     +23.450000\n",
            "-0000023.450000\n"
          ]
        },
        {
          "output_type": "execute_result",
          "data": {
            "text/plain": [
              "str"
            ]
          },
          "metadata": {},
          "execution_count": 214
        }
      ]
    },
    {
      "cell_type": "code",
      "source": [
        "\"{:=+015f}\".format(-23.45) # = 사용할 필요 없음"
      ],
      "metadata": {
        "id": "UQmlmiuTsbHN",
        "colab": {
          "base_uri": "https://localhost:8080/",
          "height": 35
        },
        "outputId": "d850a75b-227a-4d1a-94dd-135b252f58f4"
      },
      "execution_count": null,
      "outputs": [
        {
          "output_type": "execute_result",
          "data": {
            "text/plain": [
              "'-0000023.450000'"
            ],
            "application/vnd.google.colaboratory.intrinsic+json": {
              "type": "string"
            }
          },
          "metadata": {},
          "execution_count": 215
        }
      ]
    },
    {
      "cell_type": "code",
      "source": [
        "a = \"{:15.3f}\".format(23.456)\n",
        "b = \"{:15.2f}\".format(23.456)\n",
        "c = \"{:15.1f}\".format(23.456)\n",
        "d = \"{:15.1f}\".format(23.45) # 5 보다 커야 반올림\n",
        "e = \"{:15.1f}\".format(23.46)\n",
        "print(a);print(b);print(c);print(d);print(e)"
      ],
      "metadata": {
        "id": "OyrNwk-Dh1dR",
        "colab": {
          "base_uri": "https://localhost:8080/"
        },
        "outputId": "6123a7b1-0e30-401a-8a75-032aa6eadc0d"
      },
      "execution_count": null,
      "outputs": [
        {
          "output_type": "stream",
          "name": "stdout",
          "text": [
            "         23.456\n",
            "          23.46\n",
            "           23.5\n",
            "           23.4\n",
            "           23.5\n"
          ]
        }
      ]
    },
    {
      "cell_type": "markdown",
      "source": [
        "### 의미가 없는 소수점 제거"
      ],
      "metadata": {
        "id": "fsfPLLFcknC2"
      }
    },
    {
      "cell_type": "code",
      "source": [
        "a = \"{:g}\".format(23.450)\n",
        "b = \"{:g}\".format(23.40)\n",
        "c = \"{:g}\".format(23.0)\n",
        "print(a);print(b);print(c)"
      ],
      "metadata": {
        "id": "3jEqgNtyi13w",
        "colab": {
          "base_uri": "https://localhost:8080/"
        },
        "outputId": "f475da70-21fd-471e-9b7e-ea8f6bf19e45"
      },
      "execution_count": null,
      "outputs": [
        {
          "output_type": "stream",
          "name": "stdout",
          "text": [
            "23.45\n",
            "23.4\n",
            "23\n"
          ]
        }
      ]
    },
    {
      "cell_type": "markdown",
      "source": [
        "### 파이썬 숫자 표현 방식"
      ],
      "metadata": {
        "id": "FFcMXN_y7-ux"
      }
    },
    {
      "cell_type": "markdown",
      "source": [
        "파이썬에서는 반올림할 때 숫자가 정확하게 똑같이 반으로 쪼개지면 짝수의 정수로 값을 반환하는 특성을 가지고 있음 = 설계가 그렇게 되어 있음"
      ],
      "metadata": {
        "id": "lIkXsZly8Dty"
      }
    },
    {
      "cell_type": "code",
      "source": [
        "# 정수 2 와 3 사이의 짝수 2 를 반환\n",
        "\"{:15.0f}\".format(2.5)"
      ],
      "metadata": {
        "id": "8SArX9KLH6B5",
        "colab": {
          "base_uri": "https://localhost:8080/",
          "height": 35
        },
        "outputId": "84e0f31e-4165-4649-9f6c-d5b6b79ec6b3"
      },
      "execution_count": null,
      "outputs": [
        {
          "output_type": "execute_result",
          "data": {
            "text/plain": [
              "'              2'"
            ],
            "application/vnd.google.colaboratory.intrinsic+json": {
              "type": "string"
            }
          },
          "metadata": {},
          "execution_count": 218
        }
      ]
    },
    {
      "cell_type": "code",
      "source": [
        "# 정수 3 과 4 사이의 짝수 4 를 반환\n",
        "\"{:15.0f}\".format(3.5)"
      ],
      "metadata": {
        "id": "lSlq88JnICDx",
        "colab": {
          "base_uri": "https://localhost:8080/",
          "height": 35
        },
        "outputId": "bca00cf9-27a6-4bf2-82e3-eda29e769e5a"
      },
      "execution_count": null,
      "outputs": [
        {
          "output_type": "execute_result",
          "data": {
            "text/plain": [
              "'              4'"
            ],
            "application/vnd.google.colaboratory.intrinsic+json": {
              "type": "string"
            }
          },
          "metadata": {},
          "execution_count": 219
        }
      ]
    },
    {
      "cell_type": "code",
      "source": [
        "# 정수 4 와 5 사이의 짝수 4 를 반환\n",
        "\"{:15.0f}\".format(4.5)"
      ],
      "metadata": {
        "id": "8bvPSGK0I_uI",
        "colab": {
          "base_uri": "https://localhost:8080/",
          "height": 35
        },
        "outputId": "2ceb8553-472b-4766-89c7-2c3eb7c1ab1a"
      },
      "execution_count": null,
      "outputs": [
        {
          "output_type": "execute_result",
          "data": {
            "text/plain": [
              "'              4'"
            ],
            "application/vnd.google.colaboratory.intrinsic+json": {
              "type": "string"
            }
          },
          "metadata": {},
          "execution_count": 220
        }
      ]
    },
    {
      "cell_type": "code",
      "source": [
        "# 그러나 일반적으로 똑같이 반으로 쪼개지는 실수보다\n",
        "# 0보다 큰 수를 가지는 실수를 사용하는 경우가 많기 때문에\n",
        "# 걱정하지 않아도 됨\n",
        "# 2.5 는 똑같이 반으로 쪼개지는 수이지만\n",
        "# 2.5123 은 한쪽이 0.5123 을, 다른 한쪽은 0.4877 를 가짐\n",
        "\"{:15.0f}\".format(2.5123)"
      ],
      "metadata": {
        "id": "t86IqWViIqmf",
        "colab": {
          "base_uri": "https://localhost:8080/",
          "height": 35
        },
        "outputId": "200a53fa-e7f9-4f07-ba8d-6b33ecb5a6f5"
      },
      "execution_count": null,
      "outputs": [
        {
          "output_type": "execute_result",
          "data": {
            "text/plain": [
              "'              3'"
            ],
            "application/vnd.google.colaboratory.intrinsic+json": {
              "type": "string"
            }
          },
          "metadata": {},
          "execution_count": 221
        }
      ]
    },
    {
      "cell_type": "code",
      "source": [
        "1-0.5123"
      ],
      "metadata": {
        "id": "-pnmGv-48yz1",
        "colab": {
          "base_uri": "https://localhost:8080/"
        },
        "outputId": "69b9bffe-846e-4b55-d47a-85b13f60b82f"
      },
      "execution_count": null,
      "outputs": [
        {
          "output_type": "execute_result",
          "data": {
            "text/plain": [
              "0.4877"
            ]
          },
          "metadata": {},
          "execution_count": 222
        }
      ]
    },
    {
      "cell_type": "code",
      "source": [
        "# 3.5 는 똑같이 반으로 쪼개지는 수이지만\n",
        "# 3.5111 은 한쪽이 0.5111 을, 다른 한쪽은 0.4889 를 가짐\n",
        "\"{:15.0f}\".format(3.51111)"
      ],
      "metadata": {
        "id": "0tMIfXZ8Iqmg",
        "colab": {
          "base_uri": "https://localhost:8080/",
          "height": 35
        },
        "outputId": "84aca8a6-afea-416f-9e60-5e20b07fd6d9"
      },
      "execution_count": null,
      "outputs": [
        {
          "output_type": "execute_result",
          "data": {
            "text/plain": [
              "'              4'"
            ],
            "application/vnd.google.colaboratory.intrinsic+json": {
              "type": "string"
            }
          },
          "metadata": {},
          "execution_count": 223
        }
      ]
    },
    {
      "cell_type": "code",
      "source": [
        "1-0.5111"
      ],
      "metadata": {
        "id": "wjILGyHo9DEq",
        "colab": {
          "base_uri": "https://localhost:8080/"
        },
        "outputId": "22e07613-256b-48c2-9966-304806532aea"
      },
      "execution_count": null,
      "outputs": [
        {
          "output_type": "execute_result",
          "data": {
            "text/plain": [
              "0.4889"
            ]
          },
          "metadata": {},
          "execution_count": 224
        }
      ]
    },
    {
      "cell_type": "markdown",
      "source": [
        "## f 문자열 (참고만 할 것)"
      ],
      "metadata": {
        "id": "36euFgoOmdx8"
      }
    },
    {
      "cell_type": "code",
      "source": [
        "\"{}\".format(23)"
      ],
      "metadata": {
        "id": "yhjCzQ5-lJ0d",
        "colab": {
          "base_uri": "https://localhost:8080/",
          "height": 35
        },
        "outputId": "05b5b8e2-10bd-46de-9e33-7ebdd25c9b04"
      },
      "execution_count": null,
      "outputs": [
        {
          "output_type": "execute_result",
          "data": {
            "text/plain": [
              "'23'"
            ],
            "application/vnd.google.colaboratory.intrinsic+json": {
              "type": "string"
            }
          },
          "metadata": {},
          "execution_count": 225
        }
      ]
    },
    {
      "cell_type": "code",
      "source": [
        "f\"{23}\""
      ],
      "metadata": {
        "id": "pkqN-jYUmp0-",
        "colab": {
          "base_uri": "https://localhost:8080/",
          "height": 35
        },
        "outputId": "88dd5e58-68e4-4a4d-bb65-2034fba33792"
      },
      "execution_count": null,
      "outputs": [
        {
          "output_type": "execute_result",
          "data": {
            "text/plain": [
              "'23'"
            ],
            "application/vnd.google.colaboratory.intrinsic+json": {
              "type": "string"
            }
          },
          "metadata": {},
          "execution_count": 226
        }
      ]
    },
    {
      "cell_type": "code",
      "source": [
        "\"{}\".format(2 + 3)"
      ],
      "metadata": {
        "id": "dMdDr9J3muJA",
        "colab": {
          "base_uri": "https://localhost:8080/",
          "height": 35
        },
        "outputId": "b2ef168b-e983-40ea-92a6-915dc7a96611"
      },
      "execution_count": null,
      "outputs": [
        {
          "output_type": "execute_result",
          "data": {
            "text/plain": [
              "'5'"
            ],
            "application/vnd.google.colaboratory.intrinsic+json": {
              "type": "string"
            }
          },
          "metadata": {},
          "execution_count": 227
        }
      ]
    },
    {
      "cell_type": "code",
      "source": [
        "f\"{2+3}\""
      ],
      "metadata": {
        "id": "H57yH2eem-31",
        "colab": {
          "base_uri": "https://localhost:8080/",
          "height": 35
        },
        "outputId": "6fc46234-a7bf-47aa-c52c-8211b01f65a5"
      },
      "execution_count": null,
      "outputs": [
        {
          "output_type": "execute_result",
          "data": {
            "text/plain": [
              "'5'"
            ],
            "application/vnd.google.colaboratory.intrinsic+json": {
              "type": "string"
            }
          },
          "metadata": {},
          "execution_count": 228
        }
      ]
    },
    {
      "cell_type": "code",
      "source": [
        "# format() 함수 사용하는 것이 더 좋은 경우\n",
        "# 1) 문자열이 많을 때\n",
        "mc = \"유재석\"\n",
        "reward = 100\n",
        "\"\"\"\\\n",
        "유퀴즈 프로그램은 다양한 사람을 만나서 이야기하는 프로이다.\n",
        "엠씨는 {}이고, 퀴즈를 맞추면 상금 {} 만원을 준다.\\\n",
        "\"\"\".format(mc, reward)"
      ],
      "metadata": {
        "id": "E0TC1nfonDW2",
        "colab": {
          "base_uri": "https://localhost:8080/",
          "height": 35
        },
        "outputId": "d1fc16c5-8bb6-490c-da2c-c1239f090ae1"
      },
      "execution_count": null,
      "outputs": [
        {
          "output_type": "execute_result",
          "data": {
            "text/plain": [
              "'유퀴즈 프로그램은 다양한 사람을 만나서 이야기하는 프로이다.\\n엠씨는 유재석이고, 퀴즈를 맞추면 상금 100 만원을 준다.'"
            ],
            "application/vnd.google.colaboratory.intrinsic+json": {
              "type": "string"
            }
          },
          "metadata": {},
          "execution_count": 229
        }
      ]
    },
    {
      "cell_type": "code",
      "source": [
        "mc = \"유재석\"\n",
        "reward = 100\n",
        "f\"\"\"\\\n",
        "유퀴즈 프로그램은 다양한 사람을 만나서 이야기하는 프로이다.\n",
        "엠씨는 {mc}이고, 퀴즈를 맞추면 상금 {reward} 만원을 준다.\\\n",
        "\"\"\""
      ],
      "metadata": {
        "id": "FGmvQOIFn8sA",
        "colab": {
          "base_uri": "https://localhost:8080/",
          "height": 35
        },
        "outputId": "1eb8c953-b8e8-4613-f1be-788a5761496b"
      },
      "execution_count": null,
      "outputs": [
        {
          "output_type": "execute_result",
          "data": {
            "text/plain": [
              "'유퀴즈 프로그램은 다양한 사람을 만나서 이야기하는 프로이다.\\n엠씨는 유재석이고, 퀴즈를 맞추면 상금 100 만원을 준다.'"
            ],
            "application/vnd.google.colaboratory.intrinsic+json": {
              "type": "string"
            }
          },
          "metadata": {},
          "execution_count": 230
        }
      ]
    },
    {
      "cell_type": "code",
      "source": [
        "# 2) 여러 값을 리스트 형태로 사용할 경우\n",
        "# 전개연산자\n",
        "data = [\"강백호\", 17, \"M\", \"난 천재니까\"]\n",
        "\"\"\"\\\n",
        "이름: {},\n",
        "나이: {},\n",
        "성별: {},\n",
        "좌우명: {}\\\n",
        "\"\"\".format(*data)"
      ],
      "metadata": {
        "id": "kzjSN2JysnQN",
        "colab": {
          "base_uri": "https://localhost:8080/",
          "height": 35
        },
        "outputId": "a5089243-8721-4a02-c9a8-d43e8a18cb33"
      },
      "execution_count": null,
      "outputs": [
        {
          "output_type": "execute_result",
          "data": {
            "text/plain": [
              "'이름: 강백호,\\n나이: 17,\\n성별: M,\\n좌우명: 난 천재니까'"
            ],
            "application/vnd.google.colaboratory.intrinsic+json": {
              "type": "string"
            }
          },
          "metadata": {},
          "execution_count": 231
        }
      ]
    },
    {
      "cell_type": "code",
      "source": [
        "data = [\"강백호\", 17, \"M\", \"난 천재니까\"]\n",
        "f\"\"\"\\\n",
        "이름: {data[0]},\n",
        "나이: {data[1]},\n",
        "성별: {data[2]},\n",
        "좌우명: {data[3]}\\\n",
        "\"\"\""
      ],
      "metadata": {
        "id": "wbLQM98DuFt-",
        "colab": {
          "base_uri": "https://localhost:8080/",
          "height": 35
        },
        "outputId": "bfd16188-5297-4b79-ed42-ff60f7bae4b3"
      },
      "execution_count": null,
      "outputs": [
        {
          "output_type": "execute_result",
          "data": {
            "text/plain": [
              "'이름: 강백호,\\n나이: 17,\\n성별: M,\\n좌우명: 난 천재니까'"
            ],
            "application/vnd.google.colaboratory.intrinsic+json": {
              "type": "string"
            }
          },
          "metadata": {},
          "execution_count": 232
        }
      ]
    },
    {
      "cell_type": "markdown",
      "source": [
        "## 대소문자 변경"
      ],
      "metadata": {
        "id": "I9KPrKCGv2Cl"
      }
    },
    {
      "cell_type": "code",
      "source": [
        "# 대문자로 변경\n",
        "string = \"hello\"\n",
        "string.upper()"
      ],
      "metadata": {
        "id": "N7PNzdJ9v4Cu",
        "colab": {
          "base_uri": "https://localhost:8080/",
          "height": 35
        },
        "outputId": "b310d361-0121-4aee-9c24-36edffe944e1"
      },
      "execution_count": null,
      "outputs": [
        {
          "output_type": "execute_result",
          "data": {
            "text/plain": [
              "'HELLO'"
            ],
            "application/vnd.google.colaboratory.intrinsic+json": {
              "type": "string"
            }
          },
          "metadata": {},
          "execution_count": 233
        }
      ]
    },
    {
      "cell_type": "code",
      "source": [
        "# 소문자로 변경\n",
        "string = \"HELLO\"\n",
        "string.lower()"
      ],
      "metadata": {
        "id": "5o1E5ThQwGe-",
        "colab": {
          "base_uri": "https://localhost:8080/",
          "height": 35
        },
        "outputId": "1e9785a8-75fd-4d60-af30-5a529f45e4a6"
      },
      "execution_count": null,
      "outputs": [
        {
          "output_type": "execute_result",
          "data": {
            "text/plain": [
              "'hello'"
            ],
            "application/vnd.google.colaboratory.intrinsic+json": {
              "type": "string"
            }
          },
          "metadata": {},
          "execution_count": 237
        }
      ]
    },
    {
      "cell_type": "markdown",
      "source": [
        "## 공백 제거"
      ],
      "metadata": {
        "id": "Ybm6PBv7xDke"
      }
    },
    {
      "cell_type": "code",
      "source": [
        "# 양쪽 = both = left & right = 앞 & 뒤\n",
        "string = \"            안녕              \"\n",
        "string.strip()"
      ],
      "metadata": {
        "id": "xvedHbm3wTig",
        "colab": {
          "base_uri": "https://localhost:8080/",
          "height": 35
        },
        "outputId": "33f9777e-5927-488e-c3c6-7c43c33b97a3"
      },
      "execution_count": null,
      "outputs": [
        {
          "output_type": "execute_result",
          "data": {
            "text/plain": [
              "'안녕'"
            ],
            "application/vnd.google.colaboratory.intrinsic+json": {
              "type": "string"
            }
          },
          "metadata": {},
          "execution_count": 234
        }
      ]
    },
    {
      "cell_type": "code",
      "source": [
        "# 왼쪽 = left = 앞\n",
        "string = \"            안녕              \"\n",
        "string.lstrip()"
      ],
      "metadata": {
        "id": "QiwRNT2nxW2w",
        "colab": {
          "base_uri": "https://localhost:8080/",
          "height": 35
        },
        "outputId": "77d59f55-92b5-4def-d513-813406362dc3"
      },
      "execution_count": null,
      "outputs": [
        {
          "output_type": "execute_result",
          "data": {
            "text/plain": [
              "'안녕              '"
            ],
            "application/vnd.google.colaboratory.intrinsic+json": {
              "type": "string"
            }
          },
          "metadata": {},
          "execution_count": 235
        }
      ]
    },
    {
      "cell_type": "code",
      "source": [
        "# 오른쪽 = right = 뒤\n",
        "string = \"            안녕              \"\n",
        "string.rstrip()"
      ],
      "metadata": {
        "id": "YRYuUPhnxmR-",
        "colab": {
          "base_uri": "https://localhost:8080/",
          "height": 35
        },
        "outputId": "e1db3feb-9b4b-4f5d-f457-1f5cac745534"
      },
      "execution_count": null,
      "outputs": [
        {
          "output_type": "execute_result",
          "data": {
            "text/plain": [
              "'            안녕'"
            ],
            "application/vnd.google.colaboratory.intrinsic+json": {
              "type": "string"
            }
          },
          "metadata": {},
          "execution_count": 236
        }
      ]
    },
    {
      "cell_type": "markdown",
      "source": [
        "## 문자열 구성 확인"
      ],
      "metadata": {
        "id": "KQ_nW6CqzmVB"
      }
    },
    {
      "cell_type": "code",
      "source": [
        "s = \"34.82\"\n",
        "s.isspace()"
      ],
      "metadata": {
        "colab": {
          "base_uri": "https://localhost:8080/"
        },
        "id": "bIKAd_1jxvtL",
        "outputId": "85482b9f-b40d-433c-adb9-4f3b34c16782"
      },
      "execution_count": null,
      "outputs": [
        {
          "output_type": "execute_result",
          "data": {
            "text/plain": [
              "False"
            ]
          },
          "metadata": {},
          "execution_count": 252
        }
      ]
    },
    {
      "cell_type": "code",
      "source": [
        "s.isdecimal()"
      ],
      "metadata": {
        "colab": {
          "base_uri": "https://localhost:8080/"
        },
        "id": "Jjwt7gVWz3Tf",
        "outputId": "0808d89a-d406-4391-f19c-2be943789e1d"
      },
      "execution_count": null,
      "outputs": [
        {
          "output_type": "execute_result",
          "data": {
            "text/plain": [
              "False"
            ]
          },
          "metadata": {},
          "execution_count": 253
        }
      ]
    },
    {
      "cell_type": "markdown",
      "source": [
        "## 문자열 첫번째 위치 반환"
      ],
      "metadata": {
        "id": "5UC4VXu_1D4-"
      }
    },
    {
      "cell_type": "code",
      "source": [
        "# 좌 => 우\n",
        "# slamdunk01\n",
        "# 01234\n",
        "s = \"slamdunk01\"\n",
        "s.find(\"dunk\")"
      ],
      "metadata": {
        "id": "SyIGzynQ0Bop",
        "colab": {
          "base_uri": "https://localhost:8080/"
        },
        "outputId": "eb6deb3f-e654-477a-d1df-605a18690e44"
      },
      "execution_count": null,
      "outputs": [
        {
          "output_type": "execute_result",
          "data": {
            "text/plain": [
              "4"
            ]
          },
          "metadata": {},
          "execution_count": 258
        }
      ]
    },
    {
      "cell_type": "code",
      "source": [
        "# slamdunk01\n",
        "# 012345678\n",
        "s.find(\"0\")"
      ],
      "metadata": {
        "id": "w9nw6Kc01UrP",
        "colab": {
          "base_uri": "https://localhost:8080/"
        },
        "outputId": "e3a390de-e0cb-49be-abbb-1efafd3dd068"
      },
      "execution_count": null,
      "outputs": [
        {
          "output_type": "execute_result",
          "data": {
            "text/plain": [
              "8"
            ]
          },
          "metadata": {},
          "execution_count": 259
        }
      ]
    },
    {
      "cell_type": "code",
      "source": [
        "#오른쪽에서 세지만 결국 인덱스를 알려주는 것! 오른쪽에서 가장 먼저 나온 a의 인덱스는 6이기 때문에 6 출력\n",
        "# 우 => 좌\n",
        "# slamslam\n",
        "# 0123456\n",
        "s = \"slamslam\"\n",
        "s.rfind(\"a\")"
      ],
      "metadata": {
        "id": "i65T0rC01g7O",
        "colab": {
          "base_uri": "https://localhost:8080/"
        },
        "outputId": "ed7f72aa-f561-4e6c-e7d8-0fa1f6c82e42"
      },
      "execution_count": null,
      "outputs": [
        {
          "output_type": "execute_result",
          "data": {
            "text/plain": [
              "6"
            ]
          },
          "metadata": {},
          "execution_count": 260
        }
      ]
    },
    {
      "cell_type": "code",
      "source": [
        "# slamslam\n",
        "# 012\n",
        "s.find(\"a\")"
      ],
      "metadata": {
        "id": "2kbO-lJ_1-Ts",
        "colab": {
          "base_uri": "https://localhost:8080/"
        },
        "outputId": "8dad8309-5f90-468b-a74d-f68be1c99886"
      },
      "execution_count": null,
      "outputs": [
        {
          "output_type": "execute_result",
          "data": {
            "text/plain": [
              "2"
            ]
          },
          "metadata": {},
          "execution_count": 261
        }
      ]
    },
    {
      "cell_type": "code",
      "source": [
        "r = 'cosmos'\n",
        "r.find('som')"
      ],
      "metadata": {
        "colab": {
          "base_uri": "https://localhost:8080/"
        },
        "id": "rL4uWUWUWqBq",
        "outputId": "ee7f6241-cd0d-482f-f550-5adc1fe37db5"
      },
      "execution_count": null,
      "outputs": [
        {
          "output_type": "execute_result",
          "data": {
            "text/plain": [
              "-1"
            ]
          },
          "metadata": {},
          "execution_count": 262
        }
      ]
    },
    {
      "cell_type": "markdown",
      "source": [
        "## in 연산자"
      ],
      "metadata": {
        "id": "X-IrLH8CJjCa"
      }
    },
    {
      "cell_type": "code",
      "source": [
        "print(\"안녕\" in \"안녕하세요\")"
      ],
      "metadata": {
        "colab": {
          "base_uri": "https://localhost:8080/"
        },
        "id": "7WD3MG7q1vvK",
        "outputId": "bb595e35-ca26-416c-e734-6be0ec51a5d8"
      },
      "execution_count": null,
      "outputs": [
        {
          "output_type": "stream",
          "name": "stdout",
          "text": [
            "True\n"
          ]
        }
      ]
    },
    {
      "cell_type": "code",
      "source": [
        "print(\"잘자\" in \"안녕하세요\")"
      ],
      "metadata": {
        "colab": {
          "base_uri": "https://localhost:8080/"
        },
        "id": "RDCeGj56KnKn",
        "outputId": "ce1c30de-f1ef-44a0-c77a-9f0651de8ce3"
      },
      "execution_count": null,
      "outputs": [
        {
          "output_type": "stream",
          "name": "stdout",
          "text": [
            "False\n"
          ]
        }
      ]
    },
    {
      "cell_type": "markdown",
      "source": [
        "## split"
      ],
      "metadata": {
        "id": "9MOZT9qFKz2p"
      }
    },
    {
      "cell_type": "code",
      "source": [
        "# 잘라서 문자 데이터를 리스트로 반환\n",
        "s = \"1 2 3 4 5\"\n",
        "s.split(\" \")"
      ],
      "metadata": {
        "colab": {
          "base_uri": "https://localhost:8080/"
        },
        "id": "VkITq5dwKsTo",
        "outputId": "7f02bd6c-fc0e-4453-e176-3cd61dff8f3f"
      },
      "execution_count": null,
      "outputs": [
        {
          "output_type": "execute_result",
          "data": {
            "text/plain": [
              "['1', '2', '3', '4', '5']"
            ]
          },
          "metadata": {},
          "execution_count": 265
        }
      ]
    },
    {
      "cell_type": "code",
      "source": [
        "cp = \"010-1234-5678\"\n",
        "cp.split(\"-\")"
      ],
      "metadata": {
        "colab": {
          "base_uri": "https://localhost:8080/"
        },
        "id": "-2Rt4ZvELHL0",
        "outputId": "4dac9be8-ff7f-4adb-fd79-da3253e5235e"
      },
      "execution_count": null,
      "outputs": [
        {
          "output_type": "execute_result",
          "data": {
            "text/plain": [
              "['010', '1234', '5678']"
            ]
          },
          "metadata": {},
          "execution_count": 266
        }
      ]
    },
    {
      "cell_type": "code",
      "source": [],
      "metadata": {
        "id": "C1R6R7mElNY8"
      },
      "execution_count": null,
      "outputs": []
    }
  ]
}